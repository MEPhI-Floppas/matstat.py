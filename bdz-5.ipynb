{
 "cells": [
  {
   "cell_type": "code",
   "execution_count": 73,
   "metadata": {},
   "outputs": [],
   "source": [
    "import scipy.stats as sps\n",
    "from statsmodels.distributions.empirical_distribution import ECDF\n",
    "import matplotlib.pyplot as plt\n",
    "from array import array\n",
    "import numpy as np\n",
    "import math\n",
    "from scipy import stats\n",
    "import pandas as pd"
   ]
  },
  {
   "cell_type": "code",
   "execution_count": 74,
   "metadata": {},
   "outputs": [],
   "source": [
    "X1 = pd.read_excel(open('table.xls', 'rb'), sheet_name='A - aaup')['A5'].to_numpy()\n",
    "X2 = pd.read_excel(open('table.xls', 'rb'), sheet_name='A - aaup')['A8'].to_numpy()"
   ]
  },
  {
   "cell_type": "markdown",
   "metadata": {},
   "source": [
    "## $Z = \\frac{H - \\frac{1}{2}}{\\sqrt(\\frac{1}{4n})} = 2\\sqrt(n)(H - \\frac{1}{2})$\n",
    "## $Z = \\frac{1}{\\sqrt(2\\pi)\\sigma}exp(-\\frac{(x - \\mu)^2}{2\\sigma^2})$"
   ]
  },
  {
   "cell_type": "code",
   "execution_count": 75,
   "metadata": {},
   "outputs": [
    {
     "data": {
      "text/plain": "WilcoxonResult(statistic=0.0, pvalue=4.110515034106515e-177)"
     },
     "execution_count": 75,
     "metadata": {},
     "output_type": "execute_result"
    }
   ],
   "source": [
    "stats.wilcoxon(X1, X2)"
   ]
  },
  {
   "cell_type": "code",
   "execution_count": 76,
   "metadata": {},
   "outputs": [],
   "source": [
    "def two_sample_chisquare(dist1, dist2, bins=11):\n",
    "    bins1, counts1 = np.histogram(dist1, bins=bins)\n",
    "    bins2, counts2 = np.histogram(dist2, bins=bins)\n",
    "    Z = np.sum((counts1 - counts2) ** 2 / counts1)\n",
    "    return Z, 1 - stats.chi2.cdf(Z, 2)"
   ]
  },
  {
   "cell_type": "code",
   "execution_count": 77,
   "metadata": {},
   "outputs": [
    {
     "data": {
      "text/plain": "(153.68768656112596, 0.0)"
     },
     "execution_count": 77,
     "metadata": {},
     "output_type": "execute_result"
    }
   ],
   "source": [
    "two_sample_chisquare(X1, X2)"
   ]
  },
  {
   "cell_type": "code",
   "execution_count": 78,
   "metadata": {},
   "outputs": [
    {
     "name": "stdout",
     "output_type": "stream",
     "text": [
      "28 0.026\n",
      "118 0.11\n",
      "227 0.212\n",
      "277 0.258\n",
      "171 0.159\n",
      "123 0.115\n",
      "80 0.075\n",
      "31 0.029\n",
      "7 0.007\n",
      "7 0.007\n",
      "4 0.004\n"
     ]
    },
    {
     "data": {
      "text/plain": "array([ 270.        ,  337.18181818,  404.36363636,  471.54545455,\n        538.72727273,  605.90909091,  673.09090909,  740.27272727,\n        807.45454545,  874.63636364,  941.81818182, 1009.        ])"
     },
     "execution_count": 78,
     "metadata": {},
     "output_type": "execute_result"
    }
   ],
   "source": [
    "stored1 = []\n",
    "freq1,division1 = np.histogram(X1, bins=11)\n",
    "for i in range(len(freq1)):\n",
    "    stored1.append(freq1[i]/len(X1))\n",
    "    print(freq1[i], round(freq1[i]/len(X1), 3))\n",
    "division1"
   ]
  },
  {
   "cell_type": "code",
   "execution_count": 79,
   "outputs": [
    {
     "name": "stdout",
     "output_type": "stream",
     "text": [
      "30 0.028\n",
      "172 0.16\n",
      "290 0.27\n",
      "255 0.238\n",
      "145 0.135\n",
      "118 0.11\n",
      "40 0.037\n",
      "13 0.012\n",
      "6 0.006\n",
      "2 0.002\n",
      "2 0.002\n"
     ]
    },
    {
     "data": {
      "text/plain": "array([232.        , 289.63636364, 347.27272727, 404.90909091,\n       462.54545455, 520.18181818, 577.81818182, 635.45454545,\n       693.09090909, 750.72727273, 808.36363636, 866.        ])"
     },
     "execution_count": 79,
     "metadata": {},
     "output_type": "execute_result"
    }
   ],
   "source": [
    "stored2 = []\n",
    "freq2,division2 = np.histogram(X2, bins=11)\n",
    "for i in range(len(freq2)):\n",
    "    stored2.append(freq2[i]/len(X2))\n",
    "    print(freq2[i], round(freq2[i]/len(X2), 3))\n",
    "division2"
   ],
   "metadata": {
    "collapsed": false
   }
  },
  {
   "cell_type": "code",
   "execution_count": 91,
   "outputs": [
    {
     "data": {
      "text/plain": "<Figure size 640x480 with 1 Axes>",
      "image/png": "[encoded data removed]"
     },
     "metadata": {},
     "output_type": "display_data"
    }
   ],
   "source": [
    "X3, bins3 = np.histogram(X1, bins=11)\n",
    "plt.stairs(X3 / len(X1), edges=bins3, fill=True, color='red', alpha=0.6)\n",
    "X4, bins4 = np.histogram(X2, bins=11)\n",
    "plt.stairs(X4 / len(X2), edges=bins4, fill=True, color='blue', alpha=0.6)\n",
    "plt.show()"
   ],
   "metadata": {
    "collapsed": false
   }
  },
  {
   "cell_type": "code",
   "execution_count": 82,
   "outputs": [
    {
     "data": {
      "text/plain": "([0.0260950605778192,\n  0.10997204100652376,\n  0.21155638397017706,\n  0.2581547064305685,\n  0.15936626281453867,\n  0.11463187325256291,\n  0.07455731593662628,\n  0.028890959925442685,\n  0.0065237651444548,\n  0.0065237651444548,\n  0.003727865796831314],\n [0.027958993476234855,\n  0.1602982292637465,\n  0.2702702702702703,\n  0.23765144454799628,\n  0.13513513513513514,\n  0.10997204100652376,\n  0.03727865796831314,\n  0.012115563839701771,\n  0.005591798695246971,\n  0.001863932898415657,\n  0.001863932898415657])"
     },
     "execution_count": 82,
     "metadata": {},
     "output_type": "execute_result"
    }
   ],
   "source": [
    "stored1, stored2"
   ],
   "metadata": {
    "collapsed": false
   }
  },
  {
   "cell_type": "code",
   "execution_count": 81,
   "outputs": [],
   "source": [],
   "metadata": {
    "collapsed": false
   }
  }
 ],
 "metadata": {
  "kernelspec": {
   "display_name": "Python 3 (ipykernel)",
   "language": "python",
   "name": "python3"
  },
  "language_info": {
   "codemirror_mode": {
    "name": "ipython",
    "version": 3
   },
   "file_extension": ".py",
   "mimetype": "text/x-python",
   "name": "python",
   "nbconvert_exporter": "python",
   "pygments_lexer": "ipython3",
   "version": "3.9.2"
  }
 },
 "nbformat": 4,
 "nbformat_minor": 1
}
