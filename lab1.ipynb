{
 "cells": [
  {
   "cell_type": "markdown",
   "source": [
    "## Вариант 7\n",
    "\n",
    "### Распределения\n",
    "\n",
    "$$X_1 \\sim N(-1, 2)$$\n",
    "\n",
    "$$X_2 \\sim R(-2, 0)$$\n",
    "\n",
    "### Объёмы выборок\n",
    "\n",
    "$$n_1 = 100$$\n",
    "\n",
    "$$n_2 = 100$$\n",
    "\n",
    "### Стат гипотеза $H_0$\n",
    "\n",
    "$$\\sigma_1 = 2$$\n",
    "\n",
    "$$(m_1 - не изв.)$$"
   ],
   "metadata": {
    "collapsed": false
   }
  },
  {
   "cell_type": "markdown",
   "source": [
    "# 1. Исходные данные\n",
    "\n",
    "## Характеристики наблюдаемых случайных величин:\n",
    "| СВ    | Распределение | Параметры                  | Математическое ожидание, $m_i$ | Дисперсия, $\\sigma_i^2$ |\n",
    "|-------|---------------|----------------------------|--------------------------------|-------------------------|\n",
    "| $X_1$ | $N(-1, 2)$    | $m_1 = -1, \\sigma_1^2 = 2$ | $m_1 = -1$                     | $\\sigma_1^2 = 4$        |\n",
    "| $X_2$ | $R(-2, 0)$    | $a = -2, b = 0$            | $m_2 = -1$                     | $\\sigma_2^2 = 1/3$      |"
   ],
   "metadata": {
    "collapsed": false
   }
  },
  {
   "cell_type": "code",
   "execution_count": 22,
   "outputs": [],
   "source": [
    "import numpy as np\n",
    "import scipy.stats as stats\n",
    "from statsmodels.stats.weightstats import ztest\n",
    "import matplotlib.pyplot as plt\n",
    "np.random.seed(404)"
   ],
   "metadata": {
    "collapsed": false
   }
  },
  {
   "cell_type": "code",
   "execution_count": 23,
   "outputs": [
    {
     "data": {
      "text/plain": "array([-3.36538178,  1.67492331, -1.62861009,  0.11328621, -1.41859866,\n       -1.02360073,  1.46986689, -1.08683788, -2.36357447,  1.40138394,\n        1.68788877, -2.668218  ,  1.07199539,  2.33159819,  0.89895712,\n        1.13401904, -0.21103844,  0.20070923, -3.70660894, -2.92899236,\n       -1.70133881, -0.35770499, -3.01248288,  0.49759164, -0.93935259,\n       -0.6363014 , -1.9948701 , -1.67443837, -0.02529859, -0.9474701 ,\n       -1.35967285, -2.11789992,  0.08230484, -1.55399335, -1.22133528,\n       -0.38046434,  2.52926686, -1.52853436,  0.74799239,  1.16419341,\n       -1.88950274, -1.29579656,  2.25853699,  1.20026458, -1.80822415,\n        0.05285067,  2.2576585 , -1.94054933, -1.84086666, -3.58441617,\n        2.97247571, -0.52901049, -2.91979201, -0.99323536, -1.89903624,\n       -2.66395926, -3.12798265,  0.81139257,  0.80268194,  3.40757196,\n       -2.46051545,  0.33736853, -1.08192246, -0.72384347, -0.44395154,\n       -1.37147146, -3.73324971, -0.6117227 , -4.30999599, -0.65304686,\n       -2.12980844,  3.94082292, -2.18577459, -3.50582273, -2.12061906,\n       -1.01455456, -3.26708006, -0.89358583, -5.89244296,  2.9751031 ,\n        0.50017779, -4.45655516,  2.87154757, -2.46499901,  0.52847866,\n        0.1957127 , -0.23481272,  3.26778262,  4.0548885 , -1.25205054,\n       -2.01769116, -3.41160448, -0.72649754, -0.72215154, -1.83346618,\n        0.67879892, -1.59230309, -3.70128267, -2.34716119, -2.26320003])"
     },
     "execution_count": 23,
     "metadata": {},
     "output_type": "execute_result"
    }
   ],
   "source": [
    "X1 = np.random.normal(-1, 2, 100)\n",
    "X1"
   ],
   "metadata": {
    "collapsed": false
   }
  },
  {
   "cell_type": "code",
   "execution_count": 24,
   "outputs": [
    {
     "data": {
      "text/plain": "array([-1.79585121, -0.63448256, -0.51857688, -1.4927726 , -0.7151795 ,\n       -1.84920321, -1.99721138, -0.90281794, -0.0182941 , -1.98744291,\n       -0.62923277, -0.43901955, -0.74210048, -1.63420175, -1.76879798,\n       -1.3181282 , -1.19335598, -1.39038709, -1.09700213, -0.00321011,\n       -1.0430837 , -1.05373111, -0.86715612, -0.01463504, -0.65462507,\n       -1.46084586, -1.47107601, -0.00988351, -1.84111026, -0.20710488,\n       -0.88730549, -1.41736754, -1.65875325, -0.85195628, -0.48035751,\n       -1.87066044, -0.69771817, -0.61423633, -0.94877429, -1.43727534,\n       -1.64980703, -1.0987118 , -1.53328548, -0.38539363, -0.79971225,\n       -0.94777639, -0.1869878 , -0.73208194, -0.91753785, -0.94216444,\n       -0.84104773, -0.77709782, -0.69994932, -0.16492879, -0.60978591,\n       -1.82915928, -1.14202942, -1.95398738, -1.67150364, -0.29612113,\n       -1.26391329, -1.40188632, -1.11788397, -0.70244207, -0.65485008,\n       -0.25555895, -0.0681654 , -0.04207531, -0.22390968, -0.10440425,\n       -1.38727158, -0.47429977, -1.19390571, -0.77987473, -0.51764955,\n       -1.97463466, -0.19625554, -1.87071704, -1.37698397, -1.39210102,\n       -0.05866356, -1.87526746, -1.0097959 , -0.42486657, -1.08334819,\n       -0.63978882, -0.902     , -0.11106502, -1.72505808, -1.01819614,\n       -0.77502493, -1.79270532, -0.67549207, -0.78542201, -0.55228789,\n       -1.61564105, -1.45137439, -0.96028278, -1.56835813, -0.30214117])"
     },
     "execution_count": 24,
     "metadata": {},
     "output_type": "execute_result"
    }
   ],
   "source": [
    "X2 = np.random.uniform(-2, 0, 100)\n",
    "X2"
   ],
   "metadata": {
    "collapsed": false
   }
  },
  {
   "cell_type": "code",
   "execution_count": 25,
   "outputs": [
    {
     "data": {
      "text/plain": "-0.7764808262435907"
     },
     "execution_count": 25,
     "metadata": {},
     "output_type": "execute_result"
    }
   ],
   "source": [
    "m1 = np.mean(X1)\n",
    "m1"
   ],
   "metadata": {
    "collapsed": false
   }
  },
  {
   "cell_type": "code",
   "execution_count": 26,
   "outputs": [
    {
     "data": {
      "text/plain": "-0.9711955586251331"
     },
     "execution_count": 26,
     "metadata": {},
     "output_type": "execute_result"
    }
   ],
   "source": [
    "m2 = np.mean(X2)\n",
    "m2"
   ],
   "metadata": {
    "collapsed": false
   }
  },
  {
   "cell_type": "code",
   "execution_count": 27,
   "outputs": [
    {
     "data": {
      "text/plain": "3.9795518796207814"
     },
     "execution_count": 27,
     "metadata": {},
     "output_type": "execute_result"
    }
   ],
   "source": [
    "s1 = np.var(X1)\n",
    "s1"
   ],
   "metadata": {
    "collapsed": false
   }
  },
  {
   "cell_type": "code",
   "execution_count": 28,
   "outputs": [
    {
     "data": {
      "text/plain": "0.32599377934715107"
     },
     "execution_count": 28,
     "metadata": {},
     "output_type": "execute_result"
    }
   ],
   "source": [
    "s2 = np.var(X2)\n",
    "s2"
   ],
   "metadata": {
    "collapsed": false
   }
  },
  {
   "cell_type": "code",
   "execution_count": 29,
   "outputs": [
    {
     "data": {
      "text/plain": "1.994881419939737"
     },
     "execution_count": 29,
     "metadata": {},
     "output_type": "execute_result"
    }
   ],
   "source": [
    "s1 = np.std(X1)\n",
    "s1"
   ],
   "metadata": {
    "collapsed": false
   }
  },
  {
   "cell_type": "code",
   "execution_count": 30,
   "outputs": [
    {
     "data": {
      "text/plain": "0.5709586494196852"
     },
     "execution_count": 30,
     "metadata": {},
     "output_type": "execute_result"
    }
   ],
   "source": [
    "s2 = np.std(X2)\n",
    "s2"
   ],
   "metadata": {
    "collapsed": false
   }
  },
  {
   "cell_type": "markdown",
   "source": [
    "## Выборочные характеристики\n",
    "\n",
    "| СВ    | Среднее, $\\bar{x}_i$ | Оценка дисперсии, $s_i^2$ | Оценка с.к.о., $s_i$ | Объем выборки, $n_i$ |\n",
    "|-------|----------------------|---------------------------|----------------------|----------------------|\n",
    "| $X_1$ | $m_1 = -0.78$        | $s_1 = 3.98$              | $s_1 = 1.99$         | $n_1 = 100$          |\n",
    "| $X_2$ | $m_2 = -0.97$        | $s_2 = 0.33$              | $s_2 = 0.57$         | $n_2 = 100$          |"
   ],
   "metadata": {
    "collapsed": false
   }
  },
  {
   "cell_type": "code",
   "execution_count": 31,
   "outputs": [
    {
     "data": {
      "text/plain": "(-3.8728550957674464, 0.9999462161063082)"
     },
     "execution_count": 31,
     "metadata": {},
     "output_type": "execute_result"
    }
   ],
   "source": [
    "Z, p_value = ztest(X1, alternative='smaller')\n",
    "p_value = 1 - p_value\n",
    "Z, p_value"
   ],
   "metadata": {
    "collapsed": false
   }
  },
  {
   "cell_type": "code",
   "execution_count": 32,
   "outputs": [
    {
     "data": {
      "text/plain": "(1.1148470661819956, 0.13380751198269003)"
     },
     "execution_count": 32,
     "metadata": {},
     "output_type": "execute_result"
    }
   ],
   "source": [
    "Z, p_value = stats.ttest_1samp(a=X1, popmean=-1, axis=0, alternative='less')\n",
    "p_value = 1 - p_value\n",
    "Z, p_value"
   ],
   "metadata": {
    "collapsed": false
   }
  },
  {
   "cell_type": "code",
   "execution_count": 33,
   "outputs": [
    {
     "data": {
      "text/plain": "(15407.929830142231, 0.0)"
     },
     "execution_count": 33,
     "metadata": {},
     "output_type": "execute_result"
    }
   ],
   "source": [
    "num = 10\n",
    "normal = stats.norm.pdf(np.linspace(np.min(X1), np.max(X1), 2 * num + 1), -1, s1 * 2)[1::2]\n",
    "# normal = np.array([100 / (np.max(X1) - np.min(X1))] * num)\n",
    "Z = np.sum((np.histogram(X1, bins=num)[0] - normal) ** 2 / normal)\n",
    "p_value = 1 - stats.chi2.cdf(Z, num - 1 - 1)\n",
    "Z, p_value"
   ],
   "metadata": {
    "collapsed": false
   }
  },
  {
   "cell_type": "code",
   "execution_count": 106,
   "outputs": [
    {
     "data": {
      "text/plain": "<matplotlib.patches.StepPatch at 0x264fc9e5f10>"
     },
     "execution_count": 106,
     "metadata": {},
     "output_type": "execute_result"
    },
    {
     "data": {
      "text/plain": "<Figure size 640x480 with 1 Axes>",
      "image/png": "[encoded data removed]"
     },
     "metadata": {},
     "output_type": "display_data"
    }
   ],
   "source": [
    "counts, bins = np.histogram(np.random.normal(-1, 2, 100000), bins=10)\n",
    "plt.stairs(counts, bins)"
   ],
   "metadata": {
    "collapsed": false
   }
  },
  {
   "cell_type": "code",
   "execution_count": 75,
   "outputs": [
    {
     "data": {
      "text/plain": "array([-1.00837013e+01, -9.91001499e+00, -9.73632864e+00, -9.56264229e+00,\n       -9.38895594e+00, -9.21526959e+00, -9.04158324e+00, -8.86789688e+00,\n       -8.69421053e+00, -8.52052418e+00, -8.34683783e+00, -8.17315148e+00,\n       -7.99946513e+00, -7.82577878e+00, -7.65209243e+00, -7.47840608e+00,\n       -7.30471973e+00, -7.13103337e+00, -6.95734702e+00, -6.78366067e+00,\n       -6.60997432e+00, -6.43628797e+00, -6.26260162e+00, -6.08891527e+00,\n       -5.91522892e+00, -5.74154257e+00, -5.56785622e+00, -5.39416986e+00,\n       -5.22048351e+00, -5.04679716e+00, -4.87311081e+00, -4.69942446e+00,\n       -4.52573811e+00, -4.35205176e+00, -4.17836541e+00, -4.00467906e+00,\n       -3.83099271e+00, -3.65730635e+00, -3.48362000e+00, -3.30993365e+00,\n       -3.13624730e+00, -2.96256095e+00, -2.78887460e+00, -2.61518825e+00,\n       -2.44150190e+00, -2.26781555e+00, -2.09412920e+00, -1.92044285e+00,\n       -1.74675649e+00, -1.57307014e+00, -1.39938379e+00, -1.22569744e+00,\n       -1.05201109e+00, -8.78324739e-01, -7.04638388e-01, -5.30952037e-01,\n       -3.57265686e-01, -1.83579335e-01, -9.89298429e-03,  1.63793367e-01,\n        3.37479718e-01,  5.11166069e-01,  6.84852420e-01,  8.58538771e-01,\n        1.03222512e+00,  1.20591147e+00,  1.37959782e+00,  1.55328417e+00,\n        1.72697053e+00,  1.90065688e+00,  2.07434323e+00,  2.24802958e+00,\n        2.42171593e+00,  2.59540228e+00,  2.76908863e+00,  2.94277498e+00,\n        3.11646133e+00,  3.29014768e+00,  3.46383404e+00,  3.63752039e+00,\n        3.81120674e+00,  3.98489309e+00,  4.15857944e+00,  4.33226579e+00,\n        4.50595214e+00,  4.67963849e+00,  4.85332484e+00,  5.02701119e+00,\n        5.20069755e+00,  5.37438390e+00,  5.54807025e+00,  5.72175660e+00,\n        5.89544295e+00,  6.06912930e+00,  6.24281565e+00,  6.41650200e+00,\n        6.59018835e+00,  6.76387470e+00,  6.93756106e+00,  7.11124741e+00,\n        7.28493376e+00])"
     },
     "execution_count": 75,
     "metadata": {},
     "output_type": "execute_result"
    }
   ],
   "source": [
    "bins"
   ],
   "metadata": {
    "collapsed": false
   }
  },
  {
   "cell_type": "code",
   "execution_count": 47,
   "outputs": [
    {
     "data": {
      "text/plain": "(array([ 1,  2, 12, 14, 24, 15, 13,  8,  7,  4], dtype=int64),\n array([-5.89244296, -4.89770982, -3.90297667, -2.90824352, -1.91351038,\n        -0.91877723,  0.07595592,  1.07068906,  2.06542221,  3.06015535,\n         4.0548885 ]))"
     },
     "execution_count": 47,
     "metadata": {},
     "output_type": "execute_result"
    }
   ],
   "source": [
    "np.histogram(X1, bins=num)"
   ],
   "metadata": {
    "collapsed": false
   }
  },
  {
   "cell_type": "code",
   "execution_count": 89,
   "outputs": [
    {
     "data": {
      "text/plain": "<matplotlib.patches.StepPatch at 0x264fc96d880>"
     },
     "execution_count": 89,
     "metadata": {},
     "output_type": "execute_result"
    },
    {
     "data": {
      "text/plain": "<Figure size 640x480 with 1 Axes>",
      "image/png": "[encoded data removed]"
     },
     "metadata": {},
     "output_type": "display_data"
    }
   ],
   "source": [
    "x = np.linspace(bins[0], bins[-1], 201)\n",
    "plt.stairs(stats.norm.pdf(x, -1, 2)[1::2] * 1000 * (bins[-1] - bins[0]), bins)"
   ],
   "metadata": {
    "collapsed": false
   }
  },
  {
   "cell_type": "code",
   "execution_count": 105,
   "outputs": [
    {
     "data": {
      "text/plain": "<matplotlib.patches.StepPatch at 0x264fcae41c0>"
     },
     "execution_count": 105,
     "metadata": {},
     "output_type": "execute_result"
    },
    {
     "data": {
      "text/plain": "<Figure size 640x480 with 1 Axes>",
      "image/png": "[encoded data removed]"
     },
     "metadata": {},
     "output_type": "display_data"
    }
   ],
   "source": [
    "# x = np.linspace(bins[0], bins[-1], 101)\n",
    "plt.stairs((stats.norm.cdf(bins[1:], -1, 2) - stats.norm.cdf(bins[:-1], -1, 2)) * 100000, bins)"
   ],
   "metadata": {
    "collapsed": false
   }
  },
  {
   "cell_type": "code",
   "execution_count": 103,
   "outputs": [
    {
     "data": {
      "text/plain": "(3.22583120040668, 1.0)"
     },
     "execution_count": 103,
     "metadata": {},
     "output_type": "execute_result"
    }
   ],
   "source": [
    "# num = 10\n",
    "counts, bins = np.histogram(np.random.normal(-1, 2, 100000), bins=10)\n",
    "normal = (stats.norm.cdf(bins[1:], -1, 2) - stats.norm.cdf(bins[:-1], -1, 2)) * 100000\n",
    "# normal = stats.norm.pdf(np.linspace(np.min(X1), np.max(X1), 2 * num + 1), -1, s1 * 2)[1::2]\n",
    "# normal = np.array([100 / (np.max(X1) - np.min(X1))] * num)\n",
    "Z = np.sum((counts - normal) ** 2 / normal)\n",
    "p_value = 1 - stats.chi2.cdf(Z, 100 - 1 - 0)\n",
    "Z, p_value"
   ],
   "metadata": {
    "collapsed": false
   }
  },
  {
   "cell_type": "code",
   "execution_count": 97,
   "outputs": [
    {
     "data": {
      "text/plain": "(50,)"
     },
     "execution_count": 97,
     "metadata": {},
     "output_type": "execute_result"
    }
   ],
   "source": [
    "normal.shape"
   ],
   "metadata": {
    "collapsed": false
   }
  },
  {
   "cell_type": "code",
   "execution_count": 94,
   "outputs": [
    {
     "data": {
      "text/plain": "(100,)"
     },
     "execution_count": 94,
     "metadata": {},
     "output_type": "execute_result"
    }
   ],
   "source": [
    "# bins[1:].shape\n",
    "bins[:100].shape"
   ],
   "metadata": {
    "collapsed": false
   }
  },
  {
   "cell_type": "code",
   "execution_count": 90,
   "outputs": [
    {
     "data": {
      "text/plain": "[<matplotlib.lines.Line2D at 0x264fc870b50>]"
     },
     "execution_count": 90,
     "metadata": {},
     "output_type": "execute_result"
    },
    {
     "data": {
      "text/plain": "<Figure size 640x480 with 1 Axes>",
      "image/png": "[encoded data removed]"
     },
     "metadata": {},
     "output_type": "display_data"
    }
   ],
   "source": [
    "x = np.linspace(bins[0], bins[-1], 1000)\n",
    "\n",
    "plt.plot(bins, stats.norm.cdf(x, -1, 2))"
   ],
   "metadata": {
    "collapsed": false
   }
  },
  {
   "cell_type": "code",
   "execution_count": 35,
   "outputs": [
    {
     "data": {
      "text/plain": "array([0.0545074 , 0.06954023, 0.08337206, 0.09393095, 0.09944905,\n       0.09894556, 0.0925115 , 0.08128285, 0.06711288, 0.05207348])"
     },
     "execution_count": 35,
     "metadata": {},
     "output_type": "execute_result"
    }
   ],
   "source": [
    "normal"
   ],
   "metadata": {
    "collapsed": false
   }
  },
  {
   "cell_type": "code",
   "execution_count": 36,
   "outputs": [
    {
     "data": {
      "text/plain": "array([ 1,  2, 12, 14, 24, 15, 13,  8,  7,  4], dtype=int64)"
     },
     "execution_count": 36,
     "metadata": {},
     "output_type": "execute_result"
    }
   ],
   "source": [
    "np.histogram(X1, bins=num)[0]"
   ],
   "metadata": {
    "collapsed": false
   }
  },
  {
   "cell_type": "code",
   "execution_count": 37,
   "outputs": [
    {
     "data": {
      "text/plain": "(18.389980647997437, 0.01032907081536416)"
     },
     "execution_count": 37,
     "metadata": {},
     "output_type": "execute_result"
    }
   ],
   "source": [
    "num = 10\n",
    "normal = stats.norm.pdf(np.linspace(np.min(X1), np.max(X1), num), m1, s1) * 100\n",
    "# normal = np.array([100 / (np.max(X1) - np.min(X1))] * num)\n",
    "Z = np.sum((np.histogram(X1, bins=num)[0] - normal) ** 2 / normal)\n",
    "p_value = 1 - stats.chi2.cdf(Z, num - 1 - 2)\n",
    "Z, p_value"
   ],
   "metadata": {
    "collapsed": false
   }
  },
  {
   "cell_type": "markdown",
   "source": [
    "# 2. Однопараметрические критерии\n",
    "\n",
    "## Для случайной величины $X_1$\n",
    "\n",
    "| Тест                              | Стат. гипотеза, $H_0$         | Выборочное значение статистики критерия | $p-value$          | Стат. решение при $\\alpha = 0.01$ | Ошибка стат. решения |\n",
    "|-----------------------------------|-------------------------------|-----------------------------------------|--------------------|-----------------------------------|----------------------|\n",
    "| z-test                            | $X_1 \\sim N(m_1, \\sigma_1^2)$ | $Z = -3.87$                             | $p-value = 0.99$   | Принимаем $H_0$                   | -                    |\n",
    "| t-test                            | $X_1 \\sim T(n_1-1)$           | $Z = 1.11$                              | $p-value = 0.13$   | Принимаем $H_0$                   | Ошибка первого рода  |\n",
    "| $\\chi^2$-test<br/> ($m$ - изв)    | $X_1 \\sim N(-1, s_1)$         | $Z = 23.29$                             | $p-value = 0.003$  | Отклоняем $H_0$                   | Ошибка второго рода  |\n",
    "| $\\chi^2$-test<br/> ($m$ - не изв) | $X_1 \\sim N(m_1, s_1)$        | $Z = 18.39$                             | $p-value = 0.0103$ | Отклоняем $H_0$                   | -                    |"
   ],
   "metadata": {
    "collapsed": false
   }
  },
  {
   "cell_type": "code",
   "execution_count": 37,
   "outputs": [],
   "source": [],
   "metadata": {
    "collapsed": false
   }
  },
  {
   "cell_type": "markdown",
   "source": [
    "# 2. Однопараметрические критерии\n",
    "\n",
    "## Для случайной величины $X_1$\n",
    "\n",
    "| Тест                              | Стат. гипотеза, $H_0$ | Выборочное значение статистики критерия | $p-value$ | Стат. решение при $\\alpha = 0.01$ | Ошибка стат. решения |\n",
    "|-----------------------------------|-----------------------|-----------------------------------------|-----------|-----------------------------------|----------------------|\n",
    "| 2-sample t-test                   |                       |                                         |           |                                   |                      |\n",
    "| 2-sample t-test                   |                       |                                         |           |                                   |                      |\n",
    "| 2-sample t-test                   |                       |                                         |           |                                   |                      |\n",
    "| 2-sample t-test                   |                       |                                         |           |                                   |                      |"
   ],
   "metadata": {
    "collapsed": false
   }
  }
 ],
 "metadata": {
  "kernelspec": {
   "display_name": "Python 3",
   "language": "python",
   "name": "python3"
  },
  "language_info": {
   "codemirror_mode": {
    "name": "ipython",
    "version": 2
   },
   "file_extension": ".py",
   "mimetype": "text/x-python",
   "name": "python",
   "nbconvert_exporter": "python",
   "pygments_lexer": "ipython2",
   "version": "2.7.6"
  }
 },
 "nbformat": 4,
 "nbformat_minor": 0
}
