{
 "cells": [
  {
   "cell_type": "markdown",
   "source": [
    "## Вариант 7\n",
    "\n",
    "### Распределения\n",
    "\n",
    "$$X_1 \\sim N(-1, 2)$$\n",
    "\n",
    "$$X_2 \\sim R(-2, 0)$$\n",
    "\n",
    "### Объёмы выборок\n",
    "\n",
    "$$n_1 = 100$$\n",
    "\n",
    "$$n_2 = 100$$\n",
    "\n",
    "### Стат гипотеза $H_0$\n",
    "\n",
    "$$\\sigma_1 = 2$$\n",
    "\n",
    "$$(m_1 - не изв.)$$"
   ],
   "metadata": {
    "collapsed": false
   }
  },
  {
   "cell_type": "markdown",
   "source": [
    "# 1. Исходные данные\n",
    "\n",
    "## Характеристики наблюдаемых случайных величин:\n",
    "| СВ    | Распределение | Параметры                  | Математическое ожидание, $m_i$ | Дисперсия, $\\sigma_i^2$ |\n",
    "|-------|---------------|----------------------------|--------------------------------|-------------------------|\n",
    "| $X_1$ | $N(-1, 2)$    | $m_1 = -1, \\sigma_1^2 = 2$ | $m_1 = -1$                     | $\\sigma_1^2 = 4$        |\n",
    "| $X_2$ | $R(-2, 0)$    | $a = -2, b = 0$            | $m_2 = -1$                     | $\\sigma_2^2 = 1/3$      |"
   ],
   "metadata": {
    "collapsed": false
   }
  },
  {
   "cell_type": "code",
   "execution_count": 336,
   "outputs": [],
   "source": [
    "import numpy as np\n",
    "import scipy.stats as stats\n",
    "from statsmodels.stats.weightstats import ztest\n",
    "np.random.seed(404)"
   ],
   "metadata": {
    "collapsed": false
   }
  },
  {
   "cell_type": "code",
   "execution_count": 337,
   "outputs": [
    {
     "data": {
      "text/plain": "array([-3.36538178,  1.67492331, -1.62861009,  0.11328621, -1.41859866,\n       -1.02360073,  1.46986689, -1.08683788, -2.36357447,  1.40138394,\n        1.68788877, -2.668218  ,  1.07199539,  2.33159819,  0.89895712,\n        1.13401904, -0.21103844,  0.20070923, -3.70660894, -2.92899236,\n       -1.70133881, -0.35770499, -3.01248288,  0.49759164, -0.93935259,\n       -0.6363014 , -1.9948701 , -1.67443837, -0.02529859, -0.9474701 ,\n       -1.35967285, -2.11789992,  0.08230484, -1.55399335, -1.22133528,\n       -0.38046434,  2.52926686, -1.52853436,  0.74799239,  1.16419341,\n       -1.88950274, -1.29579656,  2.25853699,  1.20026458, -1.80822415,\n        0.05285067,  2.2576585 , -1.94054933, -1.84086666, -3.58441617,\n        2.97247571, -0.52901049, -2.91979201, -0.99323536, -1.89903624,\n       -2.66395926, -3.12798265,  0.81139257,  0.80268194,  3.40757196,\n       -2.46051545,  0.33736853, -1.08192246, -0.72384347, -0.44395154,\n       -1.37147146, -3.73324971, -0.6117227 , -4.30999599, -0.65304686,\n       -2.12980844,  3.94082292, -2.18577459, -3.50582273, -2.12061906,\n       -1.01455456, -3.26708006, -0.89358583, -5.89244296,  2.9751031 ,\n        0.50017779, -4.45655516,  2.87154757, -2.46499901,  0.52847866,\n        0.1957127 , -0.23481272,  3.26778262,  4.0548885 , -1.25205054,\n       -2.01769116, -3.41160448, -0.72649754, -0.72215154, -1.83346618,\n        0.67879892, -1.59230309, -3.70128267, -2.34716119, -2.26320003])"
     },
     "execution_count": 337,
     "metadata": {},
     "output_type": "execute_result"
    }
   ],
   "source": [
    "X1 = np.random.normal(-1, 2, 100)\n",
    "X1"
   ],
   "metadata": {
    "collapsed": false
   }
  },
  {
   "cell_type": "code",
   "execution_count": 338,
   "outputs": [
    {
     "data": {
      "text/plain": "array([-1.79585121, -0.63448256, -0.51857688, -1.4927726 , -0.7151795 ,\n       -1.84920321, -1.99721138, -0.90281794, -0.0182941 , -1.98744291,\n       -0.62923277, -0.43901955, -0.74210048, -1.63420175, -1.76879798,\n       -1.3181282 , -1.19335598, -1.39038709, -1.09700213, -0.00321011,\n       -1.0430837 , -1.05373111, -0.86715612, -0.01463504, -0.65462507,\n       -1.46084586, -1.47107601, -0.00988351, -1.84111026, -0.20710488,\n       -0.88730549, -1.41736754, -1.65875325, -0.85195628, -0.48035751,\n       -1.87066044, -0.69771817, -0.61423633, -0.94877429, -1.43727534,\n       -1.64980703, -1.0987118 , -1.53328548, -0.38539363, -0.79971225,\n       -0.94777639, -0.1869878 , -0.73208194, -0.91753785, -0.94216444,\n       -0.84104773, -0.77709782, -0.69994932, -0.16492879, -0.60978591,\n       -1.82915928, -1.14202942, -1.95398738, -1.67150364, -0.29612113,\n       -1.26391329, -1.40188632, -1.11788397, -0.70244207, -0.65485008,\n       -0.25555895, -0.0681654 , -0.04207531, -0.22390968, -0.10440425,\n       -1.38727158, -0.47429977, -1.19390571, -0.77987473, -0.51764955,\n       -1.97463466, -0.19625554, -1.87071704, -1.37698397, -1.39210102,\n       -0.05866356, -1.87526746, -1.0097959 , -0.42486657, -1.08334819,\n       -0.63978882, -0.902     , -0.11106502, -1.72505808, -1.01819614,\n       -0.77502493, -1.79270532, -0.67549207, -0.78542201, -0.55228789,\n       -1.61564105, -1.45137439, -0.96028278, -1.56835813, -0.30214117])"
     },
     "execution_count": 338,
     "metadata": {},
     "output_type": "execute_result"
    }
   ],
   "source": [
    "X2 = np.random.uniform(-2, 0, 100)\n",
    "X2"
   ],
   "metadata": {
    "collapsed": false
   }
  },
  {
   "cell_type": "code",
   "execution_count": 339,
   "outputs": [
    {
     "data": {
      "text/plain": "-0.7764808262435907"
     },
     "execution_count": 339,
     "metadata": {},
     "output_type": "execute_result"
    }
   ],
   "source": [
    "m1 = np.mean(X1)\n",
    "m1"
   ],
   "metadata": {
    "collapsed": false
   }
  },
  {
   "cell_type": "code",
   "execution_count": 340,
   "outputs": [
    {
     "data": {
      "text/plain": "-0.9711955586251331"
     },
     "execution_count": 340,
     "metadata": {},
     "output_type": "execute_result"
    }
   ],
   "source": [
    "m2 = np.mean(X2)\n",
    "m2"
   ],
   "metadata": {
    "collapsed": false
   }
  },
  {
   "cell_type": "code",
   "execution_count": 341,
   "outputs": [
    {
     "data": {
      "text/plain": "3.9795518796207814"
     },
     "execution_count": 341,
     "metadata": {},
     "output_type": "execute_result"
    }
   ],
   "source": [
    "s1 = np.var(X1)\n",
    "s1"
   ],
   "metadata": {
    "collapsed": false
   }
  },
  {
   "cell_type": "code",
   "execution_count": 342,
   "outputs": [
    {
     "data": {
      "text/plain": "0.32599377934715107"
     },
     "execution_count": 342,
     "metadata": {},
     "output_type": "execute_result"
    }
   ],
   "source": [
    "s2 = np.var(X2)\n",
    "s2"
   ],
   "metadata": {
    "collapsed": false
   }
  },
  {
   "cell_type": "code",
   "execution_count": 343,
   "outputs": [
    {
     "data": {
      "text/plain": "1.994881419939737"
     },
     "execution_count": 343,
     "metadata": {},
     "output_type": "execute_result"
    }
   ],
   "source": [
    "s1 = np.std(X1)\n",
    "s1"
   ],
   "metadata": {
    "collapsed": false
   }
  },
  {
   "cell_type": "code",
   "execution_count": 344,
   "outputs": [
    {
     "data": {
      "text/plain": "0.5709586494196852"
     },
     "execution_count": 344,
     "metadata": {},
     "output_type": "execute_result"
    }
   ],
   "source": [
    "s2 = np.std(X2)\n",
    "s2"
   ],
   "metadata": {
    "collapsed": false
   }
  },
  {
   "cell_type": "markdown",
   "source": [
    "## Выборочные характеристики\n",
    "\n",
    "| СВ    | Среднее, $\\bar{x}_i$ | Оценка дисперсии, $s_i^2$ | Оценка с.к.о., $s_i$ | Объем выборки, $n_i$ |\n",
    "|-------|----------------------|---------------------------|----------------------|----------------------|\n",
    "| $X_1$ | $m_1 = -0.78$        | $s_1 = 3.98$              | $s_1 = 1.99$         | $n_1 = 100$          |\n",
    "| $X_2$ | $m_2 = -0.97$        | $s_2 = 0.33$              | $s_2 = 0.57$         | $n_2 = 100$          |"
   ],
   "metadata": {
    "collapsed": false
   }
  },
  {
   "cell_type": "code",
   "execution_count": 382,
   "outputs": [
    {
     "data": {
      "text/plain": "(-3.8728550957674464, 0.9999462161063082)"
     },
     "execution_count": 382,
     "metadata": {},
     "output_type": "execute_result"
    }
   ],
   "source": [
    "Z, p_value = ztest(X1, alternative='smaller')\n",
    "p_value = 1 - p_value\n",
    "Z, p_value"
   ],
   "metadata": {
    "collapsed": false
   }
  },
  {
   "cell_type": "code",
   "execution_count": 377,
   "outputs": [
    {
     "data": {
      "text/plain": "(1.1148470661819956, 0.13380751198269003)"
     },
     "execution_count": 377,
     "metadata": {},
     "output_type": "execute_result"
    }
   ],
   "source": [
    "Z, p_value = stats.ttest_1samp(a=X1, popmean=-1, axis=0, alternative='less')\n",
    "p_value = 1 - p_value\n",
    "Z, p_value"
   ],
   "metadata": {
    "collapsed": false
   }
  },
  {
   "cell_type": "code",
   "execution_count": 379,
   "outputs": [
    {
     "data": {
      "text/plain": "(-402.95127006575296, 0.0)"
     },
     "execution_count": 379,
     "metadata": {},
     "output_type": "execute_result"
    }
   ],
   "source": [
    "Z, p_value = stats.chisquare(X1, -1)\n",
    "p_value = 1 - p_value\n",
    "Z, p_value"
   ],
   "metadata": {
    "collapsed": false
   }
  },
  {
   "cell_type": "code",
   "execution_count": 380,
   "outputs": [
    {
     "data": {
      "text/plain": "(-512.5112874805683, 0.0)"
     },
     "execution_count": 380,
     "metadata": {},
     "output_type": "execute_result"
    }
   ],
   "source": [
    "Z, p_value = stats.chisquare(X1)\n",
    "p_value = 1 - p_value\n",
    "Z, p_value"
   ],
   "metadata": {
    "collapsed": false
   }
  },
  {
   "cell_type": "markdown",
   "source": [
    "# 2. Однопараметрические критерии\n",
    "\n",
    "## Для случайной величины $X_1$\n",
    "\n",
    "| Тест                              | Стат. гипотеза, $H_0$ | Выборочное значение статистики критерия | $p-value$        | Стат. решение при $\\alpha = 0.01$ | Ошибка стат. решения |\n",
    "|-----------------------------------|-----------------------|-----------------------------------------|------------------|-----------------------------------|----------------------|\n",
    "| z-test                            | $X_1 \\sim N$          | $Z = -3.87$                             | $p-value = 0.99$ | Принимаем $H_0$                   | -                    |\n",
    "| t-test                            | $X_1 \\sim T$          | $Z = 1.11$                              | $p-value = 0.13$ | Принимаем $H_0$                   | Ошибка первого рода  |\n",
    "| $\\chi^2$-test<br/> ($m$ - изв)    | $X_1 \\sim \\chi^2$     | $Z = -402.95$                           | $p-value = 0.00$ | Отклоняем $H_0$                   | -                    |\n",
    "| $\\chi^2$-test<br/> ($m$ - не изв) | $X_1 \\sim \\chi^2$     | $Z = -512.51$                           | $p-value = 0.00$ | Отклоняем $H_0$                   | -                    |"
   ],
   "metadata": {
    "collapsed": false
   }
  }
 ],
 "metadata": {
  "kernelspec": {
   "display_name": "Python 3",
   "language": "python",
   "name": "python3"
  },
  "language_info": {
   "codemirror_mode": {
    "name": "ipython",
    "version": 2
   },
   "file_extension": ".py",
   "mimetype": "text/x-python",
   "name": "python",
   "nbconvert_exporter": "python",
   "pygments_lexer": "ipython2",
   "version": "2.7.6"
  }
 },
 "nbformat": 4,
 "nbformat_minor": 0
}
