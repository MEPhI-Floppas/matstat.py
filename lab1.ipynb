{
 "cells": [
  {
   "cell_type": "markdown",
   "metadata": {},
   "source": [
    "## Вариант 7\n",
    "\n",
    "### Распределения\n",
    "\n",
    "$$X_1 \\sim N(-1, 2)$$\n",
    "\n",
    "$$X_2 \\sim R(-2, 0)$$\n",
    "\n",
    "### Объёмы выборок\n",
    "\n",
    "$$n_1 = 100$$\n",
    "\n",
    "$$n_2 = 100$$\n",
    "\n",
    "### Стат гипотеза $H_0$\n",
    "\n",
    "$$\\sigma_1 = 2$$\n",
    "\n",
    "$$(m_1 - не изв.)$$"
   ]
  },
  {
   "cell_type": "markdown",
   "metadata": {},
   "source": [
    "# 1. Исходные данные\n",
    "\n",
    "## Характеристики наблюдаемых случайных величин:\n",
    "| СВ    | Распределение | Параметры                  | Математическое ожидание, $m_i$ | Дисперсия, $\\sigma_i^2$ |\n",
    "|-------|---------------|----------------------------|--------------------------------|-------------------------|\n",
    "| $X_1$ | $N(-1, 2)$    | $m_1 = -1, \\sigma_1^2 = 2$ | $m_1 = -1$                     | $\\sigma_1^2 = 4$        |\n",
    "| $X_2$ | $R(-2, 0)$    | $a = -2, b = 0$            | $m_2 = -1$                     | $\\sigma_2^2 = 1/3$      |"
   ]
  },
  {
   "cell_type": "code",
   "execution_count": 1,
   "metadata": {},
   "outputs": [],
   "source": [
    "import numpy as np\n",
    "import scipy.stats as stats\n",
    "from statsmodels.stats.weightstats import ztest\n",
    "import matplotlib.pyplot as plt\n",
    "np.random.seed(404)"
   ]
  },
  {
   "cell_type": "code",
   "execution_count": 51,
   "metadata": {},
   "outputs": [
    {
     "data": {
      "text/plain": [
       "array([-3.36538178,  1.67492331, -1.62861009,  0.11328621, -1.41859866,\n",
       "       -1.02360073,  1.46986689, -1.08683788, -2.36357447,  1.40138394,\n",
       "        1.68788877, -2.668218  ,  1.07199539,  2.33159819,  0.89895712,\n",
       "        1.13401904, -0.21103844,  0.20070923, -3.70660894, -2.92899236,\n",
       "       -1.70133881, -0.35770499, -3.01248288,  0.49759164, -0.93935259,\n",
       "       -0.6363014 , -1.9948701 , -1.67443837, -0.02529859, -0.9474701 ,\n",
       "       -1.35967285, -2.11789992,  0.08230484, -1.55399335, -1.22133528,\n",
       "       -0.38046434,  2.52926686, -1.52853436,  0.74799239,  1.16419341,\n",
       "       -1.88950274, -1.29579656,  2.25853699,  1.20026458, -1.80822415,\n",
       "        0.05285067,  2.2576585 , -1.94054933, -1.84086666, -3.58441617,\n",
       "        2.97247571, -0.52901049, -2.91979201, -0.99323536, -1.89903624,\n",
       "       -2.66395926, -3.12798265,  0.81139257,  0.80268194,  3.40757196,\n",
       "       -2.46051545,  0.33736853, -1.08192246, -0.72384347, -0.44395154,\n",
       "       -1.37147146, -3.73324971, -0.6117227 , -4.30999599, -0.65304686,\n",
       "       -2.12980844,  3.94082292, -2.18577459, -3.50582273, -2.12061906,\n",
       "       -1.01455456, -3.26708006, -0.89358583, -5.89244296,  2.9751031 ,\n",
       "        0.50017779, -4.45655516,  2.87154757, -2.46499901,  0.52847866,\n",
       "        0.1957127 , -0.23481272,  3.26778262,  4.0548885 , -1.25205054,\n",
       "       -2.01769116, -3.41160448, -0.72649754, -0.72215154, -1.83346618,\n",
       "        0.67879892, -1.59230309, -3.70128267, -2.34716119, -2.26320003])"
      ]
     },
     "execution_count": 51,
     "metadata": {},
     "output_type": "execute_result"
    }
   ],
   "source": [
    "X1 = np.random.normal(-1, 2, 100)\n",
    "X1"
   ]
  },
  {
   "cell_type": "code",
   "execution_count": 52,
   "metadata": {},
   "outputs": [
    {
     "data": {
      "text/plain": [
       "array([-1.79585121, -0.63448256, -0.51857688, -1.4927726 , -0.7151795 ,\n",
       "       -1.84920321, -1.99721138, -0.90281794, -0.0182941 , -1.98744291,\n",
       "       -0.62923277, -0.43901955, -0.74210048, -1.63420175, -1.76879798,\n",
       "       -1.3181282 , -1.19335598, -1.39038709, -1.09700213, -0.00321011,\n",
       "       -1.0430837 , -1.05373111, -0.86715612, -0.01463504, -0.65462507,\n",
       "       -1.46084586, -1.47107601, -0.00988351, -1.84111026, -0.20710488,\n",
       "       -0.88730549, -1.41736754, -1.65875325, -0.85195628, -0.48035751,\n",
       "       -1.87066044, -0.69771817, -0.61423633, -0.94877429, -1.43727534,\n",
       "       -1.64980703, -1.0987118 , -1.53328548, -0.38539363, -0.79971225,\n",
       "       -0.94777639, -0.1869878 , -0.73208194, -0.91753785, -0.94216444,\n",
       "       -0.84104773, -0.77709782, -0.69994932, -0.16492879, -0.60978591,\n",
       "       -1.82915928, -1.14202942, -1.95398738, -1.67150364, -0.29612113,\n",
       "       -1.26391329, -1.40188632, -1.11788397, -0.70244207, -0.65485008,\n",
       "       -0.25555895, -0.0681654 , -0.04207531, -0.22390968, -0.10440425,\n",
       "       -1.38727158, -0.47429977, -1.19390571, -0.77987473, -0.51764955,\n",
       "       -1.97463466, -0.19625554, -1.87071704, -1.37698397, -1.39210102,\n",
       "       -0.05866356, -1.87526746, -1.0097959 , -0.42486657, -1.08334819,\n",
       "       -0.63978882, -0.902     , -0.11106502, -1.72505808, -1.01819614,\n",
       "       -0.77502493, -1.79270532, -0.67549207, -0.78542201, -0.55228789,\n",
       "       -1.61564105, -1.45137439, -0.96028278, -1.56835813, -0.30214117])"
      ]
     },
     "execution_count": 52,
     "metadata": {},
     "output_type": "execute_result"
    }
   ],
   "source": [
    "X2 = np.random.uniform(-2, 0, 100)\n",
    "X2"
   ]
  },
  {
   "cell_type": "code",
   "execution_count": 53,
   "metadata": {},
   "outputs": [
    {
     "data": {
      "text/plain": [
       "-0.7764808262435907"
      ]
     },
     "execution_count": 53,
     "metadata": {},
     "output_type": "execute_result"
    }
   ],
   "source": [
    "m1 = np.mean(X1)\n",
    "m1"
   ]
  },
  {
   "cell_type": "code",
   "execution_count": 54,
   "metadata": {},
   "outputs": [
    {
     "data": {
      "text/plain": [
       "-0.9711955586251331"
      ]
     },
     "execution_count": 54,
     "metadata": {},
     "output_type": "execute_result"
    }
   ],
   "source": [
    "m2 = np.mean(X2)\n",
    "m2"
   ]
  },
  {
   "cell_type": "code",
   "execution_count": 55,
   "metadata": {},
   "outputs": [
    {
     "data": {
      "text/plain": [
       "4.019749373354324"
      ]
     },
     "execution_count": 55,
     "metadata": {},
     "output_type": "execute_result"
    }
   ],
   "source": [
    "s1 = np.var(X1, ddof=1)\n",
    "s1"
   ]
  },
  {
   "cell_type": "code",
   "execution_count": 56,
   "metadata": {},
   "outputs": [
    {
     "data": {
      "text/plain": [
       "0.3292866458052031"
      ]
     },
     "execution_count": 56,
     "metadata": {},
     "output_type": "execute_result"
    }
   ],
   "source": [
    "s2 = np.var(X2, ddof=1)\n",
    "s2"
   ]
  },
  {
   "cell_type": "code",
   "execution_count": 57,
   "metadata": {},
   "outputs": [
    {
     "data": {
      "text/plain": [
       "2.004931263997428"
      ]
     },
     "execution_count": 57,
     "metadata": {},
     "output_type": "execute_result"
    }
   ],
   "source": [
    "s1 = np.std(X1, ddof=1)\n",
    "s1"
   ]
  },
  {
   "cell_type": "code",
   "execution_count": 58,
   "metadata": {},
   "outputs": [
    {
     "data": {
      "text/plain": [
       "0.5738350336161109"
      ]
     },
     "execution_count": 58,
     "metadata": {},
     "output_type": "execute_result"
    }
   ],
   "source": [
    "s2 = np.std(X2, ddof=1)\n",
    "s2"
   ]
  },
  {
   "cell_type": "markdown",
   "metadata": {},
   "source": [
    "## Выборочные характеристики\n",
    "\n",
    "| СВ    | Среднее, $\\bar{x}_i$ | Оценка дисперсии, $s_i^2$ | Оценка с.к.о., $s_i$ | Объем выборки, $n_i$ |\n",
    "|-------|----------------------|---------------------------|----------------------|----------------------|\n",
    "| $X_1$ | $m_1 = -0.78$        | $s_1 = 3.98$              | $s_1 = 1.99$         | $n_1 = 100$          |\n",
    "| $X_2$ | $m_2 = -0.97$        | $s_2 = 0.33$              | $s_2 = 0.57$         | $n_2 = 100$          |"
   ]
  },
  {
   "cell_type": "code",
   "execution_count": 59,
   "metadata": {},
   "outputs": [
    {
     "data": {
      "text/plain": [
       "(-3.8728550957674464, 0.9999462161063082)"
      ]
     },
     "execution_count": 59,
     "metadata": {},
     "output_type": "execute_result"
    }
   ],
   "source": [
    "Z, p_value = ztest(X1, alternative='smaller')\n",
    "p_value = 1 - p_value\n",
    "Z, p_value"
   ]
  },
  {
   "cell_type": "code",
   "execution_count": 60,
   "metadata": {},
   "outputs": [
    {
     "data": {
      "text/plain": [
       "(1.1148470661819956, 0.13380751198269003)"
      ]
     },
     "execution_count": 60,
     "metadata": {},
     "output_type": "execute_result"
    }
   ],
   "source": [
    "Z, p_value = stats.ttest_1samp(a=X1, popmean=-1, axis=0, alternative='less')\n",
    "p_value = 1 - p_value\n",
    "Z, p_value"
   ]
  },
  {
   "cell_type": "code",
   "execution_count": 61,
   "metadata": {},
   "outputs": [],
   "source": [
    "def chisquare(dist, m, d, bins=10, ddof=0):\n",
    "    counts, bins1 = np.histogram(dist, bins=bins)\n",
    "    normal = (stats.norm.cdf(bins1[1:], m, d) - stats.norm.cdf(bins1[:-1], m, d)) * dist.shape[0]\n",
    "    # normal = stats.norm.pdf(np.linspace(np.min(X1), np.max(X1), 2 * num + 1), -1, s1 * 2)[1::2]\n",
    "    # normal = np.array([100 / (np.max(X1) - np.min(X1))] * num)\n",
    "    Z = np.sum((counts - normal) ** 2 / normal)\n",
    "    return Z, stats.chi2.cdf(Z, bins - 1 - ddof)"
   ]
  },
  {
   "cell_type": "code",
   "execution_count": 62,
   "metadata": {},
   "outputs": [],
   "source": [
    "# counts, bins = np.histogram(np.random.normal(-1, 2, 100000), bins=100)\n",
    "# plt.stairs(counts, bins)"
   ]
  },
  {
   "cell_type": "code",
   "execution_count": 63,
   "metadata": {},
   "outputs": [],
   "source": [
    "# x = np.linspace(bins[0], bins[-1], 101)\n",
    "# plt.stairs((stats.norm.cdf(bins[1:], -1, 2) - stats.norm.cdf(bins[:-1], -1, 2)) * 100000, bins)"
   ]
  },
  {
   "cell_type": "code",
   "execution_count": 64,
   "metadata": {},
   "outputs": [],
   "source": [
    "def var(dist, m):\n",
    "    return np.sum((dist - m) ** 2) / dist.shape[0]\n",
    "def std(dist, m):\n",
    "    return np.sqrt(var(dist, m))"
   ]
  },
  {
   "cell_type": "code",
   "execution_count": 65,
   "metadata": {},
   "outputs": [
    {
     "data": {
      "text/plain": [
       "(10.601787852553052, 0.2252988694257958)"
      ]
     },
     "execution_count": 65,
     "metadata": {},
     "output_type": "execute_result"
    }
   ],
   "source": [
    "# num = 10\n",
    "d1 = std(X1, -1)\n",
    "Z, p_value = chisquare(X1, -1, d1, ddof=1)\n",
    "p_value = 1 - p_value\n",
    "Z, p_value"
   ]
  },
  {
   "cell_type": "code",
   "execution_count": 66,
   "metadata": {},
   "outputs": [
    {
     "data": {
      "text/plain": [
       "(2.0073646157730116, 2.004931263997428)"
      ]
     },
     "execution_count": 66,
     "metadata": {},
     "output_type": "execute_result"
    }
   ],
   "source": [
    "d1, s1"
   ]
  },
  {
   "cell_type": "code",
   "execution_count": 67,
   "metadata": {},
   "outputs": [
    {
     "data": {
      "text/plain": [
       "(8.793684165680396, 0.2678101053813777)"
      ]
     },
     "execution_count": 67,
     "metadata": {},
     "output_type": "execute_result"
    }
   ],
   "source": [
    "Z, p_value = chisquare(X1, m1, s1, ddof=2)\n",
    "p_value = 1 - p_value\n",
    "Z, p_value"
   ]
  },
  {
   "cell_type": "markdown",
   "metadata": {},
   "source": [
    "# 2. Однопараметрические критерии\n",
    "\n",
    "## Для случайной величины $X_1$\n",
    "\n",
    "| Тест                              | Стат. гипотеза, $H_0$        | Выборочное значение статистики критерия | $p-value$ | Стат. решение при $\\alpha = 0.01$ | Ошибка стат. решения |\n",
    "|-----------------------------------|------------------------------|-----------------------------------------|-----------|-----------------------------------|----------------------|\n",
    "| z-test                            | $X_1 \\sim N(m_1, \\sigma_1)$  | $-3.87$                                 | $0.99$    | Принимаем $H_0$                   | -                    |\n",
    "| t-test                            | $M(X_1) = m_1$               | $1.11$                                  | $0.13$    | Принимаем $H_0$                   | -                    |\n",
    "| $\\chi^2$-test<br/> ($m$ - изв)    | $X_1 \\sim N(m_1, s_1)$       | $10.6$                                  | $0.23$    | Принимаем $H_0$                   | -                    |\n",
    "| $\\chi^2$-test<br/> ($m$ - не изв) | $X_1 \\sim N(\\bar{X}_1, s_1)$ | $8.91$                                  | $0.26$    | Принимаем $H_0$                   | -                    |"
   ]
  },
  {
   "cell_type": "code",
   "execution_count": 68,
   "metadata": {},
   "outputs": [
    {
     "data": {
      "text/plain": [
       "(0.9336891450810257, 0.17580074283903702)"
      ]
     },
     "execution_count": 68,
     "metadata": {},
     "output_type": "execute_result"
    }
   ],
   "source": [
    "Z, p_value = stats.ttest_ind(X1, X2, alternative='less')\n",
    "p_value = 1 - p_value\n",
    "Z, p_value"
   ]
  },
  {
   "cell_type": "code",
   "execution_count": 69,
   "metadata": {},
   "outputs": [],
   "source": [
    "def f_test(dist1, dist2, m1, m2, ddof=0):\n",
    "    d1, d2 = var(dist1, m1), var(dist2, m2)\n",
    "    f = d1 / d2\n",
    "    n1, n2 = dist1.shape[0] - ddof, dist2.shape[0] - ddof\n",
    "    return f, stats.f.cdf(f, n1, n2)"
   ]
  },
  {
   "cell_type": "code",
   "execution_count": 70,
   "metadata": {},
   "outputs": [
    {
     "data": {
      "text/plain": [
       "(12.329324563708601, 1.1102230246251565e-16)"
      ]
     },
     "execution_count": 70,
     "metadata": {},
     "output_type": "execute_result"
    }
   ],
   "source": [
    "Z, p_value = f_test(X1, X2, -1, -1)\n",
    "p_value = 1 - p_value\n",
    "Z, p_value"
   ]
  },
  {
   "cell_type": "code",
   "execution_count": 71,
   "metadata": {},
   "outputs": [
    {
     "data": {
      "text/plain": [
       "(12.207447294210338, 1.1102230246251565e-16)"
      ]
     },
     "execution_count": 71,
     "metadata": {},
     "output_type": "execute_result"
    }
   ],
   "source": [
    "Z, p_value = f_test(X1, X2, m1, m2, ddof=1)\n",
    "p_value = 1 - p_value\n",
    "Z, p_value"
   ]
  },
  {
   "cell_type": "markdown",
   "metadata": {},
   "source": [
    "# 3. Двухвыборочные критерии\n",
    "\n",
    "## Для случайных величин $X_1$, $X_2$\n",
    "\n",
    "| Тест                               | Стат. гипотеза, $H_0$ | Выборочное значение статистики критерия | $p-value$                   | Стат. решение при $\\alpha = 0.01$ | Ошибка стат. решения |\n",
    "|------------------------------------|-----------------------|-----------------------------------------|-----------------------------|-----------------------------------|----------------------|\n",
    "| 2-sample t-test                    | $M(X_1) = M(X_2)$     | $0.93$                                  | $0.18$                      | Принимаем $H_0$                   | -                    |\n",
    "| 2-sample F-test<br/>($m$ - изв)    | $D(X_1) = D(X_2)$     | $12.33$                                 | $1.11 \\cdot 10^{-16}$       | Отвергаем $H_0$                   | -                    |\n",
    "| 2-sample F-test<br/>($m$ - не изв) | $D(X_1) = D(X_2)$     | $12.21$                                 | $1.11 \\cdot 10^{-16}$       | Принимаем $H_0$                   | -                    |"
   ]
  },
  {
   "cell_type": "code",
   "execution_count": 46,
   "metadata": {},
   "outputs": [
    {
     "data": {
      "text/plain": "299.02393115190125"
     },
     "execution_count": 46,
     "metadata": {},
     "output_type": "execute_result"
    }
   ],
   "source": [
    "Xs = np.random.chisquare(5, 300 * 100000).reshape((300, 100000,))\n",
    "stds = np.var(Xs, axis=0, ddof=1)\n",
    "chi_sq = (300 - 1) * stds / 10\n",
    "np.mean(chi_sq)"
   ]
  },
  {
   "cell_type": "code",
   "execution_count": 49,
   "outputs": [
    {
     "data": {
      "text/plain": "0"
     },
     "execution_count": 49,
     "metadata": {},
     "output_type": "execute_result"
    }
   ],
   "source": [
    "(600 - 2 + 59) * 2"
   ],
   "metadata": {
    "collapsed": false
   }
  },
  {
   "cell_type": "code",
   "execution_count": 47,
   "metadata": {},
   "outputs": [
    {
     "data": {
      "text/plain": "1314.1047485622719"
     },
     "execution_count": 47,
     "metadata": {},
     "output_type": "execute_result"
    }
   ],
   "source": [
    "np.var(chi_sq, ddof=1)"
   ]
  },
  {
   "cell_type": "code",
   "execution_count": 42,
   "metadata": {},
   "outputs": [
    {
     "data": {
      "text/plain": "36.278487441064684"
     },
     "execution_count": 42,
     "metadata": {},
     "output_type": "execute_result"
    }
   ],
   "source": [
    "np.std(chi_sq, ddof=1)"
   ]
  },
  {
   "cell_type": "code",
   "execution_count": 72,
   "metadata": {},
   "outputs": [
    {
     "data": {
      "text/plain": "array([0.30332937, 0.86890413, 0.57912498, ..., 0.9770519 , 0.02077052,\n       0.20922541])"
     },
     "execution_count": 72,
     "metadata": {},
     "output_type": "execute_result"
    }
   ],
   "source": [
    "p_values = stats.distributions.gamma.cdf(chi_sq, 68, scale = 4.4)\n",
    "p_values"
   ]
  },
  {
   "cell_type": "code",
   "execution_count": 62,
   "metadata": {},
   "outputs": [
    {
     "data": {
      "text/plain": "0.49695709944940186"
     },
     "execution_count": 62,
     "metadata": {},
     "output_type": "execute_result"
    }
   ],
   "source": [
    "np.mean(p_values)\n"
   ]
  },
  {
   "cell_type": "code",
   "execution_count": 63,
   "metadata": {},
   "outputs": [
    {
     "data": {
      "text/plain": "0.08251997739160959"
     },
     "execution_count": 63,
     "metadata": {},
     "output_type": "execute_result"
    }
   ],
   "source": [
    "np.var(p_values, ddof=1)"
   ]
  },
  {
   "cell_type": "code",
   "execution_count": 64,
   "metadata": {},
   "outputs": [
    {
     "data": {
      "text/plain": "0.2872629063969269"
     },
     "execution_count": 64,
     "metadata": {},
     "output_type": "execute_result"
    }
   ],
   "source": [
    "np.std(p_values, ddof=1)"
   ]
  },
  {
   "cell_type": "code",
   "execution_count": 79,
   "metadata": {},
   "outputs": [
    {
     "data": {
      "text/plain": [
       "0.08333333333333333"
      ]
     },
     "execution_count": 79,
     "metadata": {},
     "output_type": "execute_result"
    }
   ],
   "source": [
    "1/12"
   ]
  },
  {
   "cell_type": "code",
   "execution_count": 80,
   "metadata": {},
   "outputs": [
    {
     "data": {
      "text/plain": [
       "0.2886751345948129"
      ]
     },
     "execution_count": 80,
     "metadata": {},
     "output_type": "execute_result"
    }
   ],
   "source": [
    "1/np.sqrt(12)"
   ]
  },
  {
   "cell_type": "markdown",
   "metadata": {},
   "source": [
    "# 4. Исследование распределений статистик критерия\n",
    "\n",
    "## Статистическая гипотеза $H_0$: $\\sigma_1 = 2$ ($m_1$ - не изв)\n",
    "\n",
    "## Формула расчёта статистики критерия $Z$: $\\chi^2=\\frac{(n-1) s^2}{\\sigma^2}$\n",
    "\n",
    "## Формула расчёта статистики $P-value$:  $f(x)= \\begin{cases}\\frac{x^{k / 2-1} e^{-x / 2}}{2^{k / 2} \\Gamma(k / 2)} & \\text { for } x \\geq 0 \\\\ 0 & \\text { otherwise }\\end{cases}$\n",
    "\n",
    "## Число серий экспериментов $N$: 1000\n",
    "\n",
    "## Теоритические характеристики:\n",
    "\n",
    "| СВ        | Распределение в условиях $H_0$ | Параметры | Математическое ожидание | Дисперсия         | С.к.о.                   |\n",
    "|-----------|--------------------------------|-----------|-------------------------|-------------------|--------------------------|\n",
    "| $Z$       | $Z \\sim \\chi^2(n-1)$           |           | $n - 1 = 99$            | $2n - 2 = 198$    | $\\sqrt{2n - 2} = 14.07$  |\n",
    "| $P-value$ | $P-value \\sim R(0, 1)$         |           | $1/2 = 0.5$             | $1/12 \\sim 0.083$ | $1/\\sqrt{12} \\sim 0.288$ |\n",
    "\n",
    "## Выборочные характеристики:\n",
    "\n",
    "| СВ        | Среднее | Параметры | Оценка дисперсии | Оценка с.к.о. |\n",
    "|-----------|---------|-----------|------------------|---------------|\n",
    "| $Z$       | $98.5$  |           | $202.0$          | $14.21$       |\n",
    "| $P-value$ | $0.49$  |           | $0.086$          | $0.293$       |"
   ]
  },
  {
   "cell_type": "code",
   "execution_count": 73,
   "metadata": {},
   "outputs": [
    {
     "data": {
      "text/plain": "<Figure size 640x480 with 1 Axes>",
      "image/png": "[encoded data removed]"
     },
     "metadata": {},
     "output_type": "display_data"
    }
   ],
   "source": [
    "x = np.linspace(150, 550, 10000)\n",
    "y = stats.distributions.gamma.pdf(x, 68, scale = 4.39465)\n",
    "plt.plot(x, y)\n",
    "counts, bins = np.histogram(chi_sq, bins=50)\n",
    "plt.stairs(counts * 50 / (1000000 * (bins[-1] - bins[0])), bins)\n",
    "plt.show()"
   ]
  },
  {
   "cell_type": "code",
   "execution_count": 74,
   "metadata": {},
   "outputs": [
    {
     "data": {
      "text/plain": "<Figure size 640x480 with 1 Axes>",
      "image/png": "[encoded data removed]"
     },
     "metadata": {},
     "output_type": "display_data"
    }
   ],
   "source": [
    "x = np.linspace(-1, 2, 10000)\n",
    "y = stats.distributions.uniform.pdf(x, 0, 1)\n",
    "plt.plot(x, y)\n",
    "counts, bins = np.histogram(p_values, bins=50)\n",
    "plt.stairs(counts * 50 / (1000000 * (bins[-1] - bins[0])), bins)\n",
    "plt.show()"
   ]
  }
 ],
 "metadata": {
  "kernelspec": {
   "display_name": "Python 3 (ipykernel)",
   "language": "python",
   "name": "python3"
  },
  "language_info": {
   "codemirror_mode": {
    "name": "ipython",
    "version": 3
   },
   "file_extension": ".py",
   "mimetype": "text/x-python",
   "name": "python",
   "nbconvert_exporter": "python",
   "pygments_lexer": "ipython3",
   "version": "3.9.13"
  }
 },
 "nbformat": 4,
 "nbformat_minor": 1
}
