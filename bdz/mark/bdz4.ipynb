{
 "cells": [
  {
   "cell_type": "code",
   "execution_count": 62,
   "metadata": {
    "collapsed": true
   },
   "outputs": [],
   "source": [
    "import numpy as np  # библиотека для матриц и математики\n",
    "import pandas as pd  # библиотека для работы с табличками\n",
    "from scipy import stats  # модуль для работы со статистикой\n",
    "\n",
    "import xlrd\n",
    "import math\n",
    "import scipy.stats as st\n",
    "from statsmodels.stats.weightstats import ztest\n",
    "\n",
    "# библиотеки для визуализации\n",
    "import matplotlib.pyplot as plt\n",
    "import seaborn as sns\n",
    "\n",
    "import math\n",
    "\n",
    "plt.style.use('ggplot')  # стиль графиков\n",
    "%matplotlib inline"
   ]
  },
  {
   "cell_type": "code",
   "execution_count": 63,
   "outputs": [
    {
     "data": {
      "text/plain": "     C1      C2      C3        C4         C5      C6     C7    C8    C9  \\\n0    64  Female  Former  21.48380      Often  1298.8   57.0   6.3   0.0   \n1    76  Female   Never  23.87631      Often  1032.5   50.1  15.8   0.0   \n2    38  Female  Former  20.01080  Not often  2372.3   83.6  19.1  14.1   \n3    40  Female  Former  25.14062         No  2449.5   97.5  26.5   0.5   \n4    72  Female   Never  20.98504      Often  1952.1   82.6  16.2   0.0   \n..   ..     ...     ...       ...        ...     ...    ...   ...   ...   \n310  46  Female  Former  25.89669         No  2263.6   98.2  19.4   2.6   \n311  45  Female   Never  23.82703      Often  1841.1   84.2  14.1   2.2   \n312  49  Female   Never  24.26126      Often  1125.6   44.8  11.9   4.0   \n313  31  Female  Former  23.45255      Often  2729.6  144.4  13.2   2.2   \n314  45  Female   Never  26.50808      Often  1627.0   77.4   9.9   0.2   \n\n       C10   C11   C12  C13  C14  \n0    170.3  1945   890  200  915  \n1     75.8  2653   451  124  727  \n2    257.9  6321   660  328  721  \n3    332.6  1061   864  153  615  \n4    170.8  2863  1209   92  799  \n..     ...   ...   ...  ...  ...  \n310  306.5  2572  1261  164  216  \n311  257.7  1665   465   80  328  \n312  150.5  6943   520  300  502  \n313  381.8   741   644  121  684  \n314  195.6  1242   554  233  826  \n\n[315 rows x 14 columns]",
      "text/html": "<div>\n<style scoped>\n    .dataframe tbody tr th:only-of-type {\n        vertical-align: middle;\n    }\n\n    .dataframe tbody tr th {\n        vertical-align: top;\n    }\n\n    .dataframe thead th {\n        text-align: right;\n    }\n</style>\n<table border=\"1\" class=\"dataframe\">\n  <thead>\n    <tr style=\"text-align: right;\">\n      <th></th>\n      <th>C1</th>\n      <th>C2</th>\n      <th>C3</th>\n      <th>C4</th>\n      <th>C5</th>\n      <th>C6</th>\n      <th>C7</th>\n      <th>C8</th>\n      <th>C9</th>\n      <th>C10</th>\n      <th>C11</th>\n      <th>C12</th>\n      <th>C13</th>\n      <th>C14</th>\n    </tr>\n  </thead>\n  <tbody>\n    <tr>\n      <th>0</th>\n      <td>64</td>\n      <td>Female</td>\n      <td>Former</td>\n      <td>21.48380</td>\n      <td>Often</td>\n      <td>1298.8</td>\n      <td>57.0</td>\n      <td>6.3</td>\n      <td>0.0</td>\n      <td>170.3</td>\n      <td>1945</td>\n      <td>890</td>\n      <td>200</td>\n      <td>915</td>\n    </tr>\n    <tr>\n      <th>1</th>\n      <td>76</td>\n      <td>Female</td>\n      <td>Never</td>\n      <td>23.87631</td>\n      <td>Often</td>\n      <td>1032.5</td>\n      <td>50.1</td>\n      <td>15.8</td>\n      <td>0.0</td>\n      <td>75.8</td>\n      <td>2653</td>\n      <td>451</td>\n      <td>124</td>\n      <td>727</td>\n    </tr>\n    <tr>\n      <th>2</th>\n      <td>38</td>\n      <td>Female</td>\n      <td>Former</td>\n      <td>20.01080</td>\n      <td>Not often</td>\n      <td>2372.3</td>\n      <td>83.6</td>\n      <td>19.1</td>\n      <td>14.1</td>\n      <td>257.9</td>\n      <td>6321</td>\n      <td>660</td>\n      <td>328</td>\n      <td>721</td>\n    </tr>\n    <tr>\n      <th>3</th>\n      <td>40</td>\n      <td>Female</td>\n      <td>Former</td>\n      <td>25.14062</td>\n      <td>No</td>\n      <td>2449.5</td>\n      <td>97.5</td>\n      <td>26.5</td>\n      <td>0.5</td>\n      <td>332.6</td>\n      <td>1061</td>\n      <td>864</td>\n      <td>153</td>\n      <td>615</td>\n    </tr>\n    <tr>\n      <th>4</th>\n      <td>72</td>\n      <td>Female</td>\n      <td>Never</td>\n      <td>20.98504</td>\n      <td>Often</td>\n      <td>1952.1</td>\n      <td>82.6</td>\n      <td>16.2</td>\n      <td>0.0</td>\n      <td>170.8</td>\n      <td>2863</td>\n      <td>1209</td>\n      <td>92</td>\n      <td>799</td>\n    </tr>\n    <tr>\n      <th>...</th>\n      <td>...</td>\n      <td>...</td>\n      <td>...</td>\n      <td>...</td>\n      <td>...</td>\n      <td>...</td>\n      <td>...</td>\n      <td>...</td>\n      <td>...</td>\n      <td>...</td>\n      <td>...</td>\n      <td>...</td>\n      <td>...</td>\n      <td>...</td>\n    </tr>\n    <tr>\n      <th>310</th>\n      <td>46</td>\n      <td>Female</td>\n      <td>Former</td>\n      <td>25.89669</td>\n      <td>No</td>\n      <td>2263.6</td>\n      <td>98.2</td>\n      <td>19.4</td>\n      <td>2.6</td>\n      <td>306.5</td>\n      <td>2572</td>\n      <td>1261</td>\n      <td>164</td>\n      <td>216</td>\n    </tr>\n    <tr>\n      <th>311</th>\n      <td>45</td>\n      <td>Female</td>\n      <td>Never</td>\n      <td>23.82703</td>\n      <td>Often</td>\n      <td>1841.1</td>\n      <td>84.2</td>\n      <td>14.1</td>\n      <td>2.2</td>\n      <td>257.7</td>\n      <td>1665</td>\n      <td>465</td>\n      <td>80</td>\n      <td>328</td>\n    </tr>\n    <tr>\n      <th>312</th>\n      <td>49</td>\n      <td>Female</td>\n      <td>Never</td>\n      <td>24.26126</td>\n      <td>Often</td>\n      <td>1125.6</td>\n      <td>44.8</td>\n      <td>11.9</td>\n      <td>4.0</td>\n      <td>150.5</td>\n      <td>6943</td>\n      <td>520</td>\n      <td>300</td>\n      <td>502</td>\n    </tr>\n    <tr>\n      <th>313</th>\n      <td>31</td>\n      <td>Female</td>\n      <td>Former</td>\n      <td>23.45255</td>\n      <td>Often</td>\n      <td>2729.6</td>\n      <td>144.4</td>\n      <td>13.2</td>\n      <td>2.2</td>\n      <td>381.8</td>\n      <td>741</td>\n      <td>644</td>\n      <td>121</td>\n      <td>684</td>\n    </tr>\n    <tr>\n      <th>314</th>\n      <td>45</td>\n      <td>Female</td>\n      <td>Never</td>\n      <td>26.50808</td>\n      <td>Often</td>\n      <td>1627.0</td>\n      <td>77.4</td>\n      <td>9.9</td>\n      <td>0.2</td>\n      <td>195.6</td>\n      <td>1242</td>\n      <td>554</td>\n      <td>233</td>\n      <td>826</td>\n    </tr>\n  </tbody>\n</table>\n<p>315 rows × 14 columns</p>\n</div>"
     },
     "execution_count": 63,
     "metadata": {},
     "output_type": "execute_result"
    }
   ],
   "source": [
    "xls = pd.ExcelFile(r'./../table.xls')\n",
    "df = xls.parse(3)\n",
    "df"
   ],
   "metadata": {
    "collapsed": false
   }
  },
  {
   "cell_type": "code",
   "execution_count": 64,
   "outputs": [
    {
     "data": {
      "text/plain": "(9, 22.555555555555557, 0.0, 203.0)"
     },
     "execution_count": 64,
     "metadata": {},
     "output_type": "execute_result"
    }
   ],
   "source": [
    "n = len(df.C9)\n",
    "X = df.C9.to_numpy()\n",
    "\n",
    "bins_number = int(1 + 3.322 * np.log10(len(X)))\n",
    "h = (max(X) - min(X)) / bins_number  #ширина\n",
    "bins_number, h, min(X), max(X)"
   ],
   "metadata": {
    "collapsed": false
   }
  },
  {
   "cell_type": "code",
   "execution_count": 65,
   "outputs": [
    {
     "data": {
      "text/plain": "(3.2793650793650793, 151.8533626529168, 12.322879641257428)"
     },
     "execution_count": 65,
     "metadata": {},
     "output_type": "execute_result"
    }
   ],
   "source": [
    "m = np.mean(X)\n",
    "d = np.var(X, ddof=1)\n",
    "s = np.std(X, ddof=1)\n",
    "m, d, s"
   ],
   "metadata": {
    "collapsed": false
   }
  },
  {
   "cell_type": "code",
   "execution_count": 66,
   "outputs": [
    {
     "data": {
      "text/plain": "array([  0.        ,  22.55555556,  45.11111111,  67.66666667,\n        90.22222222, 112.77777778, 135.33333333, 157.88888889,\n       180.44444444, 203.        ])"
     },
     "execution_count": 66,
     "metadata": {},
     "output_type": "execute_result"
    }
   ],
   "source": [
    "hist, bin_edges = np.histogram(X, bins=bins_number)\n",
    "bin_edges"
   ],
   "metadata": {
    "collapsed": false
   }
  },
  {
   "cell_type": "code",
   "execution_count": 67,
   "outputs": [
    {
     "name": "stdout",
     "output_type": "stream",
     "text": [
      "312 0.99\n",
      "2 0.006\n",
      "0 0.0\n",
      "0 0.0\n",
      "0 0.0\n",
      "0 0.0\n",
      "0 0.0\n",
      "0 0.0\n",
      "1 0.003\n"
     ]
    },
    {
     "data": {
      "text/plain": "array([  0.        ,  22.55555556,  45.11111111,  67.66666667,\n        90.22222222, 112.77777778, 135.33333333, 157.88888889,\n       180.44444444, 203.        ])"
     },
     "execution_count": 67,
     "metadata": {},
     "output_type": "execute_result"
    }
   ],
   "source": [
    "freq, division = np.histogram(X, bins=bins_number)\n",
    "for i in range(len(freq)):\n",
    "    print(freq[i], round(freq[i] / len(X), 3))\n",
    "division\n"
   ],
   "metadata": {
    "collapsed": false
   }
  },
  {
   "cell_type": "code",
   "execution_count": 68,
   "outputs": [],
   "source": [
    "table = {\"Номер интервала\": list(range(1, bins_number + 1)), \"Нижняя граница\": division[:-1], \"Верхняя граница\": division[1:],\n",
    "         \"Частота\": freq, \"Относит. частота\": freq / len(X),\n",
    "         \"Вероятность попадания в интервал\":\n",
    "         stats.norm(loc=m, scale=s).cdf(division[1:]) - stats.norm(loc=m, scale=s).cdf(division[:-1])}"
   ],
   "metadata": {
    "collapsed": false
   }
  },
  {
   "cell_type": "code",
   "execution_count": 69,
   "outputs": [
    {
     "data": {
      "text/plain": "array([5.46048380e-01, 5.85346406e-02, 3.43506810e-04, 8.70669389e-08,\n       8.60533866e-13, 0.00000000e+00, 0.00000000e+00, 0.00000000e+00,\n       0.00000000e+00])"
     },
     "execution_count": 69,
     "metadata": {},
     "output_type": "execute_result"
    }
   ],
   "source": [
    "stats.norm(loc=m, scale=s).cdf(division[1:]) - stats.norm(loc=m, scale=s).cdf(division[:-1])"
   ],
   "metadata": {
    "collapsed": false
   }
  },
  {
   "cell_type": "code",
   "execution_count": 70,
   "outputs": [
    {
     "data": {
      "text/plain": "   Номер интервала  Нижняя граница  Верхняя граница  Частота  \\\n0                1        0.000000        22.555556      312   \n1                2       22.555556        45.111111        2   \n2                3       45.111111        67.666667        0   \n3                4       67.666667        90.222222        0   \n4                5       90.222222       112.777778        0   \n5                6      112.777778       135.333333        0   \n6                7      135.333333       157.888889        0   \n7                8      157.888889       180.444444        0   \n8                9      180.444444       203.000000        1   \n\n   Относит. частота  Вероятность попадания в интервал  \n0          0.990476                      5.460484e-01  \n1          0.006349                      5.853464e-02  \n2          0.000000                      3.435068e-04  \n3          0.000000                      8.706694e-08  \n4          0.000000                      8.605339e-13  \n5          0.000000                      0.000000e+00  \n6          0.000000                      0.000000e+00  \n7          0.000000                      0.000000e+00  \n8          0.003175                      0.000000e+00  ",
      "text/html": "<div>\n<style scoped>\n    .dataframe tbody tr th:only-of-type {\n        vertical-align: middle;\n    }\n\n    .dataframe tbody tr th {\n        vertical-align: top;\n    }\n\n    .dataframe thead th {\n        text-align: right;\n    }\n</style>\n<table border=\"1\" class=\"dataframe\">\n  <thead>\n    <tr style=\"text-align: right;\">\n      <th></th>\n      <th>Номер интервала</th>\n      <th>Нижняя граница</th>\n      <th>Верхняя граница</th>\n      <th>Частота</th>\n      <th>Относит. частота</th>\n      <th>Вероятность попадания в интервал</th>\n    </tr>\n  </thead>\n  <tbody>\n    <tr>\n      <th>0</th>\n      <td>1</td>\n      <td>0.000000</td>\n      <td>22.555556</td>\n      <td>312</td>\n      <td>0.990476</td>\n      <td>5.460484e-01</td>\n    </tr>\n    <tr>\n      <th>1</th>\n      <td>2</td>\n      <td>22.555556</td>\n      <td>45.111111</td>\n      <td>2</td>\n      <td>0.006349</td>\n      <td>5.853464e-02</td>\n    </tr>\n    <tr>\n      <th>2</th>\n      <td>3</td>\n      <td>45.111111</td>\n      <td>67.666667</td>\n      <td>0</td>\n      <td>0.000000</td>\n      <td>3.435068e-04</td>\n    </tr>\n    <tr>\n      <th>3</th>\n      <td>4</td>\n      <td>67.666667</td>\n      <td>90.222222</td>\n      <td>0</td>\n      <td>0.000000</td>\n      <td>8.706694e-08</td>\n    </tr>\n    <tr>\n      <th>4</th>\n      <td>5</td>\n      <td>90.222222</td>\n      <td>112.777778</td>\n      <td>0</td>\n      <td>0.000000</td>\n      <td>8.605339e-13</td>\n    </tr>\n    <tr>\n      <th>5</th>\n      <td>6</td>\n      <td>112.777778</td>\n      <td>135.333333</td>\n      <td>0</td>\n      <td>0.000000</td>\n      <td>0.000000e+00</td>\n    </tr>\n    <tr>\n      <th>6</th>\n      <td>7</td>\n      <td>135.333333</td>\n      <td>157.888889</td>\n      <td>0</td>\n      <td>0.000000</td>\n      <td>0.000000e+00</td>\n    </tr>\n    <tr>\n      <th>7</th>\n      <td>8</td>\n      <td>157.888889</td>\n      <td>180.444444</td>\n      <td>0</td>\n      <td>0.000000</td>\n      <td>0.000000e+00</td>\n    </tr>\n    <tr>\n      <th>8</th>\n      <td>9</td>\n      <td>180.444444</td>\n      <td>203.000000</td>\n      <td>1</td>\n      <td>0.003175</td>\n      <td>0.000000e+00</td>\n    </tr>\n  </tbody>\n</table>\n</div>"
     },
     "execution_count": 70,
     "metadata": {},
     "output_type": "execute_result"
    }
   ],
   "source": [
    "table = pd.DataFrame(table)\n",
    "table"
   ],
   "metadata": {
    "collapsed": false
   }
  },
  {
   "cell_type": "code",
   "execution_count": 71,
   "outputs": [
    {
     "data": {
      "text/plain": "<Figure size 640x480 with 1 Axes>",
      "image/png": "[encoded data removed]"
     },
     "metadata": {},
     "output_type": "display_data"
    }
   ],
   "source": [
    "x = np.linspace(min(X) - 1, max(X) * 1.1, 10000)\n",
    "norm_rv = st.norm(loc=m, scale=s)\n",
    "pdf = norm_rv.pdf(x)\n",
    "\n",
    "# плотность\n",
    "plt.plot(x, pdf, lw=3)\n",
    "\n",
    "plt.hist(X, bins=bins_number, density=True)\n",
    "plt.show()"
   ],
   "metadata": {
    "collapsed": false
   }
  },
  {
   "cell_type": "code",
   "execution_count": 75,
   "outputs": [],
   "source": [
    "def chisquare_normal(dist, m, d, bins, ddof=2):\n",
    "    counts, bins1 = np.histogram(dist, bins=bins)\n",
    "    normal = (stats.norm.cdf(bins1[1:], m, d) - stats.norm.cdf(bins1[:-1], m, d)) * dist.shape[0] + np.finfo(float).eps\n",
    "    Z = np.sum((counts - normal) ** 2 / normal)\n",
    "    return Z, 1 - stats.chi2.cdf(Z, bins - ddof - 1)"
   ],
   "metadata": {
    "collapsed": false
   }
  },
  {
   "cell_type": "code",
   "execution_count": 76,
   "outputs": [
    {
     "data": {
      "text/plain": "(4503599627370623.0, 0.0)"
     },
     "execution_count": 76,
     "metadata": {},
     "output_type": "execute_result"
    }
   ],
   "source": [
    "chisquare_normal(X, m, s, bins_number)"
   ],
   "metadata": {
    "collapsed": false
   }
  },
  {
   "cell_type": "markdown",
   "source": [
    "### $Z = n\\left(\\frac{\\gamma^2}{6}+\\frac{\\epsilon^2}{24}\\right)$\n",
    "### $\\gamma=\\frac{\\hat{\\mu}_3}{\\hat{\\sigma}^3}=\\frac{\\frac{1}{n} \\sum_{i=1}^n\\left(x_i-\\bar{x}\\right)^3}{\\left(\\frac{1}{n} \\sum_{i=1}^n\\left(x_i-\\bar{x}\\right)^2\\right)^{3 / 2}}$\n",
    "### $\\epsilon=\\frac{\\hat{\\mu}_4}{\\hat{\\sigma}^4} - 3=\\frac{\\frac{1}{n} \\sum_{i=1}^n\\left(x_i-\\bar{x}\\right)^4}{\\left(\\frac{1}{n} \\sum_{i=1}^n\\left(x_i-\\bar{x}\\right)^2\\right)^2} - 3$\n",
    "$\\gamma - коэффициент асимметрии $\n",
    "$\\epsilon -коэффициент  эксцесса$\n",
    " $μ ̂_3$ третий центральный момент\n",
    " $μ ̂_4$ четвертый центральный момент\n",
    " n - число наблюдений\n"
   ],
   "metadata": {
    "collapsed": false
   }
  },
  {
   "cell_type": "code",
   "execution_count": 74,
   "outputs": [
    {
     "data": {
      "text/plain": "Jarque_beraResult(statistic=632630.7365664302, pvalue=0.0)"
     },
     "execution_count": 74,
     "metadata": {},
     "output_type": "execute_result"
    }
   ],
   "source": [
    "stats.jarque_bera(X)"
   ],
   "metadata": {
    "collapsed": false
   }
  },
  {
   "cell_type": "code",
   "execution_count": 77,
   "outputs": [
    {
     "data": {
      "text/plain": "1.0"
     },
     "execution_count": 77,
     "metadata": {},
     "output_type": "execute_result"
    }
   ],
   "source": [],
   "metadata": {
    "collapsed": false
   }
  }
 ],
 "metadata": {
  "kernelspec": {
   "display_name": "Python 3",
   "language": "python",
   "name": "python3"
  },
  "language_info": {
   "codemirror_mode": {
    "name": "ipython",
    "version": 2
   },
   "file_extension": ".py",
   "mimetype": "text/x-python",
   "name": "python",
   "nbconvert_exporter": "python",
   "pygments_lexer": "ipython2",
   "version": "2.7.6"
  }
 },
 "nbformat": 4,
 "nbformat_minor": 0
}
