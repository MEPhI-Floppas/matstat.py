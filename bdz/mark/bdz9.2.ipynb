{
 "cells": [
  {
   "cell_type": "code",
   "execution_count": 2,
   "metadata": {
    "collapsed": true
   },
   "outputs": [],
   "source": [
    "import numpy as np\n",
    "import pandas as pd\n",
    "from scipy import stats as st\n",
    "from sklearn.linear_model import LinearRegression\n",
    "import scipy\n",
    "\n",
    "# библиотеки для визуализации\n",
    "import matplotlib.pyplot as plt\n",
    "import seaborn as sb\n",
    "\n",
    "import math\n",
    "\n",
    "plt.style.use('ggplot')  # стиль графиков\n",
    "\n",
    "%matplotlib inline"
   ]
  },
  {
   "cell_type": "code",
   "execution_count": 3,
   "outputs": [
    {
     "data": {
      "text/plain": "     C1      C2      C3        C4         C5      C6     C7    C8    C9  \\\n0    64  Female  Former  21.48380      Often  1298.8   57.0   6.3   0.0   \n1    76  Female   Never  23.87631      Often  1032.5   50.1  15.8   0.0   \n2    38  Female  Former  20.01080  Not often  2372.3   83.6  19.1  14.1   \n3    40  Female  Former  25.14062         No  2449.5   97.5  26.5   0.5   \n4    72  Female   Never  20.98504      Often  1952.1   82.6  16.2   0.0   \n..   ..     ...     ...       ...        ...     ...    ...   ...   ...   \n310  46  Female  Former  25.89669         No  2263.6   98.2  19.4   2.6   \n311  45  Female   Never  23.82703      Often  1841.1   84.2  14.1   2.2   \n312  49  Female   Never  24.26126      Often  1125.6   44.8  11.9   4.0   \n313  31  Female  Former  23.45255      Often  2729.6  144.4  13.2   2.2   \n314  45  Female   Never  26.50808      Often  1627.0   77.4   9.9   0.2   \n\n       C10   C11   C12  C13  C14  \n0    170.3  1945   890  200  915  \n1     75.8  2653   451  124  727  \n2    257.9  6321   660  328  721  \n3    332.6  1061   864  153  615  \n4    170.8  2863  1209   92  799  \n..     ...   ...   ...  ...  ...  \n310  306.5  2572  1261  164  216  \n311  257.7  1665   465   80  328  \n312  150.5  6943   520  300  502  \n313  381.8   741   644  121  684  \n314  195.6  1242   554  233  826  \n\n[315 rows x 14 columns]",
      "text/html": "<div>\n<style scoped>\n    .dataframe tbody tr th:only-of-type {\n        vertical-align: middle;\n    }\n\n    .dataframe tbody tr th {\n        vertical-align: top;\n    }\n\n    .dataframe thead th {\n        text-align: right;\n    }\n</style>\n<table border=\"1\" class=\"dataframe\">\n  <thead>\n    <tr style=\"text-align: right;\">\n      <th></th>\n      <th>C1</th>\n      <th>C2</th>\n      <th>C3</th>\n      <th>C4</th>\n      <th>C5</th>\n      <th>C6</th>\n      <th>C7</th>\n      <th>C8</th>\n      <th>C9</th>\n      <th>C10</th>\n      <th>C11</th>\n      <th>C12</th>\n      <th>C13</th>\n      <th>C14</th>\n    </tr>\n  </thead>\n  <tbody>\n    <tr>\n      <th>0</th>\n      <td>64</td>\n      <td>Female</td>\n      <td>Former</td>\n      <td>21.48380</td>\n      <td>Often</td>\n      <td>1298.8</td>\n      <td>57.0</td>\n      <td>6.3</td>\n      <td>0.0</td>\n      <td>170.3</td>\n      <td>1945</td>\n      <td>890</td>\n      <td>200</td>\n      <td>915</td>\n    </tr>\n    <tr>\n      <th>1</th>\n      <td>76</td>\n      <td>Female</td>\n      <td>Never</td>\n      <td>23.87631</td>\n      <td>Often</td>\n      <td>1032.5</td>\n      <td>50.1</td>\n      <td>15.8</td>\n      <td>0.0</td>\n      <td>75.8</td>\n      <td>2653</td>\n      <td>451</td>\n      <td>124</td>\n      <td>727</td>\n    </tr>\n    <tr>\n      <th>2</th>\n      <td>38</td>\n      <td>Female</td>\n      <td>Former</td>\n      <td>20.01080</td>\n      <td>Not often</td>\n      <td>2372.3</td>\n      <td>83.6</td>\n      <td>19.1</td>\n      <td>14.1</td>\n      <td>257.9</td>\n      <td>6321</td>\n      <td>660</td>\n      <td>328</td>\n      <td>721</td>\n    </tr>\n    <tr>\n      <th>3</th>\n      <td>40</td>\n      <td>Female</td>\n      <td>Former</td>\n      <td>25.14062</td>\n      <td>No</td>\n      <td>2449.5</td>\n      <td>97.5</td>\n      <td>26.5</td>\n      <td>0.5</td>\n      <td>332.6</td>\n      <td>1061</td>\n      <td>864</td>\n      <td>153</td>\n      <td>615</td>\n    </tr>\n    <tr>\n      <th>4</th>\n      <td>72</td>\n      <td>Female</td>\n      <td>Never</td>\n      <td>20.98504</td>\n      <td>Often</td>\n      <td>1952.1</td>\n      <td>82.6</td>\n      <td>16.2</td>\n      <td>0.0</td>\n      <td>170.8</td>\n      <td>2863</td>\n      <td>1209</td>\n      <td>92</td>\n      <td>799</td>\n    </tr>\n    <tr>\n      <th>...</th>\n      <td>...</td>\n      <td>...</td>\n      <td>...</td>\n      <td>...</td>\n      <td>...</td>\n      <td>...</td>\n      <td>...</td>\n      <td>...</td>\n      <td>...</td>\n      <td>...</td>\n      <td>...</td>\n      <td>...</td>\n      <td>...</td>\n      <td>...</td>\n    </tr>\n    <tr>\n      <th>310</th>\n      <td>46</td>\n      <td>Female</td>\n      <td>Former</td>\n      <td>25.89669</td>\n      <td>No</td>\n      <td>2263.6</td>\n      <td>98.2</td>\n      <td>19.4</td>\n      <td>2.6</td>\n      <td>306.5</td>\n      <td>2572</td>\n      <td>1261</td>\n      <td>164</td>\n      <td>216</td>\n    </tr>\n    <tr>\n      <th>311</th>\n      <td>45</td>\n      <td>Female</td>\n      <td>Never</td>\n      <td>23.82703</td>\n      <td>Often</td>\n      <td>1841.1</td>\n      <td>84.2</td>\n      <td>14.1</td>\n      <td>2.2</td>\n      <td>257.7</td>\n      <td>1665</td>\n      <td>465</td>\n      <td>80</td>\n      <td>328</td>\n    </tr>\n    <tr>\n      <th>312</th>\n      <td>49</td>\n      <td>Female</td>\n      <td>Never</td>\n      <td>24.26126</td>\n      <td>Often</td>\n      <td>1125.6</td>\n      <td>44.8</td>\n      <td>11.9</td>\n      <td>4.0</td>\n      <td>150.5</td>\n      <td>6943</td>\n      <td>520</td>\n      <td>300</td>\n      <td>502</td>\n    </tr>\n    <tr>\n      <th>313</th>\n      <td>31</td>\n      <td>Female</td>\n      <td>Former</td>\n      <td>23.45255</td>\n      <td>Often</td>\n      <td>2729.6</td>\n      <td>144.4</td>\n      <td>13.2</td>\n      <td>2.2</td>\n      <td>381.8</td>\n      <td>741</td>\n      <td>644</td>\n      <td>121</td>\n      <td>684</td>\n    </tr>\n    <tr>\n      <th>314</th>\n      <td>45</td>\n      <td>Female</td>\n      <td>Never</td>\n      <td>26.50808</td>\n      <td>Often</td>\n      <td>1627.0</td>\n      <td>77.4</td>\n      <td>9.9</td>\n      <td>0.2</td>\n      <td>195.6</td>\n      <td>1242</td>\n      <td>554</td>\n      <td>233</td>\n      <td>826</td>\n    </tr>\n  </tbody>\n</table>\n<p>315 rows × 14 columns</p>\n</div>"
     },
     "execution_count": 3,
     "metadata": {},
     "output_type": "execute_result"
    }
   ],
   "source": [
    "xls = pd.ExcelFile(r'./../table.xls')\n",
    "df = xls.parse(3)\n",
    "df"
   ],
   "metadata": {
    "collapsed": false
   }
  },
  {
   "cell_type": "markdown",
   "source": [
    "# 9.2.1"
   ],
   "metadata": {
    "collapsed": false
   }
  },
  {
   "cell_type": "code",
   "execution_count": 4,
   "outputs": [],
   "source": [
    "X = df.C11.to_numpy()\n",
    "Y = df.C13.to_numpy()"
   ],
   "metadata": {
    "collapsed": false
   }
  },
  {
   "cell_type": "code",
   "execution_count": 5,
   "outputs": [
    {
     "data": {
      "text/plain": "array([1945, 2653, 6321, 1061, 2863, 1729, 5371,  823, 2895, 3307, 1714,\n       2031, 1982, 2120, 1388, 3888, 2194, 3470, 2108, 1157, 1739, 1008,\n        606, 1380, 4916, 4451, 5983, 2413, 3087,  521, 2431, 3141, 1668,\n       4366,  494, 7026, 1529,  241,  998, 6082, 2741, 2100, 2359,  603,\n       1625, 2888, 1099, 2103, 2260,  452, 3549, 2204, 4964, 1052, 3572,\n       2902, 1788, 5111, 1378, 1431, 1727, 2893, 2524, 2533,  982, 1535,\n        326, 1487, 1114, 1080, 2492, 1349, 6948, 1086, 2629, 1307, 1306,\n       3465, 1846, 1334, 4848, 1734, 1120, 1498,  330, 5909, 3326, 2110,\n       2719, 2309, 1153, 1432, 2493, 3054, 1861, 4268, 1652, 1802, 2308,\n       1210,  214, 1370, 2354, 2446, 3473, 3359, 1062, 1489, 3982, 1656,\n        768, 1496,  683,  885, 1662, 1552, 2144, 3567, 1423, 1293, 2111,\n       2874, 1699,  954, 1368, 3318, 2247,  910, 1171, 2077, 1210, 1826,\n       2628,  561, 1893, 1312, 1913,  924,  728, 4387, 1976, 2422, 1407,\n       1301, 1112, 1052, 1008, 1054, 1484,  657,  604, 2912,  869, 1578,\n       1210, 1554, 3445, 3014, 1666, 1462, 1272, 5296, 5605, 2430, 2375,\n       3753,  695, 1649, 2317, 1702, 1007, 2308, 4694, 2749, 1497, 1171,\n       3054, 1488,  829, 1037,  846, 1382, 3407,  758,  599, 1073,  862,\n       4291, 1668, 2809, 2373, 1850, 1352, 2315, 1417, 4504,  998, 4430,\n       3201, 3686, 2131,  852, 2781, 1151, 3970,  808,  843, 2537, 2205,\n        587, 3591, 3434, 2869, 2515,  807,  766,  720,  516, 3785, 1436,\n        613, 1460, 2251, 2029, 8046, 1074, 3556, 1218, 2199, 5810, 1214,\n       2215, 1678, 2579,  925,  404, 2008, 2469,  755, 1718, 2133, 1167,\n        619,  908, 3690, 3425, 2787,  675, 2142, 2299,  544,  604, 6558,\n       2661, 7362, 2583, 1028, 3435, 1527, 2047, 2897, 1987, 4271,  868,\n        578,  953, 1048, 1439, 3324,  921, 1192, 1665, 3610, 3317, 3313,\n       1270, 1915, 4013,  902, 2247, 4832,  577, 1884, 3172, 3102, 1186,\n       1237, 4098, 2889, 1097,  570, 2627,  849, 2174, 1456, 3728, 1987,\n       1022, 2079,  406,  621, 2652, 1745, 2121, 1078, 2672, 4935, 1118,\n       9642, 1392, 2572, 1665, 6943,  741, 1242], dtype=int64)"
     },
     "execution_count": 5,
     "metadata": {},
     "output_type": "execute_result"
    }
   ],
   "source": [
    "X"
   ],
   "metadata": {
    "collapsed": false
   }
  },
  {
   "cell_type": "code",
   "execution_count": 6,
   "outputs": [
    {
     "data": {
      "text/plain": "array([ 200,  124,  328,  153,   92,  148,  258,   64,  218,   81,  184,\n         91,  120,   61,  108,  211,  235,  288,  102,  113,   74,  129,\n        140,  138,  143,  416,  212,  786,   35,  122,  119,  182,  186,\n        216,  751,   39,  107,   74,  418, 1415,  400,  102,  135,   97,\n        124,  195,  107,   53,  148,   77,  316,   77,  266,   39,  225,\n        173,   79,  102,  158,  159,  157,   96,  160,  100,  293,  171,\n         89,  109,  129,   87,  328,  298,  379,  204,   75,  127,  131,\n         21,  233,   73,   25,  137,   82,  327,  142,   86,  150,   53,\n        112,  104,  170,  150,  282,   91,  125,  282,   16,  129,  180,\n         39,   54,   78,   34,   95,  174,   95,   97,  204,   25,  270,\n        285,  110,  162,  179,  131,   86,  225,  249,  254,  189,  108,\n        121,  238,  127,  141,  427,  305,   74,  156,  168,  116,  290,\n        304,  198,  253,  148,  492,  156,   27,   52,  210,   83,  182,\n         40,   69,  172,  253,  435,  429,  326,   75,  121,  292,  207,\n        118,  108,  385,  408,   97,  118,   60,  357,  858,  104,  219,\n        296,  164,  487,   70,   43,  274,  231,  346,  181,  116,  391,\n         85,  800,  286,   87,   74,  460,  154,  206,   19,  168,  108,\n        274,  120,   53,  105,  159,   83,  425,   99,  159,  111,  316,\n        105,  317,  372,  116,  229,   51,  286,  110,  143, 1212,  174,\n         86,  132,   58,   77,  237,   41,  103,  193,  153, 1391,   89,\n         84,   36,  494,   78,  102,   50,  211,  159,   89,  108,  188,\n         75,   14,  165,  143,  241,   97,   76,  169,  222,   82,  324,\n        146,  126,  293,  183,  170,  129,  129,   92,   44,   51,  103,\n        101,  372,   78,    0,   84,  161,  331,  366,  990, 1010,  236,\n        175,   67,  129,  317,  168,  613,  274,   94,  122,  232,  167,\n         32,  128,  151,  206,   75,  447,  339,   89,   39,   88,  114,\n         66,  407,  105,  140,  150,   95,   74,  202,  133,   63,   22,\n        151,  473,   58,   87,  113,  117,  155,   41,   73,  113,  100,\n        265,  144,  164,   80,  300,  121,  233], dtype=int64)"
     },
     "execution_count": 6,
     "metadata": {},
     "output_type": "execute_result"
    }
   ],
   "source": [
    "Y"
   ],
   "metadata": {
    "collapsed": false
   }
  },
  {
   "cell_type": "code",
   "execution_count": 7,
   "outputs": [
    {
     "name": "stdout",
     "output_type": "stream",
     "text": [
      "beta_0 = 117.46391459020828\n",
      "beta_1 = 0.037807235350453244\n",
      "beta_2 = -1.4697514078436883e-06\n"
     ]
    }
   ],
   "source": [
    "F = np.array([np.array([1] * len(X)), X, X ** 2])  # transposed matrix\n",
    "F1 = np.dot(F, F.transpose())\n",
    "F2 = np.dot(np.linalg.inv(F1), F)\n",
    "betas = np.dot(F2, Y)\n",
    "beta_0, beta_1, beta_2 = betas\n",
    "print(f'{beta_0 = }')\n",
    "print(f'{beta_1 = }')\n",
    "print(f'{beta_2 = }')"
   ],
   "metadata": {
    "collapsed": false
   }
  },
  {
   "cell_type": "code",
   "execution_count": 8,
   "outputs": [],
   "source": [
    "def f(x):\n",
    "    return beta_0 + beta_1 * x + beta_2 * x ** 2"
   ],
   "metadata": {
    "collapsed": false
   }
  },
  {
   "cell_type": "code",
   "execution_count": 9,
   "outputs": [
    {
     "data": {
      "text/plain": "0.05138143606158385"
     },
     "execution_count": 9,
     "metadata": {},
     "output_type": "execute_result"
    }
   ],
   "source": [
    "model = LinearRegression()\n",
    "inp = np.array([X, X ** 2]).transpose()\n",
    "model.fit(inp, Y)\n",
    "model.score(inp, Y)"
   ],
   "metadata": {
    "collapsed": false
   }
  },
  {
   "cell_type": "code",
   "execution_count": 10,
   "outputs": [
    {
     "data": {
      "text/plain": "(117.46391459020958, array([ 3.78072354e-02, -1.46975141e-06]))"
     },
     "execution_count": 10,
     "metadata": {},
     "output_type": "execute_result"
    }
   ],
   "source": [
    "model.intercept_, model.coef_"
   ],
   "metadata": {
    "collapsed": false
   }
  },
  {
   "cell_type": "code",
   "execution_count": 11,
   "outputs": [
    {
     "data": {
      "text/plain": "315"
     },
     "execution_count": 11,
     "metadata": {},
     "output_type": "execute_result"
    }
   ],
   "source": [
    "n = len(X)\n",
    "n"
   ],
   "metadata": {
    "collapsed": false
   }
  },
  {
   "cell_type": "code",
   "execution_count": 12,
   "outputs": [
    {
     "name": "stdout",
     "output_type": "stream",
     "text": [
      "Факторный признак: 1715.27\n",
      "Остаточные признаки: 31667.71\n",
      "Все признаки: 33382.98\n",
      "Проверка суммы: 33382.98\n"
     ]
    }
   ],
   "source": [
    "D_res = np.sum((Y - f(X)) ** 2) / n\n",
    "\n",
    "D_YX = np.sum((f(X) - np.mean(Y)) ** 2) / n\n",
    "\n",
    "D_Y = np.var(Y)\n",
    "\n",
    "print(f\"Факторный признак: {D_YX:.2f}\")\n",
    "print(f\"Остаточные признаки: {D_res:.2f}\")\n",
    "print(f\"Все признаки: {D_Y:.2f}\")\n",
    "print(f\"Проверка суммы: {D_YX + D_res:.2f}\")"
   ],
   "metadata": {
    "collapsed": false
   }
  },
  {
   "cell_type": "code",
   "execution_count": 13,
   "outputs": [
    {
     "data": {
      "text/plain": "(0.05138143606158417, 0.2266747362667136)"
     },
     "execution_count": 13,
     "metadata": {},
     "output_type": "execute_result"
    }
   ],
   "source": [
    "R_YX2 = D_YX / D_Y\n",
    "R_YX2, np.sqrt(R_YX2)"
   ],
   "metadata": {
    "collapsed": false
   }
  },
  {
   "cell_type": "code",
   "execution_count": 14,
   "outputs": [],
   "source": [
    "k = 3"
   ],
   "metadata": {
    "collapsed": false
   }
  },
  {
   "cell_type": "code",
   "execution_count": 15,
   "outputs": [],
   "source": [
    "D_YX1 = n * D_YX / (k - 1)\n",
    "D_Y1 = n * D_Y / (n - k)\n",
    "D_res1 = n * D_res / (n - 1)"
   ],
   "metadata": {
    "collapsed": false
   }
  },
  {
   "cell_type": "code",
   "execution_count": 25,
   "outputs": [
    {
     "data": {
      "text/plain": "(0.05138143606158417, 0.2266747362667136)"
     },
     "execution_count": 25,
     "metadata": {},
     "output_type": "execute_result"
    }
   ],
   "source": [
    "R_YX2 = D_YX / D_Y\n",
    "R_YX2, np.sqrt(R_YX2)"
   ],
   "metadata": {
    "collapsed": false
   }
  },
  {
   "cell_type": "code",
   "execution_count": 16,
   "outputs": [
    {
     "name": "stdout",
     "output_type": "stream",
     "text": [
      "Несмещенные оценки:\n",
      "Факторный признак: 270154.30\n",
      "Остаточные признаки: 31768.57\n",
      "Все признаки: 33703.97\n"
     ]
    }
   ],
   "source": [
    "print(\"Несмещенные оценки:\")\n",
    "print(f\"Факторный признак: {D_YX1:.2f}\")\n",
    "print(f\"Остаточные признаки: {D_res1:.2f}\")\n",
    "print(f\"Все признаки: {D_Y1:.2f}\")"
   ],
   "metadata": {
    "collapsed": false
   }
  },
  {
   "cell_type": "code",
   "execution_count": 26,
   "outputs": [
    {
     "name": "stdout",
     "output_type": "stream",
     "text": [
      "Коэффициент детерминации: 0.05138143606158417\n",
      "Кореляционное отношение: 0.2266747362667136\n"
     ]
    }
   ],
   "source": [
    "print(f\"Коэффициент детерминации: {R_YX2}\")\n",
    "print(f\"Кореляционное отношение: {np.sqrt(R_YX2)}\")"
   ],
   "metadata": {
    "collapsed": false
   }
  },
  {
   "cell_type": "code",
   "execution_count": 19,
   "outputs": [],
   "source": [
    "t = st.t(n - k)\n",
    "quantile = t.ppf(1 - (0.1 / 2))\n",
    "\n",
    "F1 = np.dot(F, F.transpose())\n",
    "F1 = np.linalg.inv(F1)\n",
    "\n",
    "\n",
    "def phi(x):\n",
    "    return np.array([1, x, x ** 2], dtype='object')\n",
    "    # return np.concatenate([np.array([1] * len(x)), x, x ** 2]).reshape((3, len(x)))\n",
    "\n",
    "\n",
    "def f_lower(x):\n",
    "    return f(x) - quantile * np.sqrt(D_Y1 * phi(x).transpose() @ F1 @ phi(x))\n",
    "\n",
    "\n",
    "def f_higher(x):\n",
    "    return f(x) + quantile * np.sqrt(D_Y1 * phi(x).transpose() @ F1 @ phi(x))"
   ],
   "metadata": {
    "collapsed": false
   }
  },
  {
   "cell_type": "code",
   "execution_count": 20,
   "outputs": [
    {
     "data": {
      "text/plain": "[<matplotlib.lines.Line2D at 0x219ea0391c0>]"
     },
     "execution_count": 20,
     "metadata": {},
     "output_type": "execute_result"
    },
    {
     "data": {
      "text/plain": "<Figure size 640x480 with 1 Axes>",
      "image/png": "[encoded data removed]"
     },
     "metadata": {},
     "output_type": "display_data"
    }
   ],
   "source": [
    "x1 = np.linspace(min(X), max(X), 10000)\n",
    "plt.scatter(X, Y, color='blue')\n",
    "plt.plot(x1, f(x1), color='black')\n",
    "plt.plot(x1, f_lower(x1), color='red')\n",
    "plt.plot(x1, f_higher(x1), color='red')"
   ],
   "metadata": {
    "collapsed": false
   }
  },
  {
   "cell_type": "code",
   "execution_count": 21,
   "outputs": [
    {
     "data": {
      "text/plain": "[<matplotlib.lines.Line2D at 0x219ea078970>]"
     },
     "execution_count": 21,
     "metadata": {},
     "output_type": "execute_result"
    },
    {
     "data": {
      "text/plain": "<Figure size 640x480 with 1 Axes>",
      "image/png": "[encoded data removed]"
     },
     "metadata": {},
     "output_type": "display_data"
    }
   ],
   "source": [
    "plt.scatter(X, Y - f(X), color='blue')\n",
    "model = LinearRegression()\n",
    "model.fit(X.reshape((-1, 1)), Y - f(X))\n",
    "model.score(X.reshape((-1, 1)), Y)\n",
    "plt.plot(X, model.predict(X.reshape((-1, 1))), color='red')"
   ],
   "metadata": {
    "collapsed": false
   }
  },
  {
   "cell_type": "code",
   "execution_count": 22,
   "outputs": [
    {
     "data": {
      "text/plain": "(9.123819865404613e-13, 31667.71343381251)"
     },
     "execution_count": 22,
     "metadata": {},
     "output_type": "execute_result"
    }
   ],
   "source": [
    "np.mean(Y - f(X)), np.var(Y - f(X))"
   ],
   "metadata": {
    "collapsed": false
   }
  },
  {
   "cell_type": "code",
   "execution_count": 23,
   "outputs": [],
   "source": [
    "Z = R_YX2 * (n - k) / ((1 - R_YX2) * (n - k))"
   ],
   "metadata": {
    "collapsed": false
   }
  },
  {
   "cell_type": "code",
   "execution_count": 24,
   "outputs": [
    {
     "data": {
      "text/plain": "(-1.1425414334237316, 1.0)"
     },
     "execution_count": 24,
     "metadata": {},
     "output_type": "execute_result"
    }
   ],
   "source": [
    "f = st.f(k - 1,n - k)\n",
    "Z, 1 - f.cdf(Z)"
   ],
   "metadata": {
    "collapsed": false
   }
  },
  {
   "cell_type": "code",
   "execution_count": 24,
   "outputs": [],
   "source": [],
   "metadata": {
    "collapsed": false
   }
  }
 ],
 "metadata": {
  "kernelspec": {
   "display_name": "Python 3",
   "language": "python",
   "name": "python3"
  },
  "language_info": {
   "codemirror_mode": {
    "name": "ipython",
    "version": 2
   },
   "file_extension": ".py",
   "mimetype": "text/x-python",
   "name": "python",
   "nbconvert_exporter": "python",
   "pygments_lexer": "ipython2",
   "version": "2.7.6"
  }
 },
 "nbformat": 4,
 "nbformat_minor": 0
}
