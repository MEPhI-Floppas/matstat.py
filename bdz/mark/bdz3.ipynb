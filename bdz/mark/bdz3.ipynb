{
 "cells": [
  {
   "cell_type": "markdown",
   "source": [
    "## 3.1\n",
    "\n",
    "## Стат.гипотеза:\n",
    "## $H_0: m = m_0$\n",
    "## $H': m \\neq m_0$\n",
    "\n",
    "## Формула расчета статистики критерия\n",
    "\n",
    "## $Z = \\frac{\\bar{x} - m_0}{\\frac{S}{\\sqrt(n)}}$\n",
    "\n",
    "## Закон распределения статистики критерия при условии истинности основной гипотезы\n",
    "\n",
    "## $T(n - 1)$\n",
    "\n",
    "## Формулы расчета критических точек\n",
    "## $+ t_{1-\\frac{\\alpha}{2}}(n-1)$\n",
    "## $- t_{1-\\frac{\\alpha}{2}}(n-1)$\n",
    "## Формула расчета p-value\n",
    "## $f(x)= \\frac{\\Gamma\\left(\\frac{n+1}{2}\\right)}{\\sqrt{n \\pi} \\Gamma\\left(\\frac{n}{2}\\right)\\left(1+\\frac{x^2}{n}\\right)^{\\frac{n+1}{2}}}$"
   ],
   "metadata": {
    "collapsed": false
   }
  },
  {
   "cell_type": "code",
   "execution_count": 1,
   "outputs": [
    {
     "data": {
      "text/plain": "     C1      C2      C3        C4         C5      C6     C7    C8    C9  \\\n0    64  Female  Former  21.48380      Often  1298.8   57.0   6.3   0.0   \n1    76  Female   Never  23.87631      Often  1032.5   50.1  15.8   0.0   \n2    38  Female  Former  20.01080  Not often  2372.3   83.6  19.1  14.1   \n3    40  Female  Former  25.14062         No  2449.5   97.5  26.5   0.5   \n4    72  Female   Never  20.98504      Often  1952.1   82.6  16.2   0.0   \n..   ..     ...     ...       ...        ...     ...    ...   ...   ...   \n310  46  Female  Former  25.89669         No  2263.6   98.2  19.4   2.6   \n311  45  Female   Never  23.82703      Often  1841.1   84.2  14.1   2.2   \n312  49  Female   Never  24.26126      Often  1125.6   44.8  11.9   4.0   \n313  31  Female  Former  23.45255      Often  2729.6  144.4  13.2   2.2   \n314  45  Female   Never  26.50808      Often  1627.0   77.4   9.9   0.2   \n\n       C10   C11   C12  C13  C14  \n0    170.3  1945   890  200  915  \n1     75.8  2653   451  124  727  \n2    257.9  6321   660  328  721  \n3    332.6  1061   864  153  615  \n4    170.8  2863  1209   92  799  \n..     ...   ...   ...  ...  ...  \n310  306.5  2572  1261  164  216  \n311  257.7  1665   465   80  328  \n312  150.5  6943   520  300  502  \n313  381.8   741   644  121  684  \n314  195.6  1242   554  233  826  \n\n[315 rows x 14 columns]",
      "text/html": "<div>\n<style scoped>\n    .dataframe tbody tr th:only-of-type {\n        vertical-align: middle;\n    }\n\n    .dataframe tbody tr th {\n        vertical-align: top;\n    }\n\n    .dataframe thead th {\n        text-align: right;\n    }\n</style>\n<table border=\"1\" class=\"dataframe\">\n  <thead>\n    <tr style=\"text-align: right;\">\n      <th></th>\n      <th>C1</th>\n      <th>C2</th>\n      <th>C3</th>\n      <th>C4</th>\n      <th>C5</th>\n      <th>C6</th>\n      <th>C7</th>\n      <th>C8</th>\n      <th>C9</th>\n      <th>C10</th>\n      <th>C11</th>\n      <th>C12</th>\n      <th>C13</th>\n      <th>C14</th>\n    </tr>\n  </thead>\n  <tbody>\n    <tr>\n      <th>0</th>\n      <td>64</td>\n      <td>Female</td>\n      <td>Former</td>\n      <td>21.48380</td>\n      <td>Often</td>\n      <td>1298.8</td>\n      <td>57.0</td>\n      <td>6.3</td>\n      <td>0.0</td>\n      <td>170.3</td>\n      <td>1945</td>\n      <td>890</td>\n      <td>200</td>\n      <td>915</td>\n    </tr>\n    <tr>\n      <th>1</th>\n      <td>76</td>\n      <td>Female</td>\n      <td>Never</td>\n      <td>23.87631</td>\n      <td>Often</td>\n      <td>1032.5</td>\n      <td>50.1</td>\n      <td>15.8</td>\n      <td>0.0</td>\n      <td>75.8</td>\n      <td>2653</td>\n      <td>451</td>\n      <td>124</td>\n      <td>727</td>\n    </tr>\n    <tr>\n      <th>2</th>\n      <td>38</td>\n      <td>Female</td>\n      <td>Former</td>\n      <td>20.01080</td>\n      <td>Not often</td>\n      <td>2372.3</td>\n      <td>83.6</td>\n      <td>19.1</td>\n      <td>14.1</td>\n      <td>257.9</td>\n      <td>6321</td>\n      <td>660</td>\n      <td>328</td>\n      <td>721</td>\n    </tr>\n    <tr>\n      <th>3</th>\n      <td>40</td>\n      <td>Female</td>\n      <td>Former</td>\n      <td>25.14062</td>\n      <td>No</td>\n      <td>2449.5</td>\n      <td>97.5</td>\n      <td>26.5</td>\n      <td>0.5</td>\n      <td>332.6</td>\n      <td>1061</td>\n      <td>864</td>\n      <td>153</td>\n      <td>615</td>\n    </tr>\n    <tr>\n      <th>4</th>\n      <td>72</td>\n      <td>Female</td>\n      <td>Never</td>\n      <td>20.98504</td>\n      <td>Often</td>\n      <td>1952.1</td>\n      <td>82.6</td>\n      <td>16.2</td>\n      <td>0.0</td>\n      <td>170.8</td>\n      <td>2863</td>\n      <td>1209</td>\n      <td>92</td>\n      <td>799</td>\n    </tr>\n    <tr>\n      <th>...</th>\n      <td>...</td>\n      <td>...</td>\n      <td>...</td>\n      <td>...</td>\n      <td>...</td>\n      <td>...</td>\n      <td>...</td>\n      <td>...</td>\n      <td>...</td>\n      <td>...</td>\n      <td>...</td>\n      <td>...</td>\n      <td>...</td>\n      <td>...</td>\n    </tr>\n    <tr>\n      <th>310</th>\n      <td>46</td>\n      <td>Female</td>\n      <td>Former</td>\n      <td>25.89669</td>\n      <td>No</td>\n      <td>2263.6</td>\n      <td>98.2</td>\n      <td>19.4</td>\n      <td>2.6</td>\n      <td>306.5</td>\n      <td>2572</td>\n      <td>1261</td>\n      <td>164</td>\n      <td>216</td>\n    </tr>\n    <tr>\n      <th>311</th>\n      <td>45</td>\n      <td>Female</td>\n      <td>Never</td>\n      <td>23.82703</td>\n      <td>Often</td>\n      <td>1841.1</td>\n      <td>84.2</td>\n      <td>14.1</td>\n      <td>2.2</td>\n      <td>257.7</td>\n      <td>1665</td>\n      <td>465</td>\n      <td>80</td>\n      <td>328</td>\n    </tr>\n    <tr>\n      <th>312</th>\n      <td>49</td>\n      <td>Female</td>\n      <td>Never</td>\n      <td>24.26126</td>\n      <td>Often</td>\n      <td>1125.6</td>\n      <td>44.8</td>\n      <td>11.9</td>\n      <td>4.0</td>\n      <td>150.5</td>\n      <td>6943</td>\n      <td>520</td>\n      <td>300</td>\n      <td>502</td>\n    </tr>\n    <tr>\n      <th>313</th>\n      <td>31</td>\n      <td>Female</td>\n      <td>Former</td>\n      <td>23.45255</td>\n      <td>Often</td>\n      <td>2729.6</td>\n      <td>144.4</td>\n      <td>13.2</td>\n      <td>2.2</td>\n      <td>381.8</td>\n      <td>741</td>\n      <td>644</td>\n      <td>121</td>\n      <td>684</td>\n    </tr>\n    <tr>\n      <th>314</th>\n      <td>45</td>\n      <td>Female</td>\n      <td>Never</td>\n      <td>26.50808</td>\n      <td>Often</td>\n      <td>1627.0</td>\n      <td>77.4</td>\n      <td>9.9</td>\n      <td>0.2</td>\n      <td>195.6</td>\n      <td>1242</td>\n      <td>554</td>\n      <td>233</td>\n      <td>826</td>\n    </tr>\n  </tbody>\n</table>\n<p>315 rows × 14 columns</p>\n</div>"
     },
     "execution_count": 1,
     "metadata": {},
     "output_type": "execute_result"
    }
   ],
   "source": [
    "import pandas as pd\n",
    "import numpy as np\n",
    "import xlrd\n",
    "import math\n",
    "import scipy.stats as st\n",
    "from statsmodels.stats.weightstats import ztest\n",
    "import matplotlib.pyplot as plt\n",
    "\n",
    "xls = pd.ExcelFile(r'./../table.xls')\n",
    "sheetX = xls.parse(3)\n",
    "sheetX"
   ],
   "metadata": {
    "collapsed": false
   }
  },
  {
   "cell_type": "code",
   "execution_count": 2,
   "outputs": [
    {
     "data": {
      "text/plain": "((315,), (315,), (315,))"
     },
     "execution_count": 2,
     "metadata": {},
     "output_type": "execute_result"
    }
   ],
   "source": [
    "\n",
    "var1 = sheetX['C9']\n",
    "X1 = np.array(var1)\n",
    "var2 = sheetX['C11']\n",
    "X2 = np.array(var2)\n",
    "var3 = sheetX['C12']\n",
    "X3 = np.array(var3)\n",
    "X1.shape, X2.shape, X3.shape"
   ],
   "metadata": {
    "collapsed": false
   }
  },
  {
   "cell_type": "code",
   "execution_count": 3,
   "outputs": [
    {
     "data": {
      "text/plain": "(0.0, 1.0, 3.2793650793650793)"
     },
     "execution_count": 3,
     "metadata": {},
     "output_type": "execute_result"
    }
   ],
   "source": [
    "Z, p_value = st.ttest_1samp(a=X1, popmean=np.mean(X1), axis=0, alternative='two-sided')\n",
    "Z, p_value, np.mean(X1)"
   ],
   "metadata": {
    "collapsed": false
   }
  },
  {
   "cell_type": "code",
   "execution_count": 4,
   "outputs": [
    {
     "data": {
      "text/plain": "(0.4723161958625181, 0.6370291979487798, 2.9514285714285715)"
     },
     "execution_count": 4,
     "metadata": {},
     "output_type": "execute_result"
    }
   ],
   "source": [
    "Z, p_value = st.ttest_1samp(a=X1, popmean=np.mean(X1) * 0.9, axis=0, alternative='two-sided')\n",
    "Z, p_value, np.mean(X1) * 0.9"
   ],
   "metadata": {
    "collapsed": false
   }
  },
  {
   "cell_type": "code",
   "execution_count": 5,
   "outputs": [
    {
     "data": {
      "text/plain": "(2.83389717517511, 0.004896160591604965, 1.3117460317460319)"
     },
     "execution_count": 5,
     "metadata": {},
     "output_type": "execute_result"
    }
   ],
   "source": [
    "Z, p_value = st.ttest_1samp(a=X1, popmean=np.mean(X1) * 0.4, axis=0, alternative='two-sided')\n",
    "Z, p_value, np.mean(X1) * 0.4"
   ],
   "metadata": {
    "collapsed": false
   }
  },
  {
   "cell_type": "code",
   "execution_count": 6,
   "outputs": [
    {
     "data": {
      "text/plain": "12.322879641257428"
     },
     "execution_count": 6,
     "metadata": {},
     "output_type": "execute_result"
    }
   ],
   "source": [
    "s1 = np.std(X1, ddof=1)\n",
    "s1"
   ],
   "metadata": {
    "collapsed": false
   }
  },
  {
   "cell_type": "code",
   "execution_count": 7,
   "outputs": [
    {
     "data": {
      "text/plain": "151.8533626529168"
     },
     "execution_count": 7,
     "metadata": {},
     "output_type": "execute_result"
    }
   ],
   "source": [
    "d1 = np.var(X1, ddof=1)\n",
    "d1"
   ],
   "metadata": {
    "collapsed": false
   }
  },
  {
   "cell_type": "markdown",
   "source": [
    "## 3.2\n",
    "\n",
    "## Стат.гипотеза:\n",
    "## $H_0: \\sigma = \\sigma_0$\n",
    "## $H': \\sigma \\neq \\sigma_0$\n",
    "## Формула расчета статистики критерия\n",
    "## $Z = \\frac{(n - 1)S^2}{\\sigma_0^2}$\n",
    "## Закон распределения статистики критерия при условии истинности основной гипотезы\n",
    "## $X \\sim \\chi^2(n-1)$\n",
    "## Формулы расчета критических точек\n",
    "## $\\chi^2_{\\frac{\\alpha}{2}}(n-1)$\n",
    "## $\\chi^2_{1 - \\frac{\\alpha}{2}}(n-1)$\n",
    "## Формула расчета p-value\n",
    "## $\\frac{(1 / 2)^{k / 2}}{\\Gamma(k / 2)} x^{k / 2-1} e^{-x / 2}$"
   ],
   "metadata": {
    "collapsed": false
   }
  },
  {
   "cell_type": "markdown",
   "source": [
    "### $\\alpha = 0.1$\n",
    "### Right $\\chi^2$: 1,149.2822\n",
    "### Left $\\chi^2$: 996.9916"
   ],
   "metadata": {
    "collapsed": false
   }
  },
  {
   "cell_type": "code",
   "execution_count": 8,
   "outputs": [
    {
     "data": {
      "text/plain": "12.322879641257428"
     },
     "execution_count": 8,
     "metadata": {},
     "output_type": "execute_result"
    }
   ],
   "source": [
    "\n",
    "\n",
    "np.std(X1, ddof=1)"
   ],
   "metadata": {
    "collapsed": false
   }
  },
  {
   "cell_type": "code",
   "execution_count": 9,
   "outputs": [],
   "source": [
    "def chisquare(dist, m, d, bins=10, ddof=0):\n",
    "    counts, bins1 = np.histogram(dist, bins=bins)\n",
    "    normal = (st.norm.cdf(bins1[1:], m, d) - st.norm.cdf(bins1[:-1], m, d)) * dist.shape[0]\n",
    "    Z = np.sum((counts - normal) ** 2 / normal)\n",
    "    return Z, st.chi2.cdf(Z, bins - 1 - ddof)"
   ],
   "metadata": {
    "collapsed": false
   }
  },
  {
   "cell_type": "code",
   "execution_count": 10,
   "outputs": [],
   "source": [
    "def chisquare1(dist, d, d0, ddof=1):\n",
    "    Zc = ((len(dist) - 1) * d / d0 ** 2)\n",
    "    p_value = 2 * (1 - st.chi2.cdf(Zc, len(dist) - ddof))\n",
    "    if p_value > 1:\n",
    "        p_value = 2 - p_value\n",
    "    return Zc, p_value"
   ],
   "metadata": {
    "collapsed": false
   }
  },
  {
   "cell_type": "code",
   "execution_count": 23,
   "outputs": [
    {
     "data": {
      "text/plain": "(315.1692502678026, 331.1246935626102, 394.06575101666004)"
     },
     "execution_count": 23,
     "metadata": {},
     "output_type": "execute_result"
    }
   ],
   "source": [
    "Z1, p1 = chisquare1(X1, d1, 12.3)\n",
    "Z2, p2 = chisquare1(X1, d1, 12)\n",
    "Z3, p3 = chisquare1(X1, d1, 11)\n",
    "Z1, Z2, Z3"
   ],
   "metadata": {
    "collapsed": false
   }
  },
  {
   "cell_type": "code",
   "execution_count": 24,
   "outputs": [
    {
     "data": {
      "text/plain": "(0.9416476826995528, 0.4853048071046009, 0.0028461843102915996)"
     },
     "execution_count": 24,
     "metadata": {},
     "output_type": "execute_result"
    }
   ],
   "source": [
    "p1, p2, p3"
   ],
   "metadata": {
    "collapsed": false
   }
  },
  {
   "cell_type": "markdown",
   "source": [
    "## 3.3\n",
    "## Стат.гипотеза:\n",
    "## $H_0$: $m_1 = m_2$\n",
    "## $H'$: $m_1 \\neq m_2$\n",
    "## Формула расчета статистики критерия\n",
    "## $Z=\\frac{\\left(\\bar{x}_1-\\bar{x}_2\\right)-\\left(m_1-m_2\\right)}{\\sqrt{\\frac{s_1^2}{n_1}+\\frac{s_2^2}{n_2}}}$\n",
    "## Закон распределения статистики критерия при условии истинности основной гипотезы\n",
    "## $X \\sim T(n_1 + n_2 - 2)$\n",
    "## Формулы расчета критических точек\n",
    "## $+ T_{1-\\alpha}(n_1 + n_2 - 2)$\n",
    "## $- T_{1-\\alpha}(n_1 + n_2 - 2)$\n",
    "## Формула расчета p-value\n",
    "## $f(x)= \\frac{\\Gamma\\left(\\frac{n+1}{2}\\right)}{\\sqrt{n \\pi} \\Gamma\\left(\\frac{n}{2}\\right)\\left(1+\\frac{x^2}{n}\\right)^{\\frac{n+1}{2}}}$"
   ],
   "metadata": {
    "collapsed": false
   }
  },
  {
   "cell_type": "code",
   "execution_count": 13,
   "outputs": [],
   "source": [
    "var1 = sheetX['C11']\n",
    "X1 = np.array(var2)\n",
    "var2 = sheetX['C12']\n",
    "X2 = np.array(var3)"
   ],
   "metadata": {
    "collapsed": false
   }
  },
  {
   "cell_type": "code",
   "execution_count": 14,
   "outputs": [
    {
     "data": {
      "text/plain": "(2185.6031746031745, 832.7142857142857)"
     },
     "execution_count": 14,
     "metadata": {},
     "output_type": "execute_result"
    }
   ],
   "source": [
    "m1 = np.mean(X1)\n",
    "m2 = np.mean(X2)\n",
    "m1, m2"
   ],
   "metadata": {
    "collapsed": false
   }
  },
  {
   "cell_type": "code",
   "execution_count": 15,
   "outputs": [
    {
     "data": {
      "text/plain": "(15.126948860992421, 2.6234702482583003e-44)"
     },
     "execution_count": 15,
     "metadata": {},
     "output_type": "execute_result"
    }
   ],
   "source": [
    "Z, p_value = st.ttest_ind(X1, X2, alternative='two-sided')\n",
    "Z, p_value"
   ],
   "metadata": {
    "collapsed": false
   }
  },
  {
   "cell_type": "code",
   "execution_count": 16,
   "outputs": [],
   "source": [
    "import pingouin as pg"
   ],
   "metadata": {
    "collapsed": false
   }
  },
  {
   "cell_type": "code",
   "execution_count": 17,
   "outputs": [
    {
     "data": {
      "text/plain": "                T  dof alternative         p-val               CI95%  \\\nT-test  15.126949  628   two-sided  2.623470e-44  [1177.26, 1528.52]   \n\n         cohen-d       BF10  power  \nT-test  1.205344  6.329e+40    1.0  ",
      "text/html": "<div>\n<style scoped>\n    .dataframe tbody tr th:only-of-type {\n        vertical-align: middle;\n    }\n\n    .dataframe tbody tr th {\n        vertical-align: top;\n    }\n\n    .dataframe thead th {\n        text-align: right;\n    }\n</style>\n<table border=\"1\" class=\"dataframe\">\n  <thead>\n    <tr style=\"text-align: right;\">\n      <th></th>\n      <th>T</th>\n      <th>dof</th>\n      <th>alternative</th>\n      <th>p-val</th>\n      <th>CI95%</th>\n      <th>cohen-d</th>\n      <th>BF10</th>\n      <th>power</th>\n    </tr>\n  </thead>\n  <tbody>\n    <tr>\n      <th>T-test</th>\n      <td>15.126949</td>\n      <td>628</td>\n      <td>two-sided</td>\n      <td>2.623470e-44</td>\n      <td>[1177.26, 1528.52]</td>\n      <td>1.205344</td>\n      <td>6.329e+40</td>\n      <td>1.0</td>\n    </tr>\n  </tbody>\n</table>\n</div>"
     },
     "execution_count": 17,
     "metadata": {},
     "output_type": "execute_result"
    }
   ],
   "source": [
    "pg.ttest(X1, X2)"
   ],
   "metadata": {
    "collapsed": false
   }
  },
  {
   "cell_type": "markdown",
   "source": [
    "## 3.4\n",
    "## Стат.гипотеза:\n",
    "## $H_0$: $\\sigma_1 = \\sigma_2$\n",
    "## $H'$: $\\sigma_1 \\neq \\sigma_2$\n",
    "## Формула расчета статистики критерия\n",
    "## $Z = \\frac{\\frac{\\chi^2(n_1)}{n_1}}{\\frac{\\chi^2(n_2)}{n_2}}$\n",
    "## Закон распределения статистики критерия при условии истинности основной гипотезы\n",
    "## $X \\sim F(n_1 - 1, n_2 - 1)$\n",
    "## Формулы расчета критических точек\n",
    "## $F_{\\frac{\\alpha}{2}}(n_1 - 1, n_2 - 1)$\n",
    "## $F_{1 - \\frac{\\alpha}{2}}(n_1 - 1, n_2 - 1)$\n",
    "## Формула расчета p-value\n",
    "## $\\frac{\\sqrt{\\frac{\\left(d_1 x\\right)^{d_1} d_2^{d_2}}{\\left(d_1 x+d_2\\right)^{d_1+d_2}}}}{x \\mathrm{~B}\\left(\\frac{d_1}{2}, \\frac{d_2}{2}\\right)}$\n",
    "## $d_1, d_2$ - степени свободы\n",
    "## B - beta функция"
   ],
   "metadata": {
    "collapsed": false
   }
  },
  {
   "cell_type": "code",
   "execution_count": 18,
   "outputs": [
    {
     "data": {
      "text/plain": "(2172341.552219189, 347261.5614194723)"
     },
     "execution_count": 18,
     "metadata": {},
     "output_type": "execute_result"
    }
   ],
   "source": [
    "v1 = np.var(X1, ddof=1)\n",
    "v2 = np.var(X2, ddof=1)\n",
    "v1, v2"
   ],
   "metadata": {
    "collapsed": false
   }
  },
  {
   "cell_type": "code",
   "execution_count": 19,
   "outputs": [],
   "source": [
    "def var(dist, m):\n",
    "    return np.sum((dist - m) ** 2) / dist.shape[0]\n",
    "\n",
    "\n",
    "def std(dist, m):\n",
    "    return np.sqrt(var(dist, m))\n",
    "\n",
    "\n",
    "def f_test(dist1, dist2, m1, m2, ddof=0):\n",
    "    d1, d2 = var(dist1, m1), var(dist2, m2)\n",
    "    f = d1 / d2\n",
    "    n1, n2 = dist1.shape[0] - ddof, dist2.shape[0] - ddof\n",
    "    return f, st.f.cdf(f, n1, n2)"
   ],
   "metadata": {
    "collapsed": false
   }
  },
  {
   "cell_type": "code",
   "execution_count": 20,
   "outputs": [
    {
     "data": {
      "text/plain": "(6.255634926421134, 1.1102230246251565e-16)"
     },
     "execution_count": 20,
     "metadata": {},
     "output_type": "execute_result"
    }
   ],
   "source": [
    "Z, p_value = f_test(X1, X2, m1, m2, ddof=1)\n",
    "p_value = 1 - p_value\n",
    "Z, p_value"
   ],
   "metadata": {
    "collapsed": false
   }
  }
 ],
 "metadata": {
  "kernelspec": {
   "display_name": "Python 3",
   "language": "python",
   "name": "python3"
  },
  "language_info": {
   "codemirror_mode": {
    "name": "ipython",
    "version": 2
   },
   "file_extension": ".py",
   "mimetype": "text/x-python",
   "name": "python",
   "nbconvert_exporter": "python",
   "pygments_lexer": "ipython2",
   "version": "2.7.6"
  }
 },
 "nbformat": 4,
 "nbformat_minor": 0
}
