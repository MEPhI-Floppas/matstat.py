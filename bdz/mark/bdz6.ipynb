{
 "cells": [
  {
   "cell_type": "code",
   "execution_count": 1,
   "metadata": {
    "collapsed": true
   },
   "outputs": [],
   "source": [
    "import numpy as np  # библиотека для матриц и математики\n",
    "import pandas as pd  # библиотека для работы с табличками\n",
    "from scipy import stats  # модуль для работы со статистикой\n",
    "\n",
    "# библиотеки для визуализации\n",
    "import matplotlib.pyplot as plt\n",
    "import scipy.stats as st\n",
    "import seaborn as sns\n",
    "\n",
    "import math\n",
    "\n",
    "from statsmodels.stats.weightstats import ztest as ztest\n",
    "\n",
    "plt.style.use('ggplot')  # стиль графиков\n",
    "\n",
    "%matplotlib inline\n",
    "#A4 A20"
   ]
  },
  {
   "cell_type": "code",
   "execution_count": 2,
   "outputs": [
    {
     "data": {
      "text/plain": "     C1      C2      C3        C4         C5      C6     C7    C8    C9  \\\n0    64  Female  Former  21.48380      Often  1298.8   57.0   6.3   0.0   \n1    76  Female   Never  23.87631      Often  1032.5   50.1  15.8   0.0   \n2    38  Female  Former  20.01080  Not often  2372.3   83.6  19.1  14.1   \n3    40  Female  Former  25.14062         No  2449.5   97.5  26.5   0.5   \n4    72  Female   Never  20.98504      Often  1952.1   82.6  16.2   0.0   \n..   ..     ...     ...       ...        ...     ...    ...   ...   ...   \n310  46  Female  Former  25.89669         No  2263.6   98.2  19.4   2.6   \n311  45  Female   Never  23.82703      Often  1841.1   84.2  14.1   2.2   \n312  49  Female   Never  24.26126      Often  1125.6   44.8  11.9   4.0   \n313  31  Female  Former  23.45255      Often  2729.6  144.4  13.2   2.2   \n314  45  Female   Never  26.50808      Often  1627.0   77.4   9.9   0.2   \n\n       C10   C11   C12  C13  C14  \n0    170.3  1945   890  200  915  \n1     75.8  2653   451  124  727  \n2    257.9  6321   660  328  721  \n3    332.6  1061   864  153  615  \n4    170.8  2863  1209   92  799  \n..     ...   ...   ...  ...  ...  \n310  306.5  2572  1261  164  216  \n311  257.7  1665   465   80  328  \n312  150.5  6943   520  300  502  \n313  381.8   741   644  121  684  \n314  195.6  1242   554  233  826  \n\n[315 rows x 14 columns]",
      "text/html": "<div>\n<style scoped>\n    .dataframe tbody tr th:only-of-type {\n        vertical-align: middle;\n    }\n\n    .dataframe tbody tr th {\n        vertical-align: top;\n    }\n\n    .dataframe thead th {\n        text-align: right;\n    }\n</style>\n<table border=\"1\" class=\"dataframe\">\n  <thead>\n    <tr style=\"text-align: right;\">\n      <th></th>\n      <th>C1</th>\n      <th>C2</th>\n      <th>C3</th>\n      <th>C4</th>\n      <th>C5</th>\n      <th>C6</th>\n      <th>C7</th>\n      <th>C8</th>\n      <th>C9</th>\n      <th>C10</th>\n      <th>C11</th>\n      <th>C12</th>\n      <th>C13</th>\n      <th>C14</th>\n    </tr>\n  </thead>\n  <tbody>\n    <tr>\n      <th>0</th>\n      <td>64</td>\n      <td>Female</td>\n      <td>Former</td>\n      <td>21.48380</td>\n      <td>Often</td>\n      <td>1298.8</td>\n      <td>57.0</td>\n      <td>6.3</td>\n      <td>0.0</td>\n      <td>170.3</td>\n      <td>1945</td>\n      <td>890</td>\n      <td>200</td>\n      <td>915</td>\n    </tr>\n    <tr>\n      <th>1</th>\n      <td>76</td>\n      <td>Female</td>\n      <td>Never</td>\n      <td>23.87631</td>\n      <td>Often</td>\n      <td>1032.5</td>\n      <td>50.1</td>\n      <td>15.8</td>\n      <td>0.0</td>\n      <td>75.8</td>\n      <td>2653</td>\n      <td>451</td>\n      <td>124</td>\n      <td>727</td>\n    </tr>\n    <tr>\n      <th>2</th>\n      <td>38</td>\n      <td>Female</td>\n      <td>Former</td>\n      <td>20.01080</td>\n      <td>Not often</td>\n      <td>2372.3</td>\n      <td>83.6</td>\n      <td>19.1</td>\n      <td>14.1</td>\n      <td>257.9</td>\n      <td>6321</td>\n      <td>660</td>\n      <td>328</td>\n      <td>721</td>\n    </tr>\n    <tr>\n      <th>3</th>\n      <td>40</td>\n      <td>Female</td>\n      <td>Former</td>\n      <td>25.14062</td>\n      <td>No</td>\n      <td>2449.5</td>\n      <td>97.5</td>\n      <td>26.5</td>\n      <td>0.5</td>\n      <td>332.6</td>\n      <td>1061</td>\n      <td>864</td>\n      <td>153</td>\n      <td>615</td>\n    </tr>\n    <tr>\n      <th>4</th>\n      <td>72</td>\n      <td>Female</td>\n      <td>Never</td>\n      <td>20.98504</td>\n      <td>Often</td>\n      <td>1952.1</td>\n      <td>82.6</td>\n      <td>16.2</td>\n      <td>0.0</td>\n      <td>170.8</td>\n      <td>2863</td>\n      <td>1209</td>\n      <td>92</td>\n      <td>799</td>\n    </tr>\n    <tr>\n      <th>...</th>\n      <td>...</td>\n      <td>...</td>\n      <td>...</td>\n      <td>...</td>\n      <td>...</td>\n      <td>...</td>\n      <td>...</td>\n      <td>...</td>\n      <td>...</td>\n      <td>...</td>\n      <td>...</td>\n      <td>...</td>\n      <td>...</td>\n      <td>...</td>\n    </tr>\n    <tr>\n      <th>310</th>\n      <td>46</td>\n      <td>Female</td>\n      <td>Former</td>\n      <td>25.89669</td>\n      <td>No</td>\n      <td>2263.6</td>\n      <td>98.2</td>\n      <td>19.4</td>\n      <td>2.6</td>\n      <td>306.5</td>\n      <td>2572</td>\n      <td>1261</td>\n      <td>164</td>\n      <td>216</td>\n    </tr>\n    <tr>\n      <th>311</th>\n      <td>45</td>\n      <td>Female</td>\n      <td>Never</td>\n      <td>23.82703</td>\n      <td>Often</td>\n      <td>1841.1</td>\n      <td>84.2</td>\n      <td>14.1</td>\n      <td>2.2</td>\n      <td>257.7</td>\n      <td>1665</td>\n      <td>465</td>\n      <td>80</td>\n      <td>328</td>\n    </tr>\n    <tr>\n      <th>312</th>\n      <td>49</td>\n      <td>Female</td>\n      <td>Never</td>\n      <td>24.26126</td>\n      <td>Often</td>\n      <td>1125.6</td>\n      <td>44.8</td>\n      <td>11.9</td>\n      <td>4.0</td>\n      <td>150.5</td>\n      <td>6943</td>\n      <td>520</td>\n      <td>300</td>\n      <td>502</td>\n    </tr>\n    <tr>\n      <th>313</th>\n      <td>31</td>\n      <td>Female</td>\n      <td>Former</td>\n      <td>23.45255</td>\n      <td>Often</td>\n      <td>2729.6</td>\n      <td>144.4</td>\n      <td>13.2</td>\n      <td>2.2</td>\n      <td>381.8</td>\n      <td>741</td>\n      <td>644</td>\n      <td>121</td>\n      <td>684</td>\n    </tr>\n    <tr>\n      <th>314</th>\n      <td>45</td>\n      <td>Female</td>\n      <td>Never</td>\n      <td>26.50808</td>\n      <td>Often</td>\n      <td>1627.0</td>\n      <td>77.4</td>\n      <td>9.9</td>\n      <td>0.2</td>\n      <td>195.6</td>\n      <td>1242</td>\n      <td>554</td>\n      <td>233</td>\n      <td>826</td>\n    </tr>\n  </tbody>\n</table>\n<p>315 rows × 14 columns</p>\n</div>"
     },
     "execution_count": 2,
     "metadata": {},
     "output_type": "execute_result"
    }
   ],
   "source": [
    "xls = pd.ExcelFile(r'./../table.xls')\n",
    "df = xls.parse(3)\n",
    "df"
   ],
   "metadata": {
    "collapsed": false
   }
  },
  {
   "cell_type": "code",
   "execution_count": 3,
   "outputs": [],
   "source": [
    "n = len(df.C2)\n",
    "X1 = df.C2.to_numpy()\n",
    "X2 = df.C5.to_numpy()"
   ],
   "metadata": {
    "collapsed": false
   }
  },
  {
   "cell_type": "code",
   "execution_count": 4,
   "outputs": [
    {
     "data": {
      "text/plain": "col_0   No  Not often  Often\nrow_0                       \nFemale  87         77    109\nMale    24          5     13",
      "text/html": "<div>\n<style scoped>\n    .dataframe tbody tr th:only-of-type {\n        vertical-align: middle;\n    }\n\n    .dataframe tbody tr th {\n        vertical-align: top;\n    }\n\n    .dataframe thead th {\n        text-align: right;\n    }\n</style>\n<table border=\"1\" class=\"dataframe\">\n  <thead>\n    <tr style=\"text-align: right;\">\n      <th>col_0</th>\n      <th>No</th>\n      <th>Not often</th>\n      <th>Often</th>\n    </tr>\n    <tr>\n      <th>row_0</th>\n      <th></th>\n      <th></th>\n      <th></th>\n    </tr>\n  </thead>\n  <tbody>\n    <tr>\n      <th>Female</th>\n      <td>87</td>\n      <td>77</td>\n      <td>109</td>\n    </tr>\n    <tr>\n      <th>Male</th>\n      <td>24</td>\n      <td>5</td>\n      <td>13</td>\n    </tr>\n  </tbody>\n</table>\n</div>"
     },
     "execution_count": 4,
     "metadata": {},
     "output_type": "execute_result"
    }
   ],
   "source": [
    "confusion_mx = pd.crosstab(X1, X2)\n",
    "confusion_mx"
   ],
   "metadata": {
    "collapsed": false
   }
  },
  {
   "cell_type": "code",
   "execution_count": 12,
   "outputs": [
    {
     "data": {
      "text/plain": "315"
     },
     "execution_count": 12,
     "metadata": {},
     "output_type": "execute_result"
    }
   ],
   "source": [
    "122 + 82 + 111"
   ],
   "metadata": {
    "collapsed": false
   }
  },
  {
   "cell_type": "code",
   "execution_count": 15,
   "outputs": [
    {
     "data": {
      "text/plain": "array([273.,  42.])"
     },
     "execution_count": 15,
     "metadata": {},
     "output_type": "execute_result"
    }
   ],
   "source": [
    "tmp = st.chi2_contingency(confusion_mx)[3]\n",
    "np.sum(tmp,axis=1)"
   ],
   "metadata": {
    "collapsed": false
   }
  },
  {
   "cell_type": "code",
   "execution_count": null,
   "outputs": [],
   "source": [],
   "metadata": {
    "collapsed": false
   }
  },
  {
   "cell_type": "code",
   "execution_count": 5,
   "outputs": [
    {
     "data": {
      "text/plain": "(11.070979092770376,\n 0.003944277256603154,\n 2,\n array([[ 96.2       ,  71.06666667, 105.73333333],\n        [ 14.8       ,  10.93333333,  16.26666667]]))"
     },
     "execution_count": 5,
     "metadata": {},
     "output_type": "execute_result"
    }
   ],
   "source": [
    "st.chi2_contingency(confusion_mx)"
   ],
   "metadata": {
    "collapsed": false
   }
  }
 ],
 "metadata": {
  "kernelspec": {
   "display_name": "Python 3",
   "language": "python",
   "name": "python3"
  },
  "language_info": {
   "codemirror_mode": {
    "name": "ipython",
    "version": 2
   },
   "file_extension": ".py",
   "mimetype": "text/x-python",
   "name": "python",
   "nbconvert_exporter": "python",
   "pygments_lexer": "ipython2",
   "version": "2.7.6"
  }
 },
 "nbformat": 4,
 "nbformat_minor": 0
}
