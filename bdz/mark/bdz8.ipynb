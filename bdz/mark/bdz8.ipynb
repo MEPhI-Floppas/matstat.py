{
 "cells": [
  {
   "cell_type": "code",
   "execution_count": 2,
   "metadata": {
    "collapsed": true
   },
   "outputs": [],
   "source": [
    "import numpy as np         # библиотека для матриц и математики\n",
    "import pandas as pd        # библиотека для работы с табличками\n",
    "from scipy import stats    # модуль для работы со статистикой\n",
    "\n",
    "# библиотеки для визуализации\n",
    "import matplotlib.pyplot as plt\n",
    "import seaborn as sns\n",
    "\n",
    "import math\n",
    "\n",
    "plt.style.use('ggplot')    # стиль графиков\n",
    "\n",
    "%matplotlib inline"
   ]
  },
  {
   "cell_type": "markdown",
   "source": [
    "# 8.1"
   ],
   "metadata": {
    "collapsed": false
   }
  },
  {
   "cell_type": "code",
   "execution_count": 3,
   "outputs": [
    {
     "data": {
      "text/plain": "     C1      C2      C3        C4         C5      C6     C7    C8    C9  \\\n0    64  Female  Former  21.48380      Often  1298.8   57.0   6.3   0.0   \n1    76  Female   Never  23.87631      Often  1032.5   50.1  15.8   0.0   \n2    38  Female  Former  20.01080  Not often  2372.3   83.6  19.1  14.1   \n3    40  Female  Former  25.14062         No  2449.5   97.5  26.5   0.5   \n4    72  Female   Never  20.98504      Often  1952.1   82.6  16.2   0.0   \n..   ..     ...     ...       ...        ...     ...    ...   ...   ...   \n310  46  Female  Former  25.89669         No  2263.6   98.2  19.4   2.6   \n311  45  Female   Never  23.82703      Often  1841.1   84.2  14.1   2.2   \n312  49  Female   Never  24.26126      Often  1125.6   44.8  11.9   4.0   \n313  31  Female  Former  23.45255      Often  2729.6  144.4  13.2   2.2   \n314  45  Female   Never  26.50808      Often  1627.0   77.4   9.9   0.2   \n\n       C10   C11   C12  C13  C14  \n0    170.3  1945   890  200  915  \n1     75.8  2653   451  124  727  \n2    257.9  6321   660  328  721  \n3    332.6  1061   864  153  615  \n4    170.8  2863  1209   92  799  \n..     ...   ...   ...  ...  ...  \n310  306.5  2572  1261  164  216  \n311  257.7  1665   465   80  328  \n312  150.5  6943   520  300  502  \n313  381.8   741   644  121  684  \n314  195.6  1242   554  233  826  \n\n[315 rows x 14 columns]",
      "text/html": "<div>\n<style scoped>\n    .dataframe tbody tr th:only-of-type {\n        vertical-align: middle;\n    }\n\n    .dataframe tbody tr th {\n        vertical-align: top;\n    }\n\n    .dataframe thead th {\n        text-align: right;\n    }\n</style>\n<table border=\"1\" class=\"dataframe\">\n  <thead>\n    <tr style=\"text-align: right;\">\n      <th></th>\n      <th>C1</th>\n      <th>C2</th>\n      <th>C3</th>\n      <th>C4</th>\n      <th>C5</th>\n      <th>C6</th>\n      <th>C7</th>\n      <th>C8</th>\n      <th>C9</th>\n      <th>C10</th>\n      <th>C11</th>\n      <th>C12</th>\n      <th>C13</th>\n      <th>C14</th>\n    </tr>\n  </thead>\n  <tbody>\n    <tr>\n      <th>0</th>\n      <td>64</td>\n      <td>Female</td>\n      <td>Former</td>\n      <td>21.48380</td>\n      <td>Often</td>\n      <td>1298.8</td>\n      <td>57.0</td>\n      <td>6.3</td>\n      <td>0.0</td>\n      <td>170.3</td>\n      <td>1945</td>\n      <td>890</td>\n      <td>200</td>\n      <td>915</td>\n    </tr>\n    <tr>\n      <th>1</th>\n      <td>76</td>\n      <td>Female</td>\n      <td>Never</td>\n      <td>23.87631</td>\n      <td>Often</td>\n      <td>1032.5</td>\n      <td>50.1</td>\n      <td>15.8</td>\n      <td>0.0</td>\n      <td>75.8</td>\n      <td>2653</td>\n      <td>451</td>\n      <td>124</td>\n      <td>727</td>\n    </tr>\n    <tr>\n      <th>2</th>\n      <td>38</td>\n      <td>Female</td>\n      <td>Former</td>\n      <td>20.01080</td>\n      <td>Not often</td>\n      <td>2372.3</td>\n      <td>83.6</td>\n      <td>19.1</td>\n      <td>14.1</td>\n      <td>257.9</td>\n      <td>6321</td>\n      <td>660</td>\n      <td>328</td>\n      <td>721</td>\n    </tr>\n    <tr>\n      <th>3</th>\n      <td>40</td>\n      <td>Female</td>\n      <td>Former</td>\n      <td>25.14062</td>\n      <td>No</td>\n      <td>2449.5</td>\n      <td>97.5</td>\n      <td>26.5</td>\n      <td>0.5</td>\n      <td>332.6</td>\n      <td>1061</td>\n      <td>864</td>\n      <td>153</td>\n      <td>615</td>\n    </tr>\n    <tr>\n      <th>4</th>\n      <td>72</td>\n      <td>Female</td>\n      <td>Never</td>\n      <td>20.98504</td>\n      <td>Often</td>\n      <td>1952.1</td>\n      <td>82.6</td>\n      <td>16.2</td>\n      <td>0.0</td>\n      <td>170.8</td>\n      <td>2863</td>\n      <td>1209</td>\n      <td>92</td>\n      <td>799</td>\n    </tr>\n    <tr>\n      <th>...</th>\n      <td>...</td>\n      <td>...</td>\n      <td>...</td>\n      <td>...</td>\n      <td>...</td>\n      <td>...</td>\n      <td>...</td>\n      <td>...</td>\n      <td>...</td>\n      <td>...</td>\n      <td>...</td>\n      <td>...</td>\n      <td>...</td>\n      <td>...</td>\n    </tr>\n    <tr>\n      <th>310</th>\n      <td>46</td>\n      <td>Female</td>\n      <td>Former</td>\n      <td>25.89669</td>\n      <td>No</td>\n      <td>2263.6</td>\n      <td>98.2</td>\n      <td>19.4</td>\n      <td>2.6</td>\n      <td>306.5</td>\n      <td>2572</td>\n      <td>1261</td>\n      <td>164</td>\n      <td>216</td>\n    </tr>\n    <tr>\n      <th>311</th>\n      <td>45</td>\n      <td>Female</td>\n      <td>Never</td>\n      <td>23.82703</td>\n      <td>Often</td>\n      <td>1841.1</td>\n      <td>84.2</td>\n      <td>14.1</td>\n      <td>2.2</td>\n      <td>257.7</td>\n      <td>1665</td>\n      <td>465</td>\n      <td>80</td>\n      <td>328</td>\n    </tr>\n    <tr>\n      <th>312</th>\n      <td>49</td>\n      <td>Female</td>\n      <td>Never</td>\n      <td>24.26126</td>\n      <td>Often</td>\n      <td>1125.6</td>\n      <td>44.8</td>\n      <td>11.9</td>\n      <td>4.0</td>\n      <td>150.5</td>\n      <td>6943</td>\n      <td>520</td>\n      <td>300</td>\n      <td>502</td>\n    </tr>\n    <tr>\n      <th>313</th>\n      <td>31</td>\n      <td>Female</td>\n      <td>Former</td>\n      <td>23.45255</td>\n      <td>Often</td>\n      <td>2729.6</td>\n      <td>144.4</td>\n      <td>13.2</td>\n      <td>2.2</td>\n      <td>381.8</td>\n      <td>741</td>\n      <td>644</td>\n      <td>121</td>\n      <td>684</td>\n    </tr>\n    <tr>\n      <th>314</th>\n      <td>45</td>\n      <td>Female</td>\n      <td>Never</td>\n      <td>26.50808</td>\n      <td>Often</td>\n      <td>1627.0</td>\n      <td>77.4</td>\n      <td>9.9</td>\n      <td>0.2</td>\n      <td>195.6</td>\n      <td>1242</td>\n      <td>554</td>\n      <td>233</td>\n      <td>826</td>\n    </tr>\n  </tbody>\n</table>\n<p>315 rows × 14 columns</p>\n</div>"
     },
     "execution_count": 3,
     "metadata": {},
     "output_type": "execute_result"
    }
   ],
   "source": [
    "xls = pd.ExcelFile(r'./../table.xls')\n",
    "df = xls.parse(3)\n",
    "df"
   ],
   "metadata": {
    "collapsed": false
   }
  },
  {
   "cell_type": "code",
   "execution_count": 8,
   "outputs": [],
   "source": [
    "X = df.C11.to_numpy()\n",
    "Y = df.C12.to_numpy()"
   ],
   "metadata": {
    "collapsed": false
   }
  },
  {
   "cell_type": "code",
   "execution_count": 9,
   "outputs": [
    {
     "data": {
      "text/plain": "array([1945, 2653, 6321, 1061, 2863, 1729, 5371,  823, 2895, 3307, 1714,\n       2031, 1982, 2120, 1388, 3888, 2194, 3470, 2108, 1157, 1739, 1008,\n        606, 1380, 4916, 4451, 5983, 2413, 3087,  521, 2431, 3141, 1668,\n       4366,  494, 7026, 1529,  241,  998, 6082, 2741, 2100, 2359,  603,\n       1625, 2888, 1099, 2103, 2260,  452, 3549, 2204, 4964, 1052, 3572,\n       2902, 1788, 5111, 1378, 1431, 1727, 2893, 2524, 2533,  982, 1535,\n        326, 1487, 1114, 1080, 2492, 1349, 6948, 1086, 2629, 1307, 1306,\n       3465, 1846, 1334, 4848, 1734, 1120, 1498,  330, 5909, 3326, 2110,\n       2719, 2309, 1153, 1432, 2493, 3054, 1861, 4268, 1652, 1802, 2308,\n       1210,  214, 1370, 2354, 2446, 3473, 3359, 1062, 1489, 3982, 1656,\n        768, 1496,  683,  885, 1662, 1552, 2144, 3567, 1423, 1293, 2111,\n       2874, 1699,  954, 1368, 3318, 2247,  910, 1171, 2077, 1210, 1826,\n       2628,  561, 1893, 1312, 1913,  924,  728, 4387, 1976, 2422, 1407,\n       1301, 1112, 1052, 1008, 1054, 1484,  657,  604, 2912,  869, 1578,\n       1210, 1554, 3445, 3014, 1666, 1462, 1272, 5296, 5605, 2430, 2375,\n       3753,  695, 1649, 2317, 1702, 1007, 2308, 4694, 2749, 1497, 1171,\n       3054, 1488,  829, 1037,  846, 1382, 3407,  758,  599, 1073,  862,\n       4291, 1668, 2809, 2373, 1850, 1352, 2315, 1417, 4504,  998, 4430,\n       3201, 3686, 2131,  852, 2781, 1151, 3970,  808,  843, 2537, 2205,\n        587, 3591, 3434, 2869, 2515,  807,  766,  720,  516, 3785, 1436,\n        613, 1460, 2251, 2029, 8046, 1074, 3556, 1218, 2199, 5810, 1214,\n       2215, 1678, 2579,  925,  404, 2008, 2469,  755, 1718, 2133, 1167,\n        619,  908, 3690, 3425, 2787,  675, 2142, 2299,  544,  604, 6558,\n       2661, 7362, 2583, 1028, 3435, 1527, 2047, 2897, 1987, 4271,  868,\n        578,  953, 1048, 1439, 3324,  921, 1192, 1665, 3610, 3317, 3313,\n       1270, 1915, 4013,  902, 2247, 4832,  577, 1884, 3172, 3102, 1186,\n       1237, 4098, 2889, 1097,  570, 2627,  849, 2174, 1456, 3728, 1987,\n       1022, 2079,  406,  621, 2652, 1745, 2121, 1078, 2672, 4935, 1118,\n       9642, 1392, 2572, 1665, 6943,  741, 1242], dtype=int64)"
     },
     "execution_count": 9,
     "metadata": {},
     "output_type": "execute_result"
    }
   ],
   "source": [
    "X"
   ],
   "metadata": {
    "collapsed": false
   }
  },
  {
   "cell_type": "code",
   "execution_count": 10,
   "outputs": [
    {
     "data": {
      "text/plain": "array([ 890,  451,  660,  864, 1209, 1439,  802, 2571,  944,  493,  535,\n        492, 1105, 1047,  980, 1545,  242,  479,  921,  445,  926,  695,\n        944,  708, 1150,  554,  320,  656, 1199,  975,  914, 1579, 1618,\n       1759,  608,  508,  517,  314,  588,  674,  419, 1083,  834,  473,\n        707,  323,  651,  855,  264,  550,  969,  239,  374,  605,  809,\n       1065,  677, 1359,  685,  724,  898, 1364, 1250,  592,  854,  493,\n        407, 1120,  453,  724, 1310,  860,  417,  464, 1470,  178, 1163,\n        743,  760,  486, 1005, 1215,  619, 1066,  394, 1702,  928, 1458,\n       1323,  578, 1048, 1006,  640, 4041,  783,  341, 1525,  233, 1838,\n       1291,  914,  695,  842,  881, 1326, 1060, 1070,  490,  350,  652,\n        719,  546,  627,  687,  779,  326,  815,  963, 1845, 1101,  950,\n        159, 2263, 1328,  427,  651,  728,  605,  453, 1374,  555,  386,\n        966,  947,  426,  688, 1048,  684,  797,  926,  417,  208, 1335,\n        307,  735,  441,  783,  366,  790,  441,  432, 2104, 1595,  689,\n        795,  675, 1015, 1340,  859,  868,  145,  554,  858,  746, 1284,\n        649,  270,  751,  437, 1224, 6901,  982,  864,  329,  244,  465,\n        629,  706,  887,  239, 2118,  222,  532,  454,  845,  486,  160,\n        661,  666,  482, 1816,  309,  455, 1196,  451,  294,  699,  632,\n       1574,  523,  227,  311,  757,  498,  390,  349, 1616,  295,  824,\n        215, 1178, 2167,  741, 1340,  141,  604,  701,  730,  642,  522,\n        509,  322, 1404,  898,  453,  399,  577,  978,  481,  840, 1119,\n       1450, 1307, 1026,  707, 1050,  638,  538,  417, 1052,  728, 1169,\n         79, 1478, 1113,  859, 1210,  403,  601, 1529,   30,  378,  816,\n        854,  964,  632, 3061, 1104,  822, 1125,  505,  608,  916,  106,\n        319, 1176,  991,  476, 1558,  668,  657,  937, 1825,  766, 1250,\n        544,  594, 1485,  302,  682,  793,  444,  641,  658,  453,  466,\n        285,  909, 1529,  966,  747, 1627,  962, 1814,  443,  587,  670,\n        125,  597,  806,  579, 1098,  445,  426,  416,  294,  422, 1257,\n        634, 1027, 1261,  465,  520,  644,  554], dtype=int64)"
     },
     "execution_count": 10,
     "metadata": {},
     "output_type": "execute_result"
    }
   ],
   "source": [
    "Y"
   ],
   "metadata": {
    "collapsed": false
   }
  },
  {
   "cell_type": "code",
   "execution_count": 13,
   "outputs": [
    {
     "data": {
      "text/plain": "(315,)"
     },
     "execution_count": 13,
     "metadata": {},
     "output_type": "execute_result"
    }
   ],
   "source": [
    "X.shape"
   ],
   "metadata": {
    "collapsed": false
   }
  },
  {
   "cell_type": "code",
   "execution_count": null,
   "outputs": [],
   "source": [],
   "metadata": {
    "collapsed": false
   }
  }
 ],
 "metadata": {
  "kernelspec": {
   "display_name": "Python 3",
   "language": "python",
   "name": "python3"
  },
  "language_info": {
   "codemirror_mode": {
    "name": "ipython",
    "version": 2
   },
   "file_extension": ".py",
   "mimetype": "text/x-python",
   "name": "python",
   "nbconvert_exporter": "python",
   "pygments_lexer": "ipython2",
   "version": "2.7.6"
  }
 },
 "nbformat": 4,
 "nbformat_minor": 0
}
