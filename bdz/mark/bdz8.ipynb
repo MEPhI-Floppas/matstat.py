{
 "cells": [
  {
   "cell_type": "code",
   "execution_count": 1,
   "metadata": {
    "collapsed": true
   },
   "outputs": [],
   "source": [
    "import numpy as np  # библиотека для матриц и математики\n",
    "import pandas as pd  # библиотека для работы с табличками\n",
    "from scipy import stats  # модуль для работы со статистикой\n",
    "import scipy\n",
    "\n",
    "# библиотеки для визуализации\n",
    "import matplotlib.pyplot as plt\n",
    "import seaborn as sb\n",
    "\n",
    "import math\n",
    "\n",
    "plt.style.use('ggplot')  # стиль графиков\n",
    "\n",
    "%matplotlib inline"
   ]
  },
  {
   "cell_type": "markdown",
   "source": [
    "# 8.1"
   ],
   "metadata": {
    "collapsed": false
   }
  },
  {
   "cell_type": "code",
   "execution_count": 2,
   "outputs": [
    {
     "data": {
      "text/plain": "     C1      C2      C3        C4         C5      C6     C7    C8    C9  \\\n0    64  Female  Former  21.48380      Often  1298.8   57.0   6.3   0.0   \n1    76  Female   Never  23.87631      Often  1032.5   50.1  15.8   0.0   \n2    38  Female  Former  20.01080  Not often  2372.3   83.6  19.1  14.1   \n3    40  Female  Former  25.14062         No  2449.5   97.5  26.5   0.5   \n4    72  Female   Never  20.98504      Often  1952.1   82.6  16.2   0.0   \n..   ..     ...     ...       ...        ...     ...    ...   ...   ...   \n310  46  Female  Former  25.89669         No  2263.6   98.2  19.4   2.6   \n311  45  Female   Never  23.82703      Often  1841.1   84.2  14.1   2.2   \n312  49  Female   Never  24.26126      Often  1125.6   44.8  11.9   4.0   \n313  31  Female  Former  23.45255      Often  2729.6  144.4  13.2   2.2   \n314  45  Female   Never  26.50808      Often  1627.0   77.4   9.9   0.2   \n\n       C10   C11   C12  C13  C14  \n0    170.3  1945   890  200  915  \n1     75.8  2653   451  124  727  \n2    257.9  6321   660  328  721  \n3    332.6  1061   864  153  615  \n4    170.8  2863  1209   92  799  \n..     ...   ...   ...  ...  ...  \n310  306.5  2572  1261  164  216  \n311  257.7  1665   465   80  328  \n312  150.5  6943   520  300  502  \n313  381.8   741   644  121  684  \n314  195.6  1242   554  233  826  \n\n[315 rows x 14 columns]",
      "text/html": "<div>\n<style scoped>\n    .dataframe tbody tr th:only-of-type {\n        vertical-align: middle;\n    }\n\n    .dataframe tbody tr th {\n        vertical-align: top;\n    }\n\n    .dataframe thead th {\n        text-align: right;\n    }\n</style>\n<table border=\"1\" class=\"dataframe\">\n  <thead>\n    <tr style=\"text-align: right;\">\n      <th></th>\n      <th>C1</th>\n      <th>C2</th>\n      <th>C3</th>\n      <th>C4</th>\n      <th>C5</th>\n      <th>C6</th>\n      <th>C7</th>\n      <th>C8</th>\n      <th>C9</th>\n      <th>C10</th>\n      <th>C11</th>\n      <th>C12</th>\n      <th>C13</th>\n      <th>C14</th>\n    </tr>\n  </thead>\n  <tbody>\n    <tr>\n      <th>0</th>\n      <td>64</td>\n      <td>Female</td>\n      <td>Former</td>\n      <td>21.48380</td>\n      <td>Often</td>\n      <td>1298.8</td>\n      <td>57.0</td>\n      <td>6.3</td>\n      <td>0.0</td>\n      <td>170.3</td>\n      <td>1945</td>\n      <td>890</td>\n      <td>200</td>\n      <td>915</td>\n    </tr>\n    <tr>\n      <th>1</th>\n      <td>76</td>\n      <td>Female</td>\n      <td>Never</td>\n      <td>23.87631</td>\n      <td>Often</td>\n      <td>1032.5</td>\n      <td>50.1</td>\n      <td>15.8</td>\n      <td>0.0</td>\n      <td>75.8</td>\n      <td>2653</td>\n      <td>451</td>\n      <td>124</td>\n      <td>727</td>\n    </tr>\n    <tr>\n      <th>2</th>\n      <td>38</td>\n      <td>Female</td>\n      <td>Former</td>\n      <td>20.01080</td>\n      <td>Not often</td>\n      <td>2372.3</td>\n      <td>83.6</td>\n      <td>19.1</td>\n      <td>14.1</td>\n      <td>257.9</td>\n      <td>6321</td>\n      <td>660</td>\n      <td>328</td>\n      <td>721</td>\n    </tr>\n    <tr>\n      <th>3</th>\n      <td>40</td>\n      <td>Female</td>\n      <td>Former</td>\n      <td>25.14062</td>\n      <td>No</td>\n      <td>2449.5</td>\n      <td>97.5</td>\n      <td>26.5</td>\n      <td>0.5</td>\n      <td>332.6</td>\n      <td>1061</td>\n      <td>864</td>\n      <td>153</td>\n      <td>615</td>\n    </tr>\n    <tr>\n      <th>4</th>\n      <td>72</td>\n      <td>Female</td>\n      <td>Never</td>\n      <td>20.98504</td>\n      <td>Often</td>\n      <td>1952.1</td>\n      <td>82.6</td>\n      <td>16.2</td>\n      <td>0.0</td>\n      <td>170.8</td>\n      <td>2863</td>\n      <td>1209</td>\n      <td>92</td>\n      <td>799</td>\n    </tr>\n    <tr>\n      <th>...</th>\n      <td>...</td>\n      <td>...</td>\n      <td>...</td>\n      <td>...</td>\n      <td>...</td>\n      <td>...</td>\n      <td>...</td>\n      <td>...</td>\n      <td>...</td>\n      <td>...</td>\n      <td>...</td>\n      <td>...</td>\n      <td>...</td>\n      <td>...</td>\n    </tr>\n    <tr>\n      <th>310</th>\n      <td>46</td>\n      <td>Female</td>\n      <td>Former</td>\n      <td>25.89669</td>\n      <td>No</td>\n      <td>2263.6</td>\n      <td>98.2</td>\n      <td>19.4</td>\n      <td>2.6</td>\n      <td>306.5</td>\n      <td>2572</td>\n      <td>1261</td>\n      <td>164</td>\n      <td>216</td>\n    </tr>\n    <tr>\n      <th>311</th>\n      <td>45</td>\n      <td>Female</td>\n      <td>Never</td>\n      <td>23.82703</td>\n      <td>Often</td>\n      <td>1841.1</td>\n      <td>84.2</td>\n      <td>14.1</td>\n      <td>2.2</td>\n      <td>257.7</td>\n      <td>1665</td>\n      <td>465</td>\n      <td>80</td>\n      <td>328</td>\n    </tr>\n    <tr>\n      <th>312</th>\n      <td>49</td>\n      <td>Female</td>\n      <td>Never</td>\n      <td>24.26126</td>\n      <td>Often</td>\n      <td>1125.6</td>\n      <td>44.8</td>\n      <td>11.9</td>\n      <td>4.0</td>\n      <td>150.5</td>\n      <td>6943</td>\n      <td>520</td>\n      <td>300</td>\n      <td>502</td>\n    </tr>\n    <tr>\n      <th>313</th>\n      <td>31</td>\n      <td>Female</td>\n      <td>Former</td>\n      <td>23.45255</td>\n      <td>Often</td>\n      <td>2729.6</td>\n      <td>144.4</td>\n      <td>13.2</td>\n      <td>2.2</td>\n      <td>381.8</td>\n      <td>741</td>\n      <td>644</td>\n      <td>121</td>\n      <td>684</td>\n    </tr>\n    <tr>\n      <th>314</th>\n      <td>45</td>\n      <td>Female</td>\n      <td>Never</td>\n      <td>26.50808</td>\n      <td>Often</td>\n      <td>1627.0</td>\n      <td>77.4</td>\n      <td>9.9</td>\n      <td>0.2</td>\n      <td>195.6</td>\n      <td>1242</td>\n      <td>554</td>\n      <td>233</td>\n      <td>826</td>\n    </tr>\n  </tbody>\n</table>\n<p>315 rows × 14 columns</p>\n</div>"
     },
     "execution_count": 2,
     "metadata": {},
     "output_type": "execute_result"
    }
   ],
   "source": [
    "xls = pd.ExcelFile(r'./../table.xls')\n",
    "df = xls.parse(3)\n",
    "df"
   ],
   "metadata": {
    "collapsed": false
   }
  },
  {
   "cell_type": "code",
   "execution_count": 3,
   "outputs": [],
   "source": [
    "X = df.C11.to_numpy()\n",
    "Y = df.C12.to_numpy()"
   ],
   "metadata": {
    "collapsed": false
   }
  },
  {
   "cell_type": "code",
   "execution_count": 4,
   "outputs": [
    {
     "data": {
      "text/plain": "array([1945, 2653, 6321, 1061, 2863, 1729, 5371,  823, 2895, 3307, 1714,\n       2031, 1982, 2120, 1388, 3888, 2194, 3470, 2108, 1157, 1739, 1008,\n        606, 1380, 4916, 4451, 5983, 2413, 3087,  521, 2431, 3141, 1668,\n       4366,  494, 7026, 1529,  241,  998, 6082, 2741, 2100, 2359,  603,\n       1625, 2888, 1099, 2103, 2260,  452, 3549, 2204, 4964, 1052, 3572,\n       2902, 1788, 5111, 1378, 1431, 1727, 2893, 2524, 2533,  982, 1535,\n        326, 1487, 1114, 1080, 2492, 1349, 6948, 1086, 2629, 1307, 1306,\n       3465, 1846, 1334, 4848, 1734, 1120, 1498,  330, 5909, 3326, 2110,\n       2719, 2309, 1153, 1432, 2493, 3054, 1861, 4268, 1652, 1802, 2308,\n       1210,  214, 1370, 2354, 2446, 3473, 3359, 1062, 1489, 3982, 1656,\n        768, 1496,  683,  885, 1662, 1552, 2144, 3567, 1423, 1293, 2111,\n       2874, 1699,  954, 1368, 3318, 2247,  910, 1171, 2077, 1210, 1826,\n       2628,  561, 1893, 1312, 1913,  924,  728, 4387, 1976, 2422, 1407,\n       1301, 1112, 1052, 1008, 1054, 1484,  657,  604, 2912,  869, 1578,\n       1210, 1554, 3445, 3014, 1666, 1462, 1272, 5296, 5605, 2430, 2375,\n       3753,  695, 1649, 2317, 1702, 1007, 2308, 4694, 2749, 1497, 1171,\n       3054, 1488,  829, 1037,  846, 1382, 3407,  758,  599, 1073,  862,\n       4291, 1668, 2809, 2373, 1850, 1352, 2315, 1417, 4504,  998, 4430,\n       3201, 3686, 2131,  852, 2781, 1151, 3970,  808,  843, 2537, 2205,\n        587, 3591, 3434, 2869, 2515,  807,  766,  720,  516, 3785, 1436,\n        613, 1460, 2251, 2029, 8046, 1074, 3556, 1218, 2199, 5810, 1214,\n       2215, 1678, 2579,  925,  404, 2008, 2469,  755, 1718, 2133, 1167,\n        619,  908, 3690, 3425, 2787,  675, 2142, 2299,  544,  604, 6558,\n       2661, 7362, 2583, 1028, 3435, 1527, 2047, 2897, 1987, 4271,  868,\n        578,  953, 1048, 1439, 3324,  921, 1192, 1665, 3610, 3317, 3313,\n       1270, 1915, 4013,  902, 2247, 4832,  577, 1884, 3172, 3102, 1186,\n       1237, 4098, 2889, 1097,  570, 2627,  849, 2174, 1456, 3728, 1987,\n       1022, 2079,  406,  621, 2652, 1745, 2121, 1078, 2672, 4935, 1118,\n       9642, 1392, 2572, 1665, 6943,  741, 1242], dtype=int64)"
     },
     "execution_count": 4,
     "metadata": {},
     "output_type": "execute_result"
    }
   ],
   "source": [
    "X"
   ],
   "metadata": {
    "collapsed": false
   }
  },
  {
   "cell_type": "code",
   "execution_count": 5,
   "outputs": [
    {
     "data": {
      "text/plain": "array([ 890,  451,  660,  864, 1209, 1439,  802, 2571,  944,  493,  535,\n        492, 1105, 1047,  980, 1545,  242,  479,  921,  445,  926,  695,\n        944,  708, 1150,  554,  320,  656, 1199,  975,  914, 1579, 1618,\n       1759,  608,  508,  517,  314,  588,  674,  419, 1083,  834,  473,\n        707,  323,  651,  855,  264,  550,  969,  239,  374,  605,  809,\n       1065,  677, 1359,  685,  724,  898, 1364, 1250,  592,  854,  493,\n        407, 1120,  453,  724, 1310,  860,  417,  464, 1470,  178, 1163,\n        743,  760,  486, 1005, 1215,  619, 1066,  394, 1702,  928, 1458,\n       1323,  578, 1048, 1006,  640, 4041,  783,  341, 1525,  233, 1838,\n       1291,  914,  695,  842,  881, 1326, 1060, 1070,  490,  350,  652,\n        719,  546,  627,  687,  779,  326,  815,  963, 1845, 1101,  950,\n        159, 2263, 1328,  427,  651,  728,  605,  453, 1374,  555,  386,\n        966,  947,  426,  688, 1048,  684,  797,  926,  417,  208, 1335,\n        307,  735,  441,  783,  366,  790,  441,  432, 2104, 1595,  689,\n        795,  675, 1015, 1340,  859,  868,  145,  554,  858,  746, 1284,\n        649,  270,  751,  437, 1224, 6901,  982,  864,  329,  244,  465,\n        629,  706,  887,  239, 2118,  222,  532,  454,  845,  486,  160,\n        661,  666,  482, 1816,  309,  455, 1196,  451,  294,  699,  632,\n       1574,  523,  227,  311,  757,  498,  390,  349, 1616,  295,  824,\n        215, 1178, 2167,  741, 1340,  141,  604,  701,  730,  642,  522,\n        509,  322, 1404,  898,  453,  399,  577,  978,  481,  840, 1119,\n       1450, 1307, 1026,  707, 1050,  638,  538,  417, 1052,  728, 1169,\n         79, 1478, 1113,  859, 1210,  403,  601, 1529,   30,  378,  816,\n        854,  964,  632, 3061, 1104,  822, 1125,  505,  608,  916,  106,\n        319, 1176,  991,  476, 1558,  668,  657,  937, 1825,  766, 1250,\n        544,  594, 1485,  302,  682,  793,  444,  641,  658,  453,  466,\n        285,  909, 1529,  966,  747, 1627,  962, 1814,  443,  587,  670,\n        125,  597,  806,  579, 1098,  445,  426,  416,  294,  422, 1257,\n        634, 1027, 1261,  465,  520,  644,  554], dtype=int64)"
     },
     "execution_count": 5,
     "metadata": {},
     "output_type": "execute_result"
    }
   ],
   "source": [
    "Y"
   ],
   "metadata": {
    "collapsed": false
   }
  },
  {
   "cell_type": "code",
   "execution_count": 6,
   "outputs": [
    {
     "data": {
      "text/plain": "(315,)"
     },
     "execution_count": 6,
     "metadata": {},
     "output_type": "execute_result"
    }
   ],
   "source": [
    "X.shape"
   ],
   "metadata": {
    "collapsed": false
   }
  },
  {
   "cell_type": "code",
   "execution_count": 7,
   "outputs": [
    {
     "data": {
      "text/plain": "PearsonRResult(statistic=0.052866903502100424, pvalue=0.3496757486979311)"
     },
     "execution_count": 7,
     "metadata": {},
     "output_type": "execute_result"
    }
   ],
   "source": [
    "stats.pearsonr(X, Y)\n"
   ],
   "metadata": {
    "collapsed": false
   }
  },
  {
   "cell_type": "code",
   "execution_count": 8,
   "outputs": [
    {
     "data": {
      "text/plain": "SpearmanrResult(correlation=0.1962857839707222, pvalue=0.0004582828568191489)"
     },
     "execution_count": 8,
     "metadata": {},
     "output_type": "execute_result"
    }
   ],
   "source": [
    "stats.spearmanr(X, Y)\n"
   ],
   "metadata": {
    "collapsed": false
   }
  },
  {
   "cell_type": "code",
   "execution_count": 9,
   "outputs": [
    {
     "data": {
      "text/plain": "KendalltauResult(correlation=0.1328626107882256, pvalue=0.0004387531397532802)"
     },
     "execution_count": 9,
     "metadata": {},
     "output_type": "execute_result"
    }
   ],
   "source": [
    "stats.kendalltau(X, Y)\n"
   ],
   "metadata": {
    "collapsed": false
   }
  },
  {
   "cell_type": "markdown",
   "source": [],
   "metadata": {
    "collapsed": false
   }
  },
  {
   "cell_type": "code",
   "execution_count": 10,
   "outputs": [
    {
     "name": "stdout",
     "output_type": "stream",
     "text": [
      "alpha = 0.01\n",
      "lower: -0.09177532548783002\n",
      "higher: 0.19767649485803723\n",
      "\n",
      "alpha = 0.05\n",
      "lower: -0.05717222942292522\n",
      "higher: 0.16307339879313246\n",
      "\n",
      "alpha = 0.1\n",
      "lower: -0.03946739422903508\n",
      "higher: 0.1453685635992423\n",
      "\n"
     ]
    }
   ],
   "source": [
    "std1 = X.std()\n",
    "std2 = Y.std()\n",
    "mean1 = X.mean()\n",
    "mean2 = Y.mean()\n",
    "n = X.shape[0]\n",
    "\n",
    "r, _ = stats.pearsonr(X, Y)\n",
    "\n",
    "for alpha in [0.01, 0.05, 0.1]:\n",
    "    print(f'{alpha = }')\n",
    "    quantile = stats.norm(loc=0, scale=1).ppf(1 - (alpha / 2))\n",
    "\n",
    "    a = r + (r * (1 - r ** 2) / (2 * n)) - ((1 - r ** 2) / n ** (1 / 2)) * quantile\n",
    "    b = r + (r * (1 - r ** 2) / (2 * n)) + ((1 - r ** 2) / n ** (1 / 2)) * quantile\n",
    "    print(f'lower: {a}')\n",
    "    print(f'higher: {b}')\n",
    "    print()"
   ],
   "metadata": {
    "collapsed": false
   }
  },
  {
   "cell_type": "code",
   "execution_count": 11,
   "outputs": [],
   "source": [
    "# a_ranked = np.apply_along_axis(stats.rankdata, 0, np.column_stack((X, Y)))\n",
    "# a_ranked"
   ],
   "metadata": {
    "collapsed": false
   }
  },
  {
   "cell_type": "code",
   "execution_count": 12,
   "outputs": [],
   "source": [
    "# rs = np.corrcoef(a_ranked, rowvar=0)\n",
    "# rs"
   ],
   "metadata": {
    "collapsed": false
   }
  },
  {
   "cell_type": "markdown",
   "source": [
    "## Пирсон"
   ],
   "metadata": {
    "collapsed": false
   }
  },
  {
   "cell_type": "code",
   "execution_count": 13,
   "outputs": [
    {
     "data": {
      "text/plain": "(0.936620802281408, 0.3496757486979525)"
     },
     "execution_count": 13,
     "metadata": {},
     "output_type": "execute_result"
    }
   ],
   "source": [
    "dof = n - 2  # degrees of freedom\n",
    "\n",
    "r, _ = stats.pearsonr(X, Y)\n",
    "\n",
    "# rs can have elements equal to 1, so avoid zero division warnings\n",
    "\n",
    "# clip the small negative values possibly caused by rounding\n",
    "# errors before taking the square root\n",
    "z = r * np.sqrt(dof / (1 - r ** 2))\n",
    "f_z = stats.t(n - 2).cdf(z)\n",
    "p_value = 2 * min(f_z, 1 - f_z)\n",
    "\n",
    "z, p_value"
   ],
   "metadata": {
    "collapsed": false
   }
  },
  {
   "cell_type": "markdown",
   "source": [
    "## Спирмен"
   ],
   "metadata": {
    "collapsed": false
   }
  },
  {
   "cell_type": "code",
   "execution_count": 14,
   "outputs": [
    {
     "data": {
      "text/plain": "(3.5415446347649637, 0.0004582828568191477)"
     },
     "execution_count": 14,
     "metadata": {},
     "output_type": "execute_result"
    }
   ],
   "source": [
    "dof = n - 2  # degrees of freedom\n",
    "\n",
    "r, _ = stats.spearmanr(X, Y)\n",
    "\n",
    "# rs can have elements equal to 1, so avoid zero division warnings\n",
    "with np.errstate(divide='ignore'):\n",
    "    # clip the small negative values possibly caused by rounding\n",
    "    # errors before taking the square root\n",
    "    z = r * np.sqrt((dof / (1 - r ** 2)))\n",
    "    f_z = stats.t(n - 2).cdf(z)\n",
    "    p_value = 2 * min(f_z, 1 - f_z)\n",
    "\n",
    "z, p_value"
   ],
   "metadata": {
    "collapsed": false
   }
  },
  {
   "cell_type": "markdown",
   "source": [
    "## Кендалл"
   ],
   "metadata": {
    "collapsed": false
   }
  },
  {
   "cell_type": "code",
   "execution_count": 15,
   "outputs": [
    {
     "data": {
      "text/plain": "(3.5287508408869828, 0.00041752603824707357)"
     },
     "execution_count": 15,
     "metadata": {},
     "output_type": "execute_result"
    }
   ],
   "source": [
    "r, _ = stats.kendalltau(X, Y)\n",
    "\n",
    "z = r * np.sqrt((9 * n * (n + 1)) / (2 * (2 * n + 5)))\n",
    "f_z = stats.norm(loc=0, scale=1).cdf(z)\n",
    "p_value = 2 * min(f_z, 1 - f_z)\n",
    "\n",
    "z, p_value"
   ],
   "metadata": {
    "collapsed": false
   }
  },
  {
   "cell_type": "markdown",
   "source": [
    "# 8.2"
   ],
   "metadata": {
    "collapsed": false
   }
  },
  {
   "cell_type": "code",
   "execution_count": 16,
   "outputs": [
    {
     "data": {
      "text/plain": "     C1      C2      C3        C4         C5      C6     C7    C8    C9  \\\n0    64  Female  Former  21.48380      Often  1298.8   57.0   6.3   0.0   \n1    76  Female   Never  23.87631      Often  1032.5   50.1  15.8   0.0   \n2    38  Female  Former  20.01080  Not often  2372.3   83.6  19.1  14.1   \n3    40  Female  Former  25.14062         No  2449.5   97.5  26.5   0.5   \n4    72  Female   Never  20.98504      Often  1952.1   82.6  16.2   0.0   \n..   ..     ...     ...       ...        ...     ...    ...   ...   ...   \n310  46  Female  Former  25.89669         No  2263.6   98.2  19.4   2.6   \n311  45  Female   Never  23.82703      Often  1841.1   84.2  14.1   2.2   \n312  49  Female   Never  24.26126      Often  1125.6   44.8  11.9   4.0   \n313  31  Female  Former  23.45255      Often  2729.6  144.4  13.2   2.2   \n314  45  Female   Never  26.50808      Often  1627.0   77.4   9.9   0.2   \n\n       C10   C11   C12  C13  C14  \n0    170.3  1945   890  200  915  \n1     75.8  2653   451  124  727  \n2    257.9  6321   660  328  721  \n3    332.6  1061   864  153  615  \n4    170.8  2863  1209   92  799  \n..     ...   ...   ...  ...  ...  \n310  306.5  2572  1261  164  216  \n311  257.7  1665   465   80  328  \n312  150.5  6943   520  300  502  \n313  381.8   741   644  121  684  \n314  195.6  1242   554  233  826  \n\n[315 rows x 14 columns]",
      "text/html": "<div>\n<style scoped>\n    .dataframe tbody tr th:only-of-type {\n        vertical-align: middle;\n    }\n\n    .dataframe tbody tr th {\n        vertical-align: top;\n    }\n\n    .dataframe thead th {\n        text-align: right;\n    }\n</style>\n<table border=\"1\" class=\"dataframe\">\n  <thead>\n    <tr style=\"text-align: right;\">\n      <th></th>\n      <th>C1</th>\n      <th>C2</th>\n      <th>C3</th>\n      <th>C4</th>\n      <th>C5</th>\n      <th>C6</th>\n      <th>C7</th>\n      <th>C8</th>\n      <th>C9</th>\n      <th>C10</th>\n      <th>C11</th>\n      <th>C12</th>\n      <th>C13</th>\n      <th>C14</th>\n    </tr>\n  </thead>\n  <tbody>\n    <tr>\n      <th>0</th>\n      <td>64</td>\n      <td>Female</td>\n      <td>Former</td>\n      <td>21.48380</td>\n      <td>Often</td>\n      <td>1298.8</td>\n      <td>57.0</td>\n      <td>6.3</td>\n      <td>0.0</td>\n      <td>170.3</td>\n      <td>1945</td>\n      <td>890</td>\n      <td>200</td>\n      <td>915</td>\n    </tr>\n    <tr>\n      <th>1</th>\n      <td>76</td>\n      <td>Female</td>\n      <td>Never</td>\n      <td>23.87631</td>\n      <td>Often</td>\n      <td>1032.5</td>\n      <td>50.1</td>\n      <td>15.8</td>\n      <td>0.0</td>\n      <td>75.8</td>\n      <td>2653</td>\n      <td>451</td>\n      <td>124</td>\n      <td>727</td>\n    </tr>\n    <tr>\n      <th>2</th>\n      <td>38</td>\n      <td>Female</td>\n      <td>Former</td>\n      <td>20.01080</td>\n      <td>Not often</td>\n      <td>2372.3</td>\n      <td>83.6</td>\n      <td>19.1</td>\n      <td>14.1</td>\n      <td>257.9</td>\n      <td>6321</td>\n      <td>660</td>\n      <td>328</td>\n      <td>721</td>\n    </tr>\n    <tr>\n      <th>3</th>\n      <td>40</td>\n      <td>Female</td>\n      <td>Former</td>\n      <td>25.14062</td>\n      <td>No</td>\n      <td>2449.5</td>\n      <td>97.5</td>\n      <td>26.5</td>\n      <td>0.5</td>\n      <td>332.6</td>\n      <td>1061</td>\n      <td>864</td>\n      <td>153</td>\n      <td>615</td>\n    </tr>\n    <tr>\n      <th>4</th>\n      <td>72</td>\n      <td>Female</td>\n      <td>Never</td>\n      <td>20.98504</td>\n      <td>Often</td>\n      <td>1952.1</td>\n      <td>82.6</td>\n      <td>16.2</td>\n      <td>0.0</td>\n      <td>170.8</td>\n      <td>2863</td>\n      <td>1209</td>\n      <td>92</td>\n      <td>799</td>\n    </tr>\n    <tr>\n      <th>...</th>\n      <td>...</td>\n      <td>...</td>\n      <td>...</td>\n      <td>...</td>\n      <td>...</td>\n      <td>...</td>\n      <td>...</td>\n      <td>...</td>\n      <td>...</td>\n      <td>...</td>\n      <td>...</td>\n      <td>...</td>\n      <td>...</td>\n      <td>...</td>\n    </tr>\n    <tr>\n      <th>310</th>\n      <td>46</td>\n      <td>Female</td>\n      <td>Former</td>\n      <td>25.89669</td>\n      <td>No</td>\n      <td>2263.6</td>\n      <td>98.2</td>\n      <td>19.4</td>\n      <td>2.6</td>\n      <td>306.5</td>\n      <td>2572</td>\n      <td>1261</td>\n      <td>164</td>\n      <td>216</td>\n    </tr>\n    <tr>\n      <th>311</th>\n      <td>45</td>\n      <td>Female</td>\n      <td>Never</td>\n      <td>23.82703</td>\n      <td>Often</td>\n      <td>1841.1</td>\n      <td>84.2</td>\n      <td>14.1</td>\n      <td>2.2</td>\n      <td>257.7</td>\n      <td>1665</td>\n      <td>465</td>\n      <td>80</td>\n      <td>328</td>\n    </tr>\n    <tr>\n      <th>312</th>\n      <td>49</td>\n      <td>Female</td>\n      <td>Never</td>\n      <td>24.26126</td>\n      <td>Often</td>\n      <td>1125.6</td>\n      <td>44.8</td>\n      <td>11.9</td>\n      <td>4.0</td>\n      <td>150.5</td>\n      <td>6943</td>\n      <td>520</td>\n      <td>300</td>\n      <td>502</td>\n    </tr>\n    <tr>\n      <th>313</th>\n      <td>31</td>\n      <td>Female</td>\n      <td>Former</td>\n      <td>23.45255</td>\n      <td>Often</td>\n      <td>2729.6</td>\n      <td>144.4</td>\n      <td>13.2</td>\n      <td>2.2</td>\n      <td>381.8</td>\n      <td>741</td>\n      <td>644</td>\n      <td>121</td>\n      <td>684</td>\n    </tr>\n    <tr>\n      <th>314</th>\n      <td>45</td>\n      <td>Female</td>\n      <td>Never</td>\n      <td>26.50808</td>\n      <td>Often</td>\n      <td>1627.0</td>\n      <td>77.4</td>\n      <td>9.9</td>\n      <td>0.2</td>\n      <td>195.6</td>\n      <td>1242</td>\n      <td>554</td>\n      <td>233</td>\n      <td>826</td>\n    </tr>\n  </tbody>\n</table>\n<p>315 rows × 14 columns</p>\n</div>"
     },
     "execution_count": 16,
     "metadata": {},
     "output_type": "execute_result"
    }
   ],
   "source": [
    "df"
   ],
   "metadata": {
    "collapsed": false
   }
  },
  {
   "cell_type": "code",
   "execution_count": 17,
   "outputs": [],
   "source": [
    "X1 = df.C9.to_numpy()\n",
    "X2 = df.C10.to_numpy()\n",
    "X3 = df.C11.to_numpy()"
   ],
   "metadata": {
    "collapsed": false
   }
  },
  {
   "cell_type": "code",
   "execution_count": 18,
   "outputs": [
    {
     "data": {
      "text/plain": "array([0.00e+00, 0.00e+00, 1.41e+01, 5.00e-01, 0.00e+00, 1.30e+00,\n       0.00e+00, 0.00e+00, 6.00e-01, 0.00e+00, 1.00e+00, 0.00e+00,\n       9.00e-01, 0.00e+00, 0.00e+00, 2.00e+01, 1.41e+01, 7.00e+00,\n       0.00e+00, 5.00e+00, 7.10e+00, 2.30e+00, 1.80e+01, 4.70e+00,\n       5.00e-01, 3.00e+00, 0.00e+00, 0.00e+00, 0.00e+00, 2.00e+00,\n       0.00e+00, 4.10e+00, 1.00e-01, 3.00e-01, 8.00e+00, 0.00e+00,\n       5.00e-01, 1.00e-01, 0.00e+00, 7.00e-01, 0.00e+00, 2.00e-01,\n       9.00e-01, 1.00e+00, 1.00e-01, 3.20e+00, 0.00e+00, 7.20e+00,\n       0.00e+00, 1.40e+01, 7.30e+00, 2.00e-01, 6.50e+00, 1.00e+01,\n       0.00e+00, 7.00e-01, 3.20e+00, 2.00e-01, 1.30e+00, 4.90e+00,\n       0.00e+00, 2.03e+02, 1.70e+00, 3.10e+00, 0.00e+00, 5.60e+00,\n       0.00e+00, 7.00e-01, 3.70e+00, 2.00e+00, 3.00e-01, 0.00e+00,\n       6.20e+00, 7.20e+00, 1.05e+01, 7.20e+00, 5.00e-01, 1.82e+01,\n       3.20e+00, 2.10e+01, 0.00e+00, 1.00e+00, 7.00e-01, 0.00e+00,\n       6.40e+00, 0.00e+00, 1.00e-01, 7.00e+00, 0.00e+00, 0.00e+00,\n       3.00e+00, 6.80e+00, 2.00e-01, 0.00e+00, 1.80e+01, 9.00e-01,\n       3.00e-01, 1.00e-01, 1.10e+01, 0.00e+00, 0.00e+00, 3.00e-01,\n       0.00e+00, 2.00e-01, 0.00e+00, 8.00e+00, 1.00e+00, 4.10e+00,\n       0.00e+00, 4.20e+00, 0.00e+00, 8.50e+00, 3.00e-01, 0.00e+00,\n       0.00e+00, 0.00e+00, 2.90e+00, 0.00e+00, 5.00e+00, 0.00e+00,\n       0.00e+00, 1.00e+00, 1.00e-01, 0.00e+00, 4.00e+00, 7.00e+00,\n       1.10e+00, 2.00e+00, 0.00e+00, 1.20e+00, 6.20e+00, 0.00e+00,\n       0.00e+00, 3.70e+00, 0.00e+00, 1.00e-01, 0.00e+00, 0.00e+00,\n       0.00e+00, 2.20e+01, 7.00e+00, 0.00e+00, 6.70e+00, 0.00e+00,\n       3.50e+01, 0.00e+00, 1.00e-01, 1.20e+00, 2.00e+00, 2.00e-01,\n       5.00e-01, 1.00e-01, 0.00e+00, 0.00e+00, 1.00e-01, 0.00e+00,\n       0.00e+00, 0.00e+00, 0.00e+00, 0.00e+00, 8.00e-01, 1.10e+01,\n       0.00e+00, 2.00e+00, 2.00e+00, 1.00e-01, 2.00e-01, 9.00e-01,\n       1.00e+00, 2.00e-01, 6.50e+00, 0.00e+00, 7.00e-01, 1.05e+01,\n       1.00e-01, 5.20e+00, 7.20e+00, 1.00e+00, 5.00e-01, 0.00e+00,\n       1.00e+00, 0.00e+00, 2.50e+00, 5.00e+00, 0.00e+00, 0.00e+00,\n       0.00e+00, 3.20e+00, 1.50e+00, 0.00e+00, 0.00e+00, 2.10e+00,\n       1.00e-01, 2.00e-01, 2.00e-01, 5.00e-01, 2.00e-01, 1.20e+00,\n       1.70e+00, 0.00e+00, 1.10e+01, 3.00e+00, 0.00e+00, 0.00e+00,\n       0.00e+00, 3.00e-01, 0.00e+00, 1.50e+01, 1.00e-01, 0.00e+00,\n       7.00e-01, 4.10e+00, 0.00e+00, 2.00e-01, 0.00e+00, 0.00e+00,\n       2.00e-01, 2.00e-01, 4.50e+00, 0.00e+00, 1.00e+00, 0.00e+00,\n       0.00e+00, 1.00e-01, 1.00e+00, 0.00e+00, 9.00e-01, 1.00e-01,\n       1.50e+00, 0.00e+00, 0.00e+00, 0.00e+00, 0.00e+00, 0.00e+00,\n       1.00e-01, 0.00e+00, 6.10e+00, 7.20e+00, 0.00e+00, 1.00e+00,\n       1.30e+00, 5.70e+00, 1.00e-01, 0.00e+00, 0.00e+00, 0.00e+00,\n       0.00e+00, 3.00e+00, 1.00e-01, 8.40e+00, 1.40e+01, 2.40e+00,\n       8.00e-01, 0.00e+00, 4.00e+00, 1.55e+01, 0.00e+00, 5.00e-01,\n       8.00e+00, 1.00e-01, 1.00e-01, 7.10e+00, 6.00e-01, 0.00e+00,\n       1.20e+00, 1.00e-01, 5.00e+00, 0.00e+00, 1.40e+00, 1.50e+00,\n       0.00e+00, 2.00e-01, 1.42e+01, 7.00e+00, 2.00e-01, 0.00e+00,\n       7.00e-01, 1.00e-01, 5.00e-01, 1.00e+00, 6.00e-01, 0.00e+00,\n       1.70e+01, 0.00e+00, 2.00e-01, 0.00e+00, 0.00e+00, 0.00e+00,\n       0.00e+00, 5.00e-01, 0.00e+00, 3.40e+00, 0.00e+00, 2.00e-01,\n       3.50e+00, 1.50e+01, 1.00e-01, 1.00e+01, 5.00e+00, 0.00e+00,\n       1.00e-01, 8.30e+00, 0.00e+00, 7.00e-01, 1.41e+01, 0.00e+00,\n       0.00e+00, 3.50e+01, 4.50e+00, 9.00e+00, 2.60e+00, 2.20e+00,\n       4.00e+00, 2.20e+00, 2.00e-01])"
     },
     "execution_count": 18,
     "metadata": {},
     "output_type": "execute_result"
    }
   ],
   "source": [
    "X1"
   ],
   "metadata": {
    "collapsed": false
   }
  },
  {
   "cell_type": "code",
   "execution_count": 19,
   "outputs": [
    {
     "data": {
      "text/plain": "array([170.3,  75.8, 257.9, 332.6, 170.8, 154.6, 255.1, 214.1, 233.6,\n       171.9, 137.4, 130.7, 420. , 254.9, 361.5, 379.5, 160.3, 144.1,\n       512.3, 197.2, 271.2, 160.9, 190.5, 143.5, 239.9, 104.8, 155.8,\n       192.1, 226.5, 353.4, 247. , 308.8, 206.1, 325.2, 242.6, 253.1,\n       332.6, 117. , 461.1, 205.3, 223.2, 362.6, 231.2, 182.7, 180.3,\n        99.3, 362.6, 408. ,  79.8, 260.7, 175.6,  69.4,  84. , 296.8,\n       216.3, 180.6, 208.8, 511.6, 192.1, 265.8, 183.3, 603. , 256.7,\n       216.7, 168. , 152.8, 347.9, 277.1,  55.4, 158.3, 380.7, 195.2,\n       256.8, 349.6, 452.8,  71.8, 341.7, 365. , 396.5, 268.2, 244.8,\n       216.2, 288. , 324.5,  66.5, 283.3, 211.7, 239. , 248. ,  59.2,\n       142. , 283.7,  59.7, 747.5, 469.2, 220. , 440.3,  89. , 201.3,\n       550.5, 127.6, 332.4, 500.3, 263.8, 228.8, 417.6, 162.6, 138.8,\n       239.2, 200.5, 224.7, 689.4, 133.6, 188. , 178.6, 108.6, 281.9,\n       440.6, 174.9,  87.9, 200.2, 105.7, 364.6, 516.5, 225.9, 271.8,\n       300.9, 124.7, 255.8, 272.7,  98.8, 182.5, 383.6, 163.7,  77.5,\n       121.2, 154.9, 127.9,  99.6, 416. , 284.8, 151. , 314.9, 718.8,\n       374.3,  99.2,  89.9, 141.1, 224.7, 164.5, 120.7, 814.7, 114. ,\n       174.1, 170.1, 228.5,  72.7,  97.2, 249.3, 155.1, 141.1, 164.6,\n       343. , 415.8, 267.5, 100.6, 195. , 200.9, 214.8, 432.3, 456.9,\n       344.3, 192.8, 122.5, 102. ,  98.3, 247.9, 148.4, 169.9, 183.4,\n       370. , 188.9, 141.2, 518. , 111.5, 280.1, 102.8, 549.1, 147.3,\n       195.1, 226.5, 133.9, 139.2, 363.1, 175.2, 205.9, 131.9, 447.6,\n       389.4, 155.3, 180.7,  97.4, 232.3, 196. , 253.2, 116. , 399.3,\n       149.9, 308.9, 135.6, 271.9, 425.5, 428.1, 211.7, 118.5, 328.1,\n       336.9, 165.5, 196.1, 329.8, 239.8, 156.1, 195.8, 179.4, 215.4,\n       190.3, 145.7, 284.3, 208.7, 226. , 281.1, 170. , 135.8, 173.5,\n       201.6, 157.5, 340.1, 180.1,  78.3, 193.4, 196.9, 182.8,  81.1,\n       436.8, 176.3, 191.7, 178.4, 139.5, 362.4, 185.9,  37.7,  46.3,\n       469.3, 248.4, 429.5, 265.9, 900.7, 189.5, 260. , 305.7, 177.3,\n       206.3, 228.3, 113.9, 186.5, 466.3, 202.2, 112.8, 381.3, 119.7,\n       173.3, 211.6, 269.2,  97.5, 175.2, 574.2, 118.8, 286.7, 310.1,\n       173.4, 168.5, 145.3, 176.1, 189.5, 171.2,  87.5,  91.7, 349.1,\n       263.5, 326.7, 147.3, 487.8,  87.5, 444.7,  87.3, 432.4, 341. ,\n       160.5, 110.8, 359.1, 331.9, 431. , 334.2, 184.2, 249.5, 247.2,\n       240.3, 378.8, 252.4, 299.1, 306.5, 257.7, 150.5, 381.8, 195.6])"
     },
     "execution_count": 19,
     "metadata": {},
     "output_type": "execute_result"
    }
   ],
   "source": [
    "X2"
   ],
   "metadata": {
    "collapsed": false
   }
  },
  {
   "cell_type": "code",
   "execution_count": 20,
   "outputs": [
    {
     "data": {
      "text/plain": "array([1945, 2653, 6321, 1061, 2863, 1729, 5371,  823, 2895, 3307, 1714,\n       2031, 1982, 2120, 1388, 3888, 2194, 3470, 2108, 1157, 1739, 1008,\n        606, 1380, 4916, 4451, 5983, 2413, 3087,  521, 2431, 3141, 1668,\n       4366,  494, 7026, 1529,  241,  998, 6082, 2741, 2100, 2359,  603,\n       1625, 2888, 1099, 2103, 2260,  452, 3549, 2204, 4964, 1052, 3572,\n       2902, 1788, 5111, 1378, 1431, 1727, 2893, 2524, 2533,  982, 1535,\n        326, 1487, 1114, 1080, 2492, 1349, 6948, 1086, 2629, 1307, 1306,\n       3465, 1846, 1334, 4848, 1734, 1120, 1498,  330, 5909, 3326, 2110,\n       2719, 2309, 1153, 1432, 2493, 3054, 1861, 4268, 1652, 1802, 2308,\n       1210,  214, 1370, 2354, 2446, 3473, 3359, 1062, 1489, 3982, 1656,\n        768, 1496,  683,  885, 1662, 1552, 2144, 3567, 1423, 1293, 2111,\n       2874, 1699,  954, 1368, 3318, 2247,  910, 1171, 2077, 1210, 1826,\n       2628,  561, 1893, 1312, 1913,  924,  728, 4387, 1976, 2422, 1407,\n       1301, 1112, 1052, 1008, 1054, 1484,  657,  604, 2912,  869, 1578,\n       1210, 1554, 3445, 3014, 1666, 1462, 1272, 5296, 5605, 2430, 2375,\n       3753,  695, 1649, 2317, 1702, 1007, 2308, 4694, 2749, 1497, 1171,\n       3054, 1488,  829, 1037,  846, 1382, 3407,  758,  599, 1073,  862,\n       4291, 1668, 2809, 2373, 1850, 1352, 2315, 1417, 4504,  998, 4430,\n       3201, 3686, 2131,  852, 2781, 1151, 3970,  808,  843, 2537, 2205,\n        587, 3591, 3434, 2869, 2515,  807,  766,  720,  516, 3785, 1436,\n        613, 1460, 2251, 2029, 8046, 1074, 3556, 1218, 2199, 5810, 1214,\n       2215, 1678, 2579,  925,  404, 2008, 2469,  755, 1718, 2133, 1167,\n        619,  908, 3690, 3425, 2787,  675, 2142, 2299,  544,  604, 6558,\n       2661, 7362, 2583, 1028, 3435, 1527, 2047, 2897, 1987, 4271,  868,\n        578,  953, 1048, 1439, 3324,  921, 1192, 1665, 3610, 3317, 3313,\n       1270, 1915, 4013,  902, 2247, 4832,  577, 1884, 3172, 3102, 1186,\n       1237, 4098, 2889, 1097,  570, 2627,  849, 2174, 1456, 3728, 1987,\n       1022, 2079,  406,  621, 2652, 1745, 2121, 1078, 2672, 4935, 1118,\n       9642, 1392, 2572, 1665, 6943,  741, 1242], dtype=int64)"
     },
     "execution_count": 20,
     "metadata": {},
     "output_type": "execute_result"
    }
   ],
   "source": [
    "X3"
   ],
   "metadata": {
    "collapsed": false
   }
  },
  {
   "cell_type": "code",
   "execution_count": 21,
   "outputs": [
    {
     "data": {
      "text/plain": "315"
     },
     "execution_count": 21,
     "metadata": {},
     "output_type": "execute_result"
    }
   ],
   "source": [
    "n = X.shape[0]\n",
    "n"
   ],
   "metadata": {
    "collapsed": false
   }
  },
  {
   "cell_type": "code",
   "execution_count": 34,
   "outputs": [
    {
     "data": {
      "text/plain": "       C9    C10   C11\n0     0.0  170.3  1945\n1     0.0   75.8  2653\n2    14.1  257.9  6321\n3     0.5  332.6  1061\n4     0.0  170.8  2863\n..    ...    ...   ...\n310   2.6  306.5  2572\n311   2.2  257.7  1665\n312   4.0  150.5  6943\n313   2.2  381.8   741\n314   0.2  195.6  1242\n\n[315 rows x 3 columns]",
      "text/html": "<div>\n<style scoped>\n    .dataframe tbody tr th:only-of-type {\n        vertical-align: middle;\n    }\n\n    .dataframe tbody tr th {\n        vertical-align: top;\n    }\n\n    .dataframe thead th {\n        text-align: right;\n    }\n</style>\n<table border=\"1\" class=\"dataframe\">\n  <thead>\n    <tr style=\"text-align: right;\">\n      <th></th>\n      <th>C9</th>\n      <th>C10</th>\n      <th>C11</th>\n    </tr>\n  </thead>\n  <tbody>\n    <tr>\n      <th>0</th>\n      <td>0.0</td>\n      <td>170.3</td>\n      <td>1945</td>\n    </tr>\n    <tr>\n      <th>1</th>\n      <td>0.0</td>\n      <td>75.8</td>\n      <td>2653</td>\n    </tr>\n    <tr>\n      <th>2</th>\n      <td>14.1</td>\n      <td>257.9</td>\n      <td>6321</td>\n    </tr>\n    <tr>\n      <th>3</th>\n      <td>0.5</td>\n      <td>332.6</td>\n      <td>1061</td>\n    </tr>\n    <tr>\n      <th>4</th>\n      <td>0.0</td>\n      <td>170.8</td>\n      <td>2863</td>\n    </tr>\n    <tr>\n      <th>...</th>\n      <td>...</td>\n      <td>...</td>\n      <td>...</td>\n    </tr>\n    <tr>\n      <th>310</th>\n      <td>2.6</td>\n      <td>306.5</td>\n      <td>2572</td>\n    </tr>\n    <tr>\n      <th>311</th>\n      <td>2.2</td>\n      <td>257.7</td>\n      <td>1665</td>\n    </tr>\n    <tr>\n      <th>312</th>\n      <td>4.0</td>\n      <td>150.5</td>\n      <td>6943</td>\n    </tr>\n    <tr>\n      <th>313</th>\n      <td>2.2</td>\n      <td>381.8</td>\n      <td>741</td>\n    </tr>\n    <tr>\n      <th>314</th>\n      <td>0.2</td>\n      <td>195.6</td>\n      <td>1242</td>\n    </tr>\n  </tbody>\n</table>\n<p>315 rows × 3 columns</p>\n</div>"
     },
     "execution_count": 34,
     "metadata": {},
     "output_type": "execute_result"
    }
   ],
   "source": [
    "data = {\n",
    "    'C9': X1,\n",
    "    'C10': X2,\n",
    "    'C11': X3\n",
    "}\n",
    "data = pd.DataFrame(data)\n",
    "data"
   ],
   "metadata": {
    "collapsed": false
   }
  },
  {
   "cell_type": "code",
   "execution_count": 35,
   "outputs": [
    {
     "data": {
      "text/plain": "[[0.0, 0.10039805590011303, 0.266572886083427],\n [0.10039805590011303, 0.0, 0.0005954463078042198],\n [0.266572886083427, 0.0005954463078042198, 0.0]]"
     },
     "execution_count": 35,
     "metadata": {},
     "output_type": "execute_result"
    }
   ],
   "source": [
    "# матрица ранговых коэффициентов корреляции по Кендаллу\n",
    "# матрица значений p-value для ранговых коэффициентов корреляции по Кендаллу\n",
    "\n",
    "sample = [X1, X2, X3]\n",
    "arr_kendall = []\n",
    "arr_kendall_pvalue = []\n",
    "\n",
    "for i in range(0, 3):\n",
    "    row = []\n",
    "    row_p = []\n",
    "    for j in range(0, 3):\n",
    "        if i != j:\n",
    "            t = stats.kendalltau(sample[i], sample[j])\n",
    "            row.append(t[0])\n",
    "            row_p.append(t[1])\n",
    "        else:\n",
    "            t = stats.kendalltau(sample[i], sample[j])\n",
    "            row.append(t[0])\n",
    "            row_p.append(0.0)\n",
    "    arr_kendall.append(row)\n",
    "    arr_kendall_pvalue.append(row_p)\n",
    "\n",
    "arr_kendall_pvalue"
   ],
   "metadata": {
    "collapsed": false
   }
  },
  {
   "cell_type": "code",
   "execution_count": 24,
   "outputs": [
    {
     "data": {
      "text/plain": "[[1.0, 0.06533464205687976, 0.044182285405969406],\n [0.06533464205687975, 1.0, 0.12972644997627059],\n [0.044182285405969406, 0.12972644997627059, 1.0]]"
     },
     "execution_count": 24,
     "metadata": {},
     "output_type": "execute_result"
    }
   ],
   "source": [
    "arr_kendall"
   ],
   "metadata": {
    "collapsed": false
   }
  },
  {
   "cell_type": "code",
   "execution_count": 36,
   "outputs": [
    {
     "data": {
      "text/plain": "           C9       C10       C11\nC9   1.000000  0.065335  0.044182\nC10  0.065335  1.000000  0.129726\nC11  0.044182  0.129726  1.000000",
      "text/html": "<div>\n<style scoped>\n    .dataframe tbody tr th:only-of-type {\n        vertical-align: middle;\n    }\n\n    .dataframe tbody tr th {\n        vertical-align: top;\n    }\n\n    .dataframe thead th {\n        text-align: right;\n    }\n</style>\n<table border=\"1\" class=\"dataframe\">\n  <thead>\n    <tr style=\"text-align: right;\">\n      <th></th>\n      <th>C9</th>\n      <th>C10</th>\n      <th>C11</th>\n    </tr>\n  </thead>\n  <tbody>\n    <tr>\n      <th>C9</th>\n      <td>1.000000</td>\n      <td>0.065335</td>\n      <td>0.044182</td>\n    </tr>\n    <tr>\n      <th>C10</th>\n      <td>0.065335</td>\n      <td>1.000000</td>\n      <td>0.129726</td>\n    </tr>\n    <tr>\n      <th>C11</th>\n      <td>0.044182</td>\n      <td>0.129726</td>\n      <td>1.000000</td>\n    </tr>\n  </tbody>\n</table>\n</div>"
     },
     "execution_count": 36,
     "metadata": {},
     "output_type": "execute_result"
    }
   ],
   "source": [
    "corr = data.corr('kendall')\n",
    "corr"
   ],
   "metadata": {
    "collapsed": false
   }
  },
  {
   "cell_type": "code",
   "execution_count": 26,
   "outputs": [
    {
     "data": {
      "text/plain": "<AxesSubplot: >"
     },
     "execution_count": 26,
     "metadata": {},
     "output_type": "execute_result"
    },
    {
     "data": {
      "text/plain": "<Figure size 640x480 with 2 Axes>",
      "image/png": "[encoded data removed]"
     },
     "metadata": {},
     "output_type": "display_data"
    }
   ],
   "source": [
    "sb.heatmap(corr,\n",
    "           xticklabels=corr.columns.values,\n",
    "           yticklabels=corr.columns.values,\n",
    "           cmap=\"rocket\",\n",
    "           annot=True)"
   ],
   "metadata": {
    "collapsed": false
   }
  },
  {
   "cell_type": "code",
   "execution_count": 27,
   "outputs": [],
   "source": [
    "def kend_p(r):\n",
    "    z1 = r * np.sqrt((9 * n * (n + 1)) / (2 * (2 * n + 5)))\n",
    "    f_z1 = stats.norm(loc=0, scale=1).cdf(z1)\n",
    "    p_value1 = 2 * min(f_z1, 1 - f_z1)\n",
    "    return p_value1"
   ],
   "metadata": {
    "collapsed": false
   }
  },
  {
   "cell_type": "code",
   "execution_count": 28,
   "outputs": [
    {
     "data": {
      "text/plain": "          X1        X2        X3\nX1  0.000000  0.082697  0.240613\nX2  0.082697  0.000000  0.000570\nX3  0.240613  0.000570  0.000000",
      "text/html": "<div>\n<style scoped>\n    .dataframe tbody tr th:only-of-type {\n        vertical-align: middle;\n    }\n\n    .dataframe tbody tr th {\n        vertical-align: top;\n    }\n\n    .dataframe thead th {\n        text-align: right;\n    }\n</style>\n<table border=\"1\" class=\"dataframe\">\n  <thead>\n    <tr style=\"text-align: right;\">\n      <th></th>\n      <th>X1</th>\n      <th>X2</th>\n      <th>X3</th>\n    </tr>\n  </thead>\n  <tbody>\n    <tr>\n      <th>X1</th>\n      <td>0.000000</td>\n      <td>0.082697</td>\n      <td>0.240613</td>\n    </tr>\n    <tr>\n      <th>X2</th>\n      <td>0.082697</td>\n      <td>0.000000</td>\n      <td>0.000570</td>\n    </tr>\n    <tr>\n      <th>X3</th>\n      <td>0.240613</td>\n      <td>0.000570</td>\n      <td>0.000000</td>\n    </tr>\n  </tbody>\n</table>\n</div>"
     },
     "execution_count": 28,
     "metadata": {},
     "output_type": "execute_result"
    }
   ],
   "source": [
    "p_vs = corr.applymap(kend_p)\n",
    "p_vs"
   ],
   "metadata": {
    "collapsed": false
   }
  },
  {
   "cell_type": "code",
   "execution_count": 29,
   "outputs": [
    {
     "data": {
      "text/plain": "<AxesSubplot: >"
     },
     "execution_count": 29,
     "metadata": {},
     "output_type": "execute_result"
    },
    {
     "data": {
      "text/plain": "<Figure size 640x480 with 2 Axes>",
      "image/png": "[encoded data removed]"
     },
     "metadata": {},
     "output_type": "display_data"
    }
   ],
   "source": [
    "sb.heatmap(p_vs,\n",
    "           xticklabels=p_vs.columns.values,\n",
    "           yticklabels=p_vs.columns.values,\n",
    "           cmap=\"rocket\",\n",
    "           annot=True)"
   ],
   "metadata": {
    "collapsed": false
   }
  },
  {
   "cell_type": "code",
   "execution_count": 30,
   "outputs": [
    {
     "data": {
      "text/plain": "KendalltauResult(correlation=0.06533464205687976, pvalue=0.10039805590011303)"
     },
     "execution_count": 30,
     "metadata": {},
     "output_type": "execute_result"
    }
   ],
   "source": [
    "stats.kendalltau(X1, X2, method='auto')"
   ],
   "metadata": {
    "collapsed": false
   }
  },
  {
   "cell_type": "code",
   "execution_count": 31,
   "outputs": [
    {
     "name": "stdout",
     "output_type": "stream",
     "text": [
      "Коэффициент конкордации: 0.405\n",
      "test: z = 381.692; p-value = 0.011\n"
     ]
    }
   ],
   "source": [
    "s1 = pd.Series(X1)\n",
    "s2 = pd.Series(X2)\n",
    "s3 = pd.Series(X3)\n",
    "\n",
    "r1 = s1.rank()\n",
    "r2 = s2.rank()\n",
    "r3 = s3.rank()\n",
    "\n",
    "r = [r1, r2, r3]\n",
    "\n",
    "k = 3  #число выборок\n",
    "\n",
    "w = 0\n",
    "for i in range(0, n):\n",
    "    s1 = 0\n",
    "    for j in range(0, k):\n",
    "        s1 += (1 / k) * r[j][i]\n",
    "    w += (s1 - (n + 1) / 2) ** 2\n",
    "\n",
    "w = (w * 12) / (n ** 3 - n)\n",
    "\n",
    "print('Коэффициент конкордации: %.3f' % w)\n",
    "\n",
    "#статистика критерия\n",
    "\n",
    "z = k * (n - 1) * w\n",
    "f_z = stats.chi2(n - 1).cdf(z)\n",
    "p_value = 2 * min(f_z, 1 - f_z)\n",
    "\n",
    "print(\"test: z = %.3f; p-value = %.3f\" % (z, p_value))"
   ],
   "metadata": {
    "collapsed": false
   }
  },
  {
   "cell_type": "code",
   "execution_count": 32,
   "outputs": [
    {
     "name": "stdout",
     "output_type": "stream",
     "text": [
      "Коэффициент конкордации: 0.405\n"
     ]
    },
    {
     "data": {
      "text/plain": "(381.6916013662848, 0.010633920174614842)"
     },
     "execution_count": 32,
     "metadata": {},
     "output_type": "execute_result"
    }
   ],
   "source": [
    "s1 = pd.Series(X1)\n",
    "s2 = pd.Series(X2)\n",
    "s3 = pd.Series(X3)\n",
    "\n",
    "r1 = s1.rank()\n",
    "r2 = s2.rank()\n",
    "r3 = s3.rank()\n",
    "\n",
    "r = np.concatenate([r1.to_numpy(), r2.to_numpy(), r3.to_numpy()]).reshape((3, r1.shape[0]))\n",
    "\n",
    "k = 3  # число выборок\n",
    "\n",
    "w = np.sum(((1 / k) * np.sum(r, axis=0) - (n + 1) / 2) ** 2)\n",
    "\n",
    "w = (w * 12) / (n ** 3 - n)\n",
    "\n",
    "print(f'Коэффициент конкордации: {w:.3f}')\n",
    "\n",
    "# статистика критерия\n",
    "\n",
    "z = k * (n - 1) * w\n",
    "f_z = stats.chi2(n - 1).cdf(z)\n",
    "p_value = 2 * min(f_z, 1 - f_z)\n",
    "\n",
    "z, p_value"
   ],
   "metadata": {
    "collapsed": false
   }
  },
  {
   "cell_type": "code",
   "execution_count": 33,
   "outputs": [
    {
     "data": {
      "text/plain": "0.4051927827667567"
     },
     "execution_count": 33,
     "metadata": {},
     "output_type": "execute_result"
    }
   ],
   "source": [
    "w"
   ],
   "metadata": {
    "collapsed": false
   }
  }
 ],
 "metadata": {
  "kernelspec": {
   "display_name": "Python 3",
   "language": "python",
   "name": "python3"
  },
  "language_info": {
   "codemirror_mode": {
    "name": "ipython",
    "version": 2
   },
   "file_extension": ".py",
   "mimetype": "text/x-python",
   "name": "python",
   "nbconvert_exporter": "python",
   "pygments_lexer": "ipython2",
   "version": "2.7.6"
  }
 },
 "nbformat": 4,
 "nbformat_minor": 0
}
