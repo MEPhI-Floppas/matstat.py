{
 "cells": [
  {
   "cell_type": "code",
   "execution_count": 9,
   "metadata": {},
   "outputs": [],
   "source": [
    "import scipy.stats as sps\n",
    "from statsmodels.distributions.empirical_distribution import ECDF\n",
    "import matplotlib.pyplot as plt\n",
    "from array import array\n",
    "import numpy as np\n",
    "import math\n",
    "from scipy import stats\n",
    "import pandas as pd"
   ]
  },
  {
   "cell_type": "code",
   "execution_count": 10,
   "metadata": {},
   "outputs": [],
   "source": [
    "X1 = pd.read_excel(open('../table.xls', 'rb'), sheet_name='A - aaup')['A5'].to_numpy()\n",
    "X2 = pd.read_excel(open('../table.xls', 'rb'), sheet_name='A - aaup')['A8'].to_numpy()\n",
    "bins_number = 11"
   ]
  },
  {
   "cell_type": "markdown",
   "metadata": {},
   "source": [
    "## $Z = \\frac{H - \\frac{1}{2}}{\\sqrt(\\frac{1}{4n})} = 2\\sqrt(n)(H - \\frac{1}{2})$\n",
    "## $Z = \\frac{1}{\\sqrt(2\\pi)\\sigma}exp(-\\frac{(x - \\mu)^2}{2\\sigma^2})$"
   ]
  },
  {
   "cell_type": "code",
   "execution_count": 11,
   "metadata": {},
   "outputs": [
    {
     "data": {
      "text/plain": "WilcoxonResult(statistic=0.0, pvalue=4.110515034106515e-177)"
     },
     "execution_count": 11,
     "metadata": {},
     "output_type": "execute_result"
    }
   ],
   "source": [
    "stats.wilcoxon(X1, X2)"
   ]
  },
  {
   "cell_type": "code",
   "execution_count": 12,
   "metadata": {},
   "outputs": [],
   "source": [
    "def two_sample_chisquare(dist1, dist2, bins=bins_number):\n",
    "    bins1, counts1 = np.histogram(dist1, bins=bins)\n",
    "    bins2, counts2 = np.histogram(dist2, bins=bins)\n",
    "    Z = np.sum((counts1 - counts2) ** 2 / counts1)\n",
    "    return Z, 1 - stats.chi2.cdf(Z, 2)"
   ]
  },
  {
   "cell_type": "code",
   "execution_count": 13,
   "metadata": {},
   "outputs": [
    {
     "data": {
      "text/plain": "(153.68768656112596, 0.0)"
     },
     "execution_count": 13,
     "metadata": {},
     "output_type": "execute_result"
    }
   ],
   "source": [
    "two_sample_chisquare(X1, X2)"
   ]
  },
  {
   "cell_type": "code",
   "execution_count": 14,
   "outputs": [
    {
     "data": {
      "text/plain": "67.18181818181819"
     },
     "execution_count": 14,
     "metadata": {},
     "output_type": "execute_result"
    }
   ],
   "source": [
    "(max(X1) - min(X1))/11"
   ],
   "metadata": {
    "collapsed": false
   }
  },
  {
   "cell_type": "code",
   "execution_count": 15,
   "outputs": [
    {
     "data": {
      "text/plain": "57.63636363636363"
     },
     "execution_count": 15,
     "metadata": {},
     "output_type": "execute_result"
    }
   ],
   "source": [
    "(max(X2) - min(X2))/11"
   ],
   "metadata": {
    "collapsed": false
   }
  },
  {
   "cell_type": "code",
   "execution_count": 16,
   "outputs": [
    {
     "data": {
      "text/plain": "(270, 1009)"
     },
     "execution_count": 16,
     "metadata": {},
     "output_type": "execute_result"
    }
   ],
   "source": [
    "min(X1), max(X1)"
   ],
   "metadata": {
    "collapsed": false
   }
  },
  {
   "cell_type": "code",
   "execution_count": 17,
   "outputs": [
    {
     "data": {
      "text/plain": "(232, 866)"
     },
     "execution_count": 17,
     "metadata": {},
     "output_type": "execute_result"
    }
   ],
   "source": [
    "min(X2), max(X2)"
   ],
   "metadata": {
    "collapsed": false
   }
  },
  {
   "cell_type": "code",
   "execution_count": 18,
   "outputs": [
    {
     "data": {
      "text/plain": "70.63636363636364"
     },
     "execution_count": 18,
     "metadata": {},
     "output_type": "execute_result"
    }
   ],
   "source": [
    "(max(X1) - min(X2))/11"
   ],
   "metadata": {
    "collapsed": false
   }
  },
  {
   "cell_type": "code",
   "execution_count": 19,
   "metadata": {},
   "outputs": [
    {
     "name": "stdout",
     "output_type": "stream",
     "text": [
      "28 0.026\n",
      "118 0.11\n",
      "227 0.212\n",
      "277 0.258\n",
      "171 0.159\n",
      "123 0.115\n",
      "80 0.075\n",
      "31 0.029\n",
      "7 0.007\n",
      "7 0.007\n",
      "4 0.004\n"
     ]
    },
    {
     "data": {
      "text/plain": "array([ 270.        ,  337.18181818,  404.36363636,  471.54545455,\n        538.72727273,  605.90909091,  673.09090909,  740.27272727,\n        807.45454545,  874.63636364,  941.81818182, 1009.        ])"
     },
     "execution_count": 19,
     "metadata": {},
     "output_type": "execute_result"
    }
   ],
   "source": [
    "stored1 = []\n",
    "freq1,division1 = np.histogram(X1, bins=bins_number)\n",
    "for i in range(len(freq1)):\n",
    "    stored1.append(freq1[i]/len(X1))\n",
    "    print(freq1[i], round(freq1[i]/len(X1), 3))\n",
    "division1"
   ]
  },
  {
   "cell_type": "code",
   "execution_count": 20,
   "outputs": [
    {
     "name": "stdout",
     "output_type": "stream",
     "text": [
      "30 0.028\n",
      "172 0.16\n",
      "290 0.27\n",
      "255 0.238\n",
      "145 0.135\n",
      "118 0.11\n",
      "40 0.037\n",
      "13 0.012\n",
      "6 0.006\n",
      "2 0.002\n",
      "2 0.002\n"
     ]
    },
    {
     "data": {
      "text/plain": "array([232.        , 289.63636364, 347.27272727, 404.90909091,\n       462.54545455, 520.18181818, 577.81818182, 635.45454545,\n       693.09090909, 750.72727273, 808.36363636, 866.        ])"
     },
     "execution_count": 20,
     "metadata": {},
     "output_type": "execute_result"
    }
   ],
   "source": [
    "stored2 = []\n",
    "freq2,division2 = np.histogram(X2, bins=bins_number)\n",
    "for i in range(len(freq2)):\n",
    "    stored2.append(freq2[i]/len(X2))\n",
    "    print(freq2[i], round(freq2[i]/len(X2), 3))\n",
    "division2"
   ],
   "metadata": {
    "collapsed": false
   }
  },
  {
   "cell_type": "code",
   "execution_count": 21,
   "outputs": [
    {
     "data": {
      "text/plain": "<Figure size 640x480 with 1 Axes>",
      "image/png": "[encoded data removed]"
     },
     "metadata": {},
     "output_type": "display_data"
    }
   ],
   "source": [
    "X3, bins3 = np.histogram(X1, bins=bins_number)\n",
    "plt.stairs(X3 / len(X1), edges=bins3, fill=True, color='red', alpha=0.6, label=\"A5\")\n",
    "X4, bins4 = np.histogram(X2, bins=bins_number)\n",
    "plt.stairs(X4 / len(X2), edges=bins4, fill=True, color='blue', alpha=0.6, label=\"A8\")\n",
    "plt.legend()\n",
    "plt.show()"
   ],
   "metadata": {
    "collapsed": false
   }
  },
  {
   "cell_type": "code",
   "execution_count": 22,
   "outputs": [
    {
     "data": {
      "text/plain": "[0.0260950605778192,\n 0.10997204100652376,\n 0.21155638397017706,\n 0.2581547064305685,\n 0.15936626281453867,\n 0.11463187325256291,\n 0.07455731593662628,\n 0.028890959925442685,\n 0.0065237651444548,\n 0.0065237651444548,\n 0.003727865796831314]"
     },
     "execution_count": 22,
     "metadata": {},
     "output_type": "execute_result"
    }
   ],
   "source": [
    "stored1"
   ],
   "metadata": {
    "collapsed": false
   }
  },
  {
   "cell_type": "code",
   "execution_count": 23,
   "outputs": [
    {
     "data": {
      "text/plain": "[0.027958993476234855,\n 0.1602982292637465,\n 0.2702702702702703,\n 0.23765144454799628,\n 0.13513513513513514,\n 0.10997204100652376,\n 0.03727865796831314,\n 0.012115563839701771,\n 0.005591798695246971,\n 0.001863932898415657,\n 0.001863932898415657]"
     },
     "execution_count": 23,
     "metadata": {},
     "output_type": "execute_result"
    }
   ],
   "source": [
    "stored2"
   ],
   "metadata": {
    "collapsed": false
   }
  },
  {
   "cell_type": "code",
   "execution_count": 24,
   "outputs": [],
   "source": [
    "X2 = np.append(X2, X1.max())"
   ],
   "metadata": {
    "collapsed": false
   }
  },
  {
   "cell_type": "code",
   "execution_count": 25,
   "outputs": [],
   "source": [
    "X1 = np.append(X1, X2.min())"
   ],
   "metadata": {
    "collapsed": false
   }
  },
  {
   "cell_type": "code",
   "execution_count": 26,
   "outputs": [
    {
     "name": "stdout",
     "output_type": "stream",
     "text": [
      "[7, 78, 186, 288, 207, 143, 102, 41, 11, 7, 4]\n",
      "[53, 275, 345, 205, 138, 41, 9, 5, 2, 0, 1]\n",
      "[0.01, 0.07, 0.17, 0.27, 0.19, 0.13, 0.09, 0.04, 0.01, 0.01, 0.0]\n",
      "[0.05, 0.26, 0.32, 0.19, 0.13, 0.04, 0.01, 0.0, 0.0, 0.0, 0.0]\n",
      "[232, 302, 373, 443, 514, 585, 655, 726, 797, 867, 938, 1009]\n",
      "[232, 302, 373, 443, 514, 585, 655, 726, 797, 867, 938, 1009]\n"
     ]
    },
    {
     "data": {
      "text/plain": "<Figure size 640x480 with 1 Axes>",
      "image/png": "[encoded data removed]"
     },
     "metadata": {},
     "output_type": "display_data"
    }
   ],
   "source": [
    "result = plt.hist(X1,  bins=bins_number, density=False, alpha=0.6, label='Гистограмма частот')\n",
    "frequencies_X = result[0]\n",
    "values_X = result[1]\n",
    "result = plt.hist(X2,  bins=bins_number, density=False, alpha=0.6, label='Гистограмма частот')\n",
    "frequencies_Y = result[0]\n",
    "values_Y = result[1]\n",
    "relative_freq_X = []\n",
    "relative_freq_Y = []\n",
    "\n",
    "for i in range(len(frequencies_X)):\n",
    "    relative_freq_X.append(round(frequencies_X[i]/len(X1), 2))\n",
    "    relative_freq_Y.append(round(frequencies_Y[i]/len(X2), 2))\n",
    "print([int(item) for item in frequencies_X])\n",
    "print([int(item) for item in frequencies_Y])\n",
    "print(relative_freq_X)\n",
    "print(relative_freq_Y)\n",
    "#print(sum(relative_freq_X)) для проверки\n",
    "#print(sum(relative_freq_Y)) что сумма относительных частот 1\n",
    "print([int(item) for item in values_X])\n",
    "print([int(item) for item in values_Y])"
   ],
   "metadata": {
    "collapsed": false
   }
  },
  {
   "cell_type": "code",
   "execution_count": 27,
   "outputs": [
    {
     "data": {
      "text/plain": "<Figure size 640x480 with 1 Axes>",
      "image/png": "[encoded data removed]"
     },
     "metadata": {},
     "output_type": "display_data"
    }
   ],
   "source": [
    "X3, bins3 = np.histogram(X1, bins=bins_number)\n",
    "plt.stairs(X3 / len(X1), edges=bins3, fill=True, color='red', alpha=0.6, label=\"A5\")\n",
    "X4, bins4 = np.histogram(X2, bins=bins_number)\n",
    "plt.stairs(X4 / len(X2), edges=bins4, fill=True, color='blue', alpha=0.6, label=\"A8\")\n",
    "plt.legend()\n",
    "plt.show()"
   ],
   "metadata": {
    "collapsed": false
   }
  },
  {
   "cell_type": "code",
   "execution_count": 28,
   "outputs": [
    {
     "data": {
      "text/plain": "<Figure size 640x480 with 1 Axes>",
      "image/png": "[encoded data removed]"
     },
     "metadata": {},
     "output_type": "display_data"
    }
   ],
   "source": [
    "_, bins3 = np.histogram(np.concatenate([X1, X2]), bins='auto')\n",
    "plt.hist(X1, bins=bins3, fill=True, color='red', alpha=0.6)\n",
    "plt.hist(X2, bins=bins3, fill=True, color='blue', alpha=0.6)\n",
    "plt.show()"
   ],
   "metadata": {
    "collapsed": false
   }
  },
  {
   "cell_type": "code",
   "execution_count": 44,
   "outputs": [
    {
     "data": {
      "text/plain": "<Figure size 640x480 with 1 Axes>",
      "image/png": "[encoded data removed]"
     },
     "metadata": {},
     "output_type": "display_data"
    }
   ],
   "source": [
    "_, bins3 = np.histogram(np.concatenate([X1, X2]), bins=11)\n",
    "freq1, _, _  = plt.hist(X1, bins=bins3, fill=True, color='red', alpha=0.6, label=\"A5\")\n",
    "freq2, _, _ = plt.hist(X2, bins=bins3, fill=True, color='blue', alpha=0.6, label=\"A8\")\n",
    "plt.legend()\n",
    "plt.show()"
   ],
   "metadata": {
    "collapsed": false
   }
  },
  {
   "cell_type": "code",
   "execution_count": 39,
   "outputs": [
    {
     "data": {
      "text/plain": "(array([  7.,  78., 186., 288., 207., 143., 102.,  41.,  11.,   7.,   4.]),\n array([ 53., 275., 345., 205., 138.,  41.,   9.,   5.,   2.,   0.,   1.]))"
     },
     "execution_count": 39,
     "metadata": {},
     "output_type": "execute_result"
    }
   ],
   "source": [
    "freq1, freq2"
   ],
   "metadata": {
    "collapsed": false
   }
  },
  {
   "cell_type": "code",
   "execution_count": 42,
   "outputs": [
    {
     "data": {
      "text/plain": "(array([0.00651769, 0.0726257 , 0.17318436, 0.26815642, 0.19273743,\n        0.13314711, 0.09497207, 0.03817505, 0.01024209, 0.00651769,\n        0.00372439]),\n array([0.04934823, 0.25605214, 0.32122905, 0.19087523, 0.12849162,\n        0.03817505, 0.00837989, 0.00465549, 0.0018622 , 0.        ,\n        0.0009311 ]))"
     },
     "execution_count": 42,
     "metadata": {},
     "output_type": "execute_result"
    }
   ],
   "source": [
    "acc1 = freq1/len(X1)\n",
    "acc2 = freq2/len(X2)\n",
    "acc1, acc2"
   ],
   "metadata": {
    "collapsed": false
   }
  },
  {
   "cell_type": "code",
   "execution_count": 41,
   "outputs": [
    {
     "data": {
      "text/plain": "array([ 232.        ,  302.63636364,  373.27272727,  443.90909091,\n        514.54545455,  585.18181818,  655.81818182,  726.45454545,\n        797.09090909,  867.72727273,  938.36363636, 1009.        ])"
     },
     "execution_count": 41,
     "metadata": {},
     "output_type": "execute_result"
    }
   ],
   "source": [
    "bins3"
   ],
   "metadata": {
    "collapsed": false
   }
  },
  {
   "cell_type": "code",
   "execution_count": 43,
   "outputs": [],
   "source": [
    "data = {\n",
    "    'Номер интервала': list(range(len(bins3) - 1)),\n",
    "    'Нижняя граница': bins3[:-1],\n",
    "    'Верхняя граница': bins3[1:],\n",
    "    'Частота признака 1': freq1,\n",
    "    'Частота признака 2': freq2,\n",
    "    'Относит. частота признака 1': acc1,\n",
    "    'Относит. частота признака 2': acc2\n",
    "}\n",
    "df = pd.DataFrame(data)\n",
    "df.to_excel('bdz3.xlsx')"
   ],
   "metadata": {
    "collapsed": false
   }
  },
  {
   "cell_type": "code",
   "execution_count": null,
   "outputs": [],
   "source": [],
   "metadata": {
    "collapsed": false
   }
  }
 ],
 "metadata": {
  "kernelspec": {
   "display_name": "Python 3 (ipykernel)",
   "language": "python",
   "name": "python3"
  },
  "language_info": {
   "codemirror_mode": {
    "name": "ipython",
    "version": 3
   },
   "file_extension": ".py",
   "mimetype": "text/x-python",
   "name": "python",
   "nbconvert_exporter": "python",
   "pygments_lexer": "ipython3",
   "version": "3.9.2"
  }
 },
 "nbformat": 4,
 "nbformat_minor": 1
}
