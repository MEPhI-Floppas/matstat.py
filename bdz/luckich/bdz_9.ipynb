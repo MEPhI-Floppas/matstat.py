{
 "cells": [
  {
   "cell_type": "markdown",
   "id": "a80f263f-df64-4270-8bce-68f270798cbc",
   "metadata": {
    "id": "a80f263f-df64-4270-8bce-68f270798cbc"
   },
   "source": [
    "# БДЗ девятый раздел"
   ]
  },
  {
   "cell_type": "code",
   "execution_count": 21,
   "id": "ae79b5d9-3458-4052-b148-da8f98f7fe7c",
   "metadata": {
    "id": "ae79b5d9-3458-4052-b148-da8f98f7fe7c"
   },
   "outputs": [],
   "source": [
    "import scipy.stats as sps\n",
    "from statsmodels.distributions.empirical_distribution import ECDF\n",
    "import matplotlib.pyplot as plt\n",
    "from array import array\n",
    "import numpy as np\n",
    "import math\n",
    "import pandas as pd"
   ]
  },
  {
   "cell_type": "code",
   "execution_count": 22,
   "id": "1de11d8a-df47-4ebe-b78f-2a1317fd443c",
   "metadata": {
    "id": "1de11d8a-df47-4ebe-b78f-2a1317fd443c"
   },
   "outputs": [],
   "source": [
    "X = pd.read_excel(open('../table.xls', 'rb'), sheet_name='A - aaup')['A15'].to_numpy()\n",
    "Y = pd.read_excel(open('../table.xls', 'rb'), sheet_name='A - aaup')['A13'].to_numpy()\n",
    "\n",
    "n = len(X)\n"
   ]
  },
  {
   "cell_type": "code",
   "execution_count": 23,
   "id": "2bcb1cc5-a05d-402d-8b3d-125d6a46fc25",
   "metadata": {
    "id": "2bcb1cc5-a05d-402d-8b3d-125d6a46fc25"
   },
   "outputs": [],
   "source": [
    "data = pd.read_excel(\"../table.xls\",sheet_name='A - aaup' )\n",
    "X_grp = data.groupby(['A5']).groups\n",
    "for key in X_grp:\n",
    "    arr = [0]*len(X_grp[key])\n",
    "    for i in range(len(X_grp[key])):\n",
    "        j = X_grp[key][i]\n",
    "        arr[i] = Y[j]\n",
    "    X_grp[key] = arr\n"
   ]
  },
  {
   "cell_type": "code",
   "execution_count": 24,
   "outputs": [
    {
     "data": {
      "text/plain": "{270: [334], 277: [303], 290: [354], 293: [329], 300: [318], 301: [362], 307: [290], 308: [329], 309: [391], 314: [335], 316: [379], 318: [342], 319: [357], 320: [308], 321: [335], 322: [350], 324: [318, 353], 325: [358], 326: [395], 332: [363], 333: [379], 335: [350, 342, 349, 333], 336: [335], 337: [340], 338: [338, 364], 339: [366], 340: [380], 341: [356, 318], 342: [347, 369], 348: [365, 384, 371, 379], 350: [377, 360], 351: [396, 363, 375, 339], 352: [382, 347, 393, 387], 353: [371, 373], 354: [363, 355, 343], 355: [340], 356: [372, 341], 358: [363], 359: [363, 367, 382], 360: [363], 361: [364], 362: [403, 364], 364: [366, 392], 365: [381], 367: [398], 368: [400, 399], 369: [397], 370: [379, 390, 428], 371: [372], 372: [426, 427, 400], 373: [443, 441, 382, 386], 374: [422], 375: [440, 397], 376: [391], 377: [404, 426, 409], 378: [407, 400, 386], 379: [405, 377, 378, 399], 380: [394], 382: [374], 383: [405, 375], 384: [389], 385: [416, 386, 423], 387: [392, 402], 388: [418, 386], 389: [425], 391: [436, 395], 393: [390, 371], 394: [394], 395: [415, 418, 401], 396: [418, 388, 414, 371], 397: [410, 433], 398: [420, 410], 399: [435, 397], 400: [438, 413, 420], 401: [442, 436, 324, 375], 402: [374, 397, 361], 403: [411, 425, 399, 381], 404: [480, 427, 449], 406: [419, 387], 407: [416, 374, 433, 432, 401, 451], 408: [394, 481, 434, 431], 409: [430, 384], 410: [387, 432, 396], 411: [472, 418, 452], 412: [420], 413: [412, 363], 414: [381, 432], 415: [431, 437, 442, 431], 416: [392, 469, 430, 443], 417: [413, 407, 417], 418: [403, 444], 419: [445, 406, 436], 420: [411], 421: [459], 422: [435, 463, 369], 423: [423, 469, 484], 424: [460, 428, 494], 425: [436, 430], 426: [426, 420, 455, 434, 420], 427: [422, 454, 425], ...}"
     },
     "execution_count": 24,
     "metadata": {},
     "output_type": "execute_result"
    }
   ],
   "source": [
    "X_grp"
   ],
   "metadata": {
    "collapsed": false
   }
  },
  {
   "cell_type": "markdown",
   "id": "4059eb90-ebf0-4dee-b2cb-d753e53d8c17",
   "metadata": {
    "id": "4059eb90-ebf0-4dee-b2cb-d753e53d8c17"
   },
   "source": [
    "## 9.1 Простейшая линейная регрессионная модель\n",
    "### 9.1.1. Точечные оценки линейной регрессионной модели\n",
    "#### а) Рассчитать точечные оценки параметров линейной регрессионной модели"
   ]
  },
  {
   "cell_type": "code",
   "execution_count": 25,
   "id": "377a6a39-9cd8-4698-a3a0-67082b18ef7b",
   "metadata": {
    "id": "377a6a39-9cd8-4698-a3a0-67082b18ef7b",
    "outputId": "6178f2d6-64d3-45be-a2d7-de5a7d78266a"
   },
   "outputs": [
    {
     "name": "stdout",
     "output_type": "stream",
     "text": [
      "beta_0 = 488.993\n",
      "beta_1 = 0.465\n"
     ]
    }
   ],
   "source": [
    "k_XY = 0\n",
    "for i in range(n):\n",
    "    k_XY += 1/n * (X[i] - X. mean()) * (Y[i] - Y.mean())\n",
    "rho_XY = k_XY / (X.std() * Y.std())\n",
    "\n",
    "beta_0 = Y.mean() - rho_XY * Y.std()  * X.mean() / X.std()\n",
    "beta_1 = rho_XY * Y.std()/X.std()\n",
    "print(\"beta_0 = {z:.3f}\".format(z = beta_0))\n",
    "print(\"beta_1 = {z:.3f}\".format(z = beta_1))\n"
   ]
  },
  {
   "cell_type": "markdown",
   "id": "0d4b2413-4b55-42eb-90d7-a5ce637742d5",
   "metadata": {
    "id": "0d4b2413-4b55-42eb-90d7-a5ce637742d5"
   },
   "source": [
    "#### г) Рассчитать показатели вариации, используемые в регрессионном анализе"
   ]
  },
  {
   "cell_type": "code",
   "execution_count": 26,
   "id": "b2001f91-eb1f-4b54-a4d9-aefe8418402d",
   "metadata": {
    "id": "b2001f91-eb1f-4b54-a4d9-aefe8418402d",
    "outputId": "7dde7124-973c-42b0-d3eb-a82faafbad9f"
   },
   "outputs": [
    {
     "name": "stdout",
     "output_type": "stream",
     "text": [
      "13331.73055137026\n",
      "4589.956334189024\n",
      "9440.535573858097\n",
      "14030.49190804712\n"
     ]
    }
   ],
   "source": [
    "# http://datalearning.ru/index.php/textbook?cid=1&mid=5&topic=7\n",
    "D_YX = 0\n",
    "\n",
    "for key in X_grp:\n",
    "    D_YX += len(X_grp[key]) / n * ((np.array(X_grp[key])).mean() - Y.mean())**2\n",
    "    \n",
    "D_res = 0\n",
    "for i in range(n):\n",
    "    D_res += 1/n * (Y[i] - (beta_0 + beta_1*X[i]))**2\n",
    "    \n",
    "D_Y = 0 \n",
    "for i in range(n):\n",
    "    D_Y += 1/n * (Y[i] - Y.mean())**2\n",
    "\n",
    "print(D_YX) # непрпаильно\n",
    "\n",
    "D_YX = D_Y - D_res\n",
    "print(D_YX)\n",
    "print(D_res)\n",
    "print(D_Y)"
   ]
  },
  {
   "cell_type": "markdown",
   "id": "9eb85b0c-d3ee-453a-872b-fbafeac83d6b",
   "metadata": {
    "id": "9eb85b0c-d3ee-453a-872b-fbafeac83d6b"
   },
   "source": [
    "#### д) Проверить правило сложения дисперсий"
   ]
  },
  {
   "cell_type": "markdown",
   "id": "98184ee6-a0b3-440b-bcef-53662f66b23d",
   "metadata": {
    "id": "98184ee6-a0b3-440b-bcef-53662f66b23d"
   },
   "source": [
    "#### е) Рассчитать показатели тесноты связи между факторным и результативным признаками"
   ]
  },
  {
   "cell_type": "code",
   "execution_count": null,
   "id": "6a7c9c2e-38c4-4fcf-b797-cf69b793489a",
   "metadata": {
    "id": "6a7c9c2e-38c4-4fcf-b797-cf69b793489a",
    "outputId": "0320cafb-8edd-4fe9-d881-d8561a79d5d7"
   },
   "outputs": [
    {
     "name": "stdout",
     "output_type": "stream",
     "text": [
      "Коэффициент детерминации: 0.9877824021639867\n",
      "Кореляционное отношение: 0.9757140740248559\n"
     ]
    }
   ],
   "source": [
    "print(\"Коэффициент детерминации: {z}\".format(z = (D_YX/D_Y)**(1/2)))\n",
    "print(\"Кореляционное отношение: {z}\".format(z = (D_YX/D_Y)))"
   ]
  },
  {
   "cell_type": "code",
   "execution_count": 27,
   "id": "0c6f37e8-13e0-4811-808d-e538192cfc7d",
   "metadata": {
    "id": "0c6f37e8-13e0-4811-808d-e538192cfc7d",
    "outputId": "f5c4ef32-ca00-4aff-a7a2-152c85d79b2a"
   },
   "outputs": [
    {
     "data": {
      "text/plain": "[<matplotlib.lines.Line2D at 0x1582cbba1c0>]"
     },
     "execution_count": 27,
     "metadata": {},
     "output_type": "execute_result"
    },
    {
     "data": {
      "text/plain": "<Figure size 640x480 with 1 Axes>",
      "image/png": "[encoded data removed]"
     },
     "metadata": {},
     "output_type": "display_data"
    }
   ],
   "source": [
    "# просто посмотреть\n",
    "plt.scatter(X, Y)\n",
    "lin_reg = beta_1*X + beta_0\n",
    "plt.plot(X, lin_reg, color='red')"
   ]
  },
  {
   "cell_type": "markdown",
   "id": "f45ff07c-e9df-49f3-bdee-2eb101731611",
   "metadata": {
    "id": "f45ff07c-e9df-49f3-bdee-2eb101731611"
   },
   "source": [
    "## 9.1.2. Интервальные оценки линейной регрессионной модели\n",
    "### б) Рассчитать доверительные интервалы для параметров линейной регрессионной модели\n"
   ]
  },
  {
   "cell_type": "code",
   "execution_count": 28,
   "id": "be81dfbe-9657-468a-9476-052ea97a3af3",
   "metadata": {
    "id": "be81dfbe-9657-468a-9476-052ea97a3af3",
    "outputId": "5e101f62-8a6d-4ca7-a7ea-627ac53b02db"
   },
   "outputs": [
    {
     "name": "stdout",
     "output_type": "stream",
     "text": [
      "Нижняя граница b0: 479.629\n",
      "Верхняя граница b0: 498.357\n",
      "Нижняя граница b1: 0.463\n",
      "Верхняя граница b1: 0.466\n",
      "Нижняя граница b0: 481.873\n",
      "Верхняя граница b0: 496.114\n",
      "Нижняя граница b1: 0.463\n",
      "Верхняя граница b1: 0.466\n",
      "Нижняя граница b0: 483.019\n",
      "Верхняя граница b0: 494.967\n",
      "Нижняя граница b1: 0.464\n",
      "Верхняя граница b1: 0.466\n"
     ]
    }
   ],
   "source": [
    "new_D_res = 0\n",
    "for i in range(n):\n",
    "    new_D_res += 1/(n-2) * (Y.mean() + rho_XY * Y.std()/X.std() * (X[i] - X.mean()) - Y[i])**2\n",
    "\n",
    "X_sum = 0\n",
    "for i in range(len(X)):\n",
    "    X_sum += (X[i])**2 \n",
    "alpha = [0.01, 0.05, 0.1]\n",
    "for a in alpha:\n",
    "    beta_0_lower = beta_0 - sps.t(n-2).ppf(1-a/2)*math.sqrt(new_D_res * X_sum / (n**2 * X.var()))\n",
    "    beta_0_upper = beta_0 + sps.t(n-2).ppf(1-a/2)*math.sqrt(new_D_res * X_sum / (n**2 * X.var()))\n",
    "    beta_1_lower = beta_1 - sps.t(n-2).ppf(1-a/2)*math.sqrt(new_D_res / (n**2 * X.var())) \n",
    "    beta_1_upper = beta_1 + sps.t(n-2).ppf(1-a/2)*math.sqrt(new_D_res / (n**2 * X.var())) \n",
    "    print(f\"Нижняя граница b0: {beta_0_lower}\")\n",
    "    print(f\"Верхняя граница b0: {beta_0_upper}\")\n",
    "    print(f\"Нижняя граница b1: {beta_1_lower}\")\n",
    "    print(f\"Верхняя граница b1: {beta_1_upper}\")"
   ]
  },
  {
   "cell_type": "markdown",
   "id": "06b15769-a274-4856-a4fe-974fe585df76",
   "metadata": {
    "id": "06b15769-a274-4856-a4fe-974fe585df76"
   },
   "source": [
    "### г) Построить диаграмму рассеяния признаков x и y. Нанести на диаграмму функцию регрессии f(x), а также нижние и верхние границы линии регрессии flow(x) и fhigh(x) на уровне значимости α = 0.1\n"
   ]
  },
  {
   "cell_type": "code",
   "execution_count": null,
   "id": "ec9e76c8-9e2d-4910-8064-05bb67a902e6",
   "metadata": {
    "id": "ec9e76c8-9e2d-4910-8064-05bb67a902e6",
    "outputId": "4655b604-df55-4f49-895d-71ee1a87d491"
   },
   "outputs": [
    {
     "data": {
      "text/plain": [
       "[<matplotlib.lines.Line2D at 0x1a2a453c820>]"
      ]
     },
     "execution_count": 9,
     "metadata": {},
     "output_type": "execute_result"
    },
    {
     "data": {
      "image/png": "[encoded data removed]",
      "text/plain": [
       "<Figure size 432x288 with 1 Axes>"
      ]
     },
     "metadata": {
      "needs_background": "light"
     },
     "output_type": "display_data"
    }
   ],
   "source": [
    "X_sum = 0\n",
    "\n",
    "for i in range(len(X)):\n",
    "    X_sum += (X[i])**2 \n",
    "alpha = 0.1\n",
    "flow = []\n",
    "fhigh = []\n",
    "for i in range(n):\n",
    "    flow.append((Y.mean() + rho_XY * Y.std()/X.std() * (X[i] - X.mean())) - sps.t(n-2).ppf(1-alpha/2)*(new_D_res*(1/n + (X[i] - X.mean())**2/(n*X.var())))**(1/2))\n",
    "    fhigh.append((Y.mean() + rho_XY * Y.std()/X.std() * (X[i] - X.mean())) + sps.t(n-2).ppf(1-alpha/2)*(new_D_res*(1/n + (X[i] - X.mean())**2/(n*X.var())))**(1/2))\n",
    "\n",
    "plt.scatter(X, Y)\n",
    "lin_reg = beta_1*X + beta_0\n",
    "\n",
    "\n",
    "plt.plot(X, lin_reg, color='red')\n",
    "plt.plot(X, fhigh, 'g--', linewidth = 1)\n",
    "plt.plot(X, flow, 'g--', linewidth = 1)"
   ]
  },
  {
   "cell_type": "code",
   "execution_count": null,
   "id": "5ba69e57-2f44-4199-a476-934ebe38aa6e",
   "metadata": {
    "id": "5ba69e57-2f44-4199-a476-934ebe38aa6e",
    "outputId": "b0ae0337-9492-4e3e-8a50-d972603a04e6"
   },
   "outputs": [
    {
     "data": {
      "text/plain": [
       "<matplotlib.collections.PathCollection at 0x1a2a4567880>"
      ]
     },
     "execution_count": 10,
     "metadata": {},
     "output_type": "execute_result"
    },
    {
     "data": {
      "image/png": "[encoded data removed]",
      "text/plain": [
       "<Figure size 432x288 with 1 Axes>"
      ]
     },
     "metadata": {
      "needs_background": "light"
     },
     "output_type": "display_data"
    }
   ],
   "source": [
    "remainses = Y - (beta_1*X + beta_0)\n",
    "plt.scatter(X, remainses, color='red')"
   ]
  },
  {
   "cell_type": "markdown",
   "id": "d51e09e8-483e-4a0a-b25d-f2260bff51b7",
   "metadata": {
    "id": "d51e09e8-483e-4a0a-b25d-f2260bff51b7"
   },
   "source": [
    "### 9.1.3. Проверка значимости линейной регрессионной модели\n",
    "#### а) Указать формулы расчёта показателей, используемых при проверке значимости линейной регрессионной модели"
   ]
  },
  {
   "cell_type": "code",
   "execution_count": null,
   "id": "2d7a32f4-b085-4aa2-b550-5eb5e47db8ca",
   "metadata": {
    "id": "2d7a32f4-b085-4aa2-b550-5eb5e47db8ca",
    "outputId": "a2bdae50-ebed-4710-e289-42c47764c94c"
   },
   "outputs": [
    {
     "name": "stdout",
     "output_type": "stream",
     "text": [
      "Sign test: z = 10044.028, p-value = 0.000\n"
     ]
    }
   ],
   "source": [
    "R_YX = 1 - D_res/D_Y\n",
    "z = R_YX / ((1 - R_YX )/ (n - 2))\n",
    "print('Sign test: z = {z:.3f}, p-value = {p_value:.3f}'.format(z = z , p_value = 1 - sps.f(1, n - 2).cdf(z)))"
   ]
  },
  {
   "cell_type": "markdown",
   "id": "d8b1a99a-9d0e-4113-a20d-91020ba6f9c1",
   "metadata": {
    "id": "d8b1a99a-9d0e-4113-a20d-91020ba6f9c1"
   },
   "source": [
    "### 9.2 Линейная регрессионная модель общего вида\n",
    "#### 9.2.1. Точечные оценки линейной регрессионной модели"
   ]
  },
  {
   "cell_type": "code",
   "execution_count": null,
   "id": "9861245f-b8c2-493e-9ea4-2b5d1d1d7817",
   "metadata": {
    "id": "9861245f-b8c2-493e-9ea4-2b5d1d1d7817",
    "outputId": "4be55328-0946-470b-fd1a-ee7104d8f0ea"
   },
   "outputs": [
    {
     "name": "stdout",
     "output_type": "stream",
     "text": [
      "beta0 = 1644.2 \n",
      "beta1 = -2645.8 \n",
      "beta2 = 1047.7\n"
     ]
    }
   ],
   "source": [
    "X_2 = []\n",
    "for a in X:\n",
    "    X_2.append(a**2)\n",
    "regression_matrix = np.array([np.array([1]*len(X)), X, X_2]).transpose()\n",
    "F = np.dot(regression_matrix.transpose(), regression_matrix)\n",
    "result = np.dot(np.linalg.inv(F), regression_matrix.transpose()).dot(Y)\n",
    "beta_0 = result[0] \n",
    "beta_1 = result[1]\n",
    "beta_2 = result[2]\n",
    "print(\"beta0 = {z1:.1f} \\nbeta1 = {z2:.1f} \\nbeta2 = {z3:.1f}\".format(z1 = result[0], z2 = result[1], z3 = result[2]))"
   ]
  },
  {
   "cell_type": "markdown",
   "id": "e37eb68e-a163-4ae2-8999-7a5e510e9680",
   "metadata": {
    "id": "e37eb68e-a163-4ae2-8999-7a5e510e9680"
   },
   "source": [
    "#### в) Рассчитать показатели вариации, используемые в регрессионном анализе"
   ]
  },
  {
   "cell_type": "code",
   "execution_count": null,
   "id": "96424c28-f20a-46b9-8b44-7ac1dd745242",
   "metadata": {
    "id": "96424c28-f20a-46b9-8b44-7ac1dd745242",
    "outputId": "9bf27a11-be6b-4827-c32f-faed0bfeb511"
   },
   "outputs": [
    {
     "name": "stdout",
     "output_type": "stream",
     "text": [
      "70.27632269841273\n",
      "Факторный признак: 68.29\n",
      "Остаточные признаки: 1.47\n",
      "Все признаки: 69.76\n"
     ]
    }
   ],
   "source": [
    "D_YX = 0\n",
    "k = 2\n",
    "for key in X_grp:\n",
    "    D_YX += len(X_grp[key]) / (n-k) * ((np.array(X_grp[key])).mean() - Y.mean())**2\n",
    "    \n",
    "D_res = 0\n",
    "for i in range(n):\n",
    "    D_res += 1/(n-k) * (Y[i] - (beta_0 + beta_1*X[i] + beta_2*(X[i])**2))**2\n",
    "    \n",
    "D_Y = 0 \n",
    "for i in range(n):\n",
    "    D_Y += 1/n * (Y[i] - Y.mean())**2\n",
    "\n",
    "print(D_YX) # непрпаильно\n",
    "\n",
    "D_YX = D_Y - D_res\n",
    "print(\"Факторный признак: {z:.2f}\".format(z = D_YX))\n",
    "print(\"Остаточные признаки: {z:.2f}\".format(z = D_res))\n",
    "print(\"Все признаки: {z:.2f}\".format(z = D_Y))"
   ]
  },
  {
   "cell_type": "markdown",
   "id": "cbf1b115-23f0-4934-8602-c89e969c177a",
   "metadata": {
    "id": "cbf1b115-23f0-4934-8602-c89e969c177a"
   },
   "source": [
    "#### д) Рассчитать показатели тесноты связи между факторным и результативным признаками"
   ]
  },
  {
   "cell_type": "code",
   "execution_count": null,
   "id": "d24d520a-98a1-442e-bf33-c12fbba767cb",
   "metadata": {
    "id": "d24d520a-98a1-442e-bf33-c12fbba767cb",
    "outputId": "b44e2834-7ab1-4df4-bb6f-961a9f5600a8"
   },
   "outputs": [
    {
     "name": "stdout",
     "output_type": "stream",
     "text": [
      "Коэффициент детерминации: 0.99\n",
      "Кореляционное отношение: 0.98\n"
     ]
    }
   ],
   "source": [
    "print(\"Коэффициент детерминации: {z:.2f}\".format(z = (D_YX/D_Y)**(1/2)))\n",
    "print(\"Кореляционное отношение: {z:.2f}\".format(z = (D_YX/D_Y)))"
   ]
  },
  {
   "cell_type": "markdown",
   "id": "020f34fd-690b-4854-8685-9412f2f3510f",
   "metadata": {
    "id": "020f34fd-690b-4854-8685-9412f2f3510f"
   },
   "source": [
    "### 9.2.2. Интервальные оценки линейной регрессионной модели\n",
    "#### б) Построить диаграмму рассеяния признаков x и y. Нанести на диаграмму функцию регрессии f(x), а также нижние и верхние границы линии регрессии flow(x) и fhigh(x) на уровне значимости $\\alpha$ = 0.1\n"
   ]
  },
  {
   "cell_type": "code",
   "execution_count": null,
   "id": "911cb430-ec34-4f2b-b2ce-bc86c9084fe8",
   "metadata": {
    "id": "911cb430-ec34-4f2b-b2ce-bc86c9084fe8",
    "outputId": "2c9a012d-66b0-4b8f-f3ac-2776a3d87a5b"
   },
   "outputs": [
    {
     "data": {
      "text/plain": [
       "[<matplotlib.lines.Line2D at 0x1a2a7912910>]"
      ]
     },
     "execution_count": 32,
     "metadata": {},
     "output_type": "execute_result"
    },
    {
     "data": {
      "image/png": "[encoded data removed]",
      "text/plain": [
       "<Figure size 432x288 with 1 Axes>"
      ]
     },
     "metadata": {
      "needs_background": "light"
     },
     "output_type": "display_data"
    }
   ],
   "source": [
    "X_sum = 0\n",
    "k = 3\n",
    "\n",
    "new_D_res = 0\n",
    "for i in range(n):\n",
    "    new_D_res += 1/(n-k) * ((beta_2 * X[i]**2 + beta_1 * X[i] + beta_0) - Y[i])**2\n",
    "\n",
    "for i in range(len(X)):\n",
    "    X_sum += (X[i])**2 \n",
    "alpha = 0.1\n",
    "flow = []\n",
    "fhigh = []\n",
    "for i in range(n):\n",
    "    flow.append((beta_2 * X[i]**2 + beta_1 * X[i] + beta_0) - sps.t(n-k).ppf(1-alpha/2)*(new_D_res*(np.dot(np.dot(np.array([1, X[i], X[i]**2]).transpose(), np.linalg.inv(F)), np.array([1, X[i], X[i]**2])))  )**(1/2))\n",
    "    fhigh.append((beta_2 * X[i]**2 + beta_1 * X[i] + beta_0) + sps.t(n-k).ppf(1-alpha/2)*(new_D_res*(np.dot(np.dot(np.array([1, X[i], X[i]**2]).transpose(), np.linalg.inv(F)), np.array([1, X[i], X[i]**2])))  )**(1/2))\n",
    "\n",
    "\n",
    "plt.scatter(X, Y)\n",
    "lin_reg = beta_2 * X**2 + beta_1*X + beta_0\n",
    "\n",
    "\n",
    "plt.plot(X, fhigh, 'g--', linewidth = 1) # не строится\n",
    "plt.plot(X, flow, 'g--', linewidth = 1)  # не строится"
   ]
  },
  {
   "cell_type": "code",
   "execution_count": null,
   "id": "46ad2972-eaf6-4d08-9ec7-2be6e36ec920",
   "metadata": {
    "id": "46ad2972-eaf6-4d08-9ec7-2be6e36ec920",
    "outputId": "cdfd9013-35e0-41a2-f8c9-a173fa186d45"
   },
   "outputs": [
    {
     "data": {
      "text/plain": [
       "<matplotlib.collections.PathCollection at 0x1a2a6830c70>"
      ]
     },
     "execution_count": 29,
     "metadata": {},
     "output_type": "execute_result"
    },
    {
     "data": {
      "image/png": "[encoded data removed]",
      "text/plain": [
       "<Figure size 432x288 with 1 Axes>"
      ]
     },
     "metadata": {
      "needs_background": "light"
     },
     "output_type": "display_data"
    }
   ],
   "source": [
    "remainses = Y - (beta_2*X**2+beta_1*X + beta_0)\n",
    "plt.scatter(X, remainses, color='red')"
   ]
  },
  {
   "cell_type": "markdown",
   "id": "e78d5162-a18f-499a-89e3-f863bac59171",
   "metadata": {
    "id": "e78d5162-a18f-499a-89e3-f863bac59171"
   },
   "source": [
    "#### 9.2.3. Проверка значимости линейной регрессионной модели"
   ]
  },
  {
   "cell_type": "code",
   "execution_count": null,
   "id": "994098e4-1d3b-4ee6-a3aa-5b6e494140ce",
   "metadata": {
    "id": "994098e4-1d3b-4ee6-a3aa-5b6e494140ce",
    "outputId": "8c83279a-9e01-4e59-b4d4-3881c25b5489"
   },
   "outputs": [
    {
     "name": "stdout",
     "output_type": "stream",
     "text": [
      "Sign test: z = 5796.192, p-value = 0.000\n"
     ]
    }
   ],
   "source": [
    "R_YX = 1 - D_res/D_Y\n",
    "z = (R_YX / (k - 1)) / ((1 - R_YX )/ (n - k))\n",
    "print('Sign test: z = {z:.3f}, p-value = {p_value:.3f}'.format(z = z , p_value = 1 - sps.f(k - 1, n - k).cdf(z)))"
   ]
  },
  {
   "cell_type": "markdown",
   "id": "1b50ed51-b70e-4be6-b6b5-12f88bfe7f39",
   "metadata": {
    "id": "1b50ed51-b70e-4be6-b6b5-12f88bfe7f39"
   },
   "source": [
    "## 9.3 Множественная линейная регрессионная модель\n",
    "### а) Рассчитать точечные оценки параметров линейной регрессионной модели"
   ]
  },
  {
   "cell_type": "code",
   "execution_count": null,
   "id": "9f9ac048-68fa-4ed5-babf-f3d2df240c7c",
   "metadata": {
    "id": "9f9ac048-68fa-4ed5-babf-f3d2df240c7c"
   },
   "outputs": [],
   "source": [
    "X1 = pd.read_excel(open('data_matstat_K5.xls', 'rb'), sheet_name='B - bodyfat')['B1'].to_numpy()\n",
    "X2 = pd.read_excel(open('data_matstat_K5.xls', 'rb'), sheet_name='B - bodyfat')['B4'].to_numpy()\n",
    "Y = pd.read_excel(open('data_matstat_K5.xls', 'rb'), sheet_name='B - bodyfat')['B2'].to_numpy()\n",
    "\n",
    "n = len(X)"
   ]
  }
 ],
 "metadata": {
  "kernelspec": {
   "display_name": "Python 3",
   "language": "python",
   "name": "python3"
  },
  "language_info": {
   "codemirror_mode": {
    "name": "ipython",
    "version": 3
   },
   "file_extension": ".py",
   "mimetype": "text/x-python",
   "name": "python",
   "nbconvert_exporter": "python",
   "pygments_lexer": "ipython3",
   "version": "3.8.8"
  },
  "colab": {
   "name": "bdz_9.ipynb",
   "provenance": []
  }
 },
 "nbformat": 4,
 "nbformat_minor": 5
}
