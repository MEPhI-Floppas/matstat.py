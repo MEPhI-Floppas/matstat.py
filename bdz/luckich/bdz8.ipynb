{
 "cells": [
  {
   "cell_type": "code",
   "execution_count": 1,
   "metadata": {
    "collapsed": true
   },
   "outputs": [],
   "source": [
    "import numpy as np  # библиотека для матриц и математики\n",
    "import pandas as pd  # библиотека для работы с табличками\n",
    "from scipy import stats  # модуль для работы со статистикой\n",
    "import scipy\n",
    "\n",
    "# библиотеки для визуализации\n",
    "import matplotlib.pyplot as plt\n",
    "import seaborn as sb\n",
    "\n",
    "import math\n",
    "\n",
    "plt.style.use('ggplot')  # стиль графиков\n",
    "\n",
    "%matplotlib inline"
   ]
  },
  {
   "cell_type": "markdown",
   "source": [
    "# 8.1"
   ],
   "metadata": {
    "collapsed": false
   }
  },
  {
   "cell_type": "code",
   "execution_count": 2,
   "outputs": [
    {
     "data": {
      "text/plain": "         A1                            A2  A3   A4   A5   A6   A7   A8 A9  \\\n0      1061     Alaska Pacific University  AK  IIB  454  382  362  382  N   \n1      1063         Univ.Alaska-Fairbanks  AK    I  686  560  432  508  Y   \n2      1065         Univ.Alaska-Southeast  AK  IIA  533  494  329  415  N   \n3     11462         Univ.Alaska-Anchorage  AK  IIA  612  507  414  498  Y   \n4      1002     Alabama Agri.&Mech. Univ.  AL  IIA  442  369  310  350  N   \n...     ...                           ...  ..  ...  ...  ...  ...  ... ..   \n1068   3825  West Virginia Inst. of Tech.  WV  IIB  408  340  297  349  N   \n1069   3827      West Virginia University  WV    I  535  431  361  439  Y   \n1070   3830  West Virginia Wesleyan Coll.  WV  IIB  441  383  339  383  N   \n1071   3831       Wheeling Jesuit College  WV  IIB  403  348  282  315  N   \n1072   3932         University of Wyoming  WY    I  539  410  374  445  Y   \n\n      A10  A11  A12  A13 A14  A15  A16  A17  A18  A19 A20  \n0     567  485  471  487   N    6   11    9    4   32   N  \n1     914  753  572  677   Y   74  125  118   40  404   Y  \n2     716  663  442  559   Y    9   26   20    9   70   N  \n3     825  681  557  670   Y  115  124  101   21  392   Y  \n4     530  444  376  423   N   59   77  102   24  262   N  \n...   ...  ...  ...  ...  ..  ...  ...  ...  ...  ...  ..  \n1068  502  419  369  431   N   54   43   29   11  137   N  \n1069  642  521  438  529   N  335  237  272   22  895   Y  \n1070  572  494  434  495   N   25   22   24    3   74   N  \n1071  486  416  348  381   N    8   20   25   12   65   N  \n1072  658  507  464  549   Y  241  154  164    2  591   Y  \n\n[1073 rows x 20 columns]",
      "text/html": "<div>\n<style scoped>\n    .dataframe tbody tr th:only-of-type {\n        vertical-align: middle;\n    }\n\n    .dataframe tbody tr th {\n        vertical-align: top;\n    }\n\n    .dataframe thead th {\n        text-align: right;\n    }\n</style>\n<table border=\"1\" class=\"dataframe\">\n  <thead>\n    <tr style=\"text-align: right;\">\n      <th></th>\n      <th>A1</th>\n      <th>A2</th>\n      <th>A3</th>\n      <th>A4</th>\n      <th>A5</th>\n      <th>A6</th>\n      <th>A7</th>\n      <th>A8</th>\n      <th>A9</th>\n      <th>A10</th>\n      <th>A11</th>\n      <th>A12</th>\n      <th>A13</th>\n      <th>A14</th>\n      <th>A15</th>\n      <th>A16</th>\n      <th>A17</th>\n      <th>A18</th>\n      <th>A19</th>\n      <th>A20</th>\n    </tr>\n  </thead>\n  <tbody>\n    <tr>\n      <th>0</th>\n      <td>1061</td>\n      <td>Alaska Pacific University</td>\n      <td>AK</td>\n      <td>IIB</td>\n      <td>454</td>\n      <td>382</td>\n      <td>362</td>\n      <td>382</td>\n      <td>N</td>\n      <td>567</td>\n      <td>485</td>\n      <td>471</td>\n      <td>487</td>\n      <td>N</td>\n      <td>6</td>\n      <td>11</td>\n      <td>9</td>\n      <td>4</td>\n      <td>32</td>\n      <td>N</td>\n    </tr>\n    <tr>\n      <th>1</th>\n      <td>1063</td>\n      <td>Univ.Alaska-Fairbanks</td>\n      <td>AK</td>\n      <td>I</td>\n      <td>686</td>\n      <td>560</td>\n      <td>432</td>\n      <td>508</td>\n      <td>Y</td>\n      <td>914</td>\n      <td>753</td>\n      <td>572</td>\n      <td>677</td>\n      <td>Y</td>\n      <td>74</td>\n      <td>125</td>\n      <td>118</td>\n      <td>40</td>\n      <td>404</td>\n      <td>Y</td>\n    </tr>\n    <tr>\n      <th>2</th>\n      <td>1065</td>\n      <td>Univ.Alaska-Southeast</td>\n      <td>AK</td>\n      <td>IIA</td>\n      <td>533</td>\n      <td>494</td>\n      <td>329</td>\n      <td>415</td>\n      <td>N</td>\n      <td>716</td>\n      <td>663</td>\n      <td>442</td>\n      <td>559</td>\n      <td>Y</td>\n      <td>9</td>\n      <td>26</td>\n      <td>20</td>\n      <td>9</td>\n      <td>70</td>\n      <td>N</td>\n    </tr>\n    <tr>\n      <th>3</th>\n      <td>11462</td>\n      <td>Univ.Alaska-Anchorage</td>\n      <td>AK</td>\n      <td>IIA</td>\n      <td>612</td>\n      <td>507</td>\n      <td>414</td>\n      <td>498</td>\n      <td>Y</td>\n      <td>825</td>\n      <td>681</td>\n      <td>557</td>\n      <td>670</td>\n      <td>Y</td>\n      <td>115</td>\n      <td>124</td>\n      <td>101</td>\n      <td>21</td>\n      <td>392</td>\n      <td>Y</td>\n    </tr>\n    <tr>\n      <th>4</th>\n      <td>1002</td>\n      <td>Alabama Agri.&amp;Mech. Univ.</td>\n      <td>AL</td>\n      <td>IIA</td>\n      <td>442</td>\n      <td>369</td>\n      <td>310</td>\n      <td>350</td>\n      <td>N</td>\n      <td>530</td>\n      <td>444</td>\n      <td>376</td>\n      <td>423</td>\n      <td>N</td>\n      <td>59</td>\n      <td>77</td>\n      <td>102</td>\n      <td>24</td>\n      <td>262</td>\n      <td>N</td>\n    </tr>\n    <tr>\n      <th>...</th>\n      <td>...</td>\n      <td>...</td>\n      <td>...</td>\n      <td>...</td>\n      <td>...</td>\n      <td>...</td>\n      <td>...</td>\n      <td>...</td>\n      <td>...</td>\n      <td>...</td>\n      <td>...</td>\n      <td>...</td>\n      <td>...</td>\n      <td>...</td>\n      <td>...</td>\n      <td>...</td>\n      <td>...</td>\n      <td>...</td>\n      <td>...</td>\n      <td>...</td>\n    </tr>\n    <tr>\n      <th>1068</th>\n      <td>3825</td>\n      <td>West Virginia Inst. of Tech.</td>\n      <td>WV</td>\n      <td>IIB</td>\n      <td>408</td>\n      <td>340</td>\n      <td>297</td>\n      <td>349</td>\n      <td>N</td>\n      <td>502</td>\n      <td>419</td>\n      <td>369</td>\n      <td>431</td>\n      <td>N</td>\n      <td>54</td>\n      <td>43</td>\n      <td>29</td>\n      <td>11</td>\n      <td>137</td>\n      <td>N</td>\n    </tr>\n    <tr>\n      <th>1069</th>\n      <td>3827</td>\n      <td>West Virginia University</td>\n      <td>WV</td>\n      <td>I</td>\n      <td>535</td>\n      <td>431</td>\n      <td>361</td>\n      <td>439</td>\n      <td>Y</td>\n      <td>642</td>\n      <td>521</td>\n      <td>438</td>\n      <td>529</td>\n      <td>N</td>\n      <td>335</td>\n      <td>237</td>\n      <td>272</td>\n      <td>22</td>\n      <td>895</td>\n      <td>Y</td>\n    </tr>\n    <tr>\n      <th>1070</th>\n      <td>3830</td>\n      <td>West Virginia Wesleyan Coll.</td>\n      <td>WV</td>\n      <td>IIB</td>\n      <td>441</td>\n      <td>383</td>\n      <td>339</td>\n      <td>383</td>\n      <td>N</td>\n      <td>572</td>\n      <td>494</td>\n      <td>434</td>\n      <td>495</td>\n      <td>N</td>\n      <td>25</td>\n      <td>22</td>\n      <td>24</td>\n      <td>3</td>\n      <td>74</td>\n      <td>N</td>\n    </tr>\n    <tr>\n      <th>1071</th>\n      <td>3831</td>\n      <td>Wheeling Jesuit College</td>\n      <td>WV</td>\n      <td>IIB</td>\n      <td>403</td>\n      <td>348</td>\n      <td>282</td>\n      <td>315</td>\n      <td>N</td>\n      <td>486</td>\n      <td>416</td>\n      <td>348</td>\n      <td>381</td>\n      <td>N</td>\n      <td>8</td>\n      <td>20</td>\n      <td>25</td>\n      <td>12</td>\n      <td>65</td>\n      <td>N</td>\n    </tr>\n    <tr>\n      <th>1072</th>\n      <td>3932</td>\n      <td>University of Wyoming</td>\n      <td>WY</td>\n      <td>I</td>\n      <td>539</td>\n      <td>410</td>\n      <td>374</td>\n      <td>445</td>\n      <td>Y</td>\n      <td>658</td>\n      <td>507</td>\n      <td>464</td>\n      <td>549</td>\n      <td>Y</td>\n      <td>241</td>\n      <td>154</td>\n      <td>164</td>\n      <td>2</td>\n      <td>591</td>\n      <td>Y</td>\n    </tr>\n  </tbody>\n</table>\n<p>1073 rows × 20 columns</p>\n</div>"
     },
     "execution_count": 2,
     "metadata": {},
     "output_type": "execute_result"
    }
   ],
   "source": [
    "xls = pd.ExcelFile(r'./../table.xls')\n",
    "df = xls.parse(1)\n",
    "df"
   ],
   "metadata": {
    "collapsed": false
   }
  },
  {
   "cell_type": "code",
   "execution_count": 4,
   "outputs": [],
   "source": [
    "X = df.A5.to_numpy()\n",
    "Y = df.A8.to_numpy()"
   ],
   "metadata": {
    "collapsed": false
   }
  },
  {
   "cell_type": "code",
   "execution_count": 5,
   "outputs": [
    {
     "data": {
      "text/plain": "array([454, 686, 533, ..., 441, 403, 539], dtype=int64)"
     },
     "execution_count": 5,
     "metadata": {},
     "output_type": "execute_result"
    }
   ],
   "source": [
    "X"
   ],
   "metadata": {
    "collapsed": false
   }
  },
  {
   "cell_type": "code",
   "execution_count": 6,
   "outputs": [
    {
     "data": {
      "text/plain": "array([382, 508, 415, ..., 383, 315, 445], dtype=int64)"
     },
     "execution_count": 6,
     "metadata": {},
     "output_type": "execute_result"
    }
   ],
   "source": [
    "Y"
   ],
   "metadata": {
    "collapsed": false
   }
  },
  {
   "cell_type": "code",
   "execution_count": 11,
   "outputs": [
    {
     "data": {
      "text/plain": "(1073,)"
     },
     "execution_count": 11,
     "metadata": {},
     "output_type": "execute_result"
    }
   ],
   "source": [
    "X.shape"
   ],
   "metadata": {
    "collapsed": false
   }
  },
  {
   "cell_type": "code",
   "execution_count": 19,
   "outputs": [
    {
     "name": "stdout",
     "output_type": "stream",
     "text": [
      "Pirson correlation coefficient: 0.968\n",
      "Pirson p-value: 0.000\n",
      "Spearmans correlation coefficient: 0.964\n",
      "Spearmans p-value: 0.000\n",
      "Kendall correlation coefficient: 0.841\n",
      "Kendall p-value: 0.000\n"
     ]
    }
   ],
   "source": [
    "coef, p = stats.pearsonr(X, Y)\n",
    "print('Pirson correlation coefficient: %.3f' % coef)\n",
    "print('Pirson p-value: %.3f' % p)\n",
    "\n",
    "coef, p = stats.spearmanr(X, Y)\n",
    "print('Spearmans correlation coefficient: %.3f' % coef)\n",
    "print('Spearmans p-value: %.3f' % p)\n",
    "\n",
    "coef, p = stats.kendalltau(X, Y)\n",
    "print('Kendall correlation coefficient: %.3f' % coef)\n",
    "print('Kendall p-value: %.3f' % p)"
   ],
   "metadata": {
    "collapsed": false
   }
  },
  {
   "cell_type": "code",
   "execution_count": 12,
   "outputs": [
    {
     "data": {
      "text/plain": "PearsonRResult(statistic=0.9676495087428427, pvalue=0.0)"
     },
     "execution_count": 12,
     "metadata": {},
     "output_type": "execute_result"
    }
   ],
   "source": [
    "stats.pearsonr(X, Y)\n"
   ],
   "metadata": {
    "collapsed": false
   }
  },
  {
   "cell_type": "code",
   "execution_count": 13,
   "outputs": [
    {
     "data": {
      "text/plain": "SpearmanrResult(correlation=0.964218164732936, pvalue=0.0)"
     },
     "execution_count": 13,
     "metadata": {},
     "output_type": "execute_result"
    }
   ],
   "source": [
    "stats.spearmanr(X, Y)\n"
   ],
   "metadata": {
    "collapsed": false
   }
  },
  {
   "cell_type": "code",
   "execution_count": 14,
   "outputs": [
    {
     "data": {
      "text/plain": "KendalltauResult(correlation=0.8405274510615323, pvalue=0.0)"
     },
     "execution_count": 14,
     "metadata": {},
     "output_type": "execute_result"
    }
   ],
   "source": [
    "stats.kendalltau(X, Y)\n"
   ],
   "metadata": {
    "collapsed": false
   }
  },
  {
   "cell_type": "markdown",
   "source": [],
   "metadata": {
    "collapsed": false
   }
  },
  {
   "cell_type": "code",
   "execution_count": 15,
   "outputs": [
    {
     "name": "stdout",
     "output_type": "stream",
     "text": [
      "alpha = 0.01\n",
      "lower: 0.9626727297979933\n",
      "higher: 0.972683692325349\n",
      "\n",
      "alpha = 0.05\n",
      "lower: 0.9638695103109725\n",
      "higher: 0.9714869118123699\n",
      "\n",
      "alpha = 0.1\n",
      "lower: 0.9644818486319657\n",
      "higher: 0.9708745734913766\n",
      "\n"
     ]
    }
   ],
   "source": [
    "std1 = X.std()\n",
    "std2 = Y.std()\n",
    "mean1 = X.mean()\n",
    "mean2 = Y.mean()\n",
    "n = X.shape[0]\n",
    "\n",
    "r, _ = stats.pearsonr(X, Y)\n",
    "\n",
    "for alpha in [0.01, 0.05, 0.1]:\n",
    "    print(f'{alpha = }')\n",
    "    quantile = stats.norm(loc=0, scale=1).ppf(1 - (alpha / 2))\n",
    "\n",
    "    a = r + (r * (1 - r ** 2) / (2 * n)) - ((1 - r ** 2) / n ** (1 / 2)) * quantile\n",
    "    b = r + (r * (1 - r ** 2) / (2 * n)) + ((1 - r ** 2) / n ** (1 / 2)) * quantile\n",
    "    print(f'lower: {a}')\n",
    "    print(f'higher: {b}')\n",
    "    print()"
   ],
   "metadata": {
    "collapsed": false
   }
  },
  {
   "cell_type": "code",
   "execution_count": 122,
   "outputs": [],
   "source": [
    "# a_ranked = np.apply_along_axis(stats.rankdata, 0, np.column_stack((X, Y)))\n",
    "# a_ranked"
   ],
   "metadata": {
    "collapsed": false
   }
  },
  {
   "cell_type": "code",
   "execution_count": 123,
   "outputs": [],
   "source": [
    "# rs = np.corrcoef(a_ranked, rowvar=0)\n",
    "# rs"
   ],
   "metadata": {
    "collapsed": false
   }
  },
  {
   "cell_type": "markdown",
   "source": [
    "## Пирсон"
   ],
   "metadata": {
    "collapsed": false
   }
  },
  {
   "cell_type": "code",
   "execution_count": 20,
   "outputs": [
    {
     "data": {
      "text/plain": "(125.51583082232489, 0.0)"
     },
     "execution_count": 20,
     "metadata": {},
     "output_type": "execute_result"
    }
   ],
   "source": [
    "dof = n - 2  # degrees of freedom\n",
    "\n",
    "r, _ = stats.pearsonr(X, Y)\n",
    "\n",
    "# rs can have elements equal to 1, so avoid zero division warnings\n",
    "\n",
    "# clip the small negative values possibly caused by rounding\n",
    "# errors before taking the square root\n",
    "z = r * np.sqrt(dof / (1 - r ** 2))\n",
    "f_z = stats.t(n - 2).cdf(z)\n",
    "p_value = 2 * min(f_z, 1 - f_z)\n",
    "\n",
    "z, p_value"
   ],
   "metadata": {
    "collapsed": false
   }
  },
  {
   "cell_type": "markdown",
   "source": [
    "## Спирмен"
   ],
   "metadata": {
    "collapsed": false
   }
  },
  {
   "cell_type": "code",
   "execution_count": 21,
   "outputs": [
    {
     "data": {
      "text/plain": "(119.02655851028636, 0.0)"
     },
     "execution_count": 21,
     "metadata": {},
     "output_type": "execute_result"
    }
   ],
   "source": [
    "dof = n - 2  # degrees of freedom\n",
    "\n",
    "r, _ = stats.spearmanr(X, Y)\n",
    "\n",
    "# rs can have elements equal to 1, so avoid zero division warnings\n",
    "with np.errstate(divide='ignore'):\n",
    "    # clip the small negative values possibly caused by rounding\n",
    "    # errors before taking the square root\n",
    "    z = r * np.sqrt((dof / (1 - r ** 2)))\n",
    "    f_z = stats.t(n - 2).cdf(z)\n",
    "    p_value = 2 * min(f_z, 1 - f_z)\n",
    "\n",
    "z, p_value"
   ],
   "metadata": {
    "collapsed": false
   }
  },
  {
   "cell_type": "markdown",
   "source": [
    "## Кендалл"
   ],
   "metadata": {
    "collapsed": false
   }
  },
  {
   "cell_type": "code",
   "execution_count": 22,
   "outputs": [
    {
     "data": {
      "text/plain": "(41.270521349340356, 0.0)"
     },
     "execution_count": 22,
     "metadata": {},
     "output_type": "execute_result"
    }
   ],
   "source": [
    "r, _ = stats.kendalltau(X, Y)\n",
    "\n",
    "z = r * np.sqrt((9 * n * (n + 1)) / (2 * (2 * n + 5)))\n",
    "f_z = stats.norm(loc=0, scale=1).cdf(z)\n",
    "p_value = 2 * min(f_z, 1 - f_z)\n",
    "\n",
    "z, p_value"
   ],
   "metadata": {
    "collapsed": false
   }
  },
  {
   "cell_type": "markdown",
   "source": [
    "# 8.2"
   ],
   "metadata": {
    "collapsed": false
   }
  },
  {
   "cell_type": "code",
   "execution_count": 23,
   "outputs": [],
   "source": [
    "X1 = df.A5.to_numpy()\n",
    "X2 = df.A6.to_numpy()\n",
    "X3 = df.A8.to_numpy()"
   ],
   "metadata": {
    "collapsed": false
   }
  },
  {
   "cell_type": "code",
   "execution_count": 24,
   "outputs": [
    {
     "data": {
      "text/plain": "array([454, 686, 533, ..., 441, 403, 539], dtype=int64)"
     },
     "execution_count": 24,
     "metadata": {},
     "output_type": "execute_result"
    }
   ],
   "source": [
    "X1"
   ],
   "metadata": {
    "collapsed": false
   }
  },
  {
   "cell_type": "code",
   "execution_count": 25,
   "outputs": [
    {
     "data": {
      "text/plain": "array([382, 560, 494, ..., 383, 348, 410], dtype=int64)"
     },
     "execution_count": 25,
     "metadata": {},
     "output_type": "execute_result"
    }
   ],
   "source": [
    "X2"
   ],
   "metadata": {
    "collapsed": false
   }
  },
  {
   "cell_type": "code",
   "execution_count": 26,
   "outputs": [
    {
     "data": {
      "text/plain": "array([382, 508, 415, ..., 383, 315, 445], dtype=int64)"
     },
     "execution_count": 26,
     "metadata": {},
     "output_type": "execute_result"
    }
   ],
   "source": [
    "X3"
   ],
   "metadata": {
    "collapsed": false
   }
  },
  {
   "cell_type": "code",
   "execution_count": 27,
   "outputs": [
    {
     "data": {
      "text/plain": "1073"
     },
     "execution_count": 27,
     "metadata": {},
     "output_type": "execute_result"
    }
   ],
   "source": [
    "n = X.shape[0]\n",
    "n"
   ],
   "metadata": {
    "collapsed": false
   }
  },
  {
   "cell_type": "code",
   "execution_count": 28,
   "outputs": [
    {
     "data": {
      "text/plain": "       X1   X2   X3\n0     454  382  382\n1     686  560  508\n2     533  494  415\n3     612  507  498\n4     442  369  350\n...   ...  ...  ...\n1068  408  340  349\n1069  535  431  439\n1070  441  383  383\n1071  403  348  315\n1072  539  410  445\n\n[1073 rows x 3 columns]",
      "text/html": "<div>\n<style scoped>\n    .dataframe tbody tr th:only-of-type {\n        vertical-align: middle;\n    }\n\n    .dataframe tbody tr th {\n        vertical-align: top;\n    }\n\n    .dataframe thead th {\n        text-align: right;\n    }\n</style>\n<table border=\"1\" class=\"dataframe\">\n  <thead>\n    <tr style=\"text-align: right;\">\n      <th></th>\n      <th>X1</th>\n      <th>X2</th>\n      <th>X3</th>\n    </tr>\n  </thead>\n  <tbody>\n    <tr>\n      <th>0</th>\n      <td>454</td>\n      <td>382</td>\n      <td>382</td>\n    </tr>\n    <tr>\n      <th>1</th>\n      <td>686</td>\n      <td>560</td>\n      <td>508</td>\n    </tr>\n    <tr>\n      <th>2</th>\n      <td>533</td>\n      <td>494</td>\n      <td>415</td>\n    </tr>\n    <tr>\n      <th>3</th>\n      <td>612</td>\n      <td>507</td>\n      <td>498</td>\n    </tr>\n    <tr>\n      <th>4</th>\n      <td>442</td>\n      <td>369</td>\n      <td>350</td>\n    </tr>\n    <tr>\n      <th>...</th>\n      <td>...</td>\n      <td>...</td>\n      <td>...</td>\n    </tr>\n    <tr>\n      <th>1068</th>\n      <td>408</td>\n      <td>340</td>\n      <td>349</td>\n    </tr>\n    <tr>\n      <th>1069</th>\n      <td>535</td>\n      <td>431</td>\n      <td>439</td>\n    </tr>\n    <tr>\n      <th>1070</th>\n      <td>441</td>\n      <td>383</td>\n      <td>383</td>\n    </tr>\n    <tr>\n      <th>1071</th>\n      <td>403</td>\n      <td>348</td>\n      <td>315</td>\n    </tr>\n    <tr>\n      <th>1072</th>\n      <td>539</td>\n      <td>410</td>\n      <td>445</td>\n    </tr>\n  </tbody>\n</table>\n<p>1073 rows × 3 columns</p>\n</div>"
     },
     "execution_count": 28,
     "metadata": {},
     "output_type": "execute_result"
    }
   ],
   "source": [
    "data = {\n",
    "    'X1': X1,\n",
    "    'X2': X2,\n",
    "    'X3': X3\n",
    "}\n",
    "data = pd.DataFrame(data)\n",
    "data"
   ],
   "metadata": {
    "collapsed": false
   }
  },
  {
   "cell_type": "code",
   "execution_count": 29,
   "outputs": [
    {
     "data": {
      "text/plain": "[[0.0, 0.0, 0.0], [0.0, 0.0, 0.0], [0.0, 0.0, 0.0]]"
     },
     "execution_count": 29,
     "metadata": {},
     "output_type": "execute_result"
    }
   ],
   "source": [
    "# матрица ранговых коэффициентов корреляции по Кендаллу\n",
    "# матрица значений p-value для ранговых коэффициентов корреляции по Кендаллу\n",
    "\n",
    "sample = [X1, X2, X3]\n",
    "arr_kendall = []\n",
    "arr_kendall_pvalue = []\n",
    "\n",
    "for i in range(0, 3):\n",
    "    row = []\n",
    "    row_p = []\n",
    "    for j in range(0, 3):\n",
    "        if i != j:\n",
    "            t = stats.kendalltau(sample[i], sample[j])\n",
    "            row.append(t[0])\n",
    "            row_p.append(t[1])\n",
    "        else:\n",
    "            t = stats.kendalltau(sample[i], sample[j])\n",
    "            row.append(t[0])\n",
    "            row_p.append(0.0)\n",
    "    arr_kendall.append(row)\n",
    "    arr_kendall_pvalue.append(row_p)\n",
    "\n",
    "arr_kendall_pvalue"
   ],
   "metadata": {
    "collapsed": false
   }
  },
  {
   "cell_type": "code",
   "execution_count": 30,
   "outputs": [
    {
     "data": {
      "text/plain": "[[0.9999999999999999, 0.8207843548296889, 0.8405274510615323],\n [0.8207843548296889, 1.0, 0.8129554569730247],\n [0.8405274510615321, 0.8129554569730247, 1.0]]"
     },
     "execution_count": 30,
     "metadata": {},
     "output_type": "execute_result"
    }
   ],
   "source": [
    "arr_kendall"
   ],
   "metadata": {
    "collapsed": false
   }
  },
  {
   "cell_type": "code",
   "execution_count": 31,
   "outputs": [
    {
     "data": {
      "text/plain": "          X1        X2        X3\nX1  1.000000  0.820784  0.840527\nX2  0.820784  1.000000  0.812955\nX3  0.840527  0.812955  1.000000",
      "text/html": "<div>\n<style scoped>\n    .dataframe tbody tr th:only-of-type {\n        vertical-align: middle;\n    }\n\n    .dataframe tbody tr th {\n        vertical-align: top;\n    }\n\n    .dataframe thead th {\n        text-align: right;\n    }\n</style>\n<table border=\"1\" class=\"dataframe\">\n  <thead>\n    <tr style=\"text-align: right;\">\n      <th></th>\n      <th>X1</th>\n      <th>X2</th>\n      <th>X3</th>\n    </tr>\n  </thead>\n  <tbody>\n    <tr>\n      <th>X1</th>\n      <td>1.000000</td>\n      <td>0.820784</td>\n      <td>0.840527</td>\n    </tr>\n    <tr>\n      <th>X2</th>\n      <td>0.820784</td>\n      <td>1.000000</td>\n      <td>0.812955</td>\n    </tr>\n    <tr>\n      <th>X3</th>\n      <td>0.840527</td>\n      <td>0.812955</td>\n      <td>1.000000</td>\n    </tr>\n  </tbody>\n</table>\n</div>"
     },
     "execution_count": 31,
     "metadata": {},
     "output_type": "execute_result"
    }
   ],
   "source": [
    "corr = data.corr('kendall')\n",
    "corr"
   ],
   "metadata": {
    "collapsed": false
   }
  },
  {
   "cell_type": "code",
   "execution_count": 141,
   "outputs": [
    {
     "data": {
      "text/plain": "<AxesSubplot: >"
     },
     "execution_count": 141,
     "metadata": {},
     "output_type": "execute_result"
    },
    {
     "data": {
      "text/plain": "<Figure size 640x480 with 2 Axes>",
      "image/png": "[encoded data removed]"
     },
     "metadata": {},
     "output_type": "display_data"
    }
   ],
   "source": [
    "sb.heatmap(corr,\n",
    "           xticklabels=corr.columns.values,\n",
    "           yticklabels=corr.columns.values,\n",
    "           cmap=\"rocket\",\n",
    "           annot=True)"
   ],
   "metadata": {
    "collapsed": false
   }
  },
  {
   "cell_type": "code",
   "execution_count": 32,
   "outputs": [],
   "source": [
    "def kend_p(r):\n",
    "    z1 = r * np.sqrt((9 * n * (n + 1)) / (2 * (2 * n + 5)))\n",
    "    f_z1 = stats.norm(loc=0, scale=1).cdf(z1)\n",
    "    p_value1 = 2 * min(f_z1, 1 - f_z1)\n",
    "    return p_value1"
   ],
   "metadata": {
    "collapsed": false
   }
  },
  {
   "cell_type": "code",
   "execution_count": 33,
   "outputs": [
    {
     "data": {
      "text/plain": "     X1   X2   X3\nX1  0.0  0.0  0.0\nX2  0.0  0.0  0.0\nX3  0.0  0.0  0.0",
      "text/html": "<div>\n<style scoped>\n    .dataframe tbody tr th:only-of-type {\n        vertical-align: middle;\n    }\n\n    .dataframe tbody tr th {\n        vertical-align: top;\n    }\n\n    .dataframe thead th {\n        text-align: right;\n    }\n</style>\n<table border=\"1\" class=\"dataframe\">\n  <thead>\n    <tr style=\"text-align: right;\">\n      <th></th>\n      <th>X1</th>\n      <th>X2</th>\n      <th>X3</th>\n    </tr>\n  </thead>\n  <tbody>\n    <tr>\n      <th>X1</th>\n      <td>0.0</td>\n      <td>0.0</td>\n      <td>0.0</td>\n    </tr>\n    <tr>\n      <th>X2</th>\n      <td>0.0</td>\n      <td>0.0</td>\n      <td>0.0</td>\n    </tr>\n    <tr>\n      <th>X3</th>\n      <td>0.0</td>\n      <td>0.0</td>\n      <td>0.0</td>\n    </tr>\n  </tbody>\n</table>\n</div>"
     },
     "execution_count": 33,
     "metadata": {},
     "output_type": "execute_result"
    }
   ],
   "source": [
    "p_vs = corr.applymap(kend_p)\n",
    "p_vs"
   ],
   "metadata": {
    "collapsed": false
   }
  },
  {
   "cell_type": "code",
   "execution_count": 34,
   "outputs": [
    {
     "data": {
      "text/plain": "<AxesSubplot: >"
     },
     "execution_count": 34,
     "metadata": {},
     "output_type": "execute_result"
    },
    {
     "data": {
      "text/plain": "<Figure size 640x480 with 2 Axes>",
      "image/png": "[encoded data removed]"
     },
     "metadata": {},
     "output_type": "display_data"
    }
   ],
   "source": [
    "sb.heatmap(p_vs,\n",
    "           xticklabels=p_vs.columns.values,\n",
    "           yticklabels=p_vs.columns.values,\n",
    "           cmap=\"rocket\",\n",
    "           annot=True)"
   ],
   "metadata": {
    "collapsed": false
   }
  },
  {
   "cell_type": "code",
   "execution_count": 35,
   "outputs": [
    {
     "data": {
      "text/plain": "KendalltauResult(correlation=0.8207843548296889, pvalue=0.0)"
     },
     "execution_count": 35,
     "metadata": {},
     "output_type": "execute_result"
    }
   ],
   "source": [
    "stats.kendalltau(X1, X2, method='auto')"
   ],
   "metadata": {
    "collapsed": false
   }
  },
  {
   "cell_type": "code",
   "execution_count": 187,
   "outputs": [
    {
     "ename": "AttributeError",
     "evalue": "'numpy.ndarray' object has no attribute 'rank'",
     "output_type": "error",
     "traceback": [
      "\u001B[1;31m---------------------------------------------------------------------------\u001B[0m",
      "\u001B[1;31mAttributeError\u001B[0m                            Traceback (most recent call last)",
      "Cell \u001B[1;32mIn [187], line 1\u001B[0m\n\u001B[1;32m----> 1\u001B[0m r1 \u001B[38;5;241m=\u001B[39m \u001B[43mX1\u001B[49m\u001B[38;5;241;43m.\u001B[39;49m\u001B[43mrank\u001B[49m()\n\u001B[0;32m      2\u001B[0m r2 \u001B[38;5;241m=\u001B[39m X2\u001B[38;5;241m.\u001B[39mrank()\n\u001B[0;32m      3\u001B[0m r3 \u001B[38;5;241m=\u001B[39m X3\u001B[38;5;241m.\u001B[39mrank()\n",
      "\u001B[1;31mAttributeError\u001B[0m: 'numpy.ndarray' object has no attribute 'rank'"
     ]
    }
   ],
   "source": [],
   "metadata": {
    "collapsed": false
   }
  },
  {
   "cell_type": "code",
   "execution_count": 36,
   "outputs": [],
   "source": [
    "import warnings\n",
    "\n",
    "\n",
    "def compute_w(data):\n",
    "    assert isinstance(data, list), \"You must pass a python list,\\\n",
    "        {} found\".format(type(data))\n",
    "    assert all(isinstance(x, list) for x in data), \"You must pass a list of\\\n",
    "        python lists as input.\"  # To test\n",
    "    assert all(isinstance(x[y], int) for x in data for y in range(len(x))), \"You must\\\n",
    "        pass a list of lists of integers.\"  # To test\n",
    "\n",
    "    # Number of annotators\n",
    "    m = len(data[0])\n",
    "    # Tests\n",
    "    if not all(len(i) == m for i in data):\n",
    "        raise ValueError(\"Items must all have the same number of annotators.\\\n",
    "            At least one sublist of argument 'data' has different length than\\\n",
    "            the first sublist.\")\n",
    "    if m <= 1:\n",
    "        raise ValueError(\"Kendall's W is irrevelent for only one annotator,\\\n",
    "            try adding more lists to argument 'data'.\")\n",
    "    if m == 2:\n",
    "        warnings.warn(\"Kendall's W is adapted to measure agreement between\\\n",
    "            more than two annotators. The results might not be reliable in\\\n",
    "            this case.\", Warning)\n",
    "\n",
    "    # Number of items\n",
    "    n = len(data)\n",
    "    # Tests\n",
    "    if n <= 1:\n",
    "        raise ValueError(\"Kendall's W is irrevelent for only one item,\\\n",
    "            try adding more sublists to argument 'data'.\")\n",
    "\n",
    "    # Sum of each item ranks\n",
    "    sums = [sum(x) for x in data]\n",
    "    # Mean of ranking sums\n",
    "    Rbar = sum(sums) / n\n",
    "    # Sum of squared deviations from the mean\n",
    "    S = sum([(sums[x] - Rbar) ** 2 for x in range(n)])\n",
    "\n",
    "    W = (12 * S) / (m ** 2 * (n ** 3 - n))\n",
    "\n",
    "    return W"
   ],
   "metadata": {
    "collapsed": false
   }
  },
  {
   "cell_type": "code",
   "execution_count": 37,
   "outputs": [
    {
     "name": "stdout",
     "output_type": "stream",
     "text": [
      "Коэффициент конкордации: 0.971\n",
      "test: z = 3121.937; p-value = 0.000\n"
     ]
    }
   ],
   "source": [
    "s1 = pd.Series(X1)\n",
    "s2 = pd.Series(X2)\n",
    "s3 = pd.Series(X3)\n",
    "\n",
    "r1 = s1.rank()\n",
    "r2 = s2.rank()\n",
    "r3 = s3.rank()\n",
    "\n",
    "r = [r1, r2, r3]\n",
    "\n",
    "k = 3  #число выборок\n",
    "\n",
    "w = 0\n",
    "for i in range(0, n):\n",
    "    s1 = 0\n",
    "    for j in range(0, k):\n",
    "        s1 += (1 / k) * r[j][i]\n",
    "    w += (s1 - (n + 1) / 2) ** 2\n",
    "\n",
    "w = (w * 12) / (n ** 3 - n)\n",
    "\n",
    "print('Коэффициент конкордации: %.3f' % w)\n",
    "\n",
    "#статистика критерия\n",
    "\n",
    "z = k * (n - 1) * w\n",
    "f_z = stats.chi2(n - 1).cdf(z)\n",
    "p_value = 2 * min(f_z, 1 - f_z)\n",
    "\n",
    "print(\"test: z = %.3f; p-value = %.3f\" % (z, p_value))"
   ],
   "metadata": {
    "collapsed": false
   }
  },
  {
   "cell_type": "code",
   "execution_count": 38,
   "outputs": [
    {
     "name": "stdout",
     "output_type": "stream",
     "text": [
      "Коэффициент конкордации: 0.971\n"
     ]
    },
    {
     "data": {
      "text/plain": "(3121.9374072589253, 0.0)"
     },
     "execution_count": 38,
     "metadata": {},
     "output_type": "execute_result"
    }
   ],
   "source": [
    "s1 = pd.Series(X1)\n",
    "s2 = pd.Series(X2)\n",
    "s3 = pd.Series(X3)\n",
    "\n",
    "r1 = s1.rank()\n",
    "r2 = s2.rank()\n",
    "r3 = s3.rank()\n",
    "\n",
    "r = np.concatenate([r1.to_numpy(), r2.to_numpy(), r3.to_numpy()]).reshape((3, r1.shape[0]))\n",
    "\n",
    "k = 3  # число выборок\n",
    "\n",
    "w = np.sum(((1 / k) * np.sum(r, axis=0) - (n + 1) / 2) ** 2)\n",
    "\n",
    "w = (w * 12) / (n ** 3 - n)\n",
    "\n",
    "print(f'Коэффициент конкордации: {w:.3f}')\n",
    "\n",
    "# статистика критерия\n",
    "\n",
    "z = k * (n - 1) * w\n",
    "f_z = stats.chi2(n - 1).cdf(z)\n",
    "p_value = 2 * min(f_z, 1 - f_z)\n",
    "\n",
    "z, p_value"
   ],
   "metadata": {
    "collapsed": false
   }
  },
  {
   "cell_type": "code",
   "execution_count": 39,
   "outputs": [
    {
     "data": {
      "text/plain": "0.9707516813616062"
     },
     "execution_count": 39,
     "metadata": {},
     "output_type": "execute_result"
    }
   ],
   "source": [
    "w"
   ],
   "metadata": {
    "collapsed": false
   }
  },
  {
   "cell_type": "code",
   "execution_count": null,
   "outputs": [],
   "source": [],
   "metadata": {
    "collapsed": false
   }
  }
 ],
 "metadata": {
  "kernelspec": {
   "display_name": "Python 3",
   "language": "python",
   "name": "python3"
  },
  "language_info": {
   "codemirror_mode": {
    "name": "ipython",
    "version": 2
   },
   "file_extension": ".py",
   "mimetype": "text/x-python",
   "name": "python",
   "nbconvert_exporter": "python",
   "pygments_lexer": "ipython2",
   "version": "2.7.6"
  }
 },
 "nbformat": 4,
 "nbformat_minor": 0
}
