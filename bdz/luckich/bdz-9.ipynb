{
 "cells": [
  {
   "cell_type": "code",
   "execution_count": 1,
   "metadata": {
    "collapsed": true
   },
   "outputs": [],
   "source": [
    "import numpy as np  # библиотека для матриц и математики\n",
    "import pandas as pd  # библиотека для работы с табличками\n",
    "from scipy import stats  # модуль для работы со статистикой\n",
    "import scipy\n",
    "\n",
    "# библиотеки для визуализации\n",
    "import matplotlib.pyplot as plt\n",
    "import seaborn as sb\n",
    "\n",
    "import math\n",
    "\n",
    "plt.style.use('ggplot')  # стиль графиков\n",
    "\n",
    "%matplotlib inline"
   ]
  },
  {
   "cell_type": "code",
   "execution_count": 2,
   "outputs": [
    {
     "data": {
      "text/plain": "         A1                            A2  A3   A4   A5   A6   A7   A8 A9  \\\n0      1061     Alaska Pacific University  AK  IIB  454  382  362  382  N   \n1      1063         Univ.Alaska-Fairbanks  AK    I  686  560  432  508  Y   \n2      1065         Univ.Alaska-Southeast  AK  IIA  533  494  329  415  N   \n3     11462         Univ.Alaska-Anchorage  AK  IIA  612  507  414  498  Y   \n4      1002     Alabama Agri.&Mech. Univ.  AL  IIA  442  369  310  350  N   \n...     ...                           ...  ..  ...  ...  ...  ...  ... ..   \n1068   3825  West Virginia Inst. of Tech.  WV  IIB  408  340  297  349  N   \n1069   3827      West Virginia University  WV    I  535  431  361  439  Y   \n1070   3830  West Virginia Wesleyan Coll.  WV  IIB  441  383  339  383  N   \n1071   3831       Wheeling Jesuit College  WV  IIB  403  348  282  315  N   \n1072   3932         University of Wyoming  WY    I  539  410  374  445  Y   \n\n      A10  A11  A12  A13 A14  A15  A16  A17  A18  A19 A20  \n0     567  485  471  487   N    6   11    9    4   32   N  \n1     914  753  572  677   Y   74  125  118   40  404   Y  \n2     716  663  442  559   Y    9   26   20    9   70   N  \n3     825  681  557  670   Y  115  124  101   21  392   Y  \n4     530  444  376  423   N   59   77  102   24  262   N  \n...   ...  ...  ...  ...  ..  ...  ...  ...  ...  ...  ..  \n1068  502  419  369  431   N   54   43   29   11  137   N  \n1069  642  521  438  529   N  335  237  272   22  895   Y  \n1070  572  494  434  495   N   25   22   24    3   74   N  \n1071  486  416  348  381   N    8   20   25   12   65   N  \n1072  658  507  464  549   Y  241  154  164    2  591   Y  \n\n[1073 rows x 20 columns]",
      "text/html": "<div>\n<style scoped>\n    .dataframe tbody tr th:only-of-type {\n        vertical-align: middle;\n    }\n\n    .dataframe tbody tr th {\n        vertical-align: top;\n    }\n\n    .dataframe thead th {\n        text-align: right;\n    }\n</style>\n<table border=\"1\" class=\"dataframe\">\n  <thead>\n    <tr style=\"text-align: right;\">\n      <th></th>\n      <th>A1</th>\n      <th>A2</th>\n      <th>A3</th>\n      <th>A4</th>\n      <th>A5</th>\n      <th>A6</th>\n      <th>A7</th>\n      <th>A8</th>\n      <th>A9</th>\n      <th>A10</th>\n      <th>A11</th>\n      <th>A12</th>\n      <th>A13</th>\n      <th>A14</th>\n      <th>A15</th>\n      <th>A16</th>\n      <th>A17</th>\n      <th>A18</th>\n      <th>A19</th>\n      <th>A20</th>\n    </tr>\n  </thead>\n  <tbody>\n    <tr>\n      <th>0</th>\n      <td>1061</td>\n      <td>Alaska Pacific University</td>\n      <td>AK</td>\n      <td>IIB</td>\n      <td>454</td>\n      <td>382</td>\n      <td>362</td>\n      <td>382</td>\n      <td>N</td>\n      <td>567</td>\n      <td>485</td>\n      <td>471</td>\n      <td>487</td>\n      <td>N</td>\n      <td>6</td>\n      <td>11</td>\n      <td>9</td>\n      <td>4</td>\n      <td>32</td>\n      <td>N</td>\n    </tr>\n    <tr>\n      <th>1</th>\n      <td>1063</td>\n      <td>Univ.Alaska-Fairbanks</td>\n      <td>AK</td>\n      <td>I</td>\n      <td>686</td>\n      <td>560</td>\n      <td>432</td>\n      <td>508</td>\n      <td>Y</td>\n      <td>914</td>\n      <td>753</td>\n      <td>572</td>\n      <td>677</td>\n      <td>Y</td>\n      <td>74</td>\n      <td>125</td>\n      <td>118</td>\n      <td>40</td>\n      <td>404</td>\n      <td>Y</td>\n    </tr>\n    <tr>\n      <th>2</th>\n      <td>1065</td>\n      <td>Univ.Alaska-Southeast</td>\n      <td>AK</td>\n      <td>IIA</td>\n      <td>533</td>\n      <td>494</td>\n      <td>329</td>\n      <td>415</td>\n      <td>N</td>\n      <td>716</td>\n      <td>663</td>\n      <td>442</td>\n      <td>559</td>\n      <td>Y</td>\n      <td>9</td>\n      <td>26</td>\n      <td>20</td>\n      <td>9</td>\n      <td>70</td>\n      <td>N</td>\n    </tr>\n    <tr>\n      <th>3</th>\n      <td>11462</td>\n      <td>Univ.Alaska-Anchorage</td>\n      <td>AK</td>\n      <td>IIA</td>\n      <td>612</td>\n      <td>507</td>\n      <td>414</td>\n      <td>498</td>\n      <td>Y</td>\n      <td>825</td>\n      <td>681</td>\n      <td>557</td>\n      <td>670</td>\n      <td>Y</td>\n      <td>115</td>\n      <td>124</td>\n      <td>101</td>\n      <td>21</td>\n      <td>392</td>\n      <td>Y</td>\n    </tr>\n    <tr>\n      <th>4</th>\n      <td>1002</td>\n      <td>Alabama Agri.&amp;Mech. Univ.</td>\n      <td>AL</td>\n      <td>IIA</td>\n      <td>442</td>\n      <td>369</td>\n      <td>310</td>\n      <td>350</td>\n      <td>N</td>\n      <td>530</td>\n      <td>444</td>\n      <td>376</td>\n      <td>423</td>\n      <td>N</td>\n      <td>59</td>\n      <td>77</td>\n      <td>102</td>\n      <td>24</td>\n      <td>262</td>\n      <td>N</td>\n    </tr>\n    <tr>\n      <th>...</th>\n      <td>...</td>\n      <td>...</td>\n      <td>...</td>\n      <td>...</td>\n      <td>...</td>\n      <td>...</td>\n      <td>...</td>\n      <td>...</td>\n      <td>...</td>\n      <td>...</td>\n      <td>...</td>\n      <td>...</td>\n      <td>...</td>\n      <td>...</td>\n      <td>...</td>\n      <td>...</td>\n      <td>...</td>\n      <td>...</td>\n      <td>...</td>\n      <td>...</td>\n    </tr>\n    <tr>\n      <th>1068</th>\n      <td>3825</td>\n      <td>West Virginia Inst. of Tech.</td>\n      <td>WV</td>\n      <td>IIB</td>\n      <td>408</td>\n      <td>340</td>\n      <td>297</td>\n      <td>349</td>\n      <td>N</td>\n      <td>502</td>\n      <td>419</td>\n      <td>369</td>\n      <td>431</td>\n      <td>N</td>\n      <td>54</td>\n      <td>43</td>\n      <td>29</td>\n      <td>11</td>\n      <td>137</td>\n      <td>N</td>\n    </tr>\n    <tr>\n      <th>1069</th>\n      <td>3827</td>\n      <td>West Virginia University</td>\n      <td>WV</td>\n      <td>I</td>\n      <td>535</td>\n      <td>431</td>\n      <td>361</td>\n      <td>439</td>\n      <td>Y</td>\n      <td>642</td>\n      <td>521</td>\n      <td>438</td>\n      <td>529</td>\n      <td>N</td>\n      <td>335</td>\n      <td>237</td>\n      <td>272</td>\n      <td>22</td>\n      <td>895</td>\n      <td>Y</td>\n    </tr>\n    <tr>\n      <th>1070</th>\n      <td>3830</td>\n      <td>West Virginia Wesleyan Coll.</td>\n      <td>WV</td>\n      <td>IIB</td>\n      <td>441</td>\n      <td>383</td>\n      <td>339</td>\n      <td>383</td>\n      <td>N</td>\n      <td>572</td>\n      <td>494</td>\n      <td>434</td>\n      <td>495</td>\n      <td>N</td>\n      <td>25</td>\n      <td>22</td>\n      <td>24</td>\n      <td>3</td>\n      <td>74</td>\n      <td>N</td>\n    </tr>\n    <tr>\n      <th>1071</th>\n      <td>3831</td>\n      <td>Wheeling Jesuit College</td>\n      <td>WV</td>\n      <td>IIB</td>\n      <td>403</td>\n      <td>348</td>\n      <td>282</td>\n      <td>315</td>\n      <td>N</td>\n      <td>486</td>\n      <td>416</td>\n      <td>348</td>\n      <td>381</td>\n      <td>N</td>\n      <td>8</td>\n      <td>20</td>\n      <td>25</td>\n      <td>12</td>\n      <td>65</td>\n      <td>N</td>\n    </tr>\n    <tr>\n      <th>1072</th>\n      <td>3932</td>\n      <td>University of Wyoming</td>\n      <td>WY</td>\n      <td>I</td>\n      <td>539</td>\n      <td>410</td>\n      <td>374</td>\n      <td>445</td>\n      <td>Y</td>\n      <td>658</td>\n      <td>507</td>\n      <td>464</td>\n      <td>549</td>\n      <td>Y</td>\n      <td>241</td>\n      <td>154</td>\n      <td>164</td>\n      <td>2</td>\n      <td>591</td>\n      <td>Y</td>\n    </tr>\n  </tbody>\n</table>\n<p>1073 rows × 20 columns</p>\n</div>"
     },
     "execution_count": 2,
     "metadata": {},
     "output_type": "execute_result"
    }
   ],
   "source": [
    "xls = pd.ExcelFile(r'./../table.xls')\n",
    "df = xls.parse(1)\n",
    "df"
   ],
   "metadata": {
    "collapsed": false
   }
  },
  {
   "cell_type": "markdown",
   "source": [
    "# 9.1.1"
   ],
   "metadata": {
    "collapsed": false
   }
  },
  {
   "cell_type": "code",
   "execution_count": 62,
   "outputs": [],
   "source": [
    "X = df.A15.to_numpy()\n",
    "Y = df.A13.to_numpy()"
   ],
   "metadata": {
    "collapsed": false
   }
  },
  {
   "cell_type": "code",
   "execution_count": 63,
   "outputs": [],
   "source": [
    "data = pd.read_excel(\"../table.xls\",sheet_name='A - aaup' )\n",
    "X_grp = data.groupby(['A15']).groups\n",
    "for key in X_grp:\n",
    "    arr = []\n",
    "    for i in range(len(X_grp[key])):\n",
    "        j = X_grp[key][i]\n",
    "        arr.append(Y[j])\n",
    "    X_grp[key] = arr"
   ],
   "metadata": {
    "collapsed": false
   }
  },
  {
   "cell_type": "code",
   "execution_count": 64,
   "outputs": [
    {
     "data": {
      "text/plain": "{6: [487, 353, 416, 378, 349, 510, 466, 458, 373, 392, 369], 7: [405, 342, 462, 429, 361, 453, 303, 391, 363, 386], 8: [366, 517, 363, 367, 406, 505, 482, 340, 386, 384, 423, 573, 363, 454, 464, 350, 357, 324, 371, 381], 9: [559, 434, 474, 435, 513, 456, 371, 388, 366, 375, 407, 397, 410, 420, 333, 455, 467, 420, 430, 368, 414, 386], 10: [413, 438, 468, 335, 415, 369, 377, 364, 356, 364, 389, 423, 401, 473, 492, 522, 443, 423, 423], 11: [412, 407, 444, 290, 340, 342, 335, 434, 374, 318, 404, 394, 364, 574, 387, 418, 554, 419, 339], 12: [415, 489, 347, 382, 374, 377, 394, 425, 429, 510, 446, 415, 407, 500, 465, 395, 473, 360, 406, 343, 448, 371], 13: [335, 318, 504, 443, 338, 441, 390, 347, 472, 454, 436, 500, 341, 603, 443], 14: [391, 456, 395, 502, 448, 436, 433, 435, 422, 452, 482, 382, 468, 481, 430, 469, 386], 15: [591, 411, 363, 440, 392, 448, 411, 427, 399, 449, 537, 425, 429, 379, 449, 503, 448, 541], 16: [527, 379, 398, 428, 502, 467, 469, 350, 358, 380, 483, 542, 494, 399, 381, 507, 507, 374], 17: [363, 355, 405, 466, 329, 465, 318, 431, 455, 397, 432, 469, 538, 375, 512, 440], 18: [362, 447, 427, 397, 372, 521, 468, 365, 354, 515, 413, 414, 387, 438, 484, 500], 19: [553, 528, 484, 396, 419, 459, 426, 487, 455, 493, 453, 473, 409, 400, 397], 20: [478, 363, 486, 425, 464, 405, 490, 423, 483, 432, 492, 444, 463, 451, 329, 449, 463], 21: [546, 505, 632, 518, 379, 446, 484, 308, 410, 491, 433], 22: [416, 531, 418, 492, 400, 381, 393, 573, 457, 399, 520, 486, 432, 590, 479, 488], 23: [449, 428, 426, 480, 483, 431, 415, 387, 401, 394, 442, 419, 538, 489, 384], 24: [562, 497, 477, 420, 510, 539, 526, 560, 396, 437], 25: [426, 535, 509, 504, 451, 522, 440, 527, 406, 475, 382, 776, 509, 508, 521, 495], 26: [418, 662, 395, 474, 554, 571, 460, 442, 431, 439, 536, 501, 402, 480, 420], 27: [363, 453, 422, 532, 392, 427, 522, 482, 499, 527, 470, 407, 431, 522], 28: [658, 612, 524, 512, 473, 495, 510, 474, 461, 531, 502, 572, 538, 475, 515], 29: [444, 515, 450, 420, 442, 524, 570, 481, 420], 30: [526, 463, 570, 472, 435, 418, 456, 428, 564, 418, 571, 597, 457], 31: [695, 574, 637, 790, 515, 508, 597, 502], 32: [464, 507, 553, 563, 572, 537, 482, 525, 557, 489, 503, 436, 563, 390, 469], 33: [562, 476, 554, 440, 452, 481, 602, 451, 459, 497, 540], 34: [523, 805, 472, 546, 467, 436, 505, 470, 487, 334, 434, 462, 481], 35: [544, 491, 505, 450, 372, 784, 593, 469, 537, 725, 598], 36: [435, 751, 497, 480, 530, 571, 599, 532, 545, 600], 37: [487, 445, 437, 418, 413, 493, 532, 481, 532, 647, 518, 602], 38: [656, 618, 484, 434, 511, 572, 637], 39: [477, 436, 371, 500, 544, 537, 677, 456, 466, 562, 623, 400, 538, 515], 40: [419, 403, 489, 510, 683, 716, 709], 41: [494, 517, 540, 682, 669], 42: [476, 463, 587, 646, 455, 505, 462, 544, 565, 561, 561, 417], 43: [488, 549, 598, 437, 629, 555, 503, 646], 44: [471, 511, 551, 403, 644, 601, 474, 434, 375], 45: [635, 512, 621, 500, 415, 379], 46: [638, 645, 482, 514, 548, 604, 631], 47: [468, 714, 479, 530, 496, 589, 496, 430, 426, 603, 546, 607, 670, 508], 48: [642, 391, 712, 461, 525, 590, 528], 49: [621, 610, 410, 505, 706, 654, 608, 567, 450, 517, 486, 518, 561], 50: [531, 516, 617, 513, 627, 485], 51: [587, 715, 621], 52: [490, 570, 515, 575, 590, 543], 53: [503, 458, 511, 636, 607, 551], 54: [593, 682, 513, 473, 543, 431], 55: [477, 707, 550, 489], 56: [483, 518, 562, 485, 694, 551], 57: [477, 387, 704, 496, 602, 582, 445], 58: [651, 583, 584, 557, 585], 59: [423, 507, 518, 548, 677, 576, 432, 513], 60: [708, 413, 644, 667, 472, 683], 61: [605, 542, 664, 820, 614, 548], 62: [558, 721, 719, 484], 63: [665, 654, 531, 467], 64: [480], 65: [639, 520, 435], 66: [529, 685], 67: [503, 574, 548, 471, 626], 68: [421, 659, 526, 639, 699, 462, 494, 517, 651], 69: [506, 621], 70: [446, 585, 582, 557, 674], 71: [506], 72: [548, 596, 544, 412, 517, 494], 73: [460, 547, 678, 474], 74: [677, 587, 598], 75: [515, 529, 693], 76: [558, 540, 561, 446, 530], 77: [587, 719], 78: [564, 578, 677, 552, 527], 79: [578], 80: [460, 692, 464, 700, 655], 81: [593, 436, 502], 82: [701, 543, 447], 83: [578, 478, 535, 516], 84: [474, 625, 678, 728], 85: [729, 563], 86: [637, 579, 583, 458], 87: [472, 774, 560, 577, 636], 88: [500, 418, 436], 89: [692], 90: [778, 606, 598], 91: [604, 580, 539], 93: [482, 636, 585, 571, 501], 94: [514, 662, 565], 95: [637, 503, 686, 686], 97: [779], 98: [502, 675, 601, 696], 99: [671], 100: [434, 665], 101: [600, 514, 535], 103: [498, 540, 477, 527], 104: [799, 567], 105: [725, 453], 106: [493, 587, 576], 107: [578, 536, 632], 108: [690, 505], ...}"
     },
     "execution_count": 64,
     "metadata": {},
     "output_type": "execute_result"
    }
   ],
   "source": [
    "X_grp"
   ],
   "metadata": {
    "collapsed": false
   }
  },
  {
   "cell_type": "code",
   "execution_count": 65,
   "outputs": [
    {
     "data": {
      "text/plain": "array([  6,  74,   9, ...,  25,   8, 241], dtype=int64)"
     },
     "execution_count": 65,
     "metadata": {},
     "output_type": "execute_result"
    }
   ],
   "source": [
    "X"
   ],
   "metadata": {
    "collapsed": false
   }
  },
  {
   "cell_type": "code",
   "execution_count": 66,
   "outputs": [
    {
     "data": {
      "text/plain": "array([487, 677, 559, ..., 495, 381, 549], dtype=int64)"
     },
     "execution_count": 66,
     "metadata": {},
     "output_type": "execute_result"
    }
   ],
   "source": [
    "Y"
   ],
   "metadata": {
    "collapsed": false
   }
  },
  {
   "cell_type": "code",
   "execution_count": 67,
   "outputs": [
    {
     "data": {
      "text/plain": "(0.5719628587649872, 145.87346745206614, 118.50561190713184)"
     },
     "execution_count": 67,
     "metadata": {},
     "output_type": "execute_result"
    }
   ],
   "source": [
    "r, _ = stats.pearsonr(X, Y)\n",
    "s1 = np.std(X, ddof=1)\n",
    "s2 = np.std(Y, ddof=1)\n",
    "r, s1, s2"
   ],
   "metadata": {
    "collapsed": false
   }
  },
  {
   "cell_type": "code",
   "execution_count": 68,
   "outputs": [],
   "source": [
    "beta_0 = np.mean(Y) - r * (s2/s1) * np.mean(X)"
   ],
   "metadata": {
    "collapsed": false
   }
  },
  {
   "cell_type": "code",
   "execution_count": 69,
   "outputs": [],
   "source": [
    "beta_1 = r * (s2/s1)"
   ],
   "metadata": {
    "collapsed": false
   }
  },
  {
   "cell_type": "code",
   "execution_count": 70,
   "outputs": [
    {
     "data": {
      "text/plain": "(488.9932986745056, 0.46465481180372936)"
     },
     "execution_count": 70,
     "metadata": {},
     "output_type": "execute_result"
    }
   ],
   "source": [
    "beta_0, beta_1"
   ],
   "metadata": {
    "collapsed": false
   }
  },
  {
   "cell_type": "code",
   "execution_count": 71,
   "outputs": [
    {
     "data": {
      "text/plain": "[<matplotlib.lines.Line2D at 0x1eec6c5dbb0>]"
     },
     "execution_count": 71,
     "metadata": {},
     "output_type": "execute_result"
    },
    {
     "data": {
      "text/plain": "<Figure size 640x480 with 1 Axes>",
      "image/png": "[encoded data removed]"
     },
     "metadata": {},
     "output_type": "display_data"
    }
   ],
   "source": [
    "plt.scatter(X, Y)\n",
    "lin_reg = beta_1 * X + beta_0\n",
    "plt.plot(X, lin_reg, color='blue')"
   ],
   "metadata": {
    "collapsed": false
   }
  },
  {
   "cell_type": "code",
   "execution_count": 72,
   "outputs": [],
   "source": [
    "def f(x):\n",
    "    return beta_1 * x + beta_0"
   ],
   "metadata": {
    "collapsed": false
   }
  },
  {
   "cell_type": "code",
   "execution_count": 77,
   "outputs": [],
   "source": [
    "def f1(x):\n",
    "    return Y.mean() + (s2/s1)* r * (x - X.mean())"
   ],
   "metadata": {
    "collapsed": false
   }
  },
  {
   "cell_type": "code",
   "execution_count": 107,
   "outputs": [
    {
     "name": "stdout",
     "output_type": "stream",
     "text": [
      "4704.091226794413\n",
      "9440.535573858097\n",
      "14030.49190804712\n"
     ]
    }
   ],
   "source": [
    "D_YX = 0\n",
    "n = len(Y)\n",
    "for key in X_grp:\n",
    "    D_YX += 1/n * (np.array(X_grp[key]).mean() - Y.mean()) ** 2\n",
    "\n",
    "D_res = 0\n",
    "for i in range(n):\n",
    "    D_res += 1/n * (Y[i] - f1(X[i])) ** 2\n",
    "\n",
    "D_Y = 0\n",
    "for i in range(n):\n",
    "    D_Y += 1/n * (Y[i] - Y.mean()) ** 2\n",
    "\n",
    "print(D_YX) # непрпаильно\n",
    "# D_YX = D_Y - D_res\n",
    "# print(D_YX)\n",
    "print(D_res)\n",
    "print(D_Y)"
   ],
   "metadata": {
    "collapsed": false
   }
  },
  {
   "cell_type": "code",
   "execution_count": 108,
   "outputs": [
    {
     "data": {
      "text/plain": "14144.62680065251"
     },
     "execution_count": 108,
     "metadata": {},
     "output_type": "execute_result"
    }
   ],
   "source": [
    "D_YX + D_res"
   ],
   "metadata": {
    "collapsed": false
   }
  },
  {
   "cell_type": "code",
   "execution_count": null,
   "outputs": [],
   "source": [
    "ESS = 0\n",
    "n = len(Y)\n",
    "for key in X_grp:\n",
    "    ESS += (Y[i]) ** 2"
   ],
   "metadata": {
    "collapsed": false
   }
  }
 ],
 "metadata": {
  "kernelspec": {
   "display_name": "Python 3",
   "language": "python",
   "name": "python3"
  },
  "language_info": {
   "codemirror_mode": {
    "name": "ipython",
    "version": 2
   },
   "file_extension": ".py",
   "mimetype": "text/x-python",
   "name": "python",
   "nbconvert_exporter": "python",
   "pygments_lexer": "ipython2",
   "version": "2.7.6"
  }
 },
 "nbformat": 4,
 "nbformat_minor": 0
}
