{
 "cells": [
  {
   "cell_type": "code",
   "execution_count": 22,
   "metadata": {
    "collapsed": true
   },
   "outputs": [],
   "source": [
    "import numpy as np         # библиотека для матриц и математики\n",
    "import pandas as pd        # библиотека для работы с табличками\n",
    "from scipy import stats    # модуль для работы со статистикой\n",
    "\n",
    "# библиотеки для визуализации\n",
    "import matplotlib.pyplot as plt\n",
    "import seaborn as sns\n",
    "\n",
    "import math\n",
    "\n",
    "plt.style.use('ggplot')    # стиль графиков\n",
    "\n",
    "%matplotlib inline"
   ]
  },
  {
   "cell_type": "code",
   "execution_count": 23,
   "outputs": [],
   "source": [
    "X = pd.read_excel(open('../../table.xls', 'rb'), sheet_name='A - aaup')['A4'].to_numpy()\n",
    "Y = pd.read_excel(open('../../table.xls', 'rb'), sheet_name='A - aaup')['A8'].to_numpy()"
   ],
   "metadata": {
    "collapsed": false
   }
  },
  {
   "cell_type": "code",
   "execution_count": 24,
   "outputs": [],
   "source": [
    "dict = {'I': [], 'IIA': [], 'IIB': []}\n",
    "for i in range(len(X)):\n",
    "    if X[i] == 'I':\n",
    "        dict[\"I\"].append(Y[i])\n",
    "    elif X[i] == 'IIA':\n",
    "        dict[\"IIA\"].append(Y[i])\n",
    "    elif X[i] == 'IIB':\n",
    "        dict[\"IIB\"].append(Y[i])"
   ],
   "metadata": {
    "collapsed": false
   }
  },
  {
   "cell_type": "code",
   "execution_count": 26,
   "outputs": [
    {
     "name": "stdout",
     "output_type": "stream",
     "text": [
      "Объем выборки I: 180\n",
      "Cреднее I: 533.67\n",
      "Дисперсия I: 7652.25\n",
      "Объем выборки IIA: 359\n",
      "Cреднее IIA: 440.82\n",
      "Дисперсия IIA: 4684.1\n",
      "Объем выборки IIB: 534\n",
      "Cреднее IIB: 383.83\n",
      "Дисперсия IIB: 4975.63\n"
     ]
    }
   ],
   "source": [
    "groups = []\n",
    "for key in dict:\n",
    "    arr = np.array(dict[key])\n",
    "    groups.append(arr)\n",
    "    print(f\"Объем выборки {key}:\",  len(dict[key]))\n",
    "    print(f\"Cреднее {key}: {round(arr.mean(), 2)}\")\n",
    "    print(f\"Дисперсия {key}: {round(arr.var(ddof=1), 2)}\")"
   ],
   "metadata": {
    "collapsed": false
   }
  },
  {
   "cell_type": "code",
   "execution_count": 45,
   "outputs": [
    {
     "data": {
      "text/plain": "428.0326188257223"
     },
     "execution_count": 45,
     "metadata": {},
     "output_type": "execute_result"
    }
   ],
   "source": [
    "(sum(groups[0]) + sum(groups[1]) + sum(groups[2]))/len(X)"
   ],
   "metadata": {
    "collapsed": false
   }
  },
  {
   "cell_type": "code",
   "execution_count": 34,
   "outputs": [
    {
     "name": "stdout",
     "output_type": "stream",
     "text": [
      "D_b = 2898.993\n",
      "D_w = 5310.970\n",
      "D_x = 8209.963\n",
      "Число степеней свободы: 2\n",
      "Несмещенная оценка групировочного признака: 1555309.567316982\n",
      "Число степеней свободы: 1070\n",
      "Несмещенная оценка остаточного признака 5325.86048944592\n",
      "Число степеней свободы: 1072\n",
      "Несмещенная оценка всех признаков: 8217.621136512214\n"
     ]
    }
   ],
   "source": [
    "K = 3\n",
    "s = 0\n",
    "n = len(X)\n",
    "mean = (sum(groups[0]) + sum(groups[1]) + sum(groups[2]))/n\n",
    "\n",
    "data = [groups[0], groups[1], groups[2]]\n",
    "\n",
    "for ar in data:\n",
    "  for x in ar:\n",
    "    s += (x - mean)**2\n",
    "D_x = s/n\n",
    "\n",
    "#внутригрупповая дисперсиея\n",
    "s = 0\n",
    "for ar in data:\n",
    "  s = s + len(ar) * np.var(ar)\n",
    "D_w = s/n\n",
    "\n",
    "#межгрупповая дисперсия\n",
    "s = 0\n",
    "for ar in data:\n",
    "  s = s + len(ar) * (np.mean(ar) - mean)**2\n",
    "D_b = s/n\n",
    "\n",
    "print(\"D_b = %.3f\" % D_b)\n",
    "print(\"D_w = %.3f\" % D_w)\n",
    "print(\"D_x = %.3f\" % D_x)\n",
    "print('Число степеней свободы: {dof}'.format(dof = K-1))\n",
    "print(f'Несмещенная оценка групировочного признака: {(D_b * n)/(K - 1)}')\n",
    "print('Число степеней свободы: {dof}'.format(dof = n-K))\n",
    "print(f'Несмещенная оценка остаточного признака {(D_w * n)/(n - K)}')\n",
    "print('Число степеней свободы: {dof}'.format(dof = n-1))\n",
    "print(f'Несмещенная оценка всех признаков: {(D_x * n)/(n - 1)}')"
   ],
   "metadata": {
    "collapsed": false
   }
  },
  {
   "cell_type": "code",
   "execution_count": 41,
   "outputs": [
    {
     "data": {
      "text/plain": "True"
     },
     "execution_count": 41,
     "metadata": {},
     "output_type": "execute_result"
    }
   ],
   "source": [
    "math.isclose(D_b + D_w, D_x)"
   ],
   "metadata": {
    "collapsed": false
   }
  },
  {
   "cell_type": "code",
   "execution_count": 42,
   "outputs": [
    {
     "name": "stdout",
     "output_type": "stream",
     "text": [
      "Эмпирический коэффициент детерминации: 0.353\n",
      "Эмпирическое корреляционное отношение: 0.594\n"
     ]
    }
   ],
   "source": [
    "eta_squared = D_b / D_x\n",
    "eta = eta_squared ** (1/2)\n",
    "print(\"Эмпирический коэффициент детерминации: %.3f\" % eta_squared)\n",
    "print(\"Эмпирическое корреляционное отношение: %.3f\" % eta)"
   ],
   "metadata": {
    "collapsed": false
   }
  },
  {
   "cell_type": "code",
   "execution_count": 44,
   "outputs": [
    {
     "data": {
      "text/plain": "F_onewayResult(statistic=292.02972372240845, pvalue=6.244173657733121e-102)"
     },
     "execution_count": 44,
     "metadata": {},
     "output_type": "execute_result"
    }
   ],
   "source": [
    "stats.f_oneway(groups[0], groups[1], groups[2])"
   ],
   "metadata": {
    "collapsed": false
   }
  },
  {
   "cell_type": "code",
   "execution_count": null,
   "outputs": [],
   "source": [],
   "metadata": {
    "collapsed": false
   }
  }
 ],
 "metadata": {
  "kernelspec": {
   "display_name": "Python 3",
   "language": "python",
   "name": "python3"
  },
  "language_info": {
   "codemirror_mode": {
    "name": "ipython",
    "version": 2
   },
   "file_extension": ".py",
   "mimetype": "text/x-python",
   "name": "python",
   "nbconvert_exporter": "python",
   "pygments_lexer": "ipython2",
   "version": "2.7.6"
  }
 },
 "nbformat": 4,
 "nbformat_minor": 0
}
