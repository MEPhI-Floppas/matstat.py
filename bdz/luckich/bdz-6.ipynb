{
 "cells": [
  {
   "cell_type": "code",
   "execution_count": 4,
   "metadata": {
    "collapsed": true
   },
   "outputs": [],
   "source": [
    "import numpy as np         # библиотека для матриц и математики\n",
    "import pandas as pd        # библиотека для работы с табличками\n",
    "from scipy import stats    # модуль для работы со статистикой\n",
    "\n",
    "# библиотеки для визуализации\n",
    "import matplotlib.pyplot as plt\n",
    "import seaborn as sns\n",
    "\n",
    "import math\n",
    "\n",
    "from statsmodels.stats.weightstats import ztest as ztest\n",
    "\n",
    "plt.style.use('ggplot')    # стиль графиков\n",
    "\n",
    "%matplotlib inline\n",
    "#A4 A20"
   ]
  },
  {
   "cell_type": "code",
   "execution_count": 5,
   "outputs": [],
   "source": [
    "df = pd.read_excel(\"../table.xls\", sheet_name=\"A - aaup\")"
   ],
   "metadata": {
    "collapsed": false
   }
  },
  {
   "cell_type": "code",
   "execution_count": 6,
   "outputs": [
    {
     "data": {
      "text/plain": "A14    N    Y\nA9           \nN    570   31\nY     22  450",
      "text/html": "<div>\n<style scoped>\n    .dataframe tbody tr th:only-of-type {\n        vertical-align: middle;\n    }\n\n    .dataframe tbody tr th {\n        vertical-align: top;\n    }\n\n    .dataframe thead th {\n        text-align: right;\n    }\n</style>\n<table border=\"1\" class=\"dataframe\">\n  <thead>\n    <tr style=\"text-align: right;\">\n      <th>A14</th>\n      <th>N</th>\n      <th>Y</th>\n    </tr>\n    <tr>\n      <th>A9</th>\n      <th></th>\n      <th></th>\n    </tr>\n  </thead>\n  <tbody>\n    <tr>\n      <th>N</th>\n      <td>570</td>\n      <td>31</td>\n    </tr>\n    <tr>\n      <th>Y</th>\n      <td>22</td>\n      <td>450</td>\n    </tr>\n  </tbody>\n</table>\n</div>"
     },
     "execution_count": 6,
     "metadata": {},
     "output_type": "execute_result"
    }
   ],
   "source": [
    "confusion_mx = pd.crosstab(df.A9, df.A14)\n",
    "confusion_mx"
   ],
   "metadata": {
    "collapsed": false
   }
  },
  {
   "cell_type": "code",
   "execution_count": 7,
   "outputs": [
    {
     "name": "stdout",
     "output_type": "stream",
     "text": [
      "Tеоретическая таблица:\n"
     ]
    },
    {
     "data": {
      "text/plain": "[[331.58620689655174, 269.41379310344826],\n [260.41379310344826, 211.58620689655172]]"
     },
     "execution_count": 7,
     "metadata": {},
     "output_type": "execute_result"
    }
   ],
   "source": [
    "#теоретическая таблица\n",
    "arr = confusion_mx.to_numpy()\n",
    "\n",
    "k = len(arr)\n",
    "l = len(arr[0])\n",
    "\n",
    "n = 0\n",
    "for i in range(0, len(arr)):\n",
    "  for j in range(0, len(arr[i])):\n",
    "    n += arr[i][j]\n",
    "\n",
    "m = []\n",
    "\n",
    "for i in range(0, len(arr)):\n",
    "  m_line = []\n",
    "  for j in range(0, len(arr[i])):\n",
    "\n",
    "    x1 = 0\n",
    "    for i1 in range(0, len(arr[i])):\n",
    "      x1 += arr[i][i1]\n",
    "    x2 = 0\n",
    "    for i2 in range(0, len(arr)):\n",
    "      x2 += arr[i2][j]\n",
    "\n",
    "    m_line.append((x1*x2)/n)\n",
    "  m.append(m_line)\n",
    "\n",
    "print(\"Tеоретическая таблица:\")\n",
    "m"
   ],
   "metadata": {
    "collapsed": false
   }
  },
  {
   "cell_type": "code",
   "execution_count": 8,
   "outputs": [
    {
     "name": "stdout",
     "output_type": "stream",
     "text": [
      "Test: z = 869.318; p-value = 0.000\n",
      "3.841458820694124\n"
     ]
    }
   ],
   "source": [
    "# Проверить статистические гипотезы\n",
    "z = 0\n",
    "\n",
    "for i in range(0, len(arr)):\n",
    "  for j in range(0, len(arr[i])):\n",
    "    z += ((arr[i][j] - m[i][j])**2) / m[i][j]\n",
    "\n",
    "f_z_chi =  stats.chi2((k-1)*(l-1)).cdf(z)\n",
    "p_value = 2 * min(f_z_chi, 1 - f_z_chi)\n",
    "\n",
    "critical_point = stats.chi2((k-1)*(l-1)).ppf(0.95)\n",
    "\n",
    "print(\"Test: z = %.3f; p-value = %.3f\" % (z, p_value))\n",
    "print(critical_point)"
   ],
   "metadata": {
    "collapsed": false
   }
  },
  {
   "cell_type": "code",
   "execution_count": 9,
   "outputs": [
    {
     "data": {
      "text/plain": "(865.675555548343,\n 2.84252174462521e-190,\n 1,\n array([[331.5862069, 269.4137931],\n        [260.4137931, 211.5862069]]))"
     },
     "execution_count": 9,
     "metadata": {},
     "output_type": "execute_result"
    }
   ],
   "source": [
    "stats.chi2_contingency(confusion_mx)"
   ],
   "metadata": {
    "collapsed": false
   }
  },
  {
   "cell_type": "code",
   "execution_count": 9,
   "outputs": [],
   "source": [],
   "metadata": {
    "collapsed": false
   }
  }
 ],
 "metadata": {
  "kernelspec": {
   "display_name": "Python 3",
   "language": "python",
   "name": "python3"
  },
  "language_info": {
   "codemirror_mode": {
    "name": "ipython",
    "version": 2
   },
   "file_extension": ".py",
   "mimetype": "text/x-python",
   "name": "python",
   "nbconvert_exporter": "python",
   "pygments_lexer": "ipython2",
   "version": "2.7.6"
  }
 },
 "nbformat": 4,
 "nbformat_minor": 0
}
