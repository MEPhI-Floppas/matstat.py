{
 "cells": [
  {
   "cell_type": "code",
   "execution_count": 19,
   "metadata": {
    "collapsed": true
   },
   "outputs": [],
   "source": [
    "import numpy as np  # библиотека для матриц и математики\n",
    "import pandas as pd  # библиотека для работы с табличками\n",
    "from scipy import stats  # модуль для работы со статистикой\n",
    "import scipy\n",
    "\n",
    "# библиотеки для визуализации\n",
    "import matplotlib.pyplot as plt\n",
    "import seaborn as sb\n",
    "\n",
    "import math\n",
    "\n",
    "plt.style.use('ggplot')  # стиль графиков\n",
    "\n",
    "%matplotlib inline"
   ]
  },
  {
   "cell_type": "code",
   "execution_count": 20,
   "outputs": [
    {
     "data": {
      "text/plain": "         A1                            A2  A3   A4   A5   A6   A7   A8 A9  \\\n0      1061     Alaska Pacific University  AK  IIB  454  382  362  382  N   \n1      1063         Univ.Alaska-Fairbanks  AK    I  686  560  432  508  Y   \n2      1065         Univ.Alaska-Southeast  AK  IIA  533  494  329  415  N   \n3     11462         Univ.Alaska-Anchorage  AK  IIA  612  507  414  498  Y   \n4      1002     Alabama Agri.&Mech. Univ.  AL  IIA  442  369  310  350  N   \n...     ...                           ...  ..  ...  ...  ...  ...  ... ..   \n1068   3825  West Virginia Inst. of Tech.  WV  IIB  408  340  297  349  N   \n1069   3827      West Virginia University  WV    I  535  431  361  439  Y   \n1070   3830  West Virginia Wesleyan Coll.  WV  IIB  441  383  339  383  N   \n1071   3831       Wheeling Jesuit College  WV  IIB  403  348  282  315  N   \n1072   3932         University of Wyoming  WY    I  539  410  374  445  Y   \n\n      A10  A11  A12  A13 A14  A15  A16  A17  A18  A19 A20  \n0     567  485  471  487   N    6   11    9    4   32   N  \n1     914  753  572  677   Y   74  125  118   40  404   Y  \n2     716  663  442  559   Y    9   26   20    9   70   N  \n3     825  681  557  670   Y  115  124  101   21  392   Y  \n4     530  444  376  423   N   59   77  102   24  262   N  \n...   ...  ...  ...  ...  ..  ...  ...  ...  ...  ...  ..  \n1068  502  419  369  431   N   54   43   29   11  137   N  \n1069  642  521  438  529   N  335  237  272   22  895   Y  \n1070  572  494  434  495   N   25   22   24    3   74   N  \n1071  486  416  348  381   N    8   20   25   12   65   N  \n1072  658  507  464  549   Y  241  154  164    2  591   Y  \n\n[1073 rows x 20 columns]",
      "text/html": "<div>\n<style scoped>\n    .dataframe tbody tr th:only-of-type {\n        vertical-align: middle;\n    }\n\n    .dataframe tbody tr th {\n        vertical-align: top;\n    }\n\n    .dataframe thead th {\n        text-align: right;\n    }\n</style>\n<table border=\"1\" class=\"dataframe\">\n  <thead>\n    <tr style=\"text-align: right;\">\n      <th></th>\n      <th>A1</th>\n      <th>A2</th>\n      <th>A3</th>\n      <th>A4</th>\n      <th>A5</th>\n      <th>A6</th>\n      <th>A7</th>\n      <th>A8</th>\n      <th>A9</th>\n      <th>A10</th>\n      <th>A11</th>\n      <th>A12</th>\n      <th>A13</th>\n      <th>A14</th>\n      <th>A15</th>\n      <th>A16</th>\n      <th>A17</th>\n      <th>A18</th>\n      <th>A19</th>\n      <th>A20</th>\n    </tr>\n  </thead>\n  <tbody>\n    <tr>\n      <th>0</th>\n      <td>1061</td>\n      <td>Alaska Pacific University</td>\n      <td>AK</td>\n      <td>IIB</td>\n      <td>454</td>\n      <td>382</td>\n      <td>362</td>\n      <td>382</td>\n      <td>N</td>\n      <td>567</td>\n      <td>485</td>\n      <td>471</td>\n      <td>487</td>\n      <td>N</td>\n      <td>6</td>\n      <td>11</td>\n      <td>9</td>\n      <td>4</td>\n      <td>32</td>\n      <td>N</td>\n    </tr>\n    <tr>\n      <th>1</th>\n      <td>1063</td>\n      <td>Univ.Alaska-Fairbanks</td>\n      <td>AK</td>\n      <td>I</td>\n      <td>686</td>\n      <td>560</td>\n      <td>432</td>\n      <td>508</td>\n      <td>Y</td>\n      <td>914</td>\n      <td>753</td>\n      <td>572</td>\n      <td>677</td>\n      <td>Y</td>\n      <td>74</td>\n      <td>125</td>\n      <td>118</td>\n      <td>40</td>\n      <td>404</td>\n      <td>Y</td>\n    </tr>\n    <tr>\n      <th>2</th>\n      <td>1065</td>\n      <td>Univ.Alaska-Southeast</td>\n      <td>AK</td>\n      <td>IIA</td>\n      <td>533</td>\n      <td>494</td>\n      <td>329</td>\n      <td>415</td>\n      <td>N</td>\n      <td>716</td>\n      <td>663</td>\n      <td>442</td>\n      <td>559</td>\n      <td>Y</td>\n      <td>9</td>\n      <td>26</td>\n      <td>20</td>\n      <td>9</td>\n      <td>70</td>\n      <td>N</td>\n    </tr>\n    <tr>\n      <th>3</th>\n      <td>11462</td>\n      <td>Univ.Alaska-Anchorage</td>\n      <td>AK</td>\n      <td>IIA</td>\n      <td>612</td>\n      <td>507</td>\n      <td>414</td>\n      <td>498</td>\n      <td>Y</td>\n      <td>825</td>\n      <td>681</td>\n      <td>557</td>\n      <td>670</td>\n      <td>Y</td>\n      <td>115</td>\n      <td>124</td>\n      <td>101</td>\n      <td>21</td>\n      <td>392</td>\n      <td>Y</td>\n    </tr>\n    <tr>\n      <th>4</th>\n      <td>1002</td>\n      <td>Alabama Agri.&amp;Mech. Univ.</td>\n      <td>AL</td>\n      <td>IIA</td>\n      <td>442</td>\n      <td>369</td>\n      <td>310</td>\n      <td>350</td>\n      <td>N</td>\n      <td>530</td>\n      <td>444</td>\n      <td>376</td>\n      <td>423</td>\n      <td>N</td>\n      <td>59</td>\n      <td>77</td>\n      <td>102</td>\n      <td>24</td>\n      <td>262</td>\n      <td>N</td>\n    </tr>\n    <tr>\n      <th>...</th>\n      <td>...</td>\n      <td>...</td>\n      <td>...</td>\n      <td>...</td>\n      <td>...</td>\n      <td>...</td>\n      <td>...</td>\n      <td>...</td>\n      <td>...</td>\n      <td>...</td>\n      <td>...</td>\n      <td>...</td>\n      <td>...</td>\n      <td>...</td>\n      <td>...</td>\n      <td>...</td>\n      <td>...</td>\n      <td>...</td>\n      <td>...</td>\n      <td>...</td>\n    </tr>\n    <tr>\n      <th>1068</th>\n      <td>3825</td>\n      <td>West Virginia Inst. of Tech.</td>\n      <td>WV</td>\n      <td>IIB</td>\n      <td>408</td>\n      <td>340</td>\n      <td>297</td>\n      <td>349</td>\n      <td>N</td>\n      <td>502</td>\n      <td>419</td>\n      <td>369</td>\n      <td>431</td>\n      <td>N</td>\n      <td>54</td>\n      <td>43</td>\n      <td>29</td>\n      <td>11</td>\n      <td>137</td>\n      <td>N</td>\n    </tr>\n    <tr>\n      <th>1069</th>\n      <td>3827</td>\n      <td>West Virginia University</td>\n      <td>WV</td>\n      <td>I</td>\n      <td>535</td>\n      <td>431</td>\n      <td>361</td>\n      <td>439</td>\n      <td>Y</td>\n      <td>642</td>\n      <td>521</td>\n      <td>438</td>\n      <td>529</td>\n      <td>N</td>\n      <td>335</td>\n      <td>237</td>\n      <td>272</td>\n      <td>22</td>\n      <td>895</td>\n      <td>Y</td>\n    </tr>\n    <tr>\n      <th>1070</th>\n      <td>3830</td>\n      <td>West Virginia Wesleyan Coll.</td>\n      <td>WV</td>\n      <td>IIB</td>\n      <td>441</td>\n      <td>383</td>\n      <td>339</td>\n      <td>383</td>\n      <td>N</td>\n      <td>572</td>\n      <td>494</td>\n      <td>434</td>\n      <td>495</td>\n      <td>N</td>\n      <td>25</td>\n      <td>22</td>\n      <td>24</td>\n      <td>3</td>\n      <td>74</td>\n      <td>N</td>\n    </tr>\n    <tr>\n      <th>1071</th>\n      <td>3831</td>\n      <td>Wheeling Jesuit College</td>\n      <td>WV</td>\n      <td>IIB</td>\n      <td>403</td>\n      <td>348</td>\n      <td>282</td>\n      <td>315</td>\n      <td>N</td>\n      <td>486</td>\n      <td>416</td>\n      <td>348</td>\n      <td>381</td>\n      <td>N</td>\n      <td>8</td>\n      <td>20</td>\n      <td>25</td>\n      <td>12</td>\n      <td>65</td>\n      <td>N</td>\n    </tr>\n    <tr>\n      <th>1072</th>\n      <td>3932</td>\n      <td>University of Wyoming</td>\n      <td>WY</td>\n      <td>I</td>\n      <td>539</td>\n      <td>410</td>\n      <td>374</td>\n      <td>445</td>\n      <td>Y</td>\n      <td>658</td>\n      <td>507</td>\n      <td>464</td>\n      <td>549</td>\n      <td>Y</td>\n      <td>241</td>\n      <td>154</td>\n      <td>164</td>\n      <td>2</td>\n      <td>591</td>\n      <td>Y</td>\n    </tr>\n  </tbody>\n</table>\n<p>1073 rows × 20 columns</p>\n</div>"
     },
     "execution_count": 20,
     "metadata": {},
     "output_type": "execute_result"
    }
   ],
   "source": [
    "xls = pd.ExcelFile(r'./../table.xls')\n",
    "df = xls.parse(1)\n",
    "df"
   ],
   "metadata": {
    "collapsed": false
   }
  },
  {
   "cell_type": "markdown",
   "source": [
    "# 9.1.1"
   ],
   "metadata": {
    "collapsed": false
   }
  },
  {
   "cell_type": "code",
   "execution_count": 21,
   "outputs": [],
   "source": [
    "X = df.A15.to_numpy()\n",
    "Y = df.A13.to_numpy()"
   ],
   "metadata": {
    "collapsed": false
   }
  },
  {
   "cell_type": "code",
   "execution_count": 29,
   "outputs": [
    {
     "data": {
      "text/plain": "array([  6,  74,   9, ...,  25,   8, 241], dtype=int64)"
     },
     "execution_count": 29,
     "metadata": {},
     "output_type": "execute_result"
    }
   ],
   "source": [
    "X"
   ],
   "metadata": {
    "collapsed": false
   }
  },
  {
   "cell_type": "code",
   "execution_count": 30,
   "outputs": [
    {
     "data": {
      "text/plain": "array([487, 677, 559, ..., 495, 381, 549], dtype=int64)"
     },
     "execution_count": 30,
     "metadata": {},
     "output_type": "execute_result"
    }
   ],
   "source": [
    "Y"
   ],
   "metadata": {
    "collapsed": false
   }
  },
  {
   "cell_type": "code",
   "execution_count": 24,
   "outputs": [
    {
     "data": {
      "text/plain": "(0.5719628587649872, 145.87346745206614, 118.50561190713184)"
     },
     "execution_count": 24,
     "metadata": {},
     "output_type": "execute_result"
    }
   ],
   "source": [
    "r, _ = stats.pearsonr(X, Y)\n",
    "s1 = np.std(X, ddof=1)\n",
    "s2 = np.std(Y, ddof=1)\n",
    "r, s1, s2"
   ],
   "metadata": {
    "collapsed": false
   }
  },
  {
   "cell_type": "code",
   "execution_count": 25,
   "outputs": [],
   "source": [
    "beta_0 = np.mean(Y) - r * (s2/s1) * np.mean(X)"
   ],
   "metadata": {
    "collapsed": false
   }
  },
  {
   "cell_type": "code",
   "execution_count": 26,
   "outputs": [],
   "source": [
    "beta_1 = r * (s2/s1)"
   ],
   "metadata": {
    "collapsed": false
   }
  },
  {
   "cell_type": "code",
   "execution_count": 27,
   "outputs": [
    {
     "data": {
      "text/plain": "(488.9932986745056, 0.46465481180372936)"
     },
     "execution_count": 27,
     "metadata": {},
     "output_type": "execute_result"
    }
   ],
   "source": [
    "beta_0, beta_1"
   ],
   "metadata": {
    "collapsed": false
   }
  }
 ],
 "metadata": {
  "kernelspec": {
   "display_name": "Python 3",
   "language": "python",
   "name": "python3"
  },
  "language_info": {
   "codemirror_mode": {
    "name": "ipython",
    "version": 2
   },
   "file_extension": ".py",
   "mimetype": "text/x-python",
   "name": "python",
   "nbconvert_exporter": "python",
   "pygments_lexer": "ipython2",
   "version": "2.7.6"
  }
 },
 "nbformat": 4,
 "nbformat_minor": 0
}
