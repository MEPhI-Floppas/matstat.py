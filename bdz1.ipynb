{
 "cells": [
  {
   "cell_type": "markdown",
   "metadata": {},
   "source": [
    "# 1. Описательные статистики"
   ]
  },
  {
   "cell_type": "code",
   "execution_count": 3,
   "metadata": {},
   "outputs": [
    {
     "data": {
      "text/plain": [
       "((315,), (315,), (315,))"
      ]
     },
     "execution_count": 3,
     "metadata": {},
     "output_type": "execute_result"
    }
   ],
   "source": [
    "import pandas as pd\n",
    "import numpy as np\n",
    "from scipy.stats import skew, kurtosis\n",
    "xls = pd.ExcelFile(r\"table.xls\")\n",
    "sheetX = xls.parse(3)\n",
    "var1 = sheetX['C9']\n",
    "X1 = np.array(var1)\n",
    "var2 = sheetX['C10']\n",
    "X2 = np.array(var2)\n",
    "var3 = sheetX['C11']\n",
    "X3 = np.array(var3)\n",
    "X1.shape, X2.shape, X3.shape"
   ]
  },
  {
   "cell_type": "code",
   "execution_count": 25,
   "metadata": {},
   "outputs": [
    {
     "data": {
      "text/plain": [
       "13.608184231906733"
      ]
     },
     "execution_count": 25,
     "metadata": {},
     "output_type": "execute_result"
    }
   ],
   "source": [
    "2 * 315 ** (1/3)"
   ]
  },
  {
   "cell_type": "code",
   "execution_count": 4,
   "metadata": {},
   "outputs": [
    {
     "data": {
      "text/plain": [
       "array([0.00e+00, 0.00e+00, 1.41e+01, 5.00e-01, 0.00e+00, 1.30e+00,\n",
       "       0.00e+00, 0.00e+00, 6.00e-01, 0.00e+00, 1.00e+00, 0.00e+00,\n",
       "       9.00e-01, 0.00e+00, 0.00e+00, 2.00e+01, 1.41e+01, 7.00e+00,\n",
       "       0.00e+00, 5.00e+00, 7.10e+00, 2.30e+00, 1.80e+01, 4.70e+00,\n",
       "       5.00e-01, 3.00e+00, 0.00e+00, 0.00e+00, 0.00e+00, 2.00e+00,\n",
       "       0.00e+00, 4.10e+00, 1.00e-01, 3.00e-01, 8.00e+00, 0.00e+00,\n",
       "       5.00e-01, 1.00e-01, 0.00e+00, 7.00e-01, 0.00e+00, 2.00e-01,\n",
       "       9.00e-01, 1.00e+00, 1.00e-01, 3.20e+00, 0.00e+00, 7.20e+00,\n",
       "       0.00e+00, 1.40e+01, 7.30e+00, 2.00e-01, 6.50e+00, 1.00e+01,\n",
       "       0.00e+00, 7.00e-01, 3.20e+00, 2.00e-01, 1.30e+00, 4.90e+00,\n",
       "       0.00e+00, 2.03e+02, 1.70e+00, 3.10e+00, 0.00e+00, 5.60e+00,\n",
       "       0.00e+00, 7.00e-01, 3.70e+00, 2.00e+00, 3.00e-01, 0.00e+00,\n",
       "       6.20e+00, 7.20e+00, 1.05e+01, 7.20e+00, 5.00e-01, 1.82e+01,\n",
       "       3.20e+00, 2.10e+01, 0.00e+00, 1.00e+00, 7.00e-01, 0.00e+00,\n",
       "       6.40e+00, 0.00e+00, 1.00e-01, 7.00e+00, 0.00e+00, 0.00e+00,\n",
       "       3.00e+00, 6.80e+00, 2.00e-01, 0.00e+00, 1.80e+01, 9.00e-01,\n",
       "       3.00e-01, 1.00e-01, 1.10e+01, 0.00e+00, 0.00e+00, 3.00e-01,\n",
       "       0.00e+00, 2.00e-01, 0.00e+00, 8.00e+00, 1.00e+00, 4.10e+00,\n",
       "       0.00e+00, 4.20e+00, 0.00e+00, 8.50e+00, 3.00e-01, 0.00e+00,\n",
       "       0.00e+00, 0.00e+00, 2.90e+00, 0.00e+00, 5.00e+00, 0.00e+00,\n",
       "       0.00e+00, 1.00e+00, 1.00e-01, 0.00e+00, 4.00e+00, 7.00e+00,\n",
       "       1.10e+00, 2.00e+00, 0.00e+00, 1.20e+00, 6.20e+00, 0.00e+00,\n",
       "       0.00e+00, 3.70e+00, 0.00e+00, 1.00e-01, 0.00e+00, 0.00e+00,\n",
       "       0.00e+00, 2.20e+01, 7.00e+00, 0.00e+00, 6.70e+00, 0.00e+00,\n",
       "       3.50e+01, 0.00e+00, 1.00e-01, 1.20e+00, 2.00e+00, 2.00e-01,\n",
       "       5.00e-01, 1.00e-01, 0.00e+00, 0.00e+00, 1.00e-01, 0.00e+00,\n",
       "       0.00e+00, 0.00e+00, 0.00e+00, 0.00e+00, 8.00e-01, 1.10e+01,\n",
       "       0.00e+00, 2.00e+00, 2.00e+00, 1.00e-01, 2.00e-01, 9.00e-01,\n",
       "       1.00e+00, 2.00e-01, 6.50e+00, 0.00e+00, 7.00e-01, 1.05e+01,\n",
       "       1.00e-01, 5.20e+00, 7.20e+00, 1.00e+00, 5.00e-01, 0.00e+00,\n",
       "       1.00e+00, 0.00e+00, 2.50e+00, 5.00e+00, 0.00e+00, 0.00e+00,\n",
       "       0.00e+00, 3.20e+00, 1.50e+00, 0.00e+00, 0.00e+00, 2.10e+00,\n",
       "       1.00e-01, 2.00e-01, 2.00e-01, 5.00e-01, 2.00e-01, 1.20e+00,\n",
       "       1.70e+00, 0.00e+00, 1.10e+01, 3.00e+00, 0.00e+00, 0.00e+00,\n",
       "       0.00e+00, 3.00e-01, 0.00e+00, 1.50e+01, 1.00e-01, 0.00e+00,\n",
       "       7.00e-01, 4.10e+00, 0.00e+00, 2.00e-01, 0.00e+00, 0.00e+00,\n",
       "       2.00e-01, 2.00e-01, 4.50e+00, 0.00e+00, 1.00e+00, 0.00e+00,\n",
       "       0.00e+00, 1.00e-01, 1.00e+00, 0.00e+00, 9.00e-01, 1.00e-01,\n",
       "       1.50e+00, 0.00e+00, 0.00e+00, 0.00e+00, 0.00e+00, 0.00e+00,\n",
       "       1.00e-01, 0.00e+00, 6.10e+00, 7.20e+00, 0.00e+00, 1.00e+00,\n",
       "       1.30e+00, 5.70e+00, 1.00e-01, 0.00e+00, 0.00e+00, 0.00e+00,\n",
       "       0.00e+00, 3.00e+00, 1.00e-01, 8.40e+00, 1.40e+01, 2.40e+00,\n",
       "       8.00e-01, 0.00e+00, 4.00e+00, 1.55e+01, 0.00e+00, 5.00e-01,\n",
       "       8.00e+00, 1.00e-01, 1.00e-01, 7.10e+00, 6.00e-01, 0.00e+00,\n",
       "       1.20e+00, 1.00e-01, 5.00e+00, 0.00e+00, 1.40e+00, 1.50e+00,\n",
       "       0.00e+00, 2.00e-01, 1.42e+01, 7.00e+00, 2.00e-01, 0.00e+00,\n",
       "       7.00e-01, 1.00e-01, 5.00e-01, 1.00e+00, 6.00e-01, 0.00e+00,\n",
       "       1.70e+01, 0.00e+00, 2.00e-01, 0.00e+00, 0.00e+00, 0.00e+00,\n",
       "       0.00e+00, 5.00e-01, 0.00e+00, 3.40e+00, 0.00e+00, 2.00e-01,\n",
       "       3.50e+00, 1.50e+01, 1.00e-01, 1.00e+01, 5.00e+00, 0.00e+00,\n",
       "       1.00e-01, 8.30e+00, 0.00e+00, 7.00e-01, 1.41e+01, 0.00e+00,\n",
       "       0.00e+00, 3.50e+01, 4.50e+00, 9.00e+00, 2.60e+00, 2.20e+00,\n",
       "       4.00e+00, 2.20e+00, 2.00e-01])"
      ]
     },
     "execution_count": 4,
     "metadata": {},
     "output_type": "execute_result"
    }
   ],
   "source": [
    "X1"
   ]
  },
  {
   "cell_type": "code",
   "execution_count": 6,
   "metadata": {},
   "outputs": [
    {
     "data": {
      "text/plain": [
       "array([170.3,  75.8, 257.9, 332.6, 170.8, 154.6, 255.1, 214.1, 233.6,\n",
       "       171.9, 137.4, 130.7, 420. , 254.9, 361.5, 379.5, 160.3, 144.1,\n",
       "       512.3, 197.2, 271.2, 160.9, 190.5, 143.5, 239.9, 104.8, 155.8,\n",
       "       192.1, 226.5, 353.4, 247. , 308.8, 206.1, 325.2, 242.6, 253.1,\n",
       "       332.6, 117. , 461.1, 205.3, 223.2, 362.6, 231.2, 182.7, 180.3,\n",
       "        99.3, 362.6, 408. ,  79.8, 260.7, 175.6,  69.4,  84. , 296.8,\n",
       "       216.3, 180.6, 208.8, 511.6, 192.1, 265.8, 183.3, 603. , 256.7,\n",
       "       216.7, 168. , 152.8, 347.9, 277.1,  55.4, 158.3, 380.7, 195.2,\n",
       "       256.8, 349.6, 452.8,  71.8, 341.7, 365. , 396.5, 268.2, 244.8,\n",
       "       216.2, 288. , 324.5,  66.5, 283.3, 211.7, 239. , 248. ,  59.2,\n",
       "       142. , 283.7,  59.7, 747.5, 469.2, 220. , 440.3,  89. , 201.3,\n",
       "       550.5, 127.6, 332.4, 500.3, 263.8, 228.8, 417.6, 162.6, 138.8,\n",
       "       239.2, 200.5, 224.7, 689.4, 133.6, 188. , 178.6, 108.6, 281.9,\n",
       "       440.6, 174.9,  87.9, 200.2, 105.7, 364.6, 516.5, 225.9, 271.8,\n",
       "       300.9, 124.7, 255.8, 272.7,  98.8, 182.5, 383.6, 163.7,  77.5,\n",
       "       121.2, 154.9, 127.9,  99.6, 416. , 284.8, 151. , 314.9, 718.8,\n",
       "       374.3,  99.2,  89.9, 141.1, 224.7, 164.5, 120.7, 814.7, 114. ,\n",
       "       174.1, 170.1, 228.5,  72.7,  97.2, 249.3, 155.1, 141.1, 164.6,\n",
       "       343. , 415.8, 267.5, 100.6, 195. , 200.9, 214.8, 432.3, 456.9,\n",
       "       344.3, 192.8, 122.5, 102. ,  98.3, 247.9, 148.4, 169.9, 183.4,\n",
       "       370. , 188.9, 141.2, 518. , 111.5, 280.1, 102.8, 549.1, 147.3,\n",
       "       195.1, 226.5, 133.9, 139.2, 363.1, 175.2, 205.9, 131.9, 447.6,\n",
       "       389.4, 155.3, 180.7,  97.4, 232.3, 196. , 253.2, 116. , 399.3,\n",
       "       149.9, 308.9, 135.6, 271.9, 425.5, 428.1, 211.7, 118.5, 328.1,\n",
       "       336.9, 165.5, 196.1, 329.8, 239.8, 156.1, 195.8, 179.4, 215.4,\n",
       "       190.3, 145.7, 284.3, 208.7, 226. , 281.1, 170. , 135.8, 173.5,\n",
       "       201.6, 157.5, 340.1, 180.1,  78.3, 193.4, 196.9, 182.8,  81.1,\n",
       "       436.8, 176.3, 191.7, 178.4, 139.5, 362.4, 185.9,  37.7,  46.3,\n",
       "       469.3, 248.4, 429.5, 265.9, 900.7, 189.5, 260. , 305.7, 177.3,\n",
       "       206.3, 228.3, 113.9, 186.5, 466.3, 202.2, 112.8, 381.3, 119.7,\n",
       "       173.3, 211.6, 269.2,  97.5, 175.2, 574.2, 118.8, 286.7, 310.1,\n",
       "       173.4, 168.5, 145.3, 176.1, 189.5, 171.2,  87.5,  91.7, 349.1,\n",
       "       263.5, 326.7, 147.3, 487.8,  87.5, 444.7,  87.3, 432.4, 341. ,\n",
       "       160.5, 110.8, 359.1, 331.9, 431. , 334.2, 184.2, 249.5, 247.2,\n",
       "       240.3, 378.8, 252.4, 299.1, 306.5, 257.7, 150.5, 381.8, 195.6])"
      ]
     },
     "execution_count": 6,
     "metadata": {},
     "output_type": "execute_result"
    }
   ],
   "source": [
    "X2"
   ]
  },
  {
   "cell_type": "code",
   "execution_count": 7,
   "metadata": {},
   "outputs": [
    {
     "data": {
      "text/plain": [
       "array([1945, 2653, 6321, 1061, 2863, 1729, 5371,  823, 2895, 3307, 1714,\n",
       "       2031, 1982, 2120, 1388, 3888, 2194, 3470, 2108, 1157, 1739, 1008,\n",
       "        606, 1380, 4916, 4451, 5983, 2413, 3087,  521, 2431, 3141, 1668,\n",
       "       4366,  494, 7026, 1529,  241,  998, 6082, 2741, 2100, 2359,  603,\n",
       "       1625, 2888, 1099, 2103, 2260,  452, 3549, 2204, 4964, 1052, 3572,\n",
       "       2902, 1788, 5111, 1378, 1431, 1727, 2893, 2524, 2533,  982, 1535,\n",
       "        326, 1487, 1114, 1080, 2492, 1349, 6948, 1086, 2629, 1307, 1306,\n",
       "       3465, 1846, 1334, 4848, 1734, 1120, 1498,  330, 5909, 3326, 2110,\n",
       "       2719, 2309, 1153, 1432, 2493, 3054, 1861, 4268, 1652, 1802, 2308,\n",
       "       1210,  214, 1370, 2354, 2446, 3473, 3359, 1062, 1489, 3982, 1656,\n",
       "        768, 1496,  683,  885, 1662, 1552, 2144, 3567, 1423, 1293, 2111,\n",
       "       2874, 1699,  954, 1368, 3318, 2247,  910, 1171, 2077, 1210, 1826,\n",
       "       2628,  561, 1893, 1312, 1913,  924,  728, 4387, 1976, 2422, 1407,\n",
       "       1301, 1112, 1052, 1008, 1054, 1484,  657,  604, 2912,  869, 1578,\n",
       "       1210, 1554, 3445, 3014, 1666, 1462, 1272, 5296, 5605, 2430, 2375,\n",
       "       3753,  695, 1649, 2317, 1702, 1007, 2308, 4694, 2749, 1497, 1171,\n",
       "       3054, 1488,  829, 1037,  846, 1382, 3407,  758,  599, 1073,  862,\n",
       "       4291, 1668, 2809, 2373, 1850, 1352, 2315, 1417, 4504,  998, 4430,\n",
       "       3201, 3686, 2131,  852, 2781, 1151, 3970,  808,  843, 2537, 2205,\n",
       "        587, 3591, 3434, 2869, 2515,  807,  766,  720,  516, 3785, 1436,\n",
       "        613, 1460, 2251, 2029, 8046, 1074, 3556, 1218, 2199, 5810, 1214,\n",
       "       2215, 1678, 2579,  925,  404, 2008, 2469,  755, 1718, 2133, 1167,\n",
       "        619,  908, 3690, 3425, 2787,  675, 2142, 2299,  544,  604, 6558,\n",
       "       2661, 7362, 2583, 1028, 3435, 1527, 2047, 2897, 1987, 4271,  868,\n",
       "        578,  953, 1048, 1439, 3324,  921, 1192, 1665, 3610, 3317, 3313,\n",
       "       1270, 1915, 4013,  902, 2247, 4832,  577, 1884, 3172, 3102, 1186,\n",
       "       1237, 4098, 2889, 1097,  570, 2627,  849, 2174, 1456, 3728, 1987,\n",
       "       1022, 2079,  406,  621, 2652, 1745, 2121, 1078, 2672, 4935, 1118,\n",
       "       9642, 1392, 2572, 1665, 6943,  741, 1242], dtype=int64)"
      ]
     },
     "execution_count": 7,
     "metadata": {},
     "output_type": "execute_result"
    }
   ],
   "source": [
    "X3"
   ]
  },
  {
   "cell_type": "markdown",
   "metadata": {},
   "source": [
    "### $\\bar{x}=\\frac{1}{n} \\sum_{i=1}^n x_i=\\frac{1}{n}\\left(x_1+\\cdots+x_n\\right)$\n",
    "\n",
    "\n",
    "### $s^2=\\frac{1}{n} \\sum_{i=1}^n\\left(X_i-\\bar{X}\\right)^2$\n",
    "\n",
    "\n",
    "### $s=\\sqrt(\\frac{1}{n} \\sum_{i=1}^n\\left(X_i-\\bar{X}\\right)^2)$\n",
    "\n",
    "\n",
    "### $\\gamma_x=\\left[\\frac{n}{(n-1)(n-2)}\\right] \\frac{\\sum_{i=1}^n\\left(X_i-\\bar{X}\\right)^3}{s^3}$\n",
    "\n",
    "\n",
    "### $\\epsilon_x=\\frac{n(n+1)}{(n-1)(n-2)(n-3)} \\sum_{i=1}^n\\left(\\frac{x_i-\\bar{x}}{s}\\right)^4-\\frac{3(n-1)^2}{(n-2)(n-3)}$"
   ]
  },
  {
   "cell_type": "code",
   "execution_count": 8,
   "metadata": {},
   "outputs": [
    {
     "data": {
      "text/plain": [
       "3.2793650793650793"
      ]
     },
     "execution_count": 8,
     "metadata": {},
     "output_type": "execute_result"
    }
   ],
   "source": [
    "m1 = np.mean(X1)\n",
    "m1"
   ]
  },
  {
   "cell_type": "code",
   "execution_count": 9,
   "metadata": {},
   "outputs": [
    {
     "data": {
      "text/plain": [
       "242.4606349206349"
      ]
     },
     "execution_count": 9,
     "metadata": {},
     "output_type": "execute_result"
    }
   ],
   "source": [
    "m2 = np.mean(X2)\n",
    "m2"
   ]
  },
  {
   "cell_type": "code",
   "execution_count": 10,
   "metadata": {},
   "outputs": [
    {
     "data": {
      "text/plain": [
       "2185.6031746031745"
      ]
     },
     "execution_count": 10,
     "metadata": {},
     "output_type": "execute_result"
    }
   ],
   "source": [
    "m3 = np.mean(X3)\n",
    "m3"
   ]
  },
  {
   "cell_type": "code",
   "execution_count": 11,
   "metadata": {},
   "outputs": [
    {
     "data": {
      "text/plain": [
       "151.8533626529168"
      ]
     },
     "execution_count": 11,
     "metadata": {},
     "output_type": "execute_result"
    }
   ],
   "source": [
    "s1 = np.var(X1, ddof=1)\n",
    "s1"
   ]
  },
  {
   "cell_type": "code",
   "execution_count": 12,
   "metadata": {},
   "outputs": [
    {
     "data": {
      "text/plain": [
       "17421.786152461835"
      ]
     },
     "execution_count": 12,
     "metadata": {},
     "output_type": "execute_result"
    }
   ],
   "source": [
    "s2 = np.var(X2, ddof=1)\n",
    "s2"
   ]
  },
  {
   "cell_type": "code",
   "execution_count": 13,
   "metadata": {},
   "outputs": [
    {
     "data": {
      "text/plain": [
       "2172341.552219189"
      ]
     },
     "execution_count": 13,
     "metadata": {},
     "output_type": "execute_result"
    }
   ],
   "source": [
    "s3 = np.var(X3, ddof=1)\n",
    "s3"
   ]
  },
  {
   "cell_type": "code",
   "execution_count": 14,
   "metadata": {},
   "outputs": [
    {
     "data": {
      "text/plain": [
       "12.322879641257428"
      ]
     },
     "execution_count": 14,
     "metadata": {},
     "output_type": "execute_result"
    }
   ],
   "source": [
    "s1 = np.std(X1, ddof=1)\n",
    "s1"
   ]
  },
  {
   "cell_type": "code",
   "execution_count": 15,
   "metadata": {},
   "outputs": [
    {
     "data": {
      "text/plain": [
       "131.9916139474847"
      ]
     },
     "execution_count": 15,
     "metadata": {},
     "output_type": "execute_result"
    }
   ],
   "source": [
    "s2 = np.std(X2, ddof=1)\n",
    "s2"
   ]
  },
  {
   "cell_type": "code",
   "execution_count": 16,
   "metadata": {},
   "outputs": [
    {
     "data": {
      "text/plain": [
       "1473.8865465900653"
      ]
     },
     "execution_count": 16,
     "metadata": {},
     "output_type": "execute_result"
    }
   ],
   "source": [
    "s3 = np.std(X3, ddof=1)\n",
    "s3"
   ]
  },
  {
   "cell_type": "code",
   "execution_count": 17,
   "metadata": {},
   "outputs": [
    {
     "data": {
      "text/plain": [
       "13.757134658078"
      ]
     },
     "execution_count": 17,
     "metadata": {},
     "output_type": "execute_result"
    }
   ],
   "source": [
    "skew(X1)"
   ]
  },
  {
   "cell_type": "code",
   "execution_count": 18,
   "metadata": {},
   "outputs": [
    {
     "data": {
      "text/plain": [
       "1.4729974670843415"
      ]
     },
     "execution_count": 18,
     "metadata": {},
     "output_type": "execute_result"
    }
   ],
   "source": [
    "skew(X2)"
   ]
  },
  {
   "cell_type": "code",
   "execution_count": 19,
   "metadata": {},
   "outputs": [
    {
     "data": {
      "text/plain": [
       "1.6060431535588293"
      ]
     },
     "execution_count": 19,
     "metadata": {},
     "output_type": "execute_result"
    }
   ],
   "source": [
    "skew(X3)"
   ]
  },
  {
   "cell_type": "code",
   "execution_count": 20,
   "metadata": {},
   "outputs": [
    {
     "data": {
      "text/plain": [
       "217.81506388614636"
      ]
     },
     "execution_count": 20,
     "metadata": {},
     "output_type": "execute_result"
    }
   ],
   "source": [
    "kurtosis(X1)"
   ]
  },
  {
   "cell_type": "code",
   "execution_count": 21,
   "metadata": {},
   "outputs": [
    {
     "data": {
      "text/plain": [
       "3.3396698849351623"
      ]
     },
     "execution_count": 21,
     "metadata": {},
     "output_type": "execute_result"
    }
   ],
   "source": [
    "kurtosis(X2)"
   ]
  },
  {
   "cell_type": "code",
   "execution_count": 22,
   "metadata": {},
   "outputs": [
    {
     "data": {
      "text/plain": [
       "3.3991654155658946"
      ]
     },
     "execution_count": 22,
     "metadata": {},
     "output_type": "execute_result"
    }
   ],
   "source": [
    "kurtosis(X3)"
   ]
  },
  {
   "cell_type": "code",
   "execution_count": 30,
   "metadata": {},
   "outputs": [],
   "source": [
    "var = sheetX['C9']\n",
    "X = np.array(var)"
   ]
  },
  {
   "cell_type": "code",
   "execution_count": 47,
   "metadata": {},
   "outputs": [
    {
     "data": {
      "text/plain": [
       "array([  0.        ,  67.66666667, 135.33333333, 203.        ])"
      ]
     },
     "execution_count": 47,
     "metadata": {},
     "output_type": "execute_result"
    }
   ],
   "source": [
    "hist, bin_edges = np.histogram(X, bins=3)\n",
    "bin_edges"
   ]
  },
  {
   "cell_type": "code",
   "execution_count": 32,
   "metadata": {},
   "outputs": [
    {
     "data": {
      "text/plain": [
       "14.5"
      ]
     },
     "execution_count": 32,
     "metadata": {},
     "output_type": "execute_result"
    }
   ],
   "source": [
    "(max(X) - min(X)) / 14"
   ]
  },
  {
   "cell_type": "code",
   "execution_count": null,
   "metadata": {},
   "outputs": [],
   "source": []
  },
  {
   "cell_type": "code",
   "execution_count": 39,
   "metadata": {},
   "outputs": [
    {
     "name": "stdout",
     "output_type": "stream",
     "text": [
      "0.0,13.53,296,0.94,296,0.94\n",
      "13.53,27.07,16,0.051,312,0.99\n",
      "27.07,40.6,2,0.006,314,0.997\n",
      "40.6,54.13,0,0.0,314,0.997\n",
      "54.13,67.67,0,0.0,314,0.997\n",
      "67.67,81.2,0,0.0,314,0.997\n",
      "81.2,94.73,0,0.0,314,0.997\n",
      "94.73,108.27,0,0.0,314,0.997\n",
      "108.27,121.8,0,0.0,314,0.997\n",
      "121.8,135.33,0,0.0,314,0.997\n",
      "135.33,148.87,0,0.0,314,0.997\n",
      "148.87,162.4,0,0.0,314,0.997\n",
      "162.4,175.93,0,0.0,314,0.997\n",
      "175.93,189.47,0,0.0,314,0.997\n",
      "189.47,203.0,1,0.003,315,1.0\n"
     ]
    }
   ],
   "source": [
    "stored, stored1 = 0, 0\n",
    "Xf, Xf1, Xf2 = [], [], []\n",
    "for i in range(hist.shape[0]):\n",
    "    arr = X[bin_edges[i] <= X]\n",
    "    arr1 = arr[arr < bin_edges[i + 1]]\n",
    "    if i == hist.shape[0] - 1:\n",
    "        arr = X[bin_edges[i] <= X]\n",
    "        arr1 = arr[arr <= bin_edges[i + 1]]\n",
    "    stored += len(arr1)\n",
    "    stored1 += len(arr1)/len(X)\n",
    "    Xf.append(stored)\n",
    "    Xf1.append(stored1)\n",
    "    Xf2.append(len(arr1))\n",
    "    print(round(bin_edges[i], 2), round(bin_edges[i+1], 2), len(arr1),\n",
    "          round(len(arr1)/len(X), 3), stored, round(stored1, 3), sep=',')"
   ]
  },
  {
   "cell_type": "code",
   "execution_count": 49,
   "metadata": {},
   "outputs": [
    {
     "data": {
      "image/png": "[encoded data removed]",
      "text/plain": [
       "<Figure size 640x480 with 1 Axes>"
      ]
     },
     "metadata": {},
     "output_type": "display_data"
    }
   ],
   "source": [
    "import matplotlib.pyplot as plt\n",
    "%matplotlib inline\n",
    "a,bins,_ = plt.hist(X, density=False, edgecolor='black',bins=14)\n",
    "x = np.append([0], a)\n",
    "x = np.append(x, [0])\n",
    "width = (X.max() - X.min())/14\n",
    "bins = np.append([bins[0] - width], bins)\n",
    "y = bins + width / 2\n",
    "plt.plot(y, x,'go--')\n",
    "plt.show()"
   ]
  },
  {
   "cell_type": "code",
   "execution_count": 52,
   "metadata": {},
   "outputs": [
    {
     "data": {
      "image/png": "[encoded data removed]",
      "text/plain": [
       "<Figure size 640x480 with 1 Axes>"
      ]
     },
     "metadata": {},
     "output_type": "display_data"
    }
   ],
   "source": [
    "a,bins,_ = plt.hist(X, density=False, edgecolor='black', weights=np.ones_like(X)/len(X),bins=14)\n",
    "x = np.append([0], a)\n",
    "x = np.append(x, [0])\n",
    "width = (X.max() - X.min())/14\n",
    "bins = np.append([bins[0] - width], bins)\n",
    "y = bins + width / 2\n",
    "plt.plot(y, x,'go--')\n",
    "plt.show()"
   ]
  },
  {
   "cell_type": "code",
   "execution_count": 57,
   "metadata": {},
   "outputs": [
    {
     "data": {
      "image/png": "[encoded data removed]",
      "text/plain": [
       "<Figure size 640x480 with 1 Axes>"
      ]
     },
     "metadata": {},
     "output_type": "display_data"
    }
   ],
   "source": [
    "a,bins,_ = plt.hist(bins[:-1], density=False, weights=Xf, edgecolor='black', bins=14)\n",
    "x = np.append([0], a)\n",
    "plt.plot(bins, x,'go--')\n",
    "plt.show()"
   ]
  },
  {
   "cell_type": "code",
   "execution_count": 54,
   "metadata": {},
   "outputs": [
    {
     "data": {
      "text/plain": [
       "(14,)"
      ]
     },
     "execution_count": 54,
     "metadata": {},
     "output_type": "execute_result"
    }
   ],
   "source": [
    "bins[:-2].shape"
   ]
  },
  {
   "cell_type": "code",
   "execution_count": 56,
   "metadata": {},
   "outputs": [
    {
     "data": {
      "text/plain": [
       "15"
      ]
     },
     "execution_count": 56,
     "metadata": {},
     "output_type": "execute_result"
    }
   ],
   "source": []
  },
  {
   "cell_type": "code",
   "execution_count": 59,
   "metadata": {},
   "outputs": [
    {
     "data": {
      "image/png": "[encoded data removed]",
      "text/plain": [
       "<Figure size 640x480 with 1 Axes>"
      ]
     },
     "metadata": {},
     "output_type": "display_data"
    }
   ],
   "source": [
    "a, bins, _ = plt.hist(bins, density=False, weights=Xf1, edgecolor='black', bins=14)\n",
    "x = np.append([0], a)\n",
    "plt.plot(bins, x, 'go--')\n",
    "plt.show()"
   ]
  },
  {
   "cell_type": "code",
   "execution_count": 60,
   "metadata": {},
   "outputs": [
    {
     "data": {
      "text/plain": [
       "[<matplotlib.lines.Line2D at 0x14f572ecdf0>]"
      ]
     },
     "execution_count": 60,
     "metadata": {},
     "output_type": "execute_result"
    },
    {
     "data": {
      "image/png": "[encoded data removed]",
      "text/plain": [
       "<Figure size 640x480 with 1 Axes>"
      ]
     },
     "metadata": {},
     "output_type": "display_data"
    }
   ],
   "source": [
    "plt.plot(np.sort(X), np.linspace(0, 1, len(X), endpoint=False))"
   ]
  },
  {
   "cell_type": "markdown",
   "metadata": {},
   "source": [
    "# 2. Интервальные оценки"
   ]
  },
  {
   "cell_type": "markdown",
   "metadata": {},
   "source": [
    "# $\\bar{x} + t_{1 - \\alpha / 2} \\times \\frac{s}{\\sqrt{(n)}}$\n",
    "\n",
    "# $\\bar{x} - t_{\\alpha / 2} \\times \\frac{s}{\\sqrt{(n)}}$"
   ]
  },
  {
   "cell_type": "code",
   "execution_count": 61,
   "metadata": {},
   "outputs": [
    {
     "data": {
      "text/plain": [
       "(0.6943156106210754, 0.6943156106210754)"
      ]
     },
     "execution_count": 61,
     "metadata": {},
     "output_type": "execute_result"
    }
   ],
   "source": [
    "import scipy.stats as st\n",
    "np.std(X, ddof=1)/np.sqrt(X.shape[0]), st.sem(X)"
   ]
  },
  {
   "cell_type": "code",
   "execution_count": 63,
   "metadata": {},
   "outputs": [
    {
     "data": {
      "text/plain": [
       "(1.4799926443441702, 5.078737514385988)"
      ]
     },
     "execution_count": 63,
     "metadata": {},
     "output_type": "execute_result"
    }
   ],
   "source": [
    "var = sheetX['C9']\n",
    "X = np.array(var)\n",
    "st.t.interval(confidence=0.99, df=len(X)-1,\n",
    "              loc=np.mean(X),\n",
    "              scale=st.sem(X))"
   ]
  },
  {
   "cell_type": "code",
   "execution_count": 64,
   "metadata": {},
   "outputs": [
    {
     "data": {
      "text/plain": [
       "(1.913265997942944, 4.645464160787214)"
      ]
     },
     "execution_count": 64,
     "metadata": {},
     "output_type": "execute_result"
    }
   ],
   "source": [
    "st.t.interval(confidence=0.95, df=len(X)-1,\n",
    "              loc=np.mean(X),\n",
    "              scale=st.sem(X))"
   ]
  },
  {
   "cell_type": "code",
   "execution_count": 65,
   "metadata": {},
   "outputs": [
    {
     "data": {
      "text/plain": [
       "(2.1339381532354933, 4.424792005494664)"
      ]
     },
     "execution_count": 65,
     "metadata": {},
     "output_type": "execute_result"
    }
   ],
   "source": [
    "st.t.interval(confidence=0.9, df=len(X)-1,\n",
    "              loc=np.mean(X),\n",
    "              scale=st.sem(X))"
   ]
  },
  {
   "cell_type": "markdown",
   "metadata": {},
   "source": [
    "# $\\frac{(n-1) s^2}{\\chi_{1 - \\frac{\\alpha}{2}}^2} \\leq \\sigma^2 \\leq \\frac{(n-1) s^2}{\\chi_{\\frac{\\alpha}{2}}^2}$"
   ]
  },
  {
   "cell_type": "code",
   "execution_count": 66,
   "metadata": {},
   "outputs": [
    {
     "data": {
      "text/plain": [
       "(124.72389821617331, 188.31141321582737)"
      ]
     },
     "execution_count": 66,
     "metadata": {},
     "output_type": "execute_result"
    }
   ],
   "source": [
    "x, y = np.reciprocal(st.chi2.interval(confidence=0.99, df=len(X)-1)) * (len(X) - 1) * np.var(X, ddof=1)\n",
    "y, x"
   ]
  },
  {
   "cell_type": "code",
   "execution_count": 67,
   "metadata": {},
   "outputs": [
    {
     "data": {
      "text/plain": [
       "(130.64173052675784, 178.71510008215242)"
      ]
     },
     "execution_count": 67,
     "metadata": {},
     "output_type": "execute_result"
    }
   ],
   "source": [
    "x, y = np.reciprocal(st.chi2.interval(confidence=0.95, df=len(X)-1)) * (len(X) - 1) * np.var(X, ddof=1)\n",
    "y, x"
   ]
  },
  {
   "cell_type": "code",
   "execution_count": 68,
   "metadata": {},
   "outputs": [
    {
     "data": {
      "text/plain": [
       "(133.81582295524538, 174.0547513098481)"
      ]
     },
     "execution_count": 68,
     "metadata": {},
     "output_type": "execute_result"
    }
   ],
   "source": [
    "x, y = np.reciprocal(st.chi2.interval(confidence=0.9, df=len(X)-1)) * (len(X) - 1) * np.var(X, ddof=1)\n",
    "y, x"
   ]
  },
  {
   "cell_type": "code",
   "execution_count": 72,
   "metadata": {},
   "outputs": [],
   "source": [
    "var1, var2 = sheetX['C11'], sheetX['C12']\n",
    "X1 = np.array(var1)\n",
    "X2 = np.array(var2)"
   ]
  },
  {
   "cell_type": "markdown",
   "metadata": {},
   "source": [
    "# $\\left(\\bar{x}_1-\\bar{x}_2\\right)-t_{\\frac{\\alpha}{2}} \\sqrt{\\frac{s_1^2}{n_1}+\\frac{s_2^2}{n_2}}<m_1-m_2<\\left(\\bar{x}_1-\\bar{x}_2\\right)+t_{1 - \\frac{\\alpha}{2}} \\sqrt{\\frac{s_1^2}{n_1}+\\frac{s_2^2}{n_2}}$"
   ]
  },
  {
   "cell_type": "markdown",
   "metadata": {},
   "source": [
    "$\\left(\\bar{x}_1-\\bar{x}_2\\right)+t_{1 - \\frac{\\alpha}{2}} \\sqrt{\\frac{s_1^2}{n_1}+\\frac{s_2^2}{n_2}}$"
   ]
  },
  {
   "cell_type": "code",
   "execution_count": 73,
   "metadata": {},
   "outputs": [
    {
     "data": {
      "text/plain": [
       "(1121.8156646706677, 1583.9621131071096)"
      ]
     },
     "execution_count": 73,
     "metadata": {},
     "output_type": "execute_result"
    }
   ],
   "source": [
    "st.t.interval(confidence=0.99, df=len(X1) + len(X2) - 2,\n",
    "              loc=(np.mean(X1) - np.mean(X2)),\n",
    "              scale=np.sqrt(st.sem(X1) ** 2 + st.sem(X2) ** 2))"
   ]
  },
  {
   "cell_type": "code",
   "execution_count": 74,
   "metadata": {},
   "outputs": [
    {
     "data": {
      "text/plain": [
       "(1177.259701643006, 1528.5180761347713)"
      ]
     },
     "execution_count": 74,
     "metadata": {},
     "output_type": "execute_result"
    }
   ],
   "source": [
    "st.t.interval(confidence=0.95, df=len(X1) + len(X2) - 2,\n",
    "              loc=(np.mean(X1) - np.mean(X2)),\n",
    "              scale=np.sqrt(st.sem(X1) ** 2 + st.sem(X2) ** 2))"
   ]
  },
  {
   "cell_type": "code",
   "execution_count": 75,
   "metadata": {},
   "outputs": [
    {
     "data": {
      "text/plain": [
       "(1205.56296603485, 1500.2148117429272)"
      ]
     },
     "execution_count": 75,
     "metadata": {},
     "output_type": "execute_result"
    }
   ],
   "source": [
    "st.t.interval(confidence=0.9, df=len(X1) + len(X2) - 2,\n",
    "              loc=(np.mean(X1) - np.mean(X2)),\n",
    "              scale=np.sqrt(st.sem(X1) ** 2 + st.sem(X2) ** 2))"
   ]
  },
  {
   "cell_type": "markdown",
   "metadata": {},
   "source": [
    "# $\\frac{s_1^2}{s_2^2} \\cdot F_{1 - \\frac{\\alpha}{2}} < \\frac{\\sigma_1^2}{\\sigma_2^2} < \\frac{s_1^2}{s_2^2} \\cdot F_{\\frac{\\alpha}{2}}$"
   ]
  },
  {
   "cell_type": "code",
   "execution_count": 76,
   "metadata": {},
   "outputs": [
    {
     "data": {
      "text/plain": [
       "(4.6739903123983, 8.372496671389163)"
      ]
     },
     "execution_count": 76,
     "metadata": {},
     "output_type": "execute_result"
    }
   ],
   "source": [
    "st.f.interval(confidence=0.99, dfn=len(X1) - 1, dfd=len(X2) - 1,\n",
    "              scale=np.var(X1, ddof=1) / np.var(X2, ddof=1))"
   ]
  },
  {
   "cell_type": "code",
   "execution_count": 77,
   "metadata": {},
   "outputs": [
    {
     "data": {
      "text/plain": [
       "(5.012156001879108, 7.807611797794926)"
      ]
     },
     "execution_count": 77,
     "metadata": {},
     "output_type": "execute_result"
    }
   ],
   "source": [
    "st.f.interval(confidence=0.95, dfn=len(X1) - 1, dfd=len(X2) - 1,\n",
    "              scale=np.var(X1, ddof=1) / np.var(X2, ddof=1))"
   ]
  },
  {
   "cell_type": "code",
   "execution_count": 78,
   "metadata": {},
   "outputs": [
    {
     "data": {
      "text/plain": [
       "(5.1942503627360965, 7.533901063645782)"
      ]
     },
     "execution_count": 78,
     "metadata": {},
     "output_type": "execute_result"
    }
   ],
   "source": [
    "st.f.interval(confidence=0.9, dfn=len(X1) - 1, dfd=len(X2) - 1,\n",
    "              scale=np.var(X1, ddof=1) / np.var(X2, ddof=1))"
   ]
  },
  {
   "cell_type": "code",
   "execution_count": null,
   "metadata": {},
   "outputs": [],
   "source": []
  }
 ],
 "metadata": {
  "kernelspec": {
   "display_name": "Python 3 (ipykernel)",
   "language": "python",
   "name": "python3"
  },
  "language_info": {
   "codemirror_mode": {
    "name": "ipython",
    "version": 3
   },
   "file_extension": ".py",
   "mimetype": "text/x-python",
   "name": "python",
   "nbconvert_exporter": "python",
   "pygments_lexer": "ipython3",
   "version": "3.9.13"
  }
 },
 "nbformat": 4,
 "nbformat_minor": 1
}
