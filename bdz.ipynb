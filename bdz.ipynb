{
 "cells": [
  {
   "cell_type": "markdown",
   "metadata": {
    "collapsed": false
   },
   "source": [
    "# 1. Описательные статистики"
   ]
  },
  {
   "cell_type": "code",
   "execution_count": 1,
   "metadata": {
    "collapsed": false
   },
   "outputs": [
    {
     "data": {
      "text/plain": [
       "(1073,\n",
       " array([382, 560, 494, ..., 383, 348, 410], dtype=int64),\n",
       " array([382, 508, 415, ..., 383, 315, 445], dtype=int64))"
      ]
     },
     "execution_count": 115,
     "metadata": {},
     "output_type": "execute_result"
    }
   ],
   "source": [
    "import pandas as pd\n",
    "import numpy as np\n",
    "import xlrd\n",
    "import openpyxl\n",
    "from scipy.stats import skew, norm, kurtosis\n",
    "xls = pd.ExcelFile(r\"table.xls\")\n",
    "sheetX = xls.parse(1)\n",
    "var1 = sheetX['A5']\n",
    "X1 = np.array(var1)\n",
    "var2 = sheetX['A6']\n",
    "X2 = np.array(var2)\n",
    "var3 = sheetX['A8']\n",
    "X3 = np.array(var3)\n",
    "np.size(X1), X2, X3"
   ]
  },
  {
   "cell_type": "markdown",
   "metadata": {
    "collapsed": false
   },
   "source": [
    "### $\\bar{x}=\\frac{1}{n} \\sum_{i=1}^n x_i=\\frac{1}{n}\\left(x_1+\\cdots+x_n\\right)$\n",
    "\n",
    "\n",
    "### $s^2=\\frac{1}{n} \\sum_{i=1}^n\\left(X_i-\\bar{X}\\right)^2$\n",
    "\n",
    "\n",
    "### $s=\\sqrt(\\frac{1}{n} \\sum_{i=1}^n\\left(X_i-\\bar{X}\\right)^2)$\n",
    "\n",
    "\n",
    "### $\\gamma_x=\\left[\\frac{n}{(n-1)(n-2)}\\right] \\frac{\\sum_{i=1}^n\\left(X_i-\\bar{X}\\right)^3}{s^3}$\n",
    "\n",
    "\n",
    "### $\\epsilon_x=\\frac{n(n+1)}{(n-1)(n-2)(n-3)} \\sum_{i=1}^n\\left(\\frac{x_i-\\bar{x}}{s}\\right)^4-\\frac{3(n-1)^2}{(n-2)(n-3)}$"
   ]
  },
  {
   "cell_type": "code",
   "execution_count": 2,
   "metadata": {
    "collapsed": false
   },
   "outputs": [
    {
     "data": {
      "text/plain": [
       "526.4836905871389"
      ]
     },
     "execution_count": 116,
     "metadata": {},
     "output_type": "execute_result"
    }
   ],
   "source": [
    "m1 = np.mean(X1)\n",
    "m1"
   ]
  },
  {
   "cell_type": "code",
   "execution_count": 3,
   "metadata": {
    "collapsed": false
   },
   "outputs": [
    {
     "data": {
      "text/plain": [
       "420.04193849021436"
      ]
     },
     "execution_count": 117,
     "metadata": {},
     "output_type": "execute_result"
    }
   ],
   "source": [
    "m2 = np.mean(X2)\n",
    "m2"
   ]
  },
  {
   "cell_type": "code",
   "execution_count": 4,
   "metadata": {
    "collapsed": false
   },
   "outputs": [
    {
     "data": {
      "text/plain": [
       "428.0326188257223"
      ]
     },
     "execution_count": 118,
     "metadata": {},
     "output_type": "execute_result"
    }
   ],
   "source": [
    "m3 = np.mean(X3)\n",
    "m3"
   ]
  },
  {
   "cell_type": "code",
   "execution_count": 5,
   "metadata": {
    "collapsed": false
   },
   "outputs": [
    {
     "data": {
      "text/plain": [
       "13868.856310247458"
      ]
     },
     "execution_count": 119,
     "metadata": {},
     "output_type": "execute_result"
    }
   ],
   "source": [
    "s1 = np.var(X1, ddof=1)\n",
    "s1"
   ]
  },
  {
   "cell_type": "code",
   "execution_count": 6,
   "metadata": {
    "collapsed": false
   },
   "outputs": [
    {
     "data": {
      "text/plain": [
       "4957.764097731288"
      ]
     },
     "execution_count": 120,
     "metadata": {},
     "output_type": "execute_result"
    }
   ],
   "source": [
    "s2 = np.var(X2, ddof=1)\n",
    "s2"
   ]
  },
  {
   "cell_type": "code",
   "execution_count": 7,
   "metadata": {
    "collapsed": false
   },
   "outputs": [
    {
     "data": {
      "text/plain": [
       "8217.62113651222"
      ]
     },
     "execution_count": 121,
     "metadata": {},
     "output_type": "execute_result"
    }
   ],
   "source": [
    "s3 = np.var(X3, ddof=1)\n",
    "s3"
   ]
  },
  {
   "cell_type": "code",
   "execution_count": 8,
   "metadata": {
    "collapsed": false
   },
   "outputs": [
    {
     "data": {
      "text/plain": [
       "117.7661084958124"
      ]
     },
     "execution_count": 122,
     "metadata": {},
     "output_type": "execute_result"
    }
   ],
   "source": [
    "s1 = np.std(X1, ddof=1)\n",
    "s1"
   ]
  },
  {
   "cell_type": "code",
   "execution_count": 9,
   "metadata": {
    "collapsed": false
   },
   "outputs": [
    {
     "data": {
      "text/plain": [
       "70.4113918178819"
      ]
     },
     "execution_count": 123,
     "metadata": {},
     "output_type": "execute_result"
    }
   ],
   "source": [
    "s2 = np.std(X2, ddof=1)\n",
    "s2"
   ]
  },
  {
   "cell_type": "code",
   "execution_count": 10,
   "metadata": {
    "collapsed": false
   },
   "outputs": [
    {
     "data": {
      "text/plain": [
       "90.6510956167228"
      ]
     },
     "execution_count": 124,
     "metadata": {},
     "output_type": "execute_result"
    }
   ],
   "source": [
    "s3 = np.std(X3, ddof=1)\n",
    "s3"
   ]
  },
  {
   "cell_type": "code",
   "execution_count": 11,
   "metadata": {
    "collapsed": false
   },
   "outputs": [
    {
     "data": {
      "text/plain": [
       "0.6795990400916552"
      ]
     },
     "execution_count": 125,
     "metadata": {},
     "output_type": "execute_result"
    }
   ],
   "source": [
    "skew(X1)\n",
    "0.6795990400916552"
   ]
  },
  {
   "cell_type": "code",
   "execution_count": 12,
   "metadata": {
    "collapsed": false
   },
   "outputs": [
    {
     "data": {
      "text/plain": [
       "0.3481481718850067"
      ]
     },
     "execution_count": 126,
     "metadata": {},
     "output_type": "execute_result"
    }
   ],
   "source": [
    "skew(X2)"
   ]
  },
  {
   "cell_type": "code",
   "execution_count": 13,
   "metadata": {
    "collapsed": false
   },
   "outputs": [
    {
     "data": {
      "text/plain": [
       "0.8191411695756438"
      ]
     },
     "execution_count": 127,
     "metadata": {},
     "output_type": "execute_result"
    }
   ],
   "source": [
    "skew(X3)"
   ]
  },
  {
   "cell_type": "code",
   "execution_count": 14,
   "metadata": {
    "collapsed": false
   },
   "outputs": [
    {
     "data": {
      "text/plain": [
       "0.5304432832288937"
      ]
     },
     "execution_count": 128,
     "metadata": {},
     "output_type": "execute_result"
    }
   ],
   "source": [
    "kurtosis(X1)"
   ]
  },
  {
   "cell_type": "code",
   "execution_count": 15,
   "metadata": {
    "collapsed": false
   },
   "outputs": [
    {
     "data": {
      "text/plain": [
       "0.17581685259992685"
      ]
     },
     "execution_count": 129,
     "metadata": {},
     "output_type": "execute_result"
    }
   ],
   "source": [
    "kurtosis(X2)"
   ]
  },
  {
   "cell_type": "code",
   "execution_count": 16,
   "metadata": {
    "collapsed": false
   },
   "outputs": [
    {
     "data": {
      "text/plain": [
       "0.9757478446505425"
      ]
     },
     "execution_count": 130,
     "metadata": {},
     "output_type": "execute_result"
    }
   ],
   "source": [
    "kurtosis(X3)"
   ]
  },
  {
   "cell_type": "code",
   "execution_count": 17,
   "metadata": {
    "collapsed": false
   },
   "outputs": [],
   "source": [
    "var = sheetX['A8']\n",
    "X = np.array(var)"
   ]
  },
  {
   "cell_type": "code",
   "execution_count": 18,
   "metadata": {
    "collapsed": false
   },
   "outputs": [
    {
     "data": {
      "text/plain": [
       "array([232.        , 262.19047619, 292.38095238, 322.57142857,\n",
       "       352.76190476, 382.95238095, 413.14285714, 443.33333333,\n",
       "       473.52380952, 503.71428571, 533.9047619 , 564.0952381 ,\n",
       "       594.28571429, 624.47619048, 654.66666667, 684.85714286,\n",
       "       715.04761905, 745.23809524, 775.42857143, 805.61904762,\n",
       "       835.80952381, 866.        ])"
      ]
     },
     "execution_count": 132,
     "metadata": {},
     "output_type": "execute_result"
    }
   ],
   "source": [
    "hist, bin_edges = np.histogram(X, bins=21)\n",
    "bin_edges"
   ]
  },
  {
   "cell_type": "code",
   "execution_count": 19,
   "metadata": {
    "collapsed": false
   },
   "outputs": [
    {
     "name": "stdout",
     "output_type": "stream",
     "text": [
      "нижн.гр: 232.0 верх.гра: 262.19 частота: 5 отн.частота: 0.005 нак.частота: 5 отн.нак.частота: 0.005\n",
      "нижн.гр: 262.19 верх.гра: 292.38 частота: 28 отн.частота: 0.026 нак.частота: 33 отн.нак.частота: 0.031\n",
      "нижн.гр: 292.38 верх.гра: 322.57 частота: 67 отн.частота: 0.062 нак.частота: 100 отн.нак.частота: 0.093\n",
      "нижн.гр: 322.57 верх.гра: 352.76 частота: 128 отн.частота: 0.119 нак.частота: 228 отн.нак.частота: 0.212\n",
      "нижн.гр: 352.76 верх.гра: 382.95 частота: 148 отн.частота: 0.138 нак.частота: 376 отн.нак.частота: 0.35\n",
      "нижн.гр: 382.95 верх.гра: 413.14 частота: 155 отн.частота: 0.144 нак.частота: 531 отн.нак.частота: 0.494\n",
      "нижн.гр: 413.14 верх.гра: 443.33 частота: 142 отн.частота: 0.132 нак.частота: 673 отн.нак.частота: 0.626\n",
      "нижн.гр: 443.33 верх.гра: 473.52 частота: 107 отн.частота: 0.1 нак.частота: 780 отн.нак.частота: 0.726\n",
      "нижн.гр: 473.52 верх.гра: 503.71 частота: 73 отн.частота: 0.068 нак.частота: 853 отн.нак.частота: 0.794\n",
      "нижн.гр: 503.71 верх.гра: 533.9 частота: 70 отн.частота: 0.065 нак.частота: 923 отн.нак.частота: 0.859\n",
      "нижн.гр: 533.9 верх.гра: 564.1 частота: 69 отн.частота: 0.064 нак.частота: 992 отн.нак.частота: 0.923\n",
      "нижн.гр: 564.1 верх.гра: 594.29 частота: 32 отн.частота: 0.03 нак.частота: 1024 отн.нак.частота: 0.953\n",
      "нижн.гр: 594.29 верх.гра: 624.48 частота: 22 отн.частота: 0.021 нак.частота: 1046 отн.нак.частота: 0.974\n",
      "нижн.гр: 624.48 верх.гра: 654.67 частота: 11 отн.частота: 0.01 нак.частота: 1057 отн.нак.частота: 0.984\n",
      "нижн.гр: 654.67 верх.гра: 684.86 частота: 4 отн.частота: 0.004 нак.частота: 1061 отн.нак.частота: 0.988\n",
      "нижн.гр: 684.86 верх.гра: 715.05 частота: 5 отн.частота: 0.005 нак.частота: 1066 отн.нак.частота: 0.993\n",
      "нижн.гр: 715.05 верх.гра: 745.24 частота: 2 отн.частота: 0.002 нак.частота: 1068 отн.нак.частота: 0.995\n",
      "нижн.гр: 745.24 верх.гра: 775.43 частота: 2 отн.частота: 0.002 нак.частота: 1070 отн.нак.частота: 0.997\n",
      "нижн.гр: 775.43 верх.гра: 805.62 частота: 1 отн.частота: 0.001 нак.частота: 1071 отн.нак.частота: 0.998\n",
      "нижн.гр: 805.62 верх.гра: 835.81 частота: 1 отн.частота: 0.001 нак.частота: 1072 отн.нак.частота: 0.999\n",
      "нижн.гр: 835.81 верх.гра: 866.0 частота: 1 отн.частота: 0.001 нак.частота: 1073 отн.нак.частота: 1.0\n"
     ]
    }
   ],
   "source": [
    "stored, stored1 = 0, 0\n",
    "Xf, Xf1, Xf2 = [], [], []\n",
    "for i in range(21):\n",
    "    arr = X[bin_edges[i] <= X]\n",
    "    arr1 = arr[arr < bin_edges[i + 1]]\n",
    "    if i == 20:\n",
    "        arr = X[bin_edges[i] <= X]\n",
    "        arr1 = arr[arr <= bin_edges[i + 1]]\n",
    "    stored += len(arr1)\n",
    "    stored1 += round(len(arr1)/len(X), 3)\n",
    "    Xf.append(stored)\n",
    "    Xf1.append(stored1)\n",
    "    Xf2.append(len(arr1))\n",
    "    print(\"нижн.гр:\", round(bin_edges[i], 2), \"верх.гра:\",  round(bin_edges[i+1], 2), \"частота:\", len(arr1),\n",
    "          \"отн.частота:\", round(len(arr1)/len(X), 3), \"нак.частота:\", stored, \"отн.нак.частота:\", round(stored1, 3))"
   ]
  },
  {
   "cell_type": "code",
   "execution_count": 20,
   "metadata": {
    "collapsed": false
   },
   "outputs": [
    {
     "data": {
      "image/png": "[encoded data removed]",
      "text/plain": [
       "<Figure size 640x480 with 1 Axes>"
      ]
     },
     "metadata": {},
     "output_type": "display_data"
    }
   ],
   "source": [
    "import matplotlib.pyplot as plt\n",
    "%matplotlib inline\n",
    "a,bins,_ = plt.hist(X, density=False, edgecolor='black',bins=21)\n",
    "x = np.append([0], a)\n",
    "x = np.append(x, [0])\n",
    "width = (X.max() - X.min())/21\n",
    "bins = np.append([bins[0] - width], bins)\n",
    "y = bins + width / 2\n",
    "plt.plot(y, x,'go--')\n",
    "plt.show()"
   ]
  },
  {
   "cell_type": "code",
   "execution_count": 21,
   "metadata": {
    "collapsed": false
   },
   "outputs": [
    {
     "data": {
      "image/png": "[encoded data removed]",
      "text/plain": [
       "<Figure size 640x480 with 1 Axes>"
      ]
     },
     "metadata": {},
     "output_type": "display_data"
    }
   ],
   "source": [
    "a,bins,_ = plt.hist(X, density=False, edgecolor='black', weights=np.ones_like(X)/len(X),bins=21)\n",
    "x = np.append([0], a)\n",
    "x = np.append(x, [0])\n",
    "width = (X.max() - X.min())/21\n",
    "bins = np.append([bins[0] - width], bins)\n",
    "y = bins + width / 2\n",
    "plt.plot(y, x,'go--')\n",
    "plt.show()"
   ]
  },
  {
   "cell_type": "code",
   "execution_count": 22,
   "metadata": {
    "collapsed": false
   },
   "outputs": [
    {
     "data": {
      "image/png": "[encoded data removed]",
      "text/plain": [
       "<Figure size 640x480 with 1 Axes>"
      ]
     },
     "metadata": {},
     "output_type": "display_data"
    }
   ],
   "source": [
    "a,bins,_ = plt.hist(bins[:-2], density=False, weights=Xf, edgecolor='black', bins=21)\n",
    "x = np.append([0], a)\n",
    "plt.plot(bins, x,'go--')\n",
    "plt.show()"
   ]
  },
  {
   "cell_type": "code",
   "execution_count": 23,
   "metadata": {
    "collapsed": false
   },
   "outputs": [
    {
     "data": {
      "image/png": "[encoded data removed]",
      "text/plain": [
       "<Figure size 640x480 with 1 Axes>"
      ]
     },
     "metadata": {},
     "output_type": "display_data"
    }
   ],
   "source": [
    "a, bins, _ = plt.hist(bins[:-1], density=False, weights=Xf1, edgecolor='black', bins=21)\n",
    "x = np.append([0], a)\n",
    "plt.plot(bins, x, 'go--')\n",
    "plt.show()"
   ]
  },
  {
   "cell_type": "code",
   "execution_count": 24,
   "metadata": {
    "collapsed": false
   },
   "outputs": [
    {
     "data": {
      "text/plain": [
       "[<matplotlib.lines.Line2D at 0x15938fdaee0>]"
      ]
     },
     "execution_count": 138,
     "metadata": {},
     "output_type": "execute_result"
    },
    {
     "data": {
      "image/png": "[encoded data removed]",
      "text/plain": [
       "<Figure size 640x480 with 1 Axes>"
      ]
     },
     "metadata": {},
     "output_type": "display_data"
    }
   ],
   "source": [
    "plt.plot(np.sort(X), np.linspace(0, 1, len(X), endpoint=False))"
   ]
  },
  {
   "cell_type": "markdown",
   "metadata": {
    "collapsed": false
   },
   "source": [
    "# 2. Интервальные оценки"
   ]
  },
  {
   "cell_type": "markdown",
   "metadata": {
    "collapsed": false
   },
   "source": [
    "# $\\bar{x} + t_{1 - \\alpha / 2} \\times \\frac{s}{\\sqrt{(n)}}$\n",
    "\n",
    "# $\\bar{x} - t_{\\alpha / 2} \\times \\frac{s}{\\sqrt{(n)}}$"
   ]
  },
  {
   "cell_type": "code",
   "execution_count": 50,
   "metadata": {
    "collapsed": false
   },
   "outputs": [
    {
     "data": {
      "text/plain": [
       "(2.7674080276552093, 2.7674080276552093)"
      ]
     },
     "execution_count": 139,
     "metadata": {},
     "output_type": "execute_result"
    }
   ],
   "source": [
    "import scipy.stats as st\n",
    "np.std(X, ddof=1)/np.sqrt(X.shape[0]), st.sem(X)"
   ]
  },
  {
   "cell_type": "code",
   "execution_count": 60,
   "metadata": {
    "collapsed": false
   },
   "outputs": [
    {
     "data": {
      "text/plain": [
       "(420.89153457926255, 435.17370307218204)"
      ]
     },
     "execution_count": 140,
     "metadata": {},
     "output_type": "execute_result"
    }
   ],
   "source": [
    "var = sheetX['A8']\n",
    "X = np.array(var)\n",
    "st.t.interval(confidence=0.99, df=len(X)-1,\n",
    "              loc=np.mean(X),\n",
    "              scale=st.sem(X))"
   ]
  },
  {
   "cell_type": "code",
   "execution_count": 61,
   "metadata": {
    "collapsed": false
   },
   "outputs": [
    {
     "data": {
      "text/plain": [
       "(422.60246785148496, 433.46276979995963)"
      ]
     },
     "execution_count": 141,
     "metadata": {},
     "output_type": "execute_result"
    }
   ],
   "source": [
    "st.t.interval(confidence=0.95, df=len(X)-1,\n",
    "              loc=np.mean(X),\n",
    "              scale=st.sem(X))"
   ]
  },
  {
   "cell_type": "code",
   "execution_count": 62,
   "metadata": {
    "collapsed": false
   },
   "outputs": [
    {
     "data": {
      "text/plain": [
       "(423.47670060495653, 432.58853704648806)"
      ]
     },
     "execution_count": 142,
     "metadata": {},
     "output_type": "execute_result"
    }
   ],
   "source": [
    "st.t.interval(confidence=0.9, df=len(X)-1,\n",
    "              loc=np.mean(X),\n",
    "              scale=st.sem(X))"
   ]
  },
  {
   "cell_type": "markdown",
   "metadata": {
    "collapsed": false
   },
   "source": [
    "# $\\frac{(n-1) s^2}{\\chi_{1 - \\frac{\\alpha}{2}}^2} \\leq \\sigma^2 \\leq \\frac{(n-1) s^2}{\\chi_{\\frac{\\alpha}{2}}^2}$"
   ]
  },
  {
   "cell_type": "code",
   "execution_count": 77,
   "metadata": {
    "collapsed": false
   },
   "outputs": [
    {
     "data": {
      "text/plain": [
       "(7371.647997304441, 9210.031517920675)"
      ]
     },
     "execution_count": 143,
     "metadata": {},
     "output_type": "execute_result"
    }
   ],
   "source": [
    "x, y = np.reciprocal(st.chi2.interval(confidence=0.99, df=len(X)-1)) * (len(X) - 1) * np.var(X, ddof=1)\n",
    "y, x"
   ]
  },
  {
   "cell_type": "code",
   "execution_count": 78,
   "metadata": {
    "collapsed": false
   },
   "outputs": [
    {
     "data": {
      "text/plain": [
       "(7564.010893742589, 8960.215662750727)"
      ]
     },
     "execution_count": 144,
     "metadata": {},
     "output_type": "execute_result"
    }
   ],
   "source": [
    "x, y = np.reciprocal(st.chi2.interval(confidence=0.95, df=len(X)-1)) * (len(X) - 1) * np.var(X, ddof=1)\n",
    "y, x"
   ]
  },
  {
   "cell_type": "code",
   "execution_count": 79,
   "metadata": {
    "collapsed": false
   },
   "outputs": [
    {
     "data": {
      "text/plain": [
       "(7665.036398218402, 8835.871401159964)"
      ]
     },
     "execution_count": 145,
     "metadata": {},
     "output_type": "execute_result"
    }
   ],
   "source": [
    "x, y = np.reciprocal(st.chi2.interval(confidence=0.9, df=len(X)-1)) * (len(X) - 1) * np.var(X, ddof=1)\n",
    "y, x"
   ]
  },
  {
   "cell_type": "code",
   "execution_count": 80,
   "metadata": {
    "collapsed": false
   },
   "outputs": [],
   "source": [
    "var1, var2 = sheetX['A5'], sheetX['A8']\n",
    "X1 = np.array(var1)\n",
    "X2 = np.array(var2)"
   ]
  },
  {
   "cell_type": "markdown",
   "metadata": {
    "collapsed": false
   },
   "source": [
    "# $\\left(\\bar{x}_1-\\bar{x}_2\\right)-t_{\\frac{\\alpha}{2}} \\sqrt{\\frac{s_1^2}{n_1}+\\frac{s_2^2}{n_2}}<m_1-m_2<\\left(\\bar{x}_1-\\bar{x}_2\\right)+t_{1 - \\frac{\\alpha}{2}} \\sqrt{\\frac{s_1^2}{n_1}+\\frac{s_2^2}{n_2}}$"
   ]
  },
  {
   "cell_type": "code",
   "execution_count": 83,
   "metadata": {
    "collapsed": false
   },
   "outputs": [
    {
     "data": {
      "text/plain": [
       "(86.74383699612316, 110.15830652671)"
      ]
     },
     "execution_count": 147,
     "metadata": {},
     "output_type": "execute_result"
    }
   ],
   "source": [
    "st.t.interval(confidence=0.99, df=len(X1) + len(X2) - 2,\n",
    "              loc=(np.mean(X1) - np.mean(X2)),\n",
    "              scale=np.sqrt(st.sem(X1) ** 2 + st.sem(X2) ** 2))"
   ]
  },
  {
   "cell_type": "code",
   "execution_count": 84,
   "metadata": {
    "collapsed": false
   },
   "outputs": [
    {
     "data": {
      "text/plain": [
       "(89.54877484510456, 107.35336867772861)"
      ]
     },
     "execution_count": 148,
     "metadata": {},
     "output_type": "execute_result"
    }
   ],
   "source": [
    "st.t.interval(confidence=0.95, df=len(X1) + len(X2) - 2,\n",
    "              loc=(np.mean(X1) - np.mean(X2)),\n",
    "              scale=np.sqrt(st.sem(X1) ** 2 + st.sem(X2) ** 2))"
   ]
  },
  {
   "cell_type": "code",
   "execution_count": 85,
   "metadata": {
    "collapsed": false
   },
   "outputs": [
    {
     "data": {
      "text/plain": [
       "(90.98200931359217, 105.920134209241)"
      ]
     },
     "execution_count": 149,
     "metadata": {},
     "output_type": "execute_result"
    }
   ],
   "source": [
    "st.t.interval(confidence=0.9, df=len(X1) + len(X2) - 2,\n",
    "              loc=(np.mean(X1) - np.mean(X2)),\n",
    "              scale=np.sqrt(st.sem(X1) ** 2 + st.sem(X2) ** 2))"
   ]
  },
  {
   "cell_type": "markdown",
   "metadata": {
    "collapsed": false
   },
   "source": [
    "# $\\frac{s_1^2}{s_2^2} \\cdot F_{1 - \\frac{\\alpha}{2}} < \\frac{\\sigma_1^2}{\\sigma_2^2} < \\frac{s_1^2}{s_2^2} \\cdot F_{\\frac{\\alpha}{2}}$"
   ]
  },
  {
   "cell_type": "code",
   "execution_count": 86,
   "metadata": {
    "collapsed": false
   },
   "outputs": [
    {
     "data": {
      "text/plain": [
       "(1.4418157917941776, 1.9755102610660702)"
      ]
     },
     "execution_count": 150,
     "metadata": {},
     "output_type": "execute_result"
    }
   ],
   "source": [
    "st.f.interval(confidence=0.99, dfn=len(X1) - 1, dfd=len(X2) - 1,\n",
    "              scale=np.var(X1, ddof=1) / np.var(X2, ddof=1))"
   ]
  },
  {
   "cell_type": "code",
   "execution_count": 89,
   "metadata": {
    "collapsed": false
   },
   "outputs": [
    {
     "data": {
      "text/plain": [
       "(1.4971711896967779, 1.9024690769219053)"
      ]
     },
     "execution_count": 151,
     "metadata": {},
     "output_type": "execute_result"
    }
   ],
   "source": [
    "st.f.interval(confidence=0.95, dfn=len(X1) - 1, dfd=len(X2) - 1,\n",
    "              scale=np.var(X1, ddof=1) / np.var(X2, ddof=1))"
   ]
  },
  {
   "cell_type": "code",
   "execution_count": 88,
   "metadata": {
    "collapsed": false
   },
   "outputs": [
    {
     "data": {
      "text/plain": [
       "(1.526297702994823, 1.866164042354036)"
      ]
     },
     "execution_count": 152,
     "metadata": {},
     "output_type": "execute_result"
    }
   ],
   "source": [
    "st.f.interval(confidence=0.9, dfn=len(X1) - 1, dfd=len(X2) - 1,\n",
    "              scale=np.var(X1, ddof=1) / np.var(X2, ddof=1))"
   ]
  },
  {
   "cell_type": "code",
   "execution_count": null,
   "metadata": {
    "collapsed": false
   },
   "outputs": [],
   "source": []
  }
 ],
 "metadata": {
  "kernelspec": {
   "display_name": "Python 3 (ipykernel)",
   "language": "python",
   "name": "python3"
  },
  "language_info": {
   "codemirror_mode": {
    "name": "ipython",
    "version": 3
   },
   "file_extension": ".py",
   "mimetype": "text/x-python",
   "name": "python",
   "nbconvert_exporter": "python",
   "pygments_lexer": "ipython3",
   "version": "3.9.2"
  }
 },
 "nbformat": 4,
 "nbformat_minor": 1
}
