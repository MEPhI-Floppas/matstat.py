{
 "cells": [
  {
   "cell_type": "markdown",
   "metadata": {
    "collapsed": false
   },
   "source": [
    "# 1. Описательные статистики"
   ]
  },
  {
   "cell_type": "code",
   "execution_count": 2,
   "metadata": {
    "collapsed": false
   },
   "outputs": [
    {
     "data": {
      "text/plain": "(1073,\n array([382, 560, 494, ..., 383, 348, 410], dtype=int64),\n array([382, 508, 415, ..., 383, 315, 445], dtype=int64))"
     },
     "execution_count": 2,
     "metadata": {},
     "output_type": "execute_result"
    }
   ],
   "source": [
    "import pandas as pd\n",
    "import numpy as np\n",
    "import xlrd\n",
    "import scipy.stats as stats\n",
    "from statsmodels.stats.weightstats import ztest\n",
    "import matplotlib.pyplot as plt\n",
    "from scipy.stats import skew, norm, kurtosis\n",
    "xls = pd.ExcelFile(r\"table.xls\")\n",
    "sheetX = xls.parse(1)\n",
    "var1 = sheetX['A5']\n",
    "X1 = np.array(var1)\n",
    "var2 = sheetX['A6']\n",
    "X2 = np.array(var2)\n",
    "var3 = sheetX['A8']\n",
    "X3 = np.array(var3)\n",
    "np.size(X1), X2, X3"
   ]
  },
  {
   "cell_type": "markdown",
   "metadata": {
    "collapsed": false
   },
   "source": [
    "### $\\bar{x}=\\frac{1}{n} \\sum_{i=1}^n x_i=\\frac{1}{n}\\left(x_1+\\cdots+x_n\\right)$\n",
    "\n",
    "\n",
    "### $s^2=\\frac{1}{n} \\sum_{i=1}^n\\left(X_i-\\bar{X}\\right)^2$\n",
    "\n",
    "\n",
    "### $s=\\sqrt(\\frac{1}{n} \\sum_{i=1}^n\\left(X_i-\\bar{X}\\right)^2)$\n",
    "\n",
    "\n",
    "### $\\gamma_x=\\left[\\frac{n}{(n-1)(n-2)}\\right] \\frac{\\sum_{i=1}^n\\left(X_i-\\bar{X}\\right)^3}{s^3}$\n",
    "\n",
    "\n",
    "### $\\epsilon_x=\\frac{n(n+1)}{(n-1)(n-2)(n-3)} \\sum_{i=1}^n\\left(\\frac{x_i-\\bar{x}}{s}\\right)^4-\\frac{3(n-1)^2}{(n-2)(n-3)}$"
   ]
  },
  {
   "cell_type": "code",
   "execution_count": 3,
   "metadata": {
    "collapsed": false
   },
   "outputs": [
    {
     "data": {
      "text/plain": "526.4836905871389"
     },
     "execution_count": 3,
     "metadata": {},
     "output_type": "execute_result"
    }
   ],
   "source": [
    "m1 = np.mean(X1)\n",
    "m1"
   ]
  },
  {
   "cell_type": "code",
   "execution_count": 4,
   "metadata": {
    "collapsed": false
   },
   "outputs": [
    {
     "data": {
      "text/plain": "420.04193849021436"
     },
     "execution_count": 4,
     "metadata": {},
     "output_type": "execute_result"
    }
   ],
   "source": [
    "m2 = np.mean(X2)\n",
    "m2"
   ]
  },
  {
   "cell_type": "code",
   "execution_count": 5,
   "metadata": {
    "collapsed": false
   },
   "outputs": [
    {
     "data": {
      "text/plain": "428.0326188257223"
     },
     "execution_count": 5,
     "metadata": {},
     "output_type": "execute_result"
    }
   ],
   "source": [
    "m3 = np.mean(X3)\n",
    "m3"
   ]
  },
  {
   "cell_type": "code",
   "execution_count": 6,
   "metadata": {
    "collapsed": false
   },
   "outputs": [
    {
     "data": {
      "text/plain": "13868.856310247458"
     },
     "execution_count": 6,
     "metadata": {},
     "output_type": "execute_result"
    }
   ],
   "source": [
    "s1 = np.var(X1, ddof=1)\n",
    "s1"
   ]
  },
  {
   "cell_type": "code",
   "execution_count": 7,
   "metadata": {
    "collapsed": false
   },
   "outputs": [
    {
     "data": {
      "text/plain": "4957.764097731288"
     },
     "execution_count": 7,
     "metadata": {},
     "output_type": "execute_result"
    }
   ],
   "source": [
    "s2 = np.var(X2, ddof=1)\n",
    "s2"
   ]
  },
  {
   "cell_type": "code",
   "execution_count": 8,
   "metadata": {
    "collapsed": false
   },
   "outputs": [
    {
     "data": {
      "text/plain": "8217.62113651222"
     },
     "execution_count": 8,
     "metadata": {},
     "output_type": "execute_result"
    }
   ],
   "source": [
    "s3 = np.var(X3, ddof=1)\n",
    "s3"
   ]
  },
  {
   "cell_type": "code",
   "execution_count": 9,
   "metadata": {
    "collapsed": false
   },
   "outputs": [
    {
     "data": {
      "text/plain": "117.7661084958124"
     },
     "execution_count": 9,
     "metadata": {},
     "output_type": "execute_result"
    }
   ],
   "source": [
    "s1 = np.std(X1, ddof=1)\n",
    "s1"
   ]
  },
  {
   "cell_type": "code",
   "execution_count": 10,
   "metadata": {
    "collapsed": false
   },
   "outputs": [
    {
     "data": {
      "text/plain": "70.4113918178819"
     },
     "execution_count": 10,
     "metadata": {},
     "output_type": "execute_result"
    }
   ],
   "source": [
    "s2 = np.std(X2, ddof=1)\n",
    "s2"
   ]
  },
  {
   "cell_type": "code",
   "execution_count": 11,
   "metadata": {
    "collapsed": false
   },
   "outputs": [
    {
     "data": {
      "text/plain": "90.6510956167228"
     },
     "execution_count": 11,
     "metadata": {},
     "output_type": "execute_result"
    }
   ],
   "source": [
    "s3 = np.std(X3, ddof=1)\n",
    "s3"
   ]
  },
  {
   "cell_type": "code",
   "execution_count": 12,
   "metadata": {
    "collapsed": false
   },
   "outputs": [
    {
     "data": {
      "text/plain": "0.6795990400916552"
     },
     "execution_count": 12,
     "metadata": {},
     "output_type": "execute_result"
    }
   ],
   "source": [
    "skew(X1)\n",
    "0.6795990400916552"
   ]
  },
  {
   "cell_type": "code",
   "execution_count": 13,
   "metadata": {
    "collapsed": false
   },
   "outputs": [
    {
     "data": {
      "text/plain": "0.3481481718850067"
     },
     "execution_count": 13,
     "metadata": {},
     "output_type": "execute_result"
    }
   ],
   "source": [
    "skew(X2)"
   ]
  },
  {
   "cell_type": "code",
   "execution_count": 14,
   "metadata": {
    "collapsed": false
   },
   "outputs": [
    {
     "data": {
      "text/plain": "0.8191411695756438"
     },
     "execution_count": 14,
     "metadata": {},
     "output_type": "execute_result"
    }
   ],
   "source": [
    "skew(X3)"
   ]
  },
  {
   "cell_type": "code",
   "execution_count": 15,
   "metadata": {
    "collapsed": false
   },
   "outputs": [
    {
     "data": {
      "text/plain": "0.5304432832288937"
     },
     "execution_count": 15,
     "metadata": {},
     "output_type": "execute_result"
    }
   ],
   "source": [
    "kurtosis(X1)"
   ]
  },
  {
   "cell_type": "code",
   "execution_count": 16,
   "metadata": {
    "collapsed": false
   },
   "outputs": [
    {
     "data": {
      "text/plain": "0.17581685259992685"
     },
     "execution_count": 16,
     "metadata": {},
     "output_type": "execute_result"
    }
   ],
   "source": [
    "kurtosis(X2)"
   ]
  },
  {
   "cell_type": "code",
   "execution_count": 17,
   "metadata": {
    "collapsed": false
   },
   "outputs": [
    {
     "data": {
      "text/plain": "0.9757478446505425"
     },
     "execution_count": 17,
     "metadata": {},
     "output_type": "execute_result"
    }
   ],
   "source": [
    "kurtosis(X3)"
   ]
  },
  {
   "cell_type": "code",
   "execution_count": 18,
   "metadata": {
    "collapsed": false
   },
   "outputs": [],
   "source": [
    "var = sheetX['A8']\n",
    "X = np.array(var)"
   ]
  },
  {
   "cell_type": "code",
   "execution_count": 19,
   "metadata": {
    "collapsed": false
   },
   "outputs": [
    {
     "data": {
      "text/plain": "array([232.        , 262.19047619, 292.38095238, 322.57142857,\n       352.76190476, 382.95238095, 413.14285714, 443.33333333,\n       473.52380952, 503.71428571, 533.9047619 , 564.0952381 ,\n       594.28571429, 624.47619048, 654.66666667, 684.85714286,\n       715.04761905, 745.23809524, 775.42857143, 805.61904762,\n       835.80952381, 866.        ])"
     },
     "execution_count": 19,
     "metadata": {},
     "output_type": "execute_result"
    }
   ],
   "source": [
    "hist, bin_edges = np.histogram(X, bins=21)\n",
    "bin_edges"
   ]
  },
  {
   "cell_type": "code",
   "execution_count": 20,
   "metadata": {
    "collapsed": false
   },
   "outputs": [
    {
     "name": "stdout",
     "output_type": "stream",
     "text": [
      "1 232.0 262.19 5 0.005 5 0.005\n",
      "2 262.19 292.38 28 0.026 33 0.031\n",
      "3 292.38 322.57 67 0.062 100 0.093\n",
      "4 322.57 352.76 128 0.119 228 0.212\n",
      "5 352.76 382.95 148 0.138 376 0.35\n",
      "6 382.95 413.14 155 0.144 531 0.494\n",
      "7 413.14 443.33 142 0.132 673 0.626\n",
      "8 443.33 473.52 107 0.1 780 0.726\n",
      "9 473.52 503.71 73 0.068 853 0.794\n",
      "10 503.71 533.9 70 0.065 923 0.859\n",
      "11 533.9 564.1 69 0.064 992 0.923\n",
      "12 564.1 594.29 32 0.03 1024 0.953\n",
      "13 594.29 624.48 22 0.021 1046 0.974\n",
      "14 624.48 654.67 11 0.01 1057 0.984\n",
      "15 654.67 684.86 4 0.004 1061 0.988\n",
      "16 684.86 715.05 5 0.005 1066 0.993\n",
      "17 715.05 745.24 2 0.002 1068 0.995\n",
      "18 745.24 775.43 2 0.002 1070 0.997\n",
      "19 775.43 805.62 1 0.001 1071 0.998\n",
      "20 805.62 835.81 1 0.001 1072 0.999\n",
      "21 835.81 866.0 1 0.001 1073 1.0\n"
     ]
    }
   ],
   "source": [
    "stored, stored1 = 0, 0\n",
    "Xf, Xf1, Xf2 = [], [], []\n",
    "count = 0\n",
    "for i in range(21):\n",
    "    arr = X[bin_edges[i] <= X]\n",
    "    arr1 = arr[arr < bin_edges[i + 1]]\n",
    "    if i == 20:\n",
    "        arr = X[bin_edges[i] <= X]\n",
    "        arr1 = arr[arr <= bin_edges[i + 1]]\n",
    "    stored += len(arr1)\n",
    "    stored1 += round(len(arr1)/len(X), 3)\n",
    "    Xf.append(stored)\n",
    "    Xf1.append(stored1)\n",
    "    Xf2.append(len(arr1))\n",
    "    count += 1\n",
    "    print(count, round(bin_edges[i], 2), round(bin_edges[i+1], 2), len(arr1),\n",
    "          round(len(arr1)/len(X), 3), stored, round(stored1, 3))"
   ]
  },
  {
   "cell_type": "code",
   "execution_count": 21,
   "metadata": {
    "collapsed": false
   },
   "outputs": [
    {
     "data": {
      "text/plain": "<Figure size 640x480 with 1 Axes>",
      "image/png": "[encoded data removed]"
     },
     "metadata": {},
     "output_type": "display_data"
    }
   ],
   "source": [
    "import matplotlib.pyplot as plt\n",
    "%matplotlib inline\n",
    "a,bins,_ = plt.hist(X, density=False, edgecolor='black',bins=21)\n",
    "x = np.append([0], a)\n",
    "x = np.append(x, [0])\n",
    "width = (X.max() - X.min())/21\n",
    "bins = np.append([bins[0] - width], bins)\n",
    "y = bins + width / 2\n",
    "plt.plot(y, x,'go--')\n",
    "plt.show()"
   ]
  },
  {
   "cell_type": "code",
   "execution_count": 22,
   "metadata": {
    "collapsed": false
   },
   "outputs": [
    {
     "data": {
      "text/plain": "<Figure size 640x480 with 1 Axes>",
      "image/png": "[encoded data removed]"
     },
     "metadata": {},
     "output_type": "display_data"
    }
   ],
   "source": [
    "a,bins,_ = plt.hist(X, density=False, edgecolor='black', weights=np.ones_like(X)/len(X),bins=21)\n",
    "x = np.append([0], a)\n",
    "x = np.append(x, [0])\n",
    "width = (X.max() - X.min())/21\n",
    "bins = np.append([bins[0] - width], bins)\n",
    "y = bins + width / 2\n",
    "plt.plot(y, x,'go--')\n",
    "plt.show()"
   ]
  },
  {
   "cell_type": "code",
   "execution_count": 23,
   "metadata": {
    "collapsed": false
   },
   "outputs": [
    {
     "data": {
      "text/plain": "<Figure size 640x480 with 1 Axes>",
      "image/png": "[encoded data removed]"
     },
     "metadata": {},
     "output_type": "display_data"
    }
   ],
   "source": [
    "a,bins,_ = plt.hist(bins[:-2], density=False, weights=Xf, edgecolor='black', bins=21)\n",
    "x = np.append([0], a)\n",
    "plt.plot(bins, x,'go--')\n",
    "plt.show()"
   ]
  },
  {
   "cell_type": "code",
   "execution_count": 24,
   "metadata": {
    "collapsed": false
   },
   "outputs": [
    {
     "data": {
      "text/plain": "<Figure size 640x480 with 1 Axes>",
      "image/png": "[encoded data removed]"
     },
     "metadata": {},
     "output_type": "display_data"
    }
   ],
   "source": [
    "a, bins, _ = plt.hist(bins[:-1], density=False, weights=Xf1, edgecolor='black', bins=21)\n",
    "x = np.append([0], a)\n",
    "plt.plot(bins, x, 'go--')\n",
    "plt.show()"
   ]
  },
  {
   "cell_type": "code",
   "execution_count": 25,
   "metadata": {
    "collapsed": false
   },
   "outputs": [
    {
     "data": {
      "text/plain": "[<matplotlib.lines.Line2D at 0x1a77ebbf760>]"
     },
     "execution_count": 25,
     "metadata": {},
     "output_type": "execute_result"
    },
    {
     "data": {
      "text/plain": "<Figure size 640x480 with 1 Axes>",
      "image/png": "[encoded data removed]"
     },
     "metadata": {},
     "output_type": "display_data"
    }
   ],
   "source": [
    "plt.plot(np.sort(X), np.linspace(0, 1, len(X), endpoint=False))"
   ]
  },
  {
   "cell_type": "markdown",
   "metadata": {
    "collapsed": false
   },
   "source": [
    "# 2. Интервальные оценки"
   ]
  },
  {
   "cell_type": "markdown",
   "metadata": {
    "collapsed": false
   },
   "source": [
    "# $\\bar{x} + t_{1 - \\alpha / 2} \\times \\frac{s}{\\sqrt{(n)}}$\n",
    "\n",
    "# $\\bar{x} - t_{\\alpha / 2} \\times \\frac{s}{\\sqrt{(n)}}$"
   ]
  },
  {
   "cell_type": "code",
   "execution_count": 26,
   "metadata": {
    "collapsed": false
   },
   "outputs": [
    {
     "data": {
      "text/plain": "(2.7674080276552093, 2.7674080276552093)"
     },
     "execution_count": 26,
     "metadata": {},
     "output_type": "execute_result"
    }
   ],
   "source": [
    "import scipy.stats as st\n",
    "np.std(X, ddof=1)/np.sqrt(X.shape[0]), st.sem(X)"
   ]
  },
  {
   "cell_type": "code",
   "execution_count": 27,
   "metadata": {
    "collapsed": false
   },
   "outputs": [
    {
     "data": {
      "text/plain": "(420.89153457926255, 435.17370307218204)"
     },
     "execution_count": 27,
     "metadata": {},
     "output_type": "execute_result"
    }
   ],
   "source": [
    "var = sheetX['A8']\n",
    "X = np.array(var)\n",
    "st.t.interval(confidence=0.99, df=len(X)-1,\n",
    "              loc=np.mean(X),\n",
    "              scale=st.sem(X))"
   ]
  },
  {
   "cell_type": "code",
   "execution_count": 28,
   "metadata": {
    "collapsed": false
   },
   "outputs": [
    {
     "data": {
      "text/plain": "(422.60246785148496, 433.46276979995963)"
     },
     "execution_count": 28,
     "metadata": {},
     "output_type": "execute_result"
    }
   ],
   "source": [
    "st.t.interval(confidence=0.95, df=len(X)-1,\n",
    "              loc=np.mean(X),\n",
    "              scale=st.sem(X))"
   ]
  },
  {
   "cell_type": "code",
   "execution_count": 29,
   "metadata": {
    "collapsed": false
   },
   "outputs": [
    {
     "data": {
      "text/plain": "(423.47670060495653, 432.58853704648806)"
     },
     "execution_count": 29,
     "metadata": {},
     "output_type": "execute_result"
    }
   ],
   "source": [
    "st.t.interval(confidence=0.9, df=len(X)-1,\n",
    "              loc=np.mean(X),\n",
    "              scale=st.sem(X))"
   ]
  },
  {
   "cell_type": "markdown",
   "metadata": {
    "collapsed": false
   },
   "source": [
    "# $\\frac{(n-1) s^2}{\\chi_{1 - \\frac{\\alpha}{2}}^2} \\leq \\sigma^2 \\leq \\frac{(n-1) s^2}{\\chi_{\\frac{\\alpha}{2}}^2}$"
   ]
  },
  {
   "cell_type": "code",
   "execution_count": 30,
   "metadata": {
    "collapsed": false
   },
   "outputs": [
    {
     "data": {
      "text/plain": "(7371.647997304441, 9210.031517920675)"
     },
     "execution_count": 30,
     "metadata": {},
     "output_type": "execute_result"
    }
   ],
   "source": [
    "x, y = np.reciprocal(st.chi2.interval(confidence=0.99, df=len(X)-1)) * (len(X) - 1) * np.var(X, ddof=1)\n",
    "y, x"
   ]
  },
  {
   "cell_type": "code",
   "execution_count": 31,
   "metadata": {
    "collapsed": false
   },
   "outputs": [
    {
     "data": {
      "text/plain": "(7564.010893742589, 8960.215662750727)"
     },
     "execution_count": 31,
     "metadata": {},
     "output_type": "execute_result"
    }
   ],
   "source": [
    "x, y = np.reciprocal(st.chi2.interval(confidence=0.95, df=len(X)-1)) * (len(X) - 1) * np.var(X, ddof=1)\n",
    "y, x"
   ]
  },
  {
   "cell_type": "code",
   "execution_count": 32,
   "metadata": {
    "collapsed": false
   },
   "outputs": [
    {
     "data": {
      "text/plain": "(7665.036398218402, 8835.871401159964)"
     },
     "execution_count": 32,
     "metadata": {},
     "output_type": "execute_result"
    }
   ],
   "source": [
    "x, y = np.reciprocal(st.chi2.interval(confidence=0.9, df=len(X)-1)) * (len(X) - 1) * np.var(X, ddof=1)\n",
    "y, x"
   ]
  },
  {
   "cell_type": "code",
   "execution_count": 33,
   "metadata": {
    "collapsed": false
   },
   "outputs": [],
   "source": [
    "var1, var2 = sheetX['A5'], sheetX['A8']\n",
    "X1 = np.array(var1)\n",
    "X2 = np.array(var2)"
   ]
  },
  {
   "cell_type": "markdown",
   "metadata": {
    "collapsed": false
   },
   "source": [
    "# $\\left(\\bar{x}_1-\\bar{x}_2\\right)-t_{\\frac{\\alpha}{2}} \\sqrt{\\frac{s_1^2}{n_1}+\\frac{s_2^2}{n_2}}<m_1-m_2<\\left(\\bar{x}_1-\\bar{x}_2\\right)+t_{1 - \\frac{\\alpha}{2}} \\sqrt{\\frac{s_1^2}{n_1}+\\frac{s_2^2}{n_2}}$"
   ]
  },
  {
   "cell_type": "code",
   "execution_count": 34,
   "metadata": {
    "collapsed": false
   },
   "outputs": [
    {
     "data": {
      "text/plain": "(86.75426715866607, 110.1478763641671)"
     },
     "execution_count": 34,
     "metadata": {},
     "output_type": "execute_result"
    }
   ],
   "source": [
    "st.t.interval(confidence=0.99, df=len(X1) + len(X2) - 2,\n",
    "              loc=(np.mean(X1) - np.mean(X2)),\n",
    "              scale=np.sqrt(st.sem(X1) ** 2 + st.sem(X2) ** 2))"
   ]
  },
  {
   "cell_type": "code",
   "execution_count": 35,
   "metadata": {
    "collapsed": false
   },
   "outputs": [
    {
     "data": {
      "text/plain": "(89.55380320157862, 107.34834032125455)"
     },
     "execution_count": 35,
     "metadata": {},
     "output_type": "execute_result"
    }
   ],
   "source": [
    "st.t.interval(confidence=0.95, df=len(X1) + len(X2) - 2,\n",
    "              loc=(np.mean(X1) - np.mean(X2)),\n",
    "              scale=np.sqrt(st.sem(X1) ** 2 + st.sem(X2) ** 2))"
   ]
  },
  {
   "cell_type": "code",
   "execution_count": 36,
   "metadata": {
    "collapsed": false
   },
   "outputs": [
    {
     "data": {
      "text/plain": "(90.9852379876537, 105.91690553517947)"
     },
     "execution_count": 36,
     "metadata": {},
     "output_type": "execute_result"
    }
   ],
   "source": [
    "st.t.interval(confidence=0.9, df=len(X1) + len(X2) - 2,\n",
    "              loc=(np.mean(X1) - np.mean(X2)),\n",
    "              scale=np.sqrt(st.sem(X1) ** 2 + st.sem(X2) ** 2))"
   ]
  },
  {
   "cell_type": "markdown",
   "metadata": {
    "collapsed": false
   },
   "source": [
    "# $\\frac{s_1^2}{s_2^2} \\cdot F_{1 - \\frac{\\alpha}{2}} < \\frac{\\sigma_1^2}{\\sigma_2^2} < \\frac{s_1^2}{s_2^2} \\cdot F_{\\frac{\\alpha}{2}}$"
   ]
  },
  {
   "cell_type": "code",
   "execution_count": 37,
   "metadata": {
    "collapsed": false
   },
   "outputs": [
    {
     "data": {
      "text/plain": "(1.4418157917941776, 1.9755102610660702)"
     },
     "execution_count": 37,
     "metadata": {},
     "output_type": "execute_result"
    }
   ],
   "source": [
    "st.f.interval(confidence=0.99, dfn=len(X1) - 1, dfd=len(X2) - 1,\n",
    "              scale=np.var(X1, ddof=1) / np.var(X2, ddof=1))"
   ]
  },
  {
   "cell_type": "code",
   "execution_count": 38,
   "metadata": {
    "collapsed": false
   },
   "outputs": [
    {
     "data": {
      "text/plain": "(1.4971711896967779, 1.9024690769219053)"
     },
     "execution_count": 38,
     "metadata": {},
     "output_type": "execute_result"
    }
   ],
   "source": [
    "st.f.interval(confidence=0.95, dfn=len(X1) - 1, dfd=len(X2) - 1,\n",
    "              scale=np.var(X1, ddof=1) / np.var(X2, ddof=1))"
   ]
  },
  {
   "cell_type": "code",
   "execution_count": 39,
   "metadata": {
    "collapsed": false
   },
   "outputs": [
    {
     "data": {
      "text/plain": "(1.526297702994823, 1.866164042354036)"
     },
     "execution_count": 39,
     "metadata": {},
     "output_type": "execute_result"
    }
   ],
   "source": [
    "st.f.interval(confidence=0.9, dfn=len(X1) - 1, dfd=len(X2) - 1,\n",
    "              scale=np.var(X1, ddof=1) / np.var(X2, ddof=1))"
   ]
  },
  {
   "cell_type": "markdown",
   "source": [
    "# 3"
   ],
   "metadata": {
    "collapsed": false
   }
  },
  {
   "cell_type": "markdown",
   "source": [
    "## 3.1\n",
    "\n",
    "## Стат.гипотеза:\n",
    "## $H_0: m = m_0$\n",
    "## $H': m \\neq m_0$\n",
    "\n",
    "## Формула расчета статистики критерия\n",
    "\n",
    "## $Z = \\frac{\\bar{x} - m_0}{\\frac{S}{\\sqrt(n)}}$\n",
    "\n",
    "## Закон распределения статистики критерия при условии истинности основной гипотезы\n",
    "\n",
    "## $T(n - 1)$\n",
    "\n",
    "## Формулы расчета критических точек\n",
    "## $+ t_{1-\\frac{\\alpha}{2}}(n-1)$\n",
    "## $- t_{1-\\frac{\\alpha}{2}}(n-1)$\n",
    "## Формула расчета p-value\n",
    "## $f(x)= \\frac{\\Gamma\\left(\\frac{n+1}{2}\\right)}{\\sqrt{n \\pi} \\Gamma\\left(\\frac{n}{2}\\right)\\left(1+\\frac{x^2}{n}\\right)^{\\frac{n+1}{2}}}$"
   ],
   "metadata": {
    "collapsed": false
   }
  },
  {
   "cell_type": "code",
   "execution_count": 40,
   "outputs": [],
   "source": [
    "from scipy.stats import stats as stats\n",
    "\n",
    "var1 = sheetX['A8']\n",
    "X1 = np.array(var1)"
   ],
   "metadata": {
    "collapsed": false
   }
  },
  {
   "cell_type": "code",
   "execution_count": 41,
   "outputs": [
    {
     "data": {
      "text/plain": "428.0326188257223"
     },
     "execution_count": 41,
     "metadata": {},
     "output_type": "execute_result"
    }
   ],
   "source": [
    "np.mean(X1)"
   ],
   "metadata": {
    "collapsed": false
   }
  },
  {
   "cell_type": "code",
   "execution_count": 42,
   "outputs": [
    {
     "name": "stderr",
     "output_type": "stream",
     "text": [
      "C:\\Users\\Artemii\\AppData\\Local\\Temp\\ipykernel_1660\\3971063016.py:1: DeprecationWarning: Please use `ttest_1samp` from the `scipy.stats` namespace, the `scipy.stats.stats` namespace is deprecated.\n",
      "  Z, p_value = stats.ttest_1samp(a=X1, popmean=430, axis=0, alternative='two-sided')\n"
     ]
    },
    {
     "data": {
      "text/plain": "(-0.7109111322281748, 0.47729394939688297)"
     },
     "execution_count": 42,
     "metadata": {},
     "output_type": "execute_result"
    }
   ],
   "source": [
    "Z, p_value = stats.ttest_1samp(a=X1, popmean=430, axis=0, alternative='two-sided')\n",
    "Z, p_value"
   ],
   "metadata": {
    "collapsed": false
   }
  },
  {
   "cell_type": "code",
   "execution_count": 43,
   "outputs": [
    {
     "name": "stderr",
     "output_type": "stream",
     "text": [
      "C:\\Users\\Artemii\\AppData\\Local\\Temp\\ipykernel_1660\\2376373855.py:1: DeprecationWarning: Please use `ttest_1samp` from the `scipy.stats` namespace, the `scipy.stats.stats` namespace is deprecated.\n",
      "  Z, p_value = stats.ttest_1samp(a=X1, popmean=428, axis=0, alternative='two-sided')\n"
     ]
    },
    {
     "data": {
      "text/plain": "(0.01178677860161184, 0.990597922192902)"
     },
     "execution_count": 43,
     "metadata": {},
     "output_type": "execute_result"
    }
   ],
   "source": [
    "Z, p_value = stats.ttest_1samp(a=X1, popmean=428, axis=0, alternative='two-sided')\n",
    "Z, p_value"
   ],
   "metadata": {
    "collapsed": false
   }
  },
  {
   "cell_type": "code",
   "execution_count": 44,
   "outputs": [
    {
     "name": "stderr",
     "output_type": "stream",
     "text": [
      "C:\\Users\\Artemii\\AppData\\Local\\Temp\\ipykernel_1660\\1161726094.py:1: DeprecationWarning: Please use `ttest_1samp` from the `scipy.stats` namespace, the `scipy.stats.stats` namespace is deprecated.\n",
      "  Z, p_value = stats.ttest_1samp(a=X1, popmean=420, axis=0, alternative='two-sided')\n"
     ]
    },
    {
     "data": {
      "text/plain": "(2.9025784219207584, 0.0037768199394206765)"
     },
     "execution_count": 44,
     "metadata": {},
     "output_type": "execute_result"
    }
   ],
   "source": [
    "Z, p_value = stats.ttest_1samp(a=X1, popmean=420, axis=0, alternative='two-sided')\n",
    "Z, p_value"
   ],
   "metadata": {
    "collapsed": false
   }
  },
  {
   "cell_type": "code",
   "execution_count": 45,
   "outputs": [
    {
     "data": {
      "text/plain": "428.0326188257223"
     },
     "execution_count": 45,
     "metadata": {},
     "output_type": "execute_result"
    }
   ],
   "source": [
    "m1 = np.mean(X1)\n",
    "m1"
   ],
   "metadata": {
    "collapsed": false
   }
  },
  {
   "cell_type": "code",
   "execution_count": 46,
   "outputs": [
    {
     "data": {
      "text/plain": "90.6510956167228"
     },
     "execution_count": 46,
     "metadata": {},
     "output_type": "execute_result"
    }
   ],
   "source": [
    "s1 = np.std(X1, ddof=1)\n",
    "s1"
   ],
   "metadata": {
    "collapsed": false
   }
  },
  {
   "cell_type": "code",
   "execution_count": 47,
   "outputs": [
    {
     "data": {
      "text/plain": "8217.62113651222"
     },
     "execution_count": 47,
     "metadata": {},
     "output_type": "execute_result"
    }
   ],
   "source": [
    "d1 = np.var(X1, ddof=1)\n",
    "d1"
   ],
   "metadata": {
    "collapsed": false
   }
  },
  {
   "cell_type": "markdown",
   "source": [
    "## 3.2\n",
    "\n",
    "## Стат.гипотеза:\n",
    "## $H_0: \\sigma = \\sigma_0$\n",
    "## $H': \\sigma \\neq \\sigma_0$\n",
    "## Формула расчета статистики критерия\n",
    "## $Z = \\frac{(n - 1)S^2}{\\sigma_0^2}$\n",
    "## Закон распределения статистики критерия при условии истинности основной гипотезы\n",
    "## $X \\sim \\chi^2(n-1)$\n",
    "## Формулы расчета критических точек\n",
    "## $\\chi^2_{\\frac{\\alpha}{2}}(n-1)$\n",
    "## $\\chi^2_{1 - \\frac{\\alpha}{2}}(n-1)$\n",
    "## Формула расчета p-value\n",
    "## $\\frac{(1 / 2)^{k / 2}}{\\Gamma(k / 2)} x^{k / 2-1} e^{-x / 2}$"
   ],
   "metadata": {
    "collapsed": false
   }
  },
  {
   "cell_type": "markdown",
   "source": [
    "### $\\alpha = 0.1$\n",
    "### Right $\\chi^2$: 1,149.2822\n",
    "### Left $\\chi^2$: 996.9916"
   ],
   "metadata": {
    "collapsed": false
   }
  },
  {
   "cell_type": "code",
   "execution_count": 48,
   "outputs": [
    {
     "data": {
      "text/plain": "90.6510956167228"
     },
     "execution_count": 48,
     "metadata": {},
     "output_type": "execute_result"
    }
   ],
   "source": [
    "import math\n",
    "\n",
    "np.std(X1, ddof = 1)"
   ],
   "metadata": {
    "collapsed": false
   }
  },
  {
   "cell_type": "code",
   "execution_count": 49,
   "outputs": [],
   "source": [
    "def chisquare(dist, m, d, bins=10, ddof=0):\n",
    "    counts, bins1 = np.histogram(dist, bins=bins)\n",
    "    normal = (st.norm.cdf(bins1[1:], m, d) - st.norm.cdf(bins1[:-1], m, d)) * dist.shape[0]\n",
    "    Z = np.sum((counts - normal) ** 2 / normal)\n",
    "    return Z, st.chi2.cdf(Z, bins - 1 - ddof)"
   ],
   "metadata": {
    "collapsed": false
   }
  },
  {
   "cell_type": "code",
   "execution_count": 50,
   "outputs": [],
   "source": [
    "def chisquare1(dist, d, d0, ddof=1):\n",
    "    Zc = ((len(dist) - 1) * d / d0 ** 2)\n",
    "    p_value = 2 * (1 - st.chi2.cdf(Zc, len(dist) - ddof))\n",
    "    if p_value > 1:\n",
    "        p_value = 2 - p_value\n",
    "    return Zc, p_value"
   ],
   "metadata": {
    "collapsed": false
   }
  },
  {
   "cell_type": "code",
   "execution_count": 51,
   "outputs": [
    {
     "data": {
      "text/plain": "(1075.5825351290987, 976.0985992621717, 1137.5632565006586)"
     },
     "execution_count": 51,
     "metadata": {},
     "output_type": "execute_result"
    }
   ],
   "source": [
    "Z1, p1 = chisquare1(X1, d1, 90.5)\n",
    "Z2, p2 = chisquare1(X1, d1, 95)\n",
    "Z3, p3 = chisquare1(X1, d1, 88)\n",
    "Z1, Z2, Z3"
   ],
   "metadata": {
    "collapsed": false
   }
  },
  {
   "cell_type": "code",
   "execution_count": 52,
   "outputs": [
    {
     "data": {
      "text/plain": "(0.9269527636540926, 0.03385066048661445, 0.16079621267862665)"
     },
     "execution_count": 52,
     "metadata": {},
     "output_type": "execute_result"
    }
   ],
   "source": [
    "p1, p2, p3"
   ],
   "metadata": {
    "collapsed": false
   }
  },
  {
   "cell_type": "markdown",
   "source": [
    "https://calculator-online.net/p-value-from-chi-square-calculator\n",
    "\n",
    "## $\\sigma_0 = 91: p-value = 0.93$\n",
    "## $\\sigma_0 = 95: p-value = 0.03$\n",
    "## $\\sigma_0 = 85: p-value = 0.16$\n"
   ],
   "metadata": {
    "collapsed": false
   }
  },
  {
   "cell_type": "markdown",
   "source": [
    "## 3.3\n",
    "## Стат.гипотеза:\n",
    "## $H_0$: $m_1 = m_2$\n",
    "## $H'$: $m_1 \\neq m_2$\n",
    "## Формула расчета статистики критерия\n",
    "## $Z=\\frac{\\left(\\bar{x}_1-\\bar{x}_2\\right)-\\left(m_1-m_2\\right)}{\\sqrt{\\frac{s_1^2}{n_1}+\\frac{s_2^2}{n_2}}}$\n",
    "## Закон распределения статистики критерия при условии истинности основной гипотезы\n",
    "## $X \\sim T(n_1 + n_2 - 2)$\n",
    "## Формулы расчета критических точек\n",
    "## $+ T_{1-\\alpha}(n_1 + n_2 - 2)$\n",
    "## $- T_{1-\\alpha}(n_1 + n_2 - 2)$\n",
    "## Формула расчета p-value\n",
    "## $f(x)= \\frac{\\Gamma\\left(\\frac{n+1}{2}\\right)}{\\sqrt{n \\pi} \\Gamma\\left(\\frac{n}{2}\\right)\\left(1+\\frac{x^2}{n}\\right)^{\\frac{n+1}{2}}}$"
   ],
   "metadata": {
    "collapsed": false
   }
  },
  {
   "cell_type": "code",
   "execution_count": 53,
   "outputs": [],
   "source": [
    "var1 = sheetX['A5']\n",
    "var2 = sheetX['A8']\n",
    "X1 = np.array(var1)\n",
    "X2 = np.array(var2)"
   ],
   "metadata": {
    "collapsed": false
   }
  },
  {
   "cell_type": "code",
   "execution_count": 54,
   "outputs": [
    {
     "data": {
      "text/plain": "(526.4836905871389, 428.0326188257223)"
     },
     "execution_count": 54,
     "metadata": {},
     "output_type": "execute_result"
    }
   ],
   "source": [
    "m1 = np.mean(X1)\n",
    "m2 = np.mean(X2)\n",
    "m1, m2"
   ],
   "metadata": {
    "collapsed": false
   }
  },
  {
   "cell_type": "code",
   "execution_count": 55,
   "outputs": [
    {
     "name": "stderr",
     "output_type": "stream",
     "text": [
      "C:\\Users\\Artemii\\AppData\\Local\\Temp\\ipykernel_1660\\1219582587.py:1: DeprecationWarning: Please use `ttest_ind` from the `scipy.stats` namespace, the `scipy.stats.stats` namespace is deprecated.\n",
      "  Z, p_value = stats.ttest_ind(X1, X2, alternative='two-sided')\n"
     ]
    },
    {
     "data": {
      "text/plain": "(21.699867460073605, 1.484390672999057e-94)"
     },
     "execution_count": 55,
     "metadata": {},
     "output_type": "execute_result"
    }
   ],
   "source": [
    "Z, p_value = stats.ttest_ind(X1, X2, alternative='two-sided')\n",
    "Z, p_value"
   ],
   "metadata": {
    "collapsed": false
   }
  },
  {
   "cell_type": "code",
   "execution_count": 56,
   "outputs": [
    {
     "data": {
      "text/plain": "                T   dof alternative         p-val            CI95%   cohen-d  \\\nT-test  21.699867  2144   two-sided  1.484391e-94  [89.55, 107.35]  0.936855   \n\n             BF10  power  \nT-test  5.341e+90    1.0  ",
      "text/html": "<div>\n<style scoped>\n    .dataframe tbody tr th:only-of-type {\n        vertical-align: middle;\n    }\n\n    .dataframe tbody tr th {\n        vertical-align: top;\n    }\n\n    .dataframe thead th {\n        text-align: right;\n    }\n</style>\n<table border=\"1\" class=\"dataframe\">\n  <thead>\n    <tr style=\"text-align: right;\">\n      <th></th>\n      <th>T</th>\n      <th>dof</th>\n      <th>alternative</th>\n      <th>p-val</th>\n      <th>CI95%</th>\n      <th>cohen-d</th>\n      <th>BF10</th>\n      <th>power</th>\n    </tr>\n  </thead>\n  <tbody>\n    <tr>\n      <th>T-test</th>\n      <td>21.699867</td>\n      <td>2144</td>\n      <td>two-sided</td>\n      <td>1.484391e-94</td>\n      <td>[89.55, 107.35]</td>\n      <td>0.936855</td>\n      <td>5.341e+90</td>\n      <td>1.0</td>\n    </tr>\n  </tbody>\n</table>\n</div>"
     },
     "execution_count": 56,
     "metadata": {},
     "output_type": "execute_result"
    }
   ],
   "source": [
    "import pingouin as pg\n",
    "pg.ttest(X1, X2)"
   ],
   "metadata": {
    "collapsed": false
   }
  },
  {
   "cell_type": "code",
   "execution_count": 57,
   "outputs": [],
   "source": [
    "def var(dist, m):\n",
    "    return np.sum((dist - m) ** 2) / dist.shape[0]\n",
    "def std(dist, m):\n",
    "    return np.sqrt(var(dist, m))"
   ],
   "metadata": {
    "collapsed": false
   }
  },
  {
   "cell_type": "markdown",
   "source": [
    "## 3.4\n",
    "## Стат.гипотеза:\n",
    "## $H_0$: $\\sigma_1 = \\sigma_2$\n",
    "## $H'$: $\\sigma_1 \\neq \\sigma_2$\n",
    "## Формула расчета статистики критерия\n",
    "## $Z = \\frac{\\frac{\\chi^2(n_1)}{n_1}}{\\frac{\\chi^2(n_2)}{n_2}}$\n",
    "## Закон распределения статистики критерия при условии истинности основной гипотезы\n",
    "## $X \\sim F(n_1 - 1, n_2 - 1)$\n",
    "## Формулы расчета критических точек\n",
    "## $F_{\\frac{\\alpha}{2}}(n_1 - 1, n_2 - 1)$\n",
    "## $F_{1 - \\frac{\\alpha}{2}}(n_1 - 1, n_2 - 1)$\n",
    "## Формула расчета p-value\n",
    "## $\\frac{\\sqrt{\\frac{\\left(d_1 x\\right)^{d_1} d_2^{d_2}}{\\left(d_1 x+d_2\\right)^{d_1+d_2}}}}{x \\mathrm{~B}\\left(\\frac{d_1}{2}, \\frac{d_2}{2}\\right)}$\n",
    "## $d_1, d_2$ - степени свободы\n",
    "## B - beta функция"
   ],
   "metadata": {
    "collapsed": false
   }
  },
  {
   "cell_type": "code",
   "execution_count": 58,
   "outputs": [
    {
     "data": {
      "text/plain": "(13868.856310247458, 8217.62113651222)"
     },
     "execution_count": 58,
     "metadata": {},
     "output_type": "execute_result"
    }
   ],
   "source": [
    "v1 = np.var(X1, ddof=1)\n",
    "v2 = np.var(X2, ddof=1)\n",
    "v1, v2"
   ],
   "metadata": {
    "collapsed": false
   }
  },
  {
   "cell_type": "code",
   "execution_count": 59,
   "outputs": [],
   "source": [
    "def f_test(dist1, dist2, m1, m2, ddof=0):\n",
    "    d1, d2 = var(dist1, m1), var(dist2, m2)\n",
    "    f = d1 / d2\n",
    "    n1, n2 = dist1.shape[0] - ddof, dist2.shape[0] - ddof\n",
    "    return f, st.f.cdf(f, n1, n2)"
   ],
   "metadata": {
    "collapsed": false
   }
  },
  {
   "cell_type": "code",
   "execution_count": 60,
   "outputs": [
    {
     "data": {
      "text/plain": "(1.6876972155148267, 1.1102230246251565e-16)"
     },
     "execution_count": 60,
     "metadata": {},
     "output_type": "execute_result"
    }
   ],
   "source": [
    "Z, p_value = f_test(X1, X2, m1, m2, ddof=1)\n",
    "p_value = 1 - p_value\n",
    "Z, p_value"
   ],
   "metadata": {
    "collapsed": false
   }
  },
  {
   "cell_type": "code",
   "execution_count": null,
   "outputs": [],
   "source": [],
   "metadata": {
    "collapsed": false
   }
  }
 ],
 "metadata": {
  "kernelspec": {
   "display_name": "Python 3 (ipykernel)",
   "language": "python",
   "name": "python3"
  },
  "language_info": {
   "codemirror_mode": {
    "name": "ipython",
    "version": 3
   },
   "file_extension": ".py",
   "mimetype": "text/x-python",
   "name": "python",
   "nbconvert_exporter": "python",
   "pygments_lexer": "ipython3",
   "version": "3.9.2"
  }
 },
 "nbformat": 4,
 "nbformat_minor": 1
}
