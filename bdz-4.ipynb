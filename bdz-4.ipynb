{
 "cells": [
  {
   "cell_type": "code",
   "execution_count": 124,
   "outputs": [],
   "source": [
    "import numpy as np         # библиотека для матриц и математики\n",
    "import pandas as pd        # библиотека для работы с табличками\n",
    "from scipy import stats    # модуль для работы со статистикой\n",
    "\n",
    "# библиотеки для визуализации\n",
    "import matplotlib.pyplot as plt\n",
    "import seaborn as sns\n",
    "\n",
    "import math\n",
    "\n",
    "plt.style.use('ggplot')    # стиль графиков\n",
    "%matplotlib inline"
   ],
   "metadata": {
    "collapsed": false
   }
  },
  {
   "cell_type": "markdown",
   "source": [
    "## 4.\n",
    "## Формула расчета статистики критерия\n",
    "## $Z = \\sum_{i=1}^{k}\\frac{(n_i-np_i)^2}{np_i}$\n",
    "## Закон распределения статистики критерия при условии истинности основной гипотезы\n",
    "## $X \\sim \\chi^2(k - r - 1)$\n",
    "## Формула расчета критической точки\n",
    "## $\\chi^2_{1 - \\frac{\\alpha}{2}}(k-r-1)$\n",
    "## Формула расчета p-value\n",
    "## $f(x)= \\frac{\\Gamma\\left(\\frac{n+1}{2}\\right)}{\\sqrt{n \\pi} \\Gamma\\left(\\frac{n}{2}\\right)\\left(1+\\frac{x^2}{n}\\right)^{\\frac{n+1}{2}}}$"
   ],
   "metadata": {
    "collapsed": false
   }
  },
  {
   "cell_type": "code",
   "execution_count": 125,
   "outputs": [],
   "source": [
    "df = pd.read_excel(\"table.xls\", sheet_name=\"A - aaup\")"
   ],
   "metadata": {
    "collapsed": false
   }
  },
  {
   "cell_type": "code",
   "execution_count": 126,
   "outputs": [
    {
     "data": {
      "text/plain": "(21, 30.19047619047619, 866, 232)"
     },
     "execution_count": 126,
     "metadata": {},
     "output_type": "execute_result"
    }
   ],
   "source": [
    "n = len(df.A8)\n",
    "X = df.A8.to_numpy()\n",
    "\n",
    "bins_number = 21\n",
    "h = (max(X) - min(X)) / bins_number   #ширина\n",
    "bins_number, h, max(X), min(X)"
   ],
   "metadata": {
    "collapsed": false
   }
  },
  {
   "cell_type": "code",
   "execution_count": 127,
   "outputs": [
    {
     "data": {
      "text/plain": "(428.0326188257223, 8217.62113651222, 90.6510956167228)"
     },
     "execution_count": 127,
     "metadata": {},
     "output_type": "execute_result"
    }
   ],
   "source": [
    "m = np.mean(X)\n",
    "d = np.var(X, ddof = 1)\n",
    "s = np.std(X, ddof = 1)\n",
    "m, d, s"
   ],
   "metadata": {
    "collapsed": false
   }
  },
  {
   "cell_type": "code",
   "execution_count": 128,
   "outputs": [
    {
     "data": {
      "text/plain": "array([232.        , 262.19047619, 292.38095238, 322.57142857,\n       352.76190476, 382.95238095, 413.14285714, 443.33333333,\n       473.52380952, 503.71428571, 533.9047619 , 564.0952381 ,\n       594.28571429, 624.47619048, 654.66666667, 684.85714286,\n       715.04761905, 745.23809524, 775.42857143, 805.61904762,\n       835.80952381, 866.        ])"
     },
     "execution_count": 128,
     "metadata": {},
     "output_type": "execute_result"
    }
   ],
   "source": [
    "hist, bin_edges = np.histogram(X, bins=bins_number)\n",
    "bin_edges"
   ],
   "metadata": {
    "collapsed": false
   }
  },
  {
   "cell_type": "code",
   "execution_count": 129,
   "outputs": [
    {
     "name": "stdout",
     "output_type": "stream",
     "text": [
      "1 232.0 262.19 5 0.005 5 0.005 0.01838\n",
      "2 262.19 292.38 28 0.026 33 0.031 0.03361\n",
      "3 292.38 322.57 67 0.062 100 0.093 0.05507\n",
      "4 322.57 352.76 128 0.119 228 0.212 0.08084\n",
      "5 352.76 382.95 148 0.138 376 0.35 0.10632\n",
      "6 382.95 413.14 155 0.144 531 0.494 0.12527\n",
      "7 413.14 443.33 142 0.132 673 0.626 0.13225\n",
      "8 443.33 473.52 107 0.1 780 0.726 0.12509\n",
      "9 473.52 503.71 73 0.068 853 0.794 0.106\n",
      "10 503.71 533.9 70 0.065 923 0.859 0.08047\n",
      "11 533.9 564.1 69 0.064 992 0.923 0.05474\n",
      "12 564.1 594.29 32 0.03 1024 0.953 0.03336\n",
      "13 594.29 624.48 22 0.021 1046 0.974 0.01821\n",
      "14 624.48 654.67 11 0.01 1057 0.984 0.00891\n",
      "15 654.67 684.86 4 0.004 1061 0.988 0.0039\n",
      "16 684.86 715.05 5 0.005 1066 0.993 0.00153\n",
      "17 715.05 745.24 2 0.002 1068 0.995 0.00054\n",
      "18 745.24 775.43 2 0.002 1070 0.997 0.00017\n",
      "19 775.43 805.62 1 0.001 1071 0.998 5e-05\n",
      "20 805.62 835.81 1 0.001 1072 0.999 1e-05\n",
      "21 835.81 866.0 1 0.001 1073 1.0 0.0\n"
     ]
    }
   ],
   "source": [
    "stored, stored1 = 0, 0\n",
    "Xf, Xf1, Xf2 = [], [], []\n",
    "count = 0\n",
    "_,division = np.histogram(X, bins=21)\n",
    "for i in range(bins_number):\n",
    "    arr = X[bin_edges[i] <= X]\n",
    "    arr1 = arr[arr < bin_edges[i + 1]]\n",
    "    if i == 20:\n",
    "        arr = X[bin_edges[i] <= X]\n",
    "        arr1 = arr[arr <= bin_edges[i + 1]]\n",
    "    stored += len(arr1)\n",
    "    stored1 += round(len(arr1)/len(X), 3)\n",
    "    Xf.append(stored)\n",
    "    Xf1.append(stored1)\n",
    "    Xf2.append(len(arr1))\n",
    "    count += 1\n",
    "    p = stats.norm(loc=m, scale=s).cdf(division[i + 1]) - stats.norm(loc=m, scale=s).cdf(division[i])\n",
    "    print(count, round(bin_edges[i], 2), round(bin_edges[i+1], 2), len(arr1),\n",
    "          round(len(arr1)/len(X), 3), stored, round(stored1, 3), round(p, 5))"
   ],
   "metadata": {
    "collapsed": false
   }
  },
  {
   "cell_type": "code",
   "execution_count": 130,
   "outputs": [
    {
     "data": {
      "text/plain": "<Figure size 640x480 with 1 Axes>",
      "image/png": "[encoded data removed]"
     },
     "metadata": {},
     "output_type": "display_data"
    }
   ],
   "source": [
    "x = np.linspace(150, 800, 10000)\n",
    "norm_rv = stats.norm(loc=m, scale=s)\n",
    "pdf = norm_rv.pdf(x)\n",
    "\n",
    "# плотность\n",
    "plt.plot(x, pdf, lw=3)\n",
    "\n",
    "plt.hist(X, bins=bins_number, density=True);"
   ],
   "metadata": {
    "collapsed": false
   }
  },
  {
   "cell_type": "code",
   "execution_count": 131,
   "outputs": [],
   "source": [
    "def chisquare_normal(dist, m, d, bins, ddof=2):\n",
    "    counts, bins1 = np.histogram(dist, bins=bins)\n",
    "    normal = (stats.norm.cdf(bins1[1:], m, d) - stats.norm.cdf(bins1[:-1], m, d)) * dist.shape[0]\n",
    "    Z = np.sum((counts - normal) ** 2 / normal)\n",
    "    return Z, 1 - stats.chi2.cdf(Z, bins - ddof - 1)"
   ],
   "metadata": {
    "collapsed": false
   }
  },
  {
   "cell_type": "code",
   "execution_count": 132,
   "outputs": [
    {
     "data": {
      "text/plain": "(530.8011077398498, 0.0)"
     },
     "execution_count": 132,
     "metadata": {},
     "output_type": "execute_result"
    }
   ],
   "source": [
    "chisquare_normal(X, m, s, bins_number)"
   ],
   "metadata": {
    "collapsed": false
   }
  },
  {
   "cell_type": "code",
   "execution_count": 133,
   "outputs": [
    {
     "data": {
      "text/plain": "Jarque_beraResult(statistic=162.56186413710836, pvalue=0.0)"
     },
     "execution_count": 133,
     "metadata": {},
     "output_type": "execute_result"
    }
   ],
   "source": [
    "stats.jarque_bera(X)"
   ],
   "metadata": {
    "collapsed": false
   }
  },
  {
   "cell_type": "code",
   "execution_count": 133,
   "outputs": [],
   "source": [],
   "metadata": {
    "collapsed": false
   }
  }
 ],
 "metadata": {
  "kernelspec": {
   "display_name": "Python 3",
   "language": "python",
   "name": "python3"
  },
  "language_info": {
   "codemirror_mode": {
    "name": "ipython",
    "version": 2
   },
   "file_extension": ".py",
   "mimetype": "text/x-python",
   "name": "python",
   "nbconvert_exporter": "python",
   "pygments_lexer": "ipython2",
   "version": "2.7.6"
  }
 },
 "nbformat": 4,
 "nbformat_minor": 0
}
