{
 "cells": [
  {
   "cell_type": "code",
   "execution_count": 94,
   "metadata": {
    "ExecuteTime": {
     "end_time": "2022-10-30T18:45:33.798021Z",
     "start_time": "2022-10-30T18:45:33.795457Z"
    }
   },
   "outputs": [],
   "source": [
    "import numpy as np\n",
    "import scipy.stats as stats\n",
    "from statsmodels.stats.descriptivestats import sign_test\n",
    "import matplotlib.pyplot as plt"
   ]
  },
  {
   "cell_type": "markdown",
   "metadata": {},
   "source": [
    "## Исходные данные"
   ]
  },
  {
   "cell_type": "code",
   "execution_count": 95,
   "metadata": {
    "ExecuteTime": {
     "end_time": "2022-10-30T18:45:34.122406Z",
     "start_time": "2022-10-30T18:45:34.119493Z"
    }
   },
   "outputs": [],
   "source": [
    "np.random.seed(42)\n",
    "X = stats.chi2.rvs(5, size=300)\n",
    "np.random.seed(41)\n",
    "Y = stats.chi2.rvs(5, size=300)\n",
    "\n",
    "m_x = 5\n",
    "m_y = 5\n",
    "var_x = 10\n",
    "var_y = 10"
   ]
  },
  {
   "cell_type": "code",
   "execution_count": 96,
   "metadata": {
    "ExecuteTime": {
     "end_time": "2022-10-30T18:45:34.263041Z",
     "start_time": "2022-10-30T18:45:34.260378Z"
    }
   },
   "outputs": [],
   "source": [
    "X_mean = np.mean(X)\n",
    "Y_mean = np.mean(Y)\n",
    "\n",
    "X_s = np.var(X, ddof = 1)\n",
    "Y_s = np.var(Y, ddof = 1)"
   ]
  },
  {
   "cell_type": "markdown",
   "metadata": {},
   "source": [
    "## Визуальное представление выборки"
   ]
  },
  {
   "cell_type": "code",
   "execution_count": 97,
   "metadata": {
    "ExecuteTime": {
     "end_time": "2022-10-30T18:45:34.920619Z",
     "start_time": "2022-10-30T18:45:34.558274Z"
    }
   },
   "outputs": [
    {
     "data": {
      "text/plain": [
       "<AxesSubplot:title={'center':'Гистограмма с 25 NBins'}>"
      ]
     },
     "execution_count": 97,
     "metadata": {},
     "output_type": "execute_result"
    },
    {
     "data": {
      "image/png": "[encoded data removed]",
      "text/plain": [
       "<Figure size 1152x648 with 4 Axes>"
      ]
     },
     "metadata": {
      "needs_background": "light"
     },
     "output_type": "display_data"
    }
   ],
   "source": [
    "def plot_hist(array, ax, bins_num: int):\n",
    "    ax.hist(array, bins = bins_num)\n",
    "    ax.set_title(f'Гистограмма с {bins_num} NBins')\n",
    "    return ax\n",
    "\n",
    "fig, ax = plt.subplots(2, 2, figsize = (16, 9))\n",
    "plot_hist(X, ax[0,0], 5)\n",
    "plot_hist(X, ax[1,0], 10)\n",
    "plot_hist(X, ax[0,1], 15)\n",
    "plot_hist(X, ax[1,1], 25)"
   ]
  },
  {
   "cell_type": "markdown",
   "metadata": {},
   "source": [
    "## Критерий хи-квадрат"
   ]
  },
  {
   "cell_type": "markdown",
   "metadata": {},
   "source": [
    "### Статистическая гипотеза: $ H_0: X \\sim N(m, \\sigma) $"
   ]
  },
  {
   "cell_type": "code",
   "execution_count": 115,
   "metadata": {
    "ExecuteTime": {
     "end_time": "2022-10-30T18:50:10.992573Z",
     "start_time": "2022-10-30T18:50:10.989375Z"
    }
   },
   "outputs": [],
   "source": [
    "m = np.mean(X)\n",
    "d = np.var(X, ddof = 0)\n",
    "bins_number = int(2*X.shape[0]**(1/3))"
   ]
  },
  {
   "cell_type": "code",
   "execution_count": 99,
   "metadata": {
    "ExecuteTime": {
     "end_time": "2022-10-30T18:45:35.279451Z",
     "start_time": "2022-10-30T18:45:35.275083Z"
    }
   },
   "outputs": [],
   "source": [
    "def chisquare_normal(dist, m, d, bins, ddof=1):\n",
    "    counts, bins1 = np.histogram(dist, bins=bins)\n",
    "    normal = (stats.norm.cdf(bins1[1:], m, d) - stats.norm.cdf(bins1[:-1], m, d)) * dist.shape[0]\n",
    "    Z = np.sum((counts - normal) ** 2 / normal)\n",
    "    return Z, 1 - stats.chi2.cdf(Z, bins - 1 - ddof)"
   ]
  },
  {
   "cell_type": "code",
   "execution_count": 116,
   "metadata": {
    "ExecuteTime": {
     "end_time": "2022-10-30T18:50:16.614772Z",
     "start_time": "2022-10-30T18:50:16.608258Z"
    }
   },
   "outputs": [
    {
     "data": {
      "text/plain": [
       "(355.2653714136592, 0.0)"
      ]
     },
     "execution_count": 116,
     "metadata": {},
     "output_type": "execute_result"
    }
   ],
   "source": [
    "bins = 15\n",
    "chisquare_normal(X, m, d, bins_number)"
   ]
  },
  {
   "cell_type": "markdown",
   "metadata": {},
   "source": [
    "### Статистическая гипотеза: $ H_0: X \\sim R $"
   ]
  },
  {
   "cell_type": "code",
   "execution_count": 101,
   "metadata": {
    "ExecuteTime": {
     "end_time": "2022-10-30T18:45:35.816533Z",
     "start_time": "2022-10-30T18:45:35.813186Z"
    }
   },
   "outputs": [],
   "source": [
    "def chisquare_uniform(dist, bins=15, ddof=1):\n",
    "    counts, bins1 = np.histogram(dist, bins=bins)\n",
    "    normal = (stats.uniform.cdf(bins1[1:], min(dist), max(dist)) - stats.uniform.cdf(bins1[:-1], min(dist), max(dist))) * dist.shape[0]\n",
    "    Z = np.sum((counts - normal) ** 2 / normal)\n",
    "    return Z, 1 - stats.chi2.cdf(Z, bins - 1 - ddof)"
   ]
  },
  {
   "cell_type": "code",
   "execution_count": 102,
   "metadata": {
    "ExecuteTime": {
     "end_time": "2022-10-30T18:45:36.006242Z",
     "start_time": "2022-10-30T18:45:36.002562Z"
    }
   },
   "outputs": [
    {
     "data": {
      "text/plain": [
       "(259.09731213834266, 0.0)"
      ]
     },
     "execution_count": 102,
     "metadata": {},
     "output_type": "execute_result"
    }
   ],
   "source": [
    "chisquare_uniform(X, 15)"
   ]
  },
  {
   "cell_type": "markdown",
   "metadata": {},
   "source": [
    "### Статистическая гипотеза: $ H_0: X \\sim {\\chi}^2(5) $"
   ]
  },
  {
   "cell_type": "code",
   "execution_count": 103,
   "metadata": {
    "ExecuteTime": {
     "end_time": "2022-10-30T18:45:36.417244Z",
     "start_time": "2022-10-30T18:45:36.412302Z"
    }
   },
   "outputs": [],
   "source": [
    "def chisquare_chi2(dist, bins=15, ddof=0):\n",
    "    counts, bins1 = np.histogram(dist, bins=bins)\n",
    "    normal = (stats.chi2.cdf(bins1[1:], 5) - stats.chi2.cdf(bins1[:-1], 5)) * dist.shape[0]\n",
    "    Z = np.sum((counts - normal) ** 2 / normal)\n",
    "    return Z, 1 - stats.chi2.cdf(Z, bins - 1 - ddof)"
   ]
  },
  {
   "cell_type": "code",
   "execution_count": 104,
   "metadata": {
    "ExecuteTime": {
     "end_time": "2022-10-30T18:45:36.590739Z",
     "start_time": "2022-10-30T18:45:36.587424Z"
    }
   },
   "outputs": [
    {
     "data": {
      "text/plain": [
       "(7.583555440254582, 0.9098749784242921)"
      ]
     },
     "execution_count": 104,
     "metadata": {},
     "output_type": "execute_result"
    }
   ],
   "source": [
    "chisquare_chi2(X)"
   ]
  },
  {
   "cell_type": "markdown",
   "metadata": {},
   "source": [
    "## Критерий Колмогорова"
   ]
  },
  {
   "cell_type": "markdown",
   "metadata": {},
   "source": [
    "### Статистическая гипотеза: $ H_0: X \\sim N(m, \\sigma) $"
   ]
  },
  {
   "cell_type": "code",
   "execution_count": 105,
   "metadata": {
    "ExecuteTime": {
     "end_time": "2022-10-30T18:45:37.114857Z",
     "start_time": "2022-10-30T18:45:37.109913Z"
    }
   },
   "outputs": [
    {
     "data": {
      "text/plain": [
       "KstestResult(statistic=0.8656114766857894, pvalue=1.742093756287294e-261)"
      ]
     },
     "execution_count": 105,
     "metadata": {},
     "output_type": "execute_result"
    }
   ],
   "source": [
    "stats.kstest(X, 'norm')"
   ]
  },
  {
   "cell_type": "markdown",
   "metadata": {},
   "source": [
    "### Статистическая гипотеза: $ H_0: X \\sim R $"
   ]
  },
  {
   "cell_type": "code",
   "execution_count": 106,
   "metadata": {
    "ExecuteTime": {
     "end_time": "2022-10-30T18:45:37.487674Z",
     "start_time": "2022-10-30T18:45:37.483584Z"
    }
   },
   "outputs": [
    {
     "data": {
      "text/plain": [
       "KstestResult(statistic=0.9733333333333334, pvalue=0.0)"
      ]
     },
     "execution_count": 106,
     "metadata": {},
     "output_type": "execute_result"
    }
   ],
   "source": [
    "stats.kstest(X, 'uniform')"
   ]
  },
  {
   "cell_type": "markdown",
   "metadata": {
    "ExecuteTime": {
     "end_time": "2022-10-29T16:33:16.401359Z",
     "start_time": "2022-10-29T16:33:16.399712Z"
    }
   },
   "source": [
    "### Статистическая гипотеза: $ H_0: X \\sim {\\chi}^2(5) $"
   ]
  },
  {
   "cell_type": "code",
   "execution_count": 107,
   "metadata": {
    "ExecuteTime": {
     "end_time": "2022-10-30T18:45:37.835873Z",
     "start_time": "2022-10-30T18:45:37.830851Z"
    }
   },
   "outputs": [
    {
     "data": {
      "text/plain": [
       "KstestResult(statistic=0.5866666666666667, pvalue=0.3465270291082704)"
      ]
     },
     "execution_count": 107,
     "metadata": {},
     "output_type": "execute_result"
    }
   ],
   "source": [
    "stats.kstest(X, stats.chi2.stats(5))"
   ]
  },
  {
   "cell_type": "markdown",
   "metadata": {},
   "source": [
    "## Двухвыборочные критерии "
   ]
  },
  {
   "cell_type": "code",
   "execution_count": 108,
   "metadata": {
    "ExecuteTime": {
     "end_time": "2022-10-30T18:45:38.355776Z",
     "start_time": "2022-10-30T18:45:38.187120Z"
    }
   },
   "outputs": [
    {
     "data": {
      "image/png": "[encoded data removed]",
      "text/plain": [
       "<Figure size 432x288 with 1 Axes>"
      ]
     },
     "metadata": {
      "needs_background": "light"
     },
     "output_type": "display_data"
    }
   ],
   "source": [
    "import seaborn as sns\n",
    "\n",
    "sns.ecdfplot(x = X)\n",
    "sns.ecdfplot(x = Y)\n",
    "plt.xlabel = 'values'\n",
    "plt.legend(labels=['X', 'Y'])\n",
    "plt.show()"
   ]
  },
  {
   "cell_type": "code",
   "execution_count": 109,
   "metadata": {
    "ExecuteTime": {
     "end_time": "2022-10-30T18:45:38.541467Z",
     "start_time": "2022-10-30T18:45:38.380500Z"
    }
   },
   "outputs": [
    {
     "data": {
      "text/plain": [
       "<AxesSubplot:ylabel='Count'>"
      ]
     },
     "execution_count": 109,
     "metadata": {},
     "output_type": "execute_result"
    },
    {
     "data": {
      "image/png": "[encoded data removed]",
      "text/plain": [
       "<Figure size 432x288 with 1 Axes>"
      ]
     },
     "metadata": {
      "needs_background": "light"
     },
     "output_type": "display_data"
    }
   ],
   "source": [
    "sns.histplot(X, bins = 25, color='red', alpha =0.4)\n",
    "sns.histplot(Y, bins = 25, color = 'blue', alpha = 0.4)"
   ]
  },
  {
   "cell_type": "code",
   "execution_count": 110,
   "metadata": {
    "ExecuteTime": {
     "end_time": "2022-10-30T18:45:39.018935Z",
     "start_time": "2022-10-30T18:45:39.016190Z"
    }
   },
   "outputs": [],
   "source": [
    "def two_sample_chisquare(dist1, dist2, bins=15):\n",
    "    bins1, counts1 = np.histogram(dist1, bins=bins)\n",
    "    bins2, counts2 = np.histogram(dist2, bins=bins)\n",
    "    Z = np.sum((counts1 - counts2) ** 2 / counts1)\n",
    "    return Z, 1 - stats.chi2.cdf(Z, 2)\n",
    "    "
   ]
  },
  {
   "cell_type": "markdown",
   "metadata": {},
   "source": [
    "Peasrson $ {\\chi}^2 $ test"
   ]
  },
  {
   "cell_type": "code",
   "execution_count": 111,
   "metadata": {
    "ExecuteTime": {
     "end_time": "2022-10-30T18:45:39.975020Z",
     "start_time": "2022-10-30T18:45:39.972311Z"
    }
   },
   "outputs": [
    {
     "data": {
      "text/plain": [
       "(0.28402625966642164, 0.8676098648383117)"
      ]
     },
     "execution_count": 111,
     "metadata": {},
     "output_type": "execute_result"
    }
   ],
   "source": [
    "two_sample_chisquare(X, Y)"
   ]
  },
  {
   "cell_type": "markdown",
   "metadata": {},
   "source": [
    "Kolmogorov-Smirnov test"
   ]
  },
  {
   "cell_type": "code",
   "execution_count": 112,
   "metadata": {
    "ExecuteTime": {
     "end_time": "2022-10-30T18:45:40.641116Z",
     "start_time": "2022-10-30T18:45:40.638218Z"
    }
   },
   "outputs": [
    {
     "data": {
      "text/plain": [
       "KstestResult(statistic=0.04666666666666667, pvalue=0.9003231885744891)"
      ]
     },
     "execution_count": 112,
     "metadata": {},
     "output_type": "execute_result"
    }
   ],
   "source": [
    "stats.ks_2samp(X, Y)"
   ]
  },
  {
   "cell_type": "markdown",
   "metadata": {},
   "source": [
    "Sign-test\n"
   ]
  },
  {
   "cell_type": "code",
   "execution_count": 113,
   "metadata": {
    "ExecuteTime": {
     "end_time": "2022-10-30T18:45:41.390666Z",
     "start_time": "2022-10-30T18:45:41.387550Z"
    }
   },
   "outputs": [
    {
     "data": {
      "text/plain": [
       "(3.0, 0.7728865430906036)"
      ]
     },
     "execution_count": 113,
     "metadata": {},
     "output_type": "execute_result"
    }
   ],
   "source": [
    "sign_test(X, Y)"
   ]
  },
  {
   "cell_type": "markdown",
   "metadata": {},
   "source": [
    "U-test"
   ]
  },
  {
   "cell_type": "code",
   "execution_count": 114,
   "metadata": {
    "ExecuteTime": {
     "end_time": "2022-10-30T18:45:42.272859Z",
     "start_time": "2022-10-30T18:45:42.267723Z"
    }
   },
   "outputs": [
    {
     "data": {
      "text/plain": [
       "RanksumsResult(statistic=-0.02543465739900956, pvalue=0.9797082674362879)"
      ]
     },
     "execution_count": 114,
     "metadata": {},
     "output_type": "execute_result"
    }
   ],
   "source": [
    "stats.ranksums(X, Y)"
   ]
  },
  {
   "cell_type": "code",
   "execution_count": null,
   "metadata": {},
   "outputs": [],
   "source": []
  }
 ],
 "metadata": {
  "kernelspec": {
   "display_name": "Python 3 (ipykernel)",
   "language": "python",
   "name": "python3"
  },
  "language_info": {
   "codemirror_mode": {
    "name": "ipython",
    "version": 3
   },
   "file_extension": ".py",
   "mimetype": "text/x-python",
   "name": "python",
   "nbconvert_exporter": "python",
   "pygments_lexer": "ipython3",
   "version": "3.7.6"
  },
  "toc": {
   "base_numbering": 1,
   "nav_menu": {},
   "number_sections": true,
   "sideBar": true,
   "skip_h1_title": false,
   "title_cell": "Table of Contents",
   "title_sidebar": "Contents",
   "toc_cell": false,
   "toc_position": {},
   "toc_section_display": true,
   "toc_window_display": false
  },
  "varInspector": {
   "cols": {
    "lenName": 16,
    "lenType": 16,
    "lenVar": 40
   },
   "kernels_config": {
    "python": {
     "delete_cmd_postfix": "",
     "delete_cmd_prefix": "del ",
     "library": "var_list.py",
     "varRefreshCmd": "print(var_dic_list())"
    },
    "r": {
     "delete_cmd_postfix": ") ",
     "delete_cmd_prefix": "rm(",
     "library": "var_list.r",
     "varRefreshCmd": "cat(var_dic_list()) "
    }
   },
   "types_to_exclude": [
    "module",
    "function",
    "builtin_function_or_method",
    "instance",
    "_Feature"
   ],
   "window_display": false
  }
 },
 "nbformat": 4,
 "nbformat_minor": 4
}
